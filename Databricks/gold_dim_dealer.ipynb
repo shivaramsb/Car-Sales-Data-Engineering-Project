{
 "cells": [
  {
   "cell_type": "code",
   "execution_count": 0,
   "metadata": {
    "application/vnd.databricks.v1+cell": {
     "cellMetadata": {
      "byteLimit": 2048000,
      "rowLimit": 10000
     },
     "inputWidgets": {},
     "nuid": "d9b39aa3-74db-4daa-9a1b-611237249841",
     "showTitle": false,
     "tableResultSettingsMap": {},
     "title": ""
    }
   },
   "outputs": [],
   "source": [
    "from pyspark.sql.functions import *\n",
    "from pyspark.sql.types import *"
   ]
  },
  {
   "cell_type": "markdown",
   "metadata": {
    "application/vnd.databricks.v1+cell": {
     "cellMetadata": {
      "byteLimit": 2048000,
      "rowLimit": 10000
     },
     "inputWidgets": {},
     "nuid": "26c735ea-4189-467e-a34c-c85406b27bfd",
     "showTitle": false,
     "tableResultSettingsMap": {},
     "title": ""
    }
   },
   "source": [
    "# Create Flag Parameter"
   ]
  },
  {
   "cell_type": "code",
   "execution_count": 0,
   "metadata": {
    "application/vnd.databricks.v1+cell": {
     "cellMetadata": {
      "byteLimit": 2048000,
      "rowLimit": 10000
     },
     "inputWidgets": {},
     "nuid": "417c0eab-67ab-416e-b7e0-f067baabf4b4",
     "showTitle": false,
     "tableResultSettingsMap": {},
     "title": ""
    }
   },
   "outputs": [],
   "source": [
    "dbutils.widgets.text('Incremental_flag','0')"
   ]
  },
  {
   "cell_type": "code",
   "execution_count": 0,
   "metadata": {
    "application/vnd.databricks.v1+cell": {
     "cellMetadata": {
      "byteLimit": 2048000,
      "rowLimit": 10000
     },
     "inputWidgets": {},
     "nuid": "346da0ee-139c-4dcb-8ebe-14d283b0aa1c",
     "showTitle": false,
     "tableResultSettingsMap": {},
     "title": ""
    }
   },
   "outputs": [
    {
     "output_type": "stream",
     "name": "stdout",
     "output_type": "stream",
     "text": [
      "<class 'str'>\n"
     ]
    }
   ],
   "source": [
    "Incremental_flag = dbutils.widgets.get('Incremental_flag')\n",
    "print(type(Incremental_flag))"
   ]
  },
  {
   "cell_type": "markdown",
   "metadata": {
    "application/vnd.databricks.v1+cell": {
     "cellMetadata": {
      "byteLimit": 2048000,
      "rowLimit": 10000
     },
     "inputWidgets": {},
     "nuid": "c558ea0e-4ae5-426f-a558-ba89642439eb",
     "showTitle": false,
     "tableResultSettingsMap": {},
     "title": ""
    }
   },
   "source": [
    "# Creating Dimensional Model"
   ]
  },
  {
   "cell_type": "markdown",
   "metadata": {
    "application/vnd.databricks.v1+cell": {
     "cellMetadata": {
      "byteLimit": 2048000,
      "rowLimit": 10000
     },
     "inputWidgets": {},
     "nuid": "28fc6165-eef0-4c96-b304-f42b9140a0f6",
     "showTitle": false,
     "tableResultSettingsMap": {},
     "title": ""
    }
   },
   "source": [
    "### Fetch Relative Columns"
   ]
  },
  {
   "cell_type": "code",
   "execution_count": 0,
   "metadata": {
    "application/vnd.databricks.v1+cell": {
     "cellMetadata": {
      "byteLimit": 2048000,
      "rowLimit": 10000
     },
     "inputWidgets": {},
     "nuid": "20b0fa3f-70bf-4ed5-9c3c-9652df852c3e",
     "showTitle": false,
     "tableResultSettingsMap": {},
     "title": ""
    }
   },
   "outputs": [],
   "source": [
    "df_src = spark.sql('''\n",
    "    SELECT DISTINCT(Dealer_ID) as Dealer_ID, DealerName \n",
    "    FROM parquet. `abfss://silver@carsalesadls.dfs.core.windows.net/carsales`\n",
    "    ''')"
   ]
  },
  {
   "cell_type": "code",
   "execution_count": 0,
   "metadata": {
    "application/vnd.databricks.v1+cell": {
     "cellMetadata": {
      "byteLimit": 2048000,
      "rowLimit": 10000
     },
     "inputWidgets": {},
     "nuid": "8a0203ea-41cd-434e-8cf1-fa837418f647",
     "showTitle": false,
     "tableResultSettingsMap": {},
     "title": ""
    }
   },
   "outputs": [
    {
     "output_type": "display_data",
     "data": {
      "text/html": [
       "<style scoped>\n",
       "  .table-result-container {\n",
       "    max-height: 300px;\n",
       "    overflow: auto;\n",
       "  }\n",
       "  table, th, td {\n",
       "    border: 1px solid black;\n",
       "    border-collapse: collapse;\n",
       "  }\n",
       "  th, td {\n",
       "    padding: 5px;\n",
       "  }\n",
       "  th {\n",
       "    text-align: left;\n",
       "  }\n",
       "</style><div class='table-result-container'><table class='table-result'><thead style='background-color: white'><tr><th>Dealer_ID</th><th>DealerName</th></tr></thead><tbody><tr><td>DLR0058</td><td>Fiat do Brasil Motors</td></tr><tr><td>DLR0107</td><td>Land Rover Motors</td></tr><tr><td>DLR0129</td><td>Mia Motors</td></tr><tr><td>DLR0111</td><td>Lotus Motors</td></tr><tr><td>DLR0085</td><td>Humber Motors</td></tr><tr><td>DLR0001</td><td>AC Cars Motors</td></tr><tr><td>DLR0218</td><td>Lagonda  Motors</td></tr><tr><td>DLR0082</td><td>Honda Motors</td></tr><tr><td>DLR0063</td><td>Ford do Brasil Motors</td></tr><tr><td>DLR0193</td><td>Tazzari Motors</td></tr><tr><td>DLR0134</td><td>Monteverdi Motors</td></tr><tr><td>DLR0199</td><td>TVR Motors</td></tr><tr><td>DLR0254</td><td>AMC, Eagle Motors</td></tr><tr><td>DLR0094</td><td>Isotta Fraschini Motors</td></tr><tr><td>DLR0236</td><td>Cadillac Automobile Company Building</td></tr><tr><td>DLR0201</td><td>Vauxhall Motors</td></tr><tr><td>DLR0175</td><td>Saturn Motors</td></tr><tr><td>DLR0226</td><td>Das Motors</td></tr><tr><td>DLR0207</td><td>Westfield Motors</td></tr><tr><td>DLR0035</td><td>Chrysler Motors</td></tr><tr><td>DLR0151</td><td>Peel Motors</td></tr><tr><td>DLR0156</td><td>Plymouth Motors</td></tr><tr><td>DLR0216</td><td>Maybach  Motors</td></tr><tr><td>DLR0259</td><td>Asia Motors Motors</td></tr><tr><td>DLR0037</td><td>Citroën Motors</td></tr><tr><td>DLR0074</td><td>GTA Spano Motors</td></tr><tr><td>DLR0150</td><td>Panther Motors</td></tr><tr><td>DLR0135</td><td>Morgan Motors</td></tr><tr><td>DLR0073</td><td>GMC Motors</td></tr><tr><td>DLR0260</td><td>Aston Martin Motors</td></tr><tr><td>DLR0153</td><td>Peugeot Motors</td></tr><tr><td>DLR0124</td><td>McLaren Motors</td></tr><tr><td>DLR0121</td><td>Matra (including Deutsch-Bonnet, René Bonnet) Motors</td></tr><tr><td>DLR0211</td><td>ZIL Motors</td></tr><tr><td>DLR0066</td><td>Freightliner Motors</td></tr><tr><td>DLR0110</td><td>Lincoln Motors</td></tr><tr><td>DLR0143</td><td>Oldsmobile Motors</td></tr><tr><td>DLR0167</td><td>Rolls-Royce Motors</td></tr><tr><td>DLR0048</td><td>De Tomaso Motors</td></tr><tr><td>DLR0008</td><td>Anadol Motors</td></tr><tr><td>DLR0128</td><td>Messerschmitt Motors</td></tr><tr><td>DLR0177</td><td>Seat Motors</td></tr><tr><td>DLR0181</td><td>Singer Motors</td></tr><tr><td>DLR0079</td><td>Hillman Motors</td></tr><tr><td>DLR0072</td><td>Glas Motors</td></tr><tr><td>DLR0248</td><td>AC Cars Motors</td></tr><tr><td>DLR0052</td><td>e.GO Mobile Motors</td></tr><tr><td>DLR0197</td><td>Toyota India Motors</td></tr><tr><td>DLR0080</td><td>Hindustan Motors</td></tr><tr><td>DLR0164</td><td>Reliant Motors</td></tr><tr><td>DLR0029</td><td>Bytom Motors</td></tr><tr><td>DLR0195</td><td>Tornado Motors</td></tr><tr><td>DLR0005</td><td>Alpine Motors</td></tr><tr><td>DLR0007</td><td>AMC, Eagle Motors</td></tr><tr><td>DLR0078</td><td>Hennessey Motors</td></tr><tr><td>DLR0247</td><td>Kindel Building</td></tr><tr><td>DLR0065</td><td>Ford India Motors</td></tr><tr><td>DLR0174</td><td>Santana Motors</td></tr><tr><td>DLR0022</td><td>Borgward (including Goliath and Lloyd) Motors</td></tr><tr><td>DLR0116</td><td>Marcos Motors</td></tr><tr><td>DLR0257</td><td>ARO Motors</td></tr><tr><td>DLR0172</td><td>San Motors</td></tr><tr><td>DLR0061</td><td>Ford America Motors</td></tr><tr><td>DLR0240</td><td>Clemens Automobile Company Building</td></tr><tr><td>DLR0103</td><td>KTM Motors</td></tr><tr><td>DLR0096</td><td>Iveco Motors</td></tr><tr><td>DLR0198</td><td>Turner Motors</td></tr><tr><td>DLR0137</td><td>Nash Motors</td></tr><tr><td>DLR0202</td><td>Venturi Motors</td></tr><tr><td>DLR0125</td><td>Mercedes-Benz (including Maybach) Motors</td></tr><tr><td>DLR0089</td><td>Infiniti Motors</td></tr><tr><td>DLR0266</td><td>Bitter Motors</td></tr><tr><td>DLR0148</td><td>Panhard Motors</td></tr><tr><td>DLR0142</td><td>NSU Motors</td></tr><tr><td>DLR0227</td><td>Ramani Motors</td></tr><tr><td>DLR0206</td><td>Volvo Motors</td></tr><tr><td>DLR0179</td><td>Simca Motors</td></tr><tr><td>DLR0059</td><td>Fiat India Motors</td></tr><tr><td>DLR0092</td><td>Isdera Motors</td></tr><tr><td>DLR0018</td><td>Bentley Motors</td></tr><tr><td>DLR0115</td><td>Mahindra Motors</td></tr><tr><td>DLR0169</td><td>SAIC Motor Motors</td></tr><tr><td>DLR0212</td><td>null</td></tr><tr><td>DLR0192</td><td>Tatra Motors</td></tr><tr><td>DLR0186</td><td>Standard-Triumph Motors</td></tr><tr><td>DLR0021</td><td>Bond Motors</td></tr><tr><td>DLR0147</td><td>Pagani Motors</td></tr><tr><td>DLR0098</td><td>Jeep Motors</td></tr><tr><td>DLR0209</td><td>Zastava Motors</td></tr><tr><td>DLR0166</td><td>Rivian Motors</td></tr><tr><td>DLR0250</td><td>Aixam-Mega (including Arola) Motors</td></tr><tr><td>DLR0220</td><td>Morris  Motors</td></tr><tr><td>DLR0183</td><td>Smart Motors</td></tr><tr><td>DLR0102</td><td>Koenigsegg Motors</td></tr><tr><td>DLR0188</td><td>Subaru Motors</td></tr><tr><td>DLR0155</td><td>Piaggio Motors</td></tr><tr><td>DLR0050</td><td>Donkervoort Motors</td></tr><tr><td>DLR0252</td><td>Alpine Motors</td></tr><tr><td>DLR0184</td><td>Spyker Motors</td></tr><tr><td>DLR0267</td><td>BMW Motors</td></tr><tr><td>DLR0091</td><td>Invicta Motors</td></tr><tr><td>DLR0262</td><td>Autobianchi Motors</td></tr><tr><td>DLR0249</td><td>Acura Motors</td></tr><tr><td>DLR0208</td><td>Wiesmann Motors</td></tr><tr><td>DLR0114</td><td>Lynx Motors</td></tr><tr><td>DLR0204</td><td>Volkswagen do Brasil Motors</td></tr><tr><td>DLR0200</td><td>UAZ Motors</td></tr><tr><td>DLR0163</td><td>Ranger Motors</td></tr><tr><td>DLR0223</td><td>Wolseley  Motors</td></tr><tr><td>DLR0044</td><td>null</td></tr><tr><td>DLR0231</td><td>Atlantic Motor Company</td></tr><tr><td>DLR0034</td><td>Chevrolet India Motors</td></tr><tr><td>DLR0126</td><td>Mercury Motors</td></tr><tr><td>DLR0046</td><td>DeLorean Motors</td></tr><tr><td>DLR0130</td><td>Micro Motors</td></tr><tr><td>DLR0210</td><td>ZAZ Motors</td></tr><tr><td>DLR0136</td><td>Moskwitch Motors</td></tr><tr><td>DLR0222</td><td>Riley  Motors</td></tr><tr><td>DLR0017</td><td>Auverland Motors</td></tr><tr><td>DLR0182</td><td>Skoda Motors</td></tr><tr><td>DLR0152</td><td>Perodua Motors</td></tr><tr><td>DLR0071</td><td>Ginetta Motors</td></tr><tr><td>DLR0161</td><td>Proton Motors</td></tr><tr><td>DLR0246</td><td>Jones Motor Company</td></tr><tr><td>DLR0020</td><td>BMW Motors</td></tr><tr><td>DLR0076</td><td>Healey Motors</td></tr><tr><td>DLR0237</td><td>Casa de cadillac</td></tr><tr><td>DLR0131</td><td>Mini Motors</td></tr><tr><td>DLR0112</td><td>LTI Motors</td></tr><tr><td>DLR0213</td><td>DKW Motors</td></tr><tr><td>DLR0040</td><td>Daewoo, Saehan, Chevrolet Korea Motors</td></tr><tr><td>DLR0187</td><td>Studebaker Motors</td></tr><tr><td>DLR0251</td><td>Alfa Romeo Motors</td></tr><tr><td>DLR0154</td><td>PGO Motors</td></tr><tr><td>DLR0119</td><td>Maserati Motors</td></tr><tr><td>DLR0013</td><td>Aston Martin Motors</td></tr><tr><td>DLR0087</td><td>Hyundai Motors</td></tr><tr><td>DLR0056</td><td>Ferrari Motors</td></tr><tr><td>DLR0033</td><td>Chevrolet Motors</td></tr><tr><td>DLR0042</td><td>Daihatsu Motors</td></tr><tr><td>DLR0229</td><td>Herald Motors</td></tr><tr><td>DLR0070</td><td>Gilbern Motors</td></tr><tr><td>DLR0191</td><td>Tata Motors</td></tr><tr><td>DLR0203</td><td>Volkswagen Motors</td></tr><tr><td>DLR0100</td><td>JPX Motors</td></tr><tr><td>DLR0047</td><td>DeSoto Motors</td></tr><tr><td>DLR0214</td><td>Horch Motors</td></tr><tr><td>DLR0171</td><td>Samsung Motors</td></tr><tr><td>DLR0045</td><td>Delahaye Motors</td></tr><tr><td>DLR0264</td><td>Auverland Motors</td></tr><tr><td>DLR0162</td><td>Puma Motors</td></tr><tr><td>DLR0159</td><td>Porsche Motors</td></tr><tr><td>DLR0146</td><td>Packard Motors</td></tr><tr><td>DLR0261</td><td>Audi Motors</td></tr><tr><td>DLR0032</td><td>Checker Motors</td></tr><tr><td>DLR0009</td><td>Ariel Motors</td></tr><tr><td>DLR0225</td><td>Talbot  Motors</td></tr><tr><td>DLR0221</td><td>Austin  Motors</td></tr><tr><td>DLR0075</td><td>Gumpert Motors</td></tr><tr><td>DLR0069</td><td>Geo Motors</td></tr><tr><td>DLR0104</td><td>Lada Motors</td></tr><tr><td>DLR0039</td><td>Dacia Motors</td></tr><tr><td>DLR0245</td><td>Jennings Ford Automobile Dealership</td></tr><tr><td>DLR0238</td><td>Cass Motor Sales</td></tr><tr><td>DLR0064</td><td>Ford Europe Motors</td></tr><tr><td>DLR0109</td><td>Ligier Motors</td></tr><tr><td>DLR0144</td><td>null</td></tr><tr><td>DLR0176</td><td>Scion Motors</td></tr><tr><td>DLR0255</td><td>Anadol Motors</td></tr><tr><td>DLR0138</td><td>Naza Motors</td></tr><tr><td>DLR0003</td><td>Aixam-Mega (including Arola) Motors</td></tr><tr><td>DLR0265</td><td>Bentley Motors</td></tr><tr><td>DLR0217</td><td>Izh  Motors</td></tr><tr><td>DLR0185</td><td>SsangYong Motors</td></tr><tr><td>DLR0019</td><td>Bitter Motors</td></tr><tr><td>DLR0165</td><td>Renault Motors</td></tr><tr><td>DLR0108</td><td>Lexus Motors</td></tr><tr><td>DLR0117</td><td>Marlin Motors</td></tr><tr><td>DLR0118</td><td>Maruti Motors</td></tr><tr><td>DLR0027</td><td>Bugatti Motors</td></tr><tr><td>DLR0139</td><td>Nissan Motors</td></tr><tr><td>DLR0088</td><td>IFA (including Trabant, Wartburg, Barkas) Motors</td></tr><tr><td>DLR0051</td><td>Edsel Motors</td></tr><tr><td>DLR0010</td><td>ARO Motors</td></tr><tr><td>DLR0006</td><td>Alvis Motors</td></tr><tr><td>DLR0180</td><td>Simca do Brasil Motors</td></tr><tr><td>DLR0253</td><td>Alvis Motors</td></tr><tr><td>DLR0230</td><td>Zion Automobils</td></tr><tr><td>DLR0190</td><td>Suzuki Motors</td></tr><tr><td>DLR0232</td><td>2008 NRHP-listed</td></tr><tr><td>DLR0030</td><td>Cadillac Motors</td></tr><tr><td>DLR0215</td><td>Wanderer Motors</td></tr><tr><td>DLR0016</td><td>Auto-Union Motors</td></tr><tr><td>DLR0160</td><td>Premier Motors</td></tr><tr><td>DLR0025</td><td>Austin-Healey Motors</td></tr><tr><td>DLR0239</td><td>Claremore Auto Dealership</td></tr><tr><td>DLR0228</td><td>Deccan Motors</td></tr><tr><td>DLR0189</td><td>Sunbeam Motors</td></tr><tr><td>DLR0263</td><td>Auto-Union Motors</td></tr><tr><td>DLR0132</td><td>Mitsubishi Motors</td></tr><tr><td>DLR0244</td><td>Hupmobile Building</td></tr><tr><td>DLR0068</td><td>GAZ Motors</td></tr><tr><td>DLR0053</td><td>Eicher Polaris Motors</td></tr><tr><td>DLR0002</td><td>Acura Motors</td></tr><tr><td>DLR0194</td><td>Tesla Motors</td></tr><tr><td>DLR0233</td><td>Blankinship Motor Company Building</td></tr><tr><td>DLR0014</td><td>Audi Motors</td></tr><tr><td>DLR0093</td><td>Iso Motors</td></tr><tr><td>DLR0205</td><td>Volkswagen South Africa Motors</td></tr><tr><td>DLR0141</td><td>Noble Motors</td></tr><tr><td>DLR0140</td><td>Nissan India Motors</td></tr><tr><td>DLR0101</td><td>Kia Motors</td></tr><tr><td>DLR0234</td><td>Bohn Motor Company Automobile Dealership</td></tr><tr><td>DLR0235</td><td>Buick Automobile Company Building</td></tr><tr><td>DLR0256</td><td>Ariel Motors</td></tr><tr><td>DLR0004</td><td>Alfa Romeo Motors</td></tr><tr><td>DLR0084</td><td>Hudson Motors</td></tr><tr><td>DLR0133</td><td>Monica Motors</td></tr><tr><td>DLR0062</td><td>Ford Australia Motors</td></tr><tr><td>DLR0038</td><td>Cizeta-Moroder Motors</td></tr><tr><td>DLR0049</td><td>Dodge Motors</td></tr><tr><td>DLR0055</td><td>Facel Vega Motors</td></tr><tr><td>DLR0170</td><td>Saleen Motors</td></tr><tr><td>DLR0242</td><td>H Street Playhouse</td></tr><tr><td>DLR0243</td><td>Howard Motor Company Building</td></tr><tr><td>DLR0224</td><td>Standard  Motors</td></tr><tr><td>DLR0077</td><td>Heinkel Motors</td></tr><tr><td>DLR0031</td><td>Caterham Motors</td></tr><tr><td>DLR0127</td><td>Merkur Motors</td></tr><tr><td>DLR0043</td><td>Daimler Motors</td></tr><tr><td>DLR0168</td><td>Saab Motors</td></tr><tr><td>DLR0083</td><td>Honda India Motors</td></tr><tr><td>DLR0099</td><td>Jensen Motors</td></tr><tr><td>DLR0090</td><td>null</td></tr><tr><td>DLR0173</td><td>Santa Matilde Motors</td></tr><tr><td>DLR0067</td><td>FSO Motors</td></tr><tr><td>DLR0113</td><td>LuAZ Motors</td></tr><tr><td>DLR0011</td><td>Artega Motors</td></tr><tr><td>DLR0157</td><td>Polestar Motors</td></tr><tr><td>DLR0258</td><td>null</td></tr><tr><td>DLR0086</td><td>Hummer Motors</td></tr><tr><td>DLR0054</td><td>Elva Motors</td></tr><tr><td>DLR0178</td><td>Shelby SuperCars Motors</td></tr><tr><td>DLR0023</td><td>Bristol Motors</td></tr><tr><td>DLR0026</td><td>Austin, Rover Motors</td></tr><tr><td>DLR0219</td><td>MG  Motors</td></tr><tr><td>DLR0120</td><td>Mastretta Motors</td></tr><tr><td>DLR0028</td><td>Buick Motors</td></tr><tr><td>DLR0057</td><td>Fiat Motors</td></tr><tr><td>DLR0041</td><td>DAF Motors</td></tr><tr><td>DLR0095</td><td>Isuzu Motors</td></tr><tr><td>DLR0123</td><td>Mazzanti Motors</td></tr><tr><td>DLR0036</td><td>Chrysler Europe Motors</td></tr><tr><td>DLR0149</td><td>Panoz Motors</td></tr><tr><td>DLR0145</td><td>Opel Motors</td></tr><tr><td>DLR0105</td><td>Lamborghini Motors</td></tr><tr><td>DLR0097</td><td>Jaguar Motors</td></tr><tr><td>DLR0196</td><td>Toyota Motors</td></tr><tr><td>DLR0024</td><td>British Leyland Motors</td></tr><tr><td>DLR0241</td><td>Colman Automotive Building</td></tr><tr><td>DLR0012</td><td>Asia Motors Motors</td></tr><tr><td>DLR0122</td><td>Mazda Motors</td></tr><tr><td>DLR0060</td><td>Fisker, Karma Motors</td></tr><tr><td>DLR0106</td><td>Lancia Motors</td></tr><tr><td>DLR0158</td><td>Pontiac, Asüna Motors</td></tr><tr><td>DLR0015</td><td>Autobianchi Motors</td></tr><tr><td>DLR0081</td><td>Holden Motors</td></tr><tr><td>XYZ0063</td><td>Datafam Dealers</td></tr><tr><td>DLR0070</td><td>Mahindra & Mahindra</td></tr><tr><td>DLR0072</td><td>Tata Dealerships</td></tr><tr><td>XYZ0059</td><td>AI Powered Autos</td></tr></tbody></table></div>"
      ]
     },
     "metadata": {
      "application/vnd.databricks.v1+output": {
       "addedWidgets": {},
       "aggData": [],
       "aggError": "",
       "aggOverflow": false,
       "aggSchema": [],
       "aggSeriesLimitReached": false,
       "aggType": "",
       "arguments": {},
       "columnCustomDisplayInfos": {},
       "data": [
        [
         "DLR0058",
         "Fiat do Brasil Motors"
        ],
        [
         "DLR0107",
         "Land Rover Motors"
        ],
        [
         "DLR0129",
         "Mia Motors"
        ],
        [
         "DLR0111",
         "Lotus Motors"
        ],
        [
         "DLR0085",
         "Humber Motors"
        ],
        [
         "DLR0001",
         "AC Cars Motors"
        ],
        [
         "DLR0218",
         "Lagonda  Motors"
        ],
        [
         "DLR0082",
         "Honda Motors"
        ],
        [
         "DLR0063",
         "Ford do Brasil Motors"
        ],
        [
         "DLR0193",
         "Tazzari Motors"
        ],
        [
         "DLR0134",
         "Monteverdi Motors"
        ],
        [
         "DLR0199",
         "TVR Motors"
        ],
        [
         "DLR0254",
         "AMC, Eagle Motors"
        ],
        [
         "DLR0094",
         "Isotta Fraschini Motors"
        ],
        [
         "DLR0236",
         "Cadillac Automobile Company Building"
        ],
        [
         "DLR0201",
         "Vauxhall Motors"
        ],
        [
         "DLR0175",
         "Saturn Motors"
        ],
        [
         "DLR0226",
         "Das Motors"
        ],
        [
         "DLR0207",
         "Westfield Motors"
        ],
        [
         "DLR0035",
         "Chrysler Motors"
        ],
        [
         "DLR0151",
         "Peel Motors"
        ],
        [
         "DLR0156",
         "Plymouth Motors"
        ],
        [
         "DLR0216",
         "Maybach  Motors"
        ],
        [
         "DLR0259",
         "Asia Motors Motors"
        ],
        [
         "DLR0037",
         "Citroën Motors"
        ],
        [
         "DLR0074",
         "GTA Spano Motors"
        ],
        [
         "DLR0150",
         "Panther Motors"
        ],
        [
         "DLR0135",
         "Morgan Motors"
        ],
        [
         "DLR0073",
         "GMC Motors"
        ],
        [
         "DLR0260",
         "Aston Martin Motors"
        ],
        [
         "DLR0153",
         "Peugeot Motors"
        ],
        [
         "DLR0124",
         "McLaren Motors"
        ],
        [
         "DLR0121",
         "Matra (including Deutsch-Bonnet, René Bonnet) Motors"
        ],
        [
         "DLR0211",
         "ZIL Motors"
        ],
        [
         "DLR0066",
         "Freightliner Motors"
        ],
        [
         "DLR0110",
         "Lincoln Motors"
        ],
        [
         "DLR0143",
         "Oldsmobile Motors"
        ],
        [
         "DLR0167",
         "Rolls-Royce Motors"
        ],
        [
         "DLR0048",
         "De Tomaso Motors"
        ],
        [
         "DLR0008",
         "Anadol Motors"
        ],
        [
         "DLR0128",
         "Messerschmitt Motors"
        ],
        [
         "DLR0177",
         "Seat Motors"
        ],
        [
         "DLR0181",
         "Singer Motors"
        ],
        [
         "DLR0079",
         "Hillman Motors"
        ],
        [
         "DLR0072",
         "Glas Motors"
        ],
        [
         "DLR0248",
         "AC Cars Motors"
        ],
        [
         "DLR0052",
         "e.GO Mobile Motors"
        ],
        [
         "DLR0197",
         "Toyota India Motors"
        ],
        [
         "DLR0080",
         "Hindustan Motors"
        ],
        [
         "DLR0164",
         "Reliant Motors"
        ],
        [
         "DLR0029",
         "Bytom Motors"
        ],
        [
         "DLR0195",
         "Tornado Motors"
        ],
        [
         "DLR0005",
         "Alpine Motors"
        ],
        [
         "DLR0007",
         "AMC, Eagle Motors"
        ],
        [
         "DLR0078",
         "Hennessey Motors"
        ],
        [
         "DLR0247",
         "Kindel Building"
        ],
        [
         "DLR0065",
         "Ford India Motors"
        ],
        [
         "DLR0174",
         "Santana Motors"
        ],
        [
         "DLR0022",
         "Borgward (including Goliath and Lloyd) Motors"
        ],
        [
         "DLR0116",
         "Marcos Motors"
        ],
        [
         "DLR0257",
         "ARO Motors"
        ],
        [
         "DLR0172",
         "San Motors"
        ],
        [
         "DLR0061",
         "Ford America Motors"
        ],
        [
         "DLR0240",
         "Clemens Automobile Company Building"
        ],
        [
         "DLR0103",
         "KTM Motors"
        ],
        [
         "DLR0096",
         "Iveco Motors"
        ],
        [
         "DLR0198",
         "Turner Motors"
        ],
        [
         "DLR0137",
         "Nash Motors"
        ],
        [
         "DLR0202",
         "Venturi Motors"
        ],
        [
         "DLR0125",
         "Mercedes-Benz (including Maybach) Motors"
        ],
        [
         "DLR0089",
         "Infiniti Motors"
        ],
        [
         "DLR0266",
         "Bitter Motors"
        ],
        [
         "DLR0148",
         "Panhard Motors"
        ],
        [
         "DLR0142",
         "NSU Motors"
        ],
        [
         "DLR0227",
         "Ramani Motors"
        ],
        [
         "DLR0206",
         "Volvo Motors"
        ],
        [
         "DLR0179",
         "Simca Motors"
        ],
        [
         "DLR0059",
         "Fiat India Motors"
        ],
        [
         "DLR0092",
         "Isdera Motors"
        ],
        [
         "DLR0018",
         "Bentley Motors"
        ],
        [
         "DLR0115",
         "Mahindra Motors"
        ],
        [
         "DLR0169",
         "SAIC Motor Motors"
        ],
        [
         "DLR0212",
         null
        ],
        [
         "DLR0192",
         "Tatra Motors"
        ],
        [
         "DLR0186",
         "Standard-Triumph Motors"
        ],
        [
         "DLR0021",
         "Bond Motors"
        ],
        [
         "DLR0147",
         "Pagani Motors"
        ],
        [
         "DLR0098",
         "Jeep Motors"
        ],
        [
         "DLR0209",
         "Zastava Motors"
        ],
        [
         "DLR0166",
         "Rivian Motors"
        ],
        [
         "DLR0250",
         "Aixam-Mega (including Arola) Motors"
        ],
        [
         "DLR0220",
         "Morris  Motors"
        ],
        [
         "DLR0183",
         "Smart Motors"
        ],
        [
         "DLR0102",
         "Koenigsegg Motors"
        ],
        [
         "DLR0188",
         "Subaru Motors"
        ],
        [
         "DLR0155",
         "Piaggio Motors"
        ],
        [
         "DLR0050",
         "Donkervoort Motors"
        ],
        [
         "DLR0252",
         "Alpine Motors"
        ],
        [
         "DLR0184",
         "Spyker Motors"
        ],
        [
         "DLR0267",
         "BMW Motors"
        ],
        [
         "DLR0091",
         "Invicta Motors"
        ],
        [
         "DLR0262",
         "Autobianchi Motors"
        ],
        [
         "DLR0249",
         "Acura Motors"
        ],
        [
         "DLR0208",
         "Wiesmann Motors"
        ],
        [
         "DLR0114",
         "Lynx Motors"
        ],
        [
         "DLR0204",
         "Volkswagen do Brasil Motors"
        ],
        [
         "DLR0200",
         "UAZ Motors"
        ],
        [
         "DLR0163",
         "Ranger Motors"
        ],
        [
         "DLR0223",
         "Wolseley  Motors"
        ],
        [
         "DLR0044",
         null
        ],
        [
         "DLR0231",
         "Atlantic Motor Company"
        ],
        [
         "DLR0034",
         "Chevrolet India Motors"
        ],
        [
         "DLR0126",
         "Mercury Motors"
        ],
        [
         "DLR0046",
         "DeLorean Motors"
        ],
        [
         "DLR0130",
         "Micro Motors"
        ],
        [
         "DLR0210",
         "ZAZ Motors"
        ],
        [
         "DLR0136",
         "Moskwitch Motors"
        ],
        [
         "DLR0222",
         "Riley  Motors"
        ],
        [
         "DLR0017",
         "Auverland Motors"
        ],
        [
         "DLR0182",
         "Skoda Motors"
        ],
        [
         "DLR0152",
         "Perodua Motors"
        ],
        [
         "DLR0071",
         "Ginetta Motors"
        ],
        [
         "DLR0161",
         "Proton Motors"
        ],
        [
         "DLR0246",
         "Jones Motor Company"
        ],
        [
         "DLR0020",
         "BMW Motors"
        ],
        [
         "DLR0076",
         "Healey Motors"
        ],
        [
         "DLR0237",
         "Casa de cadillac"
        ],
        [
         "DLR0131",
         "Mini Motors"
        ],
        [
         "DLR0112",
         "LTI Motors"
        ],
        [
         "DLR0213",
         "DKW Motors"
        ],
        [
         "DLR0040",
         "Daewoo, Saehan, Chevrolet Korea Motors"
        ],
        [
         "DLR0187",
         "Studebaker Motors"
        ],
        [
         "DLR0251",
         "Alfa Romeo Motors"
        ],
        [
         "DLR0154",
         "PGO Motors"
        ],
        [
         "DLR0119",
         "Maserati Motors"
        ],
        [
         "DLR0013",
         "Aston Martin Motors"
        ],
        [
         "DLR0087",
         "Hyundai Motors"
        ],
        [
         "DLR0056",
         "Ferrari Motors"
        ],
        [
         "DLR0033",
         "Chevrolet Motors"
        ],
        [
         "DLR0042",
         "Daihatsu Motors"
        ],
        [
         "DLR0229",
         "Herald Motors"
        ],
        [
         "DLR0070",
         "Gilbern Motors"
        ],
        [
         "DLR0191",
         "Tata Motors"
        ],
        [
         "DLR0203",
         "Volkswagen Motors"
        ],
        [
         "DLR0100",
         "JPX Motors"
        ],
        [
         "DLR0047",
         "DeSoto Motors"
        ],
        [
         "DLR0214",
         "Horch Motors"
        ],
        [
         "DLR0171",
         "Samsung Motors"
        ],
        [
         "DLR0045",
         "Delahaye Motors"
        ],
        [
         "DLR0264",
         "Auverland Motors"
        ],
        [
         "DLR0162",
         "Puma Motors"
        ],
        [
         "DLR0159",
         "Porsche Motors"
        ],
        [
         "DLR0146",
         "Packard Motors"
        ],
        [
         "DLR0261",
         "Audi Motors"
        ],
        [
         "DLR0032",
         "Checker Motors"
        ],
        [
         "DLR0009",
         "Ariel Motors"
        ],
        [
         "DLR0225",
         "Talbot  Motors"
        ],
        [
         "DLR0221",
         "Austin  Motors"
        ],
        [
         "DLR0075",
         "Gumpert Motors"
        ],
        [
         "DLR0069",
         "Geo Motors"
        ],
        [
         "DLR0104",
         "Lada Motors"
        ],
        [
         "DLR0039",
         "Dacia Motors"
        ],
        [
         "DLR0245",
         "Jennings Ford Automobile Dealership"
        ],
        [
         "DLR0238",
         "Cass Motor Sales"
        ],
        [
         "DLR0064",
         "Ford Europe Motors"
        ],
        [
         "DLR0109",
         "Ligier Motors"
        ],
        [
         "DLR0144",
         null
        ],
        [
         "DLR0176",
         "Scion Motors"
        ],
        [
         "DLR0255",
         "Anadol Motors"
        ],
        [
         "DLR0138",
         "Naza Motors"
        ],
        [
         "DLR0003",
         "Aixam-Mega (including Arola) Motors"
        ],
        [
         "DLR0265",
         "Bentley Motors"
        ],
        [
         "DLR0217",
         "Izh  Motors"
        ],
        [
         "DLR0185",
         "SsangYong Motors"
        ],
        [
         "DLR0019",
         "Bitter Motors"
        ],
        [
         "DLR0165",
         "Renault Motors"
        ],
        [
         "DLR0108",
         "Lexus Motors"
        ],
        [
         "DLR0117",
         "Marlin Motors"
        ],
        [
         "DLR0118",
         "Maruti Motors"
        ],
        [
         "DLR0027",
         "Bugatti Motors"
        ],
        [
         "DLR0139",
         "Nissan Motors"
        ],
        [
         "DLR0088",
         "IFA (including Trabant, Wartburg, Barkas) Motors"
        ],
        [
         "DLR0051",
         "Edsel Motors"
        ],
        [
         "DLR0010",
         "ARO Motors"
        ],
        [
         "DLR0006",
         "Alvis Motors"
        ],
        [
         "DLR0180",
         "Simca do Brasil Motors"
        ],
        [
         "DLR0253",
         "Alvis Motors"
        ],
        [
         "DLR0230",
         "Zion Automobils"
        ],
        [
         "DLR0190",
         "Suzuki Motors"
        ],
        [
         "DLR0232",
         "2008 NRHP-listed"
        ],
        [
         "DLR0030",
         "Cadillac Motors"
        ],
        [
         "DLR0215",
         "Wanderer Motors"
        ],
        [
         "DLR0016",
         "Auto-Union Motors"
        ],
        [
         "DLR0160",
         "Premier Motors"
        ],
        [
         "DLR0025",
         "Austin-Healey Motors"
        ],
        [
         "DLR0239",
         "Claremore Auto Dealership"
        ],
        [
         "DLR0228",
         "Deccan Motors"
        ],
        [
         "DLR0189",
         "Sunbeam Motors"
        ],
        [
         "DLR0263",
         "Auto-Union Motors"
        ],
        [
         "DLR0132",
         "Mitsubishi Motors"
        ],
        [
         "DLR0244",
         "Hupmobile Building"
        ],
        [
         "DLR0068",
         "GAZ Motors"
        ],
        [
         "DLR0053",
         "Eicher Polaris Motors"
        ],
        [
         "DLR0002",
         "Acura Motors"
        ],
        [
         "DLR0194",
         "Tesla Motors"
        ],
        [
         "DLR0233",
         "Blankinship Motor Company Building"
        ],
        [
         "DLR0014",
         "Audi Motors"
        ],
        [
         "DLR0093",
         "Iso Motors"
        ],
        [
         "DLR0205",
         "Volkswagen South Africa Motors"
        ],
        [
         "DLR0141",
         "Noble Motors"
        ],
        [
         "DLR0140",
         "Nissan India Motors"
        ],
        [
         "DLR0101",
         "Kia Motors"
        ],
        [
         "DLR0234",
         "Bohn Motor Company Automobile Dealership"
        ],
        [
         "DLR0235",
         "Buick Automobile Company Building"
        ],
        [
         "DLR0256",
         "Ariel Motors"
        ],
        [
         "DLR0004",
         "Alfa Romeo Motors"
        ],
        [
         "DLR0084",
         "Hudson Motors"
        ],
        [
         "DLR0133",
         "Monica Motors"
        ],
        [
         "DLR0062",
         "Ford Australia Motors"
        ],
        [
         "DLR0038",
         "Cizeta-Moroder Motors"
        ],
        [
         "DLR0049",
         "Dodge Motors"
        ],
        [
         "DLR0055",
         "Facel Vega Motors"
        ],
        [
         "DLR0170",
         "Saleen Motors"
        ],
        [
         "DLR0242",
         "H Street Playhouse"
        ],
        [
         "DLR0243",
         "Howard Motor Company Building"
        ],
        [
         "DLR0224",
         "Standard  Motors"
        ],
        [
         "DLR0077",
         "Heinkel Motors"
        ],
        [
         "DLR0031",
         "Caterham Motors"
        ],
        [
         "DLR0127",
         "Merkur Motors"
        ],
        [
         "DLR0043",
         "Daimler Motors"
        ],
        [
         "DLR0168",
         "Saab Motors"
        ],
        [
         "DLR0083",
         "Honda India Motors"
        ],
        [
         "DLR0099",
         "Jensen Motors"
        ],
        [
         "DLR0090",
         null
        ],
        [
         "DLR0173",
         "Santa Matilde Motors"
        ],
        [
         "DLR0067",
         "FSO Motors"
        ],
        [
         "DLR0113",
         "LuAZ Motors"
        ],
        [
         "DLR0011",
         "Artega Motors"
        ],
        [
         "DLR0157",
         "Polestar Motors"
        ],
        [
         "DLR0258",
         null
        ],
        [
         "DLR0086",
         "Hummer Motors"
        ],
        [
         "DLR0054",
         "Elva Motors"
        ],
        [
         "DLR0178",
         "Shelby SuperCars Motors"
        ],
        [
         "DLR0023",
         "Bristol Motors"
        ],
        [
         "DLR0026",
         "Austin, Rover Motors"
        ],
        [
         "DLR0219",
         "MG  Motors"
        ],
        [
         "DLR0120",
         "Mastretta Motors"
        ],
        [
         "DLR0028",
         "Buick Motors"
        ],
        [
         "DLR0057",
         "Fiat Motors"
        ],
        [
         "DLR0041",
         "DAF Motors"
        ],
        [
         "DLR0095",
         "Isuzu Motors"
        ],
        [
         "DLR0123",
         "Mazzanti Motors"
        ],
        [
         "DLR0036",
         "Chrysler Europe Motors"
        ],
        [
         "DLR0149",
         "Panoz Motors"
        ],
        [
         "DLR0145",
         "Opel Motors"
        ],
        [
         "DLR0105",
         "Lamborghini Motors"
        ],
        [
         "DLR0097",
         "Jaguar Motors"
        ],
        [
         "DLR0196",
         "Toyota Motors"
        ],
        [
         "DLR0024",
         "British Leyland Motors"
        ],
        [
         "DLR0241",
         "Colman Automotive Building"
        ],
        [
         "DLR0012",
         "Asia Motors Motors"
        ],
        [
         "DLR0122",
         "Mazda Motors"
        ],
        [
         "DLR0060",
         "Fisker, Karma Motors"
        ],
        [
         "DLR0106",
         "Lancia Motors"
        ],
        [
         "DLR0158",
         "Pontiac, Asüna Motors"
        ],
        [
         "DLR0015",
         "Autobianchi Motors"
        ],
        [
         "DLR0081",
         "Holden Motors"
        ],
        [
         "XYZ0063",
         "Datafam Dealers"
        ],
        [
         "DLR0070",
         "Mahindra & Mahindra"
        ],
        [
         "DLR0072",
         "Tata Dealerships"
        ],
        [
         "XYZ0059",
         "AI Powered Autos"
        ]
       ],
       "datasetInfos": [],
       "dbfsResultPath": null,
       "isJsonSchema": true,
       "metadata": {},
       "overflow": false,
       "plotOptions": {
        "customPlotOptions": {},
        "displayType": "table",
        "pivotAggregation": null,
        "pivotColumns": null,
        "xColumns": null,
        "yColumns": null
       },
       "removedWidgets": [],
       "schema": [
        {
         "metadata": "{}",
         "name": "Dealer_ID",
         "type": "\"string\""
        },
        {
         "metadata": "{}",
         "name": "DealerName",
         "type": "\"string\""
        }
       ],
       "type": "table"
      }
     },
     "output_type": "display_data"
    }
   ],
   "source": [
    "df_src.display()"
   ]
  },
  {
   "cell_type": "markdown",
   "metadata": {
    "application/vnd.databricks.v1+cell": {
     "cellMetadata": {
      "byteLimit": 2048000,
      "rowLimit": 10000
     },
     "inputWidgets": {},
     "nuid": "9b5eb314-a4bc-4fe6-bdca-e863f9a57e45",
     "showTitle": false,
     "tableResultSettingsMap": {},
     "title": ""
    }
   },
   "source": [
    "###dim_model Sink - Initial and Incremental (Just bring the schema if table not exists)"
   ]
  },
  {
   "cell_type": "code",
   "execution_count": 0,
   "metadata": {
    "application/vnd.databricks.v1+cell": {
     "cellMetadata": {
      "byteLimit": 2048000,
      "rowLimit": 10000
     },
     "inputWidgets": {},
     "nuid": "47ce48fb-d771-441c-8fae-580912bcf308",
     "showTitle": false,
     "tableResultSettingsMap": {},
     "title": ""
    }
   },
   "outputs": [],
   "source": [
    "if spark.catalog.tableExists('cars_catalog.gold.dim_dealer'):\n",
    "\n",
    "    df_sink = spark.sql('''\n",
    "    SELECT dim_Dealer_key, Dealer_ID, DealerName\n",
    "    FROM cars_catalog.gold.dim_dealer\n",
    "    ''')\n",
    "\n",
    "else:\n",
    "    df_sink = spark.sql('''\n",
    "    SELECT 1 as dim_Dealer_key, Dealer_ID, DealerName\n",
    "    FROM parquet.`abfss://silver@carsalesadls.dfs.core.windows.net/carsales`\n",
    "    WHERE 1=0\n",
    "    ''')"
   ]
  },
  {
   "cell_type": "markdown",
   "metadata": {
    "application/vnd.databricks.v1+cell": {
     "cellMetadata": {
      "byteLimit": 2048000,
      "rowLimit": 10000
     },
     "inputWidgets": {},
     "nuid": "7dd80186-365d-4466-8243-f85621178b24",
     "showTitle": false,
     "tableResultSettingsMap": {},
     "title": ""
    }
   },
   "source": [
    "### Filtering new records and old Records"
   ]
  },
  {
   "cell_type": "code",
   "execution_count": 0,
   "metadata": {
    "application/vnd.databricks.v1+cell": {
     "cellMetadata": {
      "byteLimit": 2048000,
      "rowLimit": 10000
     },
     "inputWidgets": {},
     "nuid": "ed5caeac-8c4e-4117-9c94-6ce77a23a4e5",
     "showTitle": false,
     "tableResultSettingsMap": {},
     "title": ""
    }
   },
   "outputs": [],
   "source": [
    "df_filter = df_src.join(df_sink,df_src['Dealer_ID'] == df_sink['Dealer_ID'],'left').select(df_src['Dealer_ID'],df_src['DealerName'],df_sink['dim_dealer_key'])"
   ]
  },
  {
   "cell_type": "code",
   "execution_count": 0,
   "metadata": {
    "application/vnd.databricks.v1+cell": {
     "cellMetadata": {
      "byteLimit": 2048000,
      "rowLimit": 10000
     },
     "inputWidgets": {},
     "nuid": "f88777d6-400d-4101-97c3-086f759c7c08",
     "showTitle": false,
     "tableResultSettingsMap": {},
     "title": ""
    }
   },
   "outputs": [
    {
     "output_type": "display_data",
     "data": {
      "text/html": [
       "<style scoped>\n",
       "  .table-result-container {\n",
       "    max-height: 300px;\n",
       "    overflow: auto;\n",
       "  }\n",
       "  table, th, td {\n",
       "    border: 1px solid black;\n",
       "    border-collapse: collapse;\n",
       "  }\n",
       "  th, td {\n",
       "    padding: 5px;\n",
       "  }\n",
       "  th {\n",
       "    text-align: left;\n",
       "  }\n",
       "</style><div class='table-result-container'><table class='table-result'><thead style='background-color: white'><tr><th>Dealer_ID</th><th>DealerName</th><th>dim_dealer_key</th></tr></thead><tbody><tr><td>DLR0058</td><td>Fiat do Brasil Motors</td><td>1</td></tr><tr><td>DLR0107</td><td>Land Rover Motors</td><td>2</td></tr><tr><td>DLR0129</td><td>Mia Motors</td><td>3</td></tr><tr><td>DLR0111</td><td>Lotus Motors</td><td>4</td></tr><tr><td>DLR0085</td><td>Humber Motors</td><td>5</td></tr><tr><td>DLR0001</td><td>AC Cars Motors</td><td>6</td></tr><tr><td>DLR0218</td><td>Lagonda  Motors</td><td>7</td></tr><tr><td>DLR0082</td><td>Honda Motors</td><td>8</td></tr><tr><td>DLR0063</td><td>Ford do Brasil Motors</td><td>9</td></tr><tr><td>DLR0193</td><td>Tazzari Motors</td><td>10</td></tr><tr><td>DLR0134</td><td>Monteverdi Motors</td><td>11</td></tr><tr><td>DLR0199</td><td>TVR Motors</td><td>12</td></tr><tr><td>DLR0254</td><td>AMC, Eagle Motors</td><td>13</td></tr><tr><td>DLR0094</td><td>Isotta Fraschini Motors</td><td>14</td></tr><tr><td>DLR0236</td><td>Cadillac Automobile Company Building</td><td>15</td></tr><tr><td>DLR0201</td><td>Vauxhall Motors</td><td>16</td></tr><tr><td>DLR0175</td><td>Saturn Motors</td><td>17</td></tr><tr><td>DLR0226</td><td>Das Motors</td><td>18</td></tr><tr><td>DLR0207</td><td>Westfield Motors</td><td>19</td></tr><tr><td>DLR0035</td><td>Chrysler Motors</td><td>20</td></tr><tr><td>DLR0151</td><td>Peel Motors</td><td>21</td></tr><tr><td>DLR0156</td><td>Plymouth Motors</td><td>22</td></tr><tr><td>DLR0216</td><td>Maybach  Motors</td><td>23</td></tr><tr><td>DLR0259</td><td>Asia Motors Motors</td><td>24</td></tr><tr><td>DLR0037</td><td>Citroën Motors</td><td>25</td></tr><tr><td>DLR0074</td><td>GTA Spano Motors</td><td>26</td></tr><tr><td>DLR0150</td><td>Panther Motors</td><td>27</td></tr><tr><td>DLR0135</td><td>Morgan Motors</td><td>28</td></tr><tr><td>DLR0073</td><td>GMC Motors</td><td>29</td></tr><tr><td>DLR0260</td><td>Aston Martin Motors</td><td>30</td></tr><tr><td>DLR0153</td><td>Peugeot Motors</td><td>31</td></tr><tr><td>DLR0124</td><td>McLaren Motors</td><td>32</td></tr><tr><td>DLR0121</td><td>Matra (including Deutsch-Bonnet, René Bonnet) Motors</td><td>33</td></tr><tr><td>DLR0211</td><td>ZIL Motors</td><td>34</td></tr><tr><td>DLR0066</td><td>Freightliner Motors</td><td>35</td></tr><tr><td>DLR0110</td><td>Lincoln Motors</td><td>36</td></tr><tr><td>DLR0143</td><td>Oldsmobile Motors</td><td>37</td></tr><tr><td>DLR0167</td><td>Rolls-Royce Motors</td><td>38</td></tr><tr><td>DLR0048</td><td>De Tomaso Motors</td><td>39</td></tr><tr><td>DLR0008</td><td>Anadol Motors</td><td>40</td></tr><tr><td>DLR0128</td><td>Messerschmitt Motors</td><td>41</td></tr><tr><td>DLR0177</td><td>Seat Motors</td><td>42</td></tr><tr><td>DLR0181</td><td>Singer Motors</td><td>43</td></tr><tr><td>DLR0079</td><td>Hillman Motors</td><td>44</td></tr><tr><td>DLR0072</td><td>Glas Motors</td><td>45</td></tr><tr><td>DLR0248</td><td>AC Cars Motors</td><td>46</td></tr><tr><td>DLR0052</td><td>e.GO Mobile Motors</td><td>47</td></tr><tr><td>DLR0197</td><td>Toyota India Motors</td><td>48</td></tr><tr><td>DLR0080</td><td>Hindustan Motors</td><td>49</td></tr><tr><td>DLR0164</td><td>Reliant Motors</td><td>50</td></tr><tr><td>DLR0029</td><td>Bytom Motors</td><td>51</td></tr><tr><td>DLR0195</td><td>Tornado Motors</td><td>52</td></tr><tr><td>DLR0005</td><td>Alpine Motors</td><td>53</td></tr><tr><td>DLR0007</td><td>AMC, Eagle Motors</td><td>54</td></tr><tr><td>DLR0078</td><td>Hennessey Motors</td><td>55</td></tr><tr><td>DLR0247</td><td>Kindel Building</td><td>56</td></tr><tr><td>DLR0065</td><td>Ford India Motors</td><td>57</td></tr><tr><td>DLR0174</td><td>Santana Motors</td><td>58</td></tr><tr><td>DLR0022</td><td>Borgward (including Goliath and Lloyd) Motors</td><td>59</td></tr><tr><td>DLR0116</td><td>Marcos Motors</td><td>60</td></tr><tr><td>DLR0257</td><td>ARO Motors</td><td>61</td></tr><tr><td>DLR0172</td><td>San Motors</td><td>62</td></tr><tr><td>DLR0061</td><td>Ford America Motors</td><td>63</td></tr><tr><td>DLR0240</td><td>Clemens Automobile Company Building</td><td>64</td></tr><tr><td>DLR0103</td><td>KTM Motors</td><td>65</td></tr><tr><td>DLR0096</td><td>Iveco Motors</td><td>66</td></tr><tr><td>DLR0198</td><td>Turner Motors</td><td>67</td></tr><tr><td>DLR0137</td><td>Nash Motors</td><td>68</td></tr><tr><td>DLR0202</td><td>Venturi Motors</td><td>69</td></tr><tr><td>DLR0125</td><td>Mercedes-Benz (including Maybach) Motors</td><td>70</td></tr><tr><td>DLR0089</td><td>Infiniti Motors</td><td>71</td></tr><tr><td>DLR0266</td><td>Bitter Motors</td><td>72</td></tr><tr><td>DLR0148</td><td>Panhard Motors</td><td>73</td></tr><tr><td>DLR0142</td><td>NSU Motors</td><td>74</td></tr><tr><td>DLR0227</td><td>Ramani Motors</td><td>75</td></tr><tr><td>DLR0206</td><td>Volvo Motors</td><td>76</td></tr><tr><td>DLR0179</td><td>Simca Motors</td><td>77</td></tr><tr><td>DLR0059</td><td>Fiat India Motors</td><td>78</td></tr><tr><td>DLR0092</td><td>Isdera Motors</td><td>79</td></tr><tr><td>DLR0018</td><td>Bentley Motors</td><td>80</td></tr><tr><td>DLR0115</td><td>Mahindra Motors</td><td>81</td></tr><tr><td>DLR0169</td><td>SAIC Motor Motors</td><td>82</td></tr><tr><td>DLR0212</td><td>null</td><td>83</td></tr><tr><td>DLR0192</td><td>Tatra Motors</td><td>84</td></tr><tr><td>DLR0186</td><td>Standard-Triumph Motors</td><td>85</td></tr><tr><td>DLR0021</td><td>Bond Motors</td><td>86</td></tr><tr><td>DLR0147</td><td>Pagani Motors</td><td>87</td></tr><tr><td>DLR0098</td><td>Jeep Motors</td><td>88</td></tr><tr><td>DLR0209</td><td>Zastava Motors</td><td>89</td></tr><tr><td>DLR0166</td><td>Rivian Motors</td><td>90</td></tr><tr><td>DLR0250</td><td>Aixam-Mega (including Arola) Motors</td><td>91</td></tr><tr><td>DLR0220</td><td>Morris  Motors</td><td>92</td></tr><tr><td>DLR0183</td><td>Smart Motors</td><td>93</td></tr><tr><td>DLR0102</td><td>Koenigsegg Motors</td><td>94</td></tr><tr><td>DLR0188</td><td>Subaru Motors</td><td>95</td></tr><tr><td>DLR0155</td><td>Piaggio Motors</td><td>96</td></tr><tr><td>DLR0050</td><td>Donkervoort Motors</td><td>97</td></tr><tr><td>DLR0252</td><td>Alpine Motors</td><td>98</td></tr><tr><td>DLR0184</td><td>Spyker Motors</td><td>99</td></tr><tr><td>DLR0267</td><td>BMW Motors</td><td>100</td></tr><tr><td>DLR0091</td><td>Invicta Motors</td><td>101</td></tr><tr><td>DLR0262</td><td>Autobianchi Motors</td><td>102</td></tr><tr><td>DLR0249</td><td>Acura Motors</td><td>103</td></tr><tr><td>DLR0208</td><td>Wiesmann Motors</td><td>104</td></tr><tr><td>DLR0114</td><td>Lynx Motors</td><td>105</td></tr><tr><td>DLR0204</td><td>Volkswagen do Brasil Motors</td><td>106</td></tr><tr><td>DLR0200</td><td>UAZ Motors</td><td>107</td></tr><tr><td>DLR0163</td><td>Ranger Motors</td><td>108</td></tr><tr><td>DLR0223</td><td>Wolseley  Motors</td><td>109</td></tr><tr><td>DLR0044</td><td>null</td><td>110</td></tr><tr><td>DLR0231</td><td>Atlantic Motor Company</td><td>111</td></tr><tr><td>DLR0034</td><td>Chevrolet India Motors</td><td>112</td></tr><tr><td>DLR0126</td><td>Mercury Motors</td><td>113</td></tr><tr><td>DLR0046</td><td>DeLorean Motors</td><td>114</td></tr><tr><td>DLR0130</td><td>Micro Motors</td><td>115</td></tr><tr><td>DLR0210</td><td>ZAZ Motors</td><td>116</td></tr><tr><td>DLR0136</td><td>Moskwitch Motors</td><td>117</td></tr><tr><td>DLR0222</td><td>Riley  Motors</td><td>118</td></tr><tr><td>DLR0017</td><td>Auverland Motors</td><td>119</td></tr><tr><td>DLR0182</td><td>Skoda Motors</td><td>120</td></tr><tr><td>DLR0152</td><td>Perodua Motors</td><td>121</td></tr><tr><td>DLR0071</td><td>Ginetta Motors</td><td>122</td></tr><tr><td>DLR0161</td><td>Proton Motors</td><td>123</td></tr><tr><td>DLR0246</td><td>Jones Motor Company</td><td>124</td></tr><tr><td>DLR0020</td><td>BMW Motors</td><td>125</td></tr><tr><td>DLR0076</td><td>Healey Motors</td><td>126</td></tr><tr><td>DLR0237</td><td>Casa de cadillac</td><td>127</td></tr><tr><td>DLR0131</td><td>Mini Motors</td><td>128</td></tr><tr><td>DLR0112</td><td>LTI Motors</td><td>129</td></tr><tr><td>DLR0213</td><td>DKW Motors</td><td>130</td></tr><tr><td>DLR0040</td><td>Daewoo, Saehan, Chevrolet Korea Motors</td><td>131</td></tr><tr><td>DLR0187</td><td>Studebaker Motors</td><td>132</td></tr><tr><td>DLR0251</td><td>Alfa Romeo Motors</td><td>133</td></tr><tr><td>DLR0154</td><td>PGO Motors</td><td>134</td></tr><tr><td>DLR0119</td><td>Maserati Motors</td><td>135</td></tr><tr><td>DLR0013</td><td>Aston Martin Motors</td><td>136</td></tr><tr><td>DLR0087</td><td>Hyundai Motors</td><td>137</td></tr><tr><td>DLR0056</td><td>Ferrari Motors</td><td>138</td></tr><tr><td>DLR0033</td><td>Chevrolet Motors</td><td>139</td></tr><tr><td>DLR0042</td><td>Daihatsu Motors</td><td>140</td></tr><tr><td>DLR0229</td><td>Herald Motors</td><td>141</td></tr><tr><td>DLR0070</td><td>Gilbern Motors</td><td>142</td></tr><tr><td>DLR0191</td><td>Tata Motors</td><td>143</td></tr><tr><td>DLR0203</td><td>Volkswagen Motors</td><td>144</td></tr><tr><td>DLR0100</td><td>JPX Motors</td><td>145</td></tr><tr><td>DLR0047</td><td>DeSoto Motors</td><td>146</td></tr><tr><td>DLR0214</td><td>Horch Motors</td><td>147</td></tr><tr><td>DLR0171</td><td>Samsung Motors</td><td>148</td></tr><tr><td>DLR0045</td><td>Delahaye Motors</td><td>149</td></tr><tr><td>DLR0264</td><td>Auverland Motors</td><td>150</td></tr><tr><td>DLR0162</td><td>Puma Motors</td><td>151</td></tr><tr><td>DLR0159</td><td>Porsche Motors</td><td>152</td></tr><tr><td>DLR0146</td><td>Packard Motors</td><td>153</td></tr><tr><td>DLR0261</td><td>Audi Motors</td><td>154</td></tr><tr><td>DLR0032</td><td>Checker Motors</td><td>155</td></tr><tr><td>DLR0009</td><td>Ariel Motors</td><td>156</td></tr><tr><td>DLR0225</td><td>Talbot  Motors</td><td>157</td></tr><tr><td>DLR0221</td><td>Austin  Motors</td><td>158</td></tr><tr><td>DLR0075</td><td>Gumpert Motors</td><td>159</td></tr><tr><td>DLR0069</td><td>Geo Motors</td><td>160</td></tr><tr><td>DLR0104</td><td>Lada Motors</td><td>161</td></tr><tr><td>DLR0039</td><td>Dacia Motors</td><td>162</td></tr><tr><td>DLR0245</td><td>Jennings Ford Automobile Dealership</td><td>163</td></tr><tr><td>DLR0238</td><td>Cass Motor Sales</td><td>164</td></tr><tr><td>DLR0064</td><td>Ford Europe Motors</td><td>165</td></tr><tr><td>DLR0109</td><td>Ligier Motors</td><td>166</td></tr><tr><td>DLR0144</td><td>null</td><td>167</td></tr><tr><td>DLR0176</td><td>Scion Motors</td><td>168</td></tr><tr><td>DLR0255</td><td>Anadol Motors</td><td>169</td></tr><tr><td>DLR0138</td><td>Naza Motors</td><td>170</td></tr><tr><td>DLR0003</td><td>Aixam-Mega (including Arola) Motors</td><td>171</td></tr><tr><td>DLR0265</td><td>Bentley Motors</td><td>172</td></tr><tr><td>DLR0217</td><td>Izh  Motors</td><td>173</td></tr><tr><td>DLR0185</td><td>SsangYong Motors</td><td>174</td></tr><tr><td>DLR0019</td><td>Bitter Motors</td><td>175</td></tr><tr><td>DLR0165</td><td>Renault Motors</td><td>176</td></tr><tr><td>DLR0108</td><td>Lexus Motors</td><td>177</td></tr><tr><td>DLR0117</td><td>Marlin Motors</td><td>178</td></tr><tr><td>DLR0118</td><td>Maruti Motors</td><td>179</td></tr><tr><td>DLR0027</td><td>Bugatti Motors</td><td>180</td></tr><tr><td>DLR0139</td><td>Nissan Motors</td><td>181</td></tr><tr><td>DLR0088</td><td>IFA (including Trabant, Wartburg, Barkas) Motors</td><td>182</td></tr><tr><td>DLR0051</td><td>Edsel Motors</td><td>183</td></tr><tr><td>DLR0010</td><td>ARO Motors</td><td>184</td></tr><tr><td>DLR0006</td><td>Alvis Motors</td><td>185</td></tr><tr><td>DLR0180</td><td>Simca do Brasil Motors</td><td>186</td></tr><tr><td>DLR0253</td><td>Alvis Motors</td><td>187</td></tr><tr><td>DLR0230</td><td>Zion Automobils</td><td>188</td></tr><tr><td>DLR0190</td><td>Suzuki Motors</td><td>189</td></tr><tr><td>DLR0232</td><td>2008 NRHP-listed</td><td>190</td></tr><tr><td>DLR0030</td><td>Cadillac Motors</td><td>191</td></tr><tr><td>DLR0215</td><td>Wanderer Motors</td><td>192</td></tr><tr><td>DLR0016</td><td>Auto-Union Motors</td><td>193</td></tr><tr><td>DLR0160</td><td>Premier Motors</td><td>194</td></tr><tr><td>DLR0025</td><td>Austin-Healey Motors</td><td>195</td></tr><tr><td>DLR0239</td><td>Claremore Auto Dealership</td><td>196</td></tr><tr><td>DLR0228</td><td>Deccan Motors</td><td>197</td></tr><tr><td>DLR0189</td><td>Sunbeam Motors</td><td>198</td></tr><tr><td>DLR0263</td><td>Auto-Union Motors</td><td>199</td></tr><tr><td>DLR0132</td><td>Mitsubishi Motors</td><td>200</td></tr><tr><td>DLR0244</td><td>Hupmobile Building</td><td>201</td></tr><tr><td>DLR0068</td><td>GAZ Motors</td><td>202</td></tr><tr><td>DLR0053</td><td>Eicher Polaris Motors</td><td>203</td></tr><tr><td>DLR0002</td><td>Acura Motors</td><td>204</td></tr><tr><td>DLR0194</td><td>Tesla Motors</td><td>205</td></tr><tr><td>DLR0233</td><td>Blankinship Motor Company Building</td><td>206</td></tr><tr><td>DLR0014</td><td>Audi Motors</td><td>207</td></tr><tr><td>DLR0093</td><td>Iso Motors</td><td>208</td></tr><tr><td>DLR0205</td><td>Volkswagen South Africa Motors</td><td>209</td></tr><tr><td>DLR0141</td><td>Noble Motors</td><td>210</td></tr><tr><td>DLR0140</td><td>Nissan India Motors</td><td>211</td></tr><tr><td>DLR0101</td><td>Kia Motors</td><td>212</td></tr><tr><td>DLR0234</td><td>Bohn Motor Company Automobile Dealership</td><td>213</td></tr><tr><td>DLR0235</td><td>Buick Automobile Company Building</td><td>214</td></tr><tr><td>DLR0256</td><td>Ariel Motors</td><td>215</td></tr><tr><td>DLR0004</td><td>Alfa Romeo Motors</td><td>216</td></tr><tr><td>DLR0084</td><td>Hudson Motors</td><td>217</td></tr><tr><td>DLR0133</td><td>Monica Motors</td><td>218</td></tr><tr><td>DLR0062</td><td>Ford Australia Motors</td><td>219</td></tr><tr><td>DLR0038</td><td>Cizeta-Moroder Motors</td><td>220</td></tr><tr><td>DLR0049</td><td>Dodge Motors</td><td>221</td></tr><tr><td>DLR0055</td><td>Facel Vega Motors</td><td>222</td></tr><tr><td>DLR0170</td><td>Saleen Motors</td><td>223</td></tr><tr><td>DLR0242</td><td>H Street Playhouse</td><td>224</td></tr><tr><td>DLR0243</td><td>Howard Motor Company Building</td><td>225</td></tr><tr><td>DLR0224</td><td>Standard  Motors</td><td>226</td></tr><tr><td>DLR0077</td><td>Heinkel Motors</td><td>227</td></tr><tr><td>DLR0031</td><td>Caterham Motors</td><td>228</td></tr><tr><td>DLR0127</td><td>Merkur Motors</td><td>229</td></tr><tr><td>DLR0043</td><td>Daimler Motors</td><td>230</td></tr><tr><td>DLR0168</td><td>Saab Motors</td><td>231</td></tr><tr><td>DLR0083</td><td>Honda India Motors</td><td>232</td></tr><tr><td>DLR0099</td><td>Jensen Motors</td><td>233</td></tr><tr><td>DLR0090</td><td>null</td><td>234</td></tr><tr><td>DLR0173</td><td>Santa Matilde Motors</td><td>235</td></tr><tr><td>DLR0067</td><td>FSO Motors</td><td>236</td></tr><tr><td>DLR0113</td><td>LuAZ Motors</td><td>237</td></tr><tr><td>DLR0011</td><td>Artega Motors</td><td>238</td></tr><tr><td>DLR0157</td><td>Polestar Motors</td><td>239</td></tr><tr><td>DLR0258</td><td>null</td><td>240</td></tr><tr><td>DLR0086</td><td>Hummer Motors</td><td>241</td></tr><tr><td>DLR0054</td><td>Elva Motors</td><td>242</td></tr><tr><td>DLR0178</td><td>Shelby SuperCars Motors</td><td>243</td></tr><tr><td>DLR0023</td><td>Bristol Motors</td><td>244</td></tr><tr><td>DLR0026</td><td>Austin, Rover Motors</td><td>245</td></tr><tr><td>DLR0219</td><td>MG  Motors</td><td>246</td></tr><tr><td>DLR0120</td><td>Mastretta Motors</td><td>247</td></tr><tr><td>DLR0028</td><td>Buick Motors</td><td>248</td></tr><tr><td>DLR0057</td><td>Fiat Motors</td><td>249</td></tr><tr><td>DLR0041</td><td>DAF Motors</td><td>250</td></tr><tr><td>DLR0095</td><td>Isuzu Motors</td><td>251</td></tr><tr><td>DLR0123</td><td>Mazzanti Motors</td><td>252</td></tr><tr><td>DLR0036</td><td>Chrysler Europe Motors</td><td>253</td></tr><tr><td>DLR0149</td><td>Panoz Motors</td><td>254</td></tr><tr><td>DLR0145</td><td>Opel Motors</td><td>255</td></tr><tr><td>DLR0105</td><td>Lamborghini Motors</td><td>256</td></tr><tr><td>DLR0097</td><td>Jaguar Motors</td><td>257</td></tr><tr><td>DLR0196</td><td>Toyota Motors</td><td>258</td></tr><tr><td>DLR0024</td><td>British Leyland Motors</td><td>259</td></tr><tr><td>DLR0241</td><td>Colman Automotive Building</td><td>260</td></tr><tr><td>DLR0012</td><td>Asia Motors Motors</td><td>261</td></tr><tr><td>DLR0122</td><td>Mazda Motors</td><td>262</td></tr><tr><td>DLR0060</td><td>Fisker, Karma Motors</td><td>263</td></tr><tr><td>DLR0106</td><td>Lancia Motors</td><td>264</td></tr><tr><td>DLR0158</td><td>Pontiac, Asüna Motors</td><td>265</td></tr><tr><td>DLR0015</td><td>Autobianchi Motors</td><td>266</td></tr><tr><td>DLR0081</td><td>Holden Motors</td><td>267</td></tr><tr><td>XYZ0063</td><td>Datafam Dealers</td><td>null</td></tr><tr><td>DLR0070</td><td>Mahindra & Mahindra</td><td>142</td></tr><tr><td>DLR0072</td><td>Tata Dealerships</td><td>45</td></tr><tr><td>XYZ0059</td><td>AI Powered Autos</td><td>null</td></tr></tbody></table></div>"
      ]
     },
     "metadata": {
      "application/vnd.databricks.v1+output": {
       "addedWidgets": {},
       "aggData": [],
       "aggError": "",
       "aggOverflow": false,
       "aggSchema": [],
       "aggSeriesLimitReached": false,
       "aggType": "",
       "arguments": {},
       "columnCustomDisplayInfos": {},
       "data": [
        [
         "DLR0058",
         "Fiat do Brasil Motors",
         1
        ],
        [
         "DLR0107",
         "Land Rover Motors",
         2
        ],
        [
         "DLR0129",
         "Mia Motors",
         3
        ],
        [
         "DLR0111",
         "Lotus Motors",
         4
        ],
        [
         "DLR0085",
         "Humber Motors",
         5
        ],
        [
         "DLR0001",
         "AC Cars Motors",
         6
        ],
        [
         "DLR0218",
         "Lagonda  Motors",
         7
        ],
        [
         "DLR0082",
         "Honda Motors",
         8
        ],
        [
         "DLR0063",
         "Ford do Brasil Motors",
         9
        ],
        [
         "DLR0193",
         "Tazzari Motors",
         10
        ],
        [
         "DLR0134",
         "Monteverdi Motors",
         11
        ],
        [
         "DLR0199",
         "TVR Motors",
         12
        ],
        [
         "DLR0254",
         "AMC, Eagle Motors",
         13
        ],
        [
         "DLR0094",
         "Isotta Fraschini Motors",
         14
        ],
        [
         "DLR0236",
         "Cadillac Automobile Company Building",
         15
        ],
        [
         "DLR0201",
         "Vauxhall Motors",
         16
        ],
        [
         "DLR0175",
         "Saturn Motors",
         17
        ],
        [
         "DLR0226",
         "Das Motors",
         18
        ],
        [
         "DLR0207",
         "Westfield Motors",
         19
        ],
        [
         "DLR0035",
         "Chrysler Motors",
         20
        ],
        [
         "DLR0151",
         "Peel Motors",
         21
        ],
        [
         "DLR0156",
         "Plymouth Motors",
         22
        ],
        [
         "DLR0216",
         "Maybach  Motors",
         23
        ],
        [
         "DLR0259",
         "Asia Motors Motors",
         24
        ],
        [
         "DLR0037",
         "Citroën Motors",
         25
        ],
        [
         "DLR0074",
         "GTA Spano Motors",
         26
        ],
        [
         "DLR0150",
         "Panther Motors",
         27
        ],
        [
         "DLR0135",
         "Morgan Motors",
         28
        ],
        [
         "DLR0073",
         "GMC Motors",
         29
        ],
        [
         "DLR0260",
         "Aston Martin Motors",
         30
        ],
        [
         "DLR0153",
         "Peugeot Motors",
         31
        ],
        [
         "DLR0124",
         "McLaren Motors",
         32
        ],
        [
         "DLR0121",
         "Matra (including Deutsch-Bonnet, René Bonnet) Motors",
         33
        ],
        [
         "DLR0211",
         "ZIL Motors",
         34
        ],
        [
         "DLR0066",
         "Freightliner Motors",
         35
        ],
        [
         "DLR0110",
         "Lincoln Motors",
         36
        ],
        [
         "DLR0143",
         "Oldsmobile Motors",
         37
        ],
        [
         "DLR0167",
         "Rolls-Royce Motors",
         38
        ],
        [
         "DLR0048",
         "De Tomaso Motors",
         39
        ],
        [
         "DLR0008",
         "Anadol Motors",
         40
        ],
        [
         "DLR0128",
         "Messerschmitt Motors",
         41
        ],
        [
         "DLR0177",
         "Seat Motors",
         42
        ],
        [
         "DLR0181",
         "Singer Motors",
         43
        ],
        [
         "DLR0079",
         "Hillman Motors",
         44
        ],
        [
         "DLR0072",
         "Glas Motors",
         45
        ],
        [
         "DLR0248",
         "AC Cars Motors",
         46
        ],
        [
         "DLR0052",
         "e.GO Mobile Motors",
         47
        ],
        [
         "DLR0197",
         "Toyota India Motors",
         48
        ],
        [
         "DLR0080",
         "Hindustan Motors",
         49
        ],
        [
         "DLR0164",
         "Reliant Motors",
         50
        ],
        [
         "DLR0029",
         "Bytom Motors",
         51
        ],
        [
         "DLR0195",
         "Tornado Motors",
         52
        ],
        [
         "DLR0005",
         "Alpine Motors",
         53
        ],
        [
         "DLR0007",
         "AMC, Eagle Motors",
         54
        ],
        [
         "DLR0078",
         "Hennessey Motors",
         55
        ],
        [
         "DLR0247",
         "Kindel Building",
         56
        ],
        [
         "DLR0065",
         "Ford India Motors",
         57
        ],
        [
         "DLR0174",
         "Santana Motors",
         58
        ],
        [
         "DLR0022",
         "Borgward (including Goliath and Lloyd) Motors",
         59
        ],
        [
         "DLR0116",
         "Marcos Motors",
         60
        ],
        [
         "DLR0257",
         "ARO Motors",
         61
        ],
        [
         "DLR0172",
         "San Motors",
         62
        ],
        [
         "DLR0061",
         "Ford America Motors",
         63
        ],
        [
         "DLR0240",
         "Clemens Automobile Company Building",
         64
        ],
        [
         "DLR0103",
         "KTM Motors",
         65
        ],
        [
         "DLR0096",
         "Iveco Motors",
         66
        ],
        [
         "DLR0198",
         "Turner Motors",
         67
        ],
        [
         "DLR0137",
         "Nash Motors",
         68
        ],
        [
         "DLR0202",
         "Venturi Motors",
         69
        ],
        [
         "DLR0125",
         "Mercedes-Benz (including Maybach) Motors",
         70
        ],
        [
         "DLR0089",
         "Infiniti Motors",
         71
        ],
        [
         "DLR0266",
         "Bitter Motors",
         72
        ],
        [
         "DLR0148",
         "Panhard Motors",
         73
        ],
        [
         "DLR0142",
         "NSU Motors",
         74
        ],
        [
         "DLR0227",
         "Ramani Motors",
         75
        ],
        [
         "DLR0206",
         "Volvo Motors",
         76
        ],
        [
         "DLR0179",
         "Simca Motors",
         77
        ],
        [
         "DLR0059",
         "Fiat India Motors",
         78
        ],
        [
         "DLR0092",
         "Isdera Motors",
         79
        ],
        [
         "DLR0018",
         "Bentley Motors",
         80
        ],
        [
         "DLR0115",
         "Mahindra Motors",
         81
        ],
        [
         "DLR0169",
         "SAIC Motor Motors",
         82
        ],
        [
         "DLR0212",
         null,
         83
        ],
        [
         "DLR0192",
         "Tatra Motors",
         84
        ],
        [
         "DLR0186",
         "Standard-Triumph Motors",
         85
        ],
        [
         "DLR0021",
         "Bond Motors",
         86
        ],
        [
         "DLR0147",
         "Pagani Motors",
         87
        ],
        [
         "DLR0098",
         "Jeep Motors",
         88
        ],
        [
         "DLR0209",
         "Zastava Motors",
         89
        ],
        [
         "DLR0166",
         "Rivian Motors",
         90
        ],
        [
         "DLR0250",
         "Aixam-Mega (including Arola) Motors",
         91
        ],
        [
         "DLR0220",
         "Morris  Motors",
         92
        ],
        [
         "DLR0183",
         "Smart Motors",
         93
        ],
        [
         "DLR0102",
         "Koenigsegg Motors",
         94
        ],
        [
         "DLR0188",
         "Subaru Motors",
         95
        ],
        [
         "DLR0155",
         "Piaggio Motors",
         96
        ],
        [
         "DLR0050",
         "Donkervoort Motors",
         97
        ],
        [
         "DLR0252",
         "Alpine Motors",
         98
        ],
        [
         "DLR0184",
         "Spyker Motors",
         99
        ],
        [
         "DLR0267",
         "BMW Motors",
         100
        ],
        [
         "DLR0091",
         "Invicta Motors",
         101
        ],
        [
         "DLR0262",
         "Autobianchi Motors",
         102
        ],
        [
         "DLR0249",
         "Acura Motors",
         103
        ],
        [
         "DLR0208",
         "Wiesmann Motors",
         104
        ],
        [
         "DLR0114",
         "Lynx Motors",
         105
        ],
        [
         "DLR0204",
         "Volkswagen do Brasil Motors",
         106
        ],
        [
         "DLR0200",
         "UAZ Motors",
         107
        ],
        [
         "DLR0163",
         "Ranger Motors",
         108
        ],
        [
         "DLR0223",
         "Wolseley  Motors",
         109
        ],
        [
         "DLR0044",
         null,
         110
        ],
        [
         "DLR0231",
         "Atlantic Motor Company",
         111
        ],
        [
         "DLR0034",
         "Chevrolet India Motors",
         112
        ],
        [
         "DLR0126",
         "Mercury Motors",
         113
        ],
        [
         "DLR0046",
         "DeLorean Motors",
         114
        ],
        [
         "DLR0130",
         "Micro Motors",
         115
        ],
        [
         "DLR0210",
         "ZAZ Motors",
         116
        ],
        [
         "DLR0136",
         "Moskwitch Motors",
         117
        ],
        [
         "DLR0222",
         "Riley  Motors",
         118
        ],
        [
         "DLR0017",
         "Auverland Motors",
         119
        ],
        [
         "DLR0182",
         "Skoda Motors",
         120
        ],
        [
         "DLR0152",
         "Perodua Motors",
         121
        ],
        [
         "DLR0071",
         "Ginetta Motors",
         122
        ],
        [
         "DLR0161",
         "Proton Motors",
         123
        ],
        [
         "DLR0246",
         "Jones Motor Company",
         124
        ],
        [
         "DLR0020",
         "BMW Motors",
         125
        ],
        [
         "DLR0076",
         "Healey Motors",
         126
        ],
        [
         "DLR0237",
         "Casa de cadillac",
         127
        ],
        [
         "DLR0131",
         "Mini Motors",
         128
        ],
        [
         "DLR0112",
         "LTI Motors",
         129
        ],
        [
         "DLR0213",
         "DKW Motors",
         130
        ],
        [
         "DLR0040",
         "Daewoo, Saehan, Chevrolet Korea Motors",
         131
        ],
        [
         "DLR0187",
         "Studebaker Motors",
         132
        ],
        [
         "DLR0251",
         "Alfa Romeo Motors",
         133
        ],
        [
         "DLR0154",
         "PGO Motors",
         134
        ],
        [
         "DLR0119",
         "Maserati Motors",
         135
        ],
        [
         "DLR0013",
         "Aston Martin Motors",
         136
        ],
        [
         "DLR0087",
         "Hyundai Motors",
         137
        ],
        [
         "DLR0056",
         "Ferrari Motors",
         138
        ],
        [
         "DLR0033",
         "Chevrolet Motors",
         139
        ],
        [
         "DLR0042",
         "Daihatsu Motors",
         140
        ],
        [
         "DLR0229",
         "Herald Motors",
         141
        ],
        [
         "DLR0070",
         "Gilbern Motors",
         142
        ],
        [
         "DLR0191",
         "Tata Motors",
         143
        ],
        [
         "DLR0203",
         "Volkswagen Motors",
         144
        ],
        [
         "DLR0100",
         "JPX Motors",
         145
        ],
        [
         "DLR0047",
         "DeSoto Motors",
         146
        ],
        [
         "DLR0214",
         "Horch Motors",
         147
        ],
        [
         "DLR0171",
         "Samsung Motors",
         148
        ],
        [
         "DLR0045",
         "Delahaye Motors",
         149
        ],
        [
         "DLR0264",
         "Auverland Motors",
         150
        ],
        [
         "DLR0162",
         "Puma Motors",
         151
        ],
        [
         "DLR0159",
         "Porsche Motors",
         152
        ],
        [
         "DLR0146",
         "Packard Motors",
         153
        ],
        [
         "DLR0261",
         "Audi Motors",
         154
        ],
        [
         "DLR0032",
         "Checker Motors",
         155
        ],
        [
         "DLR0009",
         "Ariel Motors",
         156
        ],
        [
         "DLR0225",
         "Talbot  Motors",
         157
        ],
        [
         "DLR0221",
         "Austin  Motors",
         158
        ],
        [
         "DLR0075",
         "Gumpert Motors",
         159
        ],
        [
         "DLR0069",
         "Geo Motors",
         160
        ],
        [
         "DLR0104",
         "Lada Motors",
         161
        ],
        [
         "DLR0039",
         "Dacia Motors",
         162
        ],
        [
         "DLR0245",
         "Jennings Ford Automobile Dealership",
         163
        ],
        [
         "DLR0238",
         "Cass Motor Sales",
         164
        ],
        [
         "DLR0064",
         "Ford Europe Motors",
         165
        ],
        [
         "DLR0109",
         "Ligier Motors",
         166
        ],
        [
         "DLR0144",
         null,
         167
        ],
        [
         "DLR0176",
         "Scion Motors",
         168
        ],
        [
         "DLR0255",
         "Anadol Motors",
         169
        ],
        [
         "DLR0138",
         "Naza Motors",
         170
        ],
        [
         "DLR0003",
         "Aixam-Mega (including Arola) Motors",
         171
        ],
        [
         "DLR0265",
         "Bentley Motors",
         172
        ],
        [
         "DLR0217",
         "Izh  Motors",
         173
        ],
        [
         "DLR0185",
         "SsangYong Motors",
         174
        ],
        [
         "DLR0019",
         "Bitter Motors",
         175
        ],
        [
         "DLR0165",
         "Renault Motors",
         176
        ],
        [
         "DLR0108",
         "Lexus Motors",
         177
        ],
        [
         "DLR0117",
         "Marlin Motors",
         178
        ],
        [
         "DLR0118",
         "Maruti Motors",
         179
        ],
        [
         "DLR0027",
         "Bugatti Motors",
         180
        ],
        [
         "DLR0139",
         "Nissan Motors",
         181
        ],
        [
         "DLR0088",
         "IFA (including Trabant, Wartburg, Barkas) Motors",
         182
        ],
        [
         "DLR0051",
         "Edsel Motors",
         183
        ],
        [
         "DLR0010",
         "ARO Motors",
         184
        ],
        [
         "DLR0006",
         "Alvis Motors",
         185
        ],
        [
         "DLR0180",
         "Simca do Brasil Motors",
         186
        ],
        [
         "DLR0253",
         "Alvis Motors",
         187
        ],
        [
         "DLR0230",
         "Zion Automobils",
         188
        ],
        [
         "DLR0190",
         "Suzuki Motors",
         189
        ],
        [
         "DLR0232",
         "2008 NRHP-listed",
         190
        ],
        [
         "DLR0030",
         "Cadillac Motors",
         191
        ],
        [
         "DLR0215",
         "Wanderer Motors",
         192
        ],
        [
         "DLR0016",
         "Auto-Union Motors",
         193
        ],
        [
         "DLR0160",
         "Premier Motors",
         194
        ],
        [
         "DLR0025",
         "Austin-Healey Motors",
         195
        ],
        [
         "DLR0239",
         "Claremore Auto Dealership",
         196
        ],
        [
         "DLR0228",
         "Deccan Motors",
         197
        ],
        [
         "DLR0189",
         "Sunbeam Motors",
         198
        ],
        [
         "DLR0263",
         "Auto-Union Motors",
         199
        ],
        [
         "DLR0132",
         "Mitsubishi Motors",
         200
        ],
        [
         "DLR0244",
         "Hupmobile Building",
         201
        ],
        [
         "DLR0068",
         "GAZ Motors",
         202
        ],
        [
         "DLR0053",
         "Eicher Polaris Motors",
         203
        ],
        [
         "DLR0002",
         "Acura Motors",
         204
        ],
        [
         "DLR0194",
         "Tesla Motors",
         205
        ],
        [
         "DLR0233",
         "Blankinship Motor Company Building",
         206
        ],
        [
         "DLR0014",
         "Audi Motors",
         207
        ],
        [
         "DLR0093",
         "Iso Motors",
         208
        ],
        [
         "DLR0205",
         "Volkswagen South Africa Motors",
         209
        ],
        [
         "DLR0141",
         "Noble Motors",
         210
        ],
        [
         "DLR0140",
         "Nissan India Motors",
         211
        ],
        [
         "DLR0101",
         "Kia Motors",
         212
        ],
        [
         "DLR0234",
         "Bohn Motor Company Automobile Dealership",
         213
        ],
        [
         "DLR0235",
         "Buick Automobile Company Building",
         214
        ],
        [
         "DLR0256",
         "Ariel Motors",
         215
        ],
        [
         "DLR0004",
         "Alfa Romeo Motors",
         216
        ],
        [
         "DLR0084",
         "Hudson Motors",
         217
        ],
        [
         "DLR0133",
         "Monica Motors",
         218
        ],
        [
         "DLR0062",
         "Ford Australia Motors",
         219
        ],
        [
         "DLR0038",
         "Cizeta-Moroder Motors",
         220
        ],
        [
         "DLR0049",
         "Dodge Motors",
         221
        ],
        [
         "DLR0055",
         "Facel Vega Motors",
         222
        ],
        [
         "DLR0170",
         "Saleen Motors",
         223
        ],
        [
         "DLR0242",
         "H Street Playhouse",
         224
        ],
        [
         "DLR0243",
         "Howard Motor Company Building",
         225
        ],
        [
         "DLR0224",
         "Standard  Motors",
         226
        ],
        [
         "DLR0077",
         "Heinkel Motors",
         227
        ],
        [
         "DLR0031",
         "Caterham Motors",
         228
        ],
        [
         "DLR0127",
         "Merkur Motors",
         229
        ],
        [
         "DLR0043",
         "Daimler Motors",
         230
        ],
        [
         "DLR0168",
         "Saab Motors",
         231
        ],
        [
         "DLR0083",
         "Honda India Motors",
         232
        ],
        [
         "DLR0099",
         "Jensen Motors",
         233
        ],
        [
         "DLR0090",
         null,
         234
        ],
        [
         "DLR0173",
         "Santa Matilde Motors",
         235
        ],
        [
         "DLR0067",
         "FSO Motors",
         236
        ],
        [
         "DLR0113",
         "LuAZ Motors",
         237
        ],
        [
         "DLR0011",
         "Artega Motors",
         238
        ],
        [
         "DLR0157",
         "Polestar Motors",
         239
        ],
        [
         "DLR0258",
         null,
         240
        ],
        [
         "DLR0086",
         "Hummer Motors",
         241
        ],
        [
         "DLR0054",
         "Elva Motors",
         242
        ],
        [
         "DLR0178",
         "Shelby SuperCars Motors",
         243
        ],
        [
         "DLR0023",
         "Bristol Motors",
         244
        ],
        [
         "DLR0026",
         "Austin, Rover Motors",
         245
        ],
        [
         "DLR0219",
         "MG  Motors",
         246
        ],
        [
         "DLR0120",
         "Mastretta Motors",
         247
        ],
        [
         "DLR0028",
         "Buick Motors",
         248
        ],
        [
         "DLR0057",
         "Fiat Motors",
         249
        ],
        [
         "DLR0041",
         "DAF Motors",
         250
        ],
        [
         "DLR0095",
         "Isuzu Motors",
         251
        ],
        [
         "DLR0123",
         "Mazzanti Motors",
         252
        ],
        [
         "DLR0036",
         "Chrysler Europe Motors",
         253
        ],
        [
         "DLR0149",
         "Panoz Motors",
         254
        ],
        [
         "DLR0145",
         "Opel Motors",
         255
        ],
        [
         "DLR0105",
         "Lamborghini Motors",
         256
        ],
        [
         "DLR0097",
         "Jaguar Motors",
         257
        ],
        [
         "DLR0196",
         "Toyota Motors",
         258
        ],
        [
         "DLR0024",
         "British Leyland Motors",
         259
        ],
        [
         "DLR0241",
         "Colman Automotive Building",
         260
        ],
        [
         "DLR0012",
         "Asia Motors Motors",
         261
        ],
        [
         "DLR0122",
         "Mazda Motors",
         262
        ],
        [
         "DLR0060",
         "Fisker, Karma Motors",
         263
        ],
        [
         "DLR0106",
         "Lancia Motors",
         264
        ],
        [
         "DLR0158",
         "Pontiac, Asüna Motors",
         265
        ],
        [
         "DLR0015",
         "Autobianchi Motors",
         266
        ],
        [
         "DLR0081",
         "Holden Motors",
         267
        ],
        [
         "XYZ0063",
         "Datafam Dealers",
         null
        ],
        [
         "DLR0070",
         "Mahindra & Mahindra",
         142
        ],
        [
         "DLR0072",
         "Tata Dealerships",
         45
        ],
        [
         "XYZ0059",
         "AI Powered Autos",
         null
        ]
       ],
       "datasetInfos": [],
       "dbfsResultPath": null,
       "isJsonSchema": true,
       "metadata": {},
       "overflow": false,
       "plotOptions": {
        "customPlotOptions": {},
        "displayType": "table",
        "pivotAggregation": null,
        "pivotColumns": null,
        "xColumns": null,
        "yColumns": null
       },
       "removedWidgets": [],
       "schema": [
        {
         "metadata": "{}",
         "name": "Dealer_ID",
         "type": "\"string\""
        },
        {
         "metadata": "{}",
         "name": "DealerName",
         "type": "\"string\""
        },
        {
         "metadata": "{}",
         "name": "dim_dealer_key",
         "type": "\"long\""
        }
       ],
       "type": "table"
      }
     },
     "output_type": "display_data"
    }
   ],
   "source": [
    "df_filter.display()"
   ]
  },
  {
   "cell_type": "markdown",
   "metadata": {
    "application/vnd.databricks.v1+cell": {
     "cellMetadata": {
      "byteLimit": 2048000,
      "rowLimit": 10000
     },
     "inputWidgets": {},
     "nuid": "caf7000d-a3eb-4410-a9a6-f61907d8d605",
     "showTitle": false,
     "tableResultSettingsMap": {},
     "title": ""
    }
   },
   "source": [
    "### df_filter_old"
   ]
  },
  {
   "cell_type": "code",
   "execution_count": 0,
   "metadata": {
    "application/vnd.databricks.v1+cell": {
     "cellMetadata": {
      "byteLimit": 2048000,
      "rowLimit": 10000
     },
     "inputWidgets": {},
     "nuid": "7234a053-4afa-4267-885a-3dfeced3dbbb",
     "showTitle": false,
     "tableResultSettingsMap": {},
     "title": ""
    }
   },
   "outputs": [],
   "source": [
    "df_filter_old = df_filter.filter(col('dim_dealer_key').isNotNull())"
   ]
  },
  {
   "cell_type": "code",
   "execution_count": 0,
   "metadata": {
    "application/vnd.databricks.v1+cell": {
     "cellMetadata": {
      "byteLimit": 2048000,
      "rowLimit": 10000
     },
     "inputWidgets": {},
     "nuid": "d7d5bd1b-bb14-40e9-9028-e17a1845a7ba",
     "showTitle": false,
     "tableResultSettingsMap": {},
     "title": ""
    }
   },
   "outputs": [
    {
     "output_type": "display_data",
     "data": {
      "text/html": [
       "<style scoped>\n",
       "  .table-result-container {\n",
       "    max-height: 300px;\n",
       "    overflow: auto;\n",
       "  }\n",
       "  table, th, td {\n",
       "    border: 1px solid black;\n",
       "    border-collapse: collapse;\n",
       "  }\n",
       "  th, td {\n",
       "    padding: 5px;\n",
       "  }\n",
       "  th {\n",
       "    text-align: left;\n",
       "  }\n",
       "</style><div class='table-result-container'><table class='table-result'><thead style='background-color: white'><tr><th>Dealer_ID</th><th>DealerName</th><th>dim_dealer_key</th></tr></thead><tbody><tr><td>DLR0058</td><td>Fiat do Brasil Motors</td><td>1</td></tr><tr><td>DLR0107</td><td>Land Rover Motors</td><td>2</td></tr><tr><td>DLR0129</td><td>Mia Motors</td><td>3</td></tr><tr><td>DLR0111</td><td>Lotus Motors</td><td>4</td></tr><tr><td>DLR0085</td><td>Humber Motors</td><td>5</td></tr><tr><td>DLR0001</td><td>AC Cars Motors</td><td>6</td></tr><tr><td>DLR0218</td><td>Lagonda  Motors</td><td>7</td></tr><tr><td>DLR0082</td><td>Honda Motors</td><td>8</td></tr><tr><td>DLR0063</td><td>Ford do Brasil Motors</td><td>9</td></tr><tr><td>DLR0193</td><td>Tazzari Motors</td><td>10</td></tr><tr><td>DLR0134</td><td>Monteverdi Motors</td><td>11</td></tr><tr><td>DLR0199</td><td>TVR Motors</td><td>12</td></tr><tr><td>DLR0254</td><td>AMC, Eagle Motors</td><td>13</td></tr><tr><td>DLR0094</td><td>Isotta Fraschini Motors</td><td>14</td></tr><tr><td>DLR0236</td><td>Cadillac Automobile Company Building</td><td>15</td></tr><tr><td>DLR0201</td><td>Vauxhall Motors</td><td>16</td></tr><tr><td>DLR0175</td><td>Saturn Motors</td><td>17</td></tr><tr><td>DLR0226</td><td>Das Motors</td><td>18</td></tr><tr><td>DLR0207</td><td>Westfield Motors</td><td>19</td></tr><tr><td>DLR0035</td><td>Chrysler Motors</td><td>20</td></tr><tr><td>DLR0151</td><td>Peel Motors</td><td>21</td></tr><tr><td>DLR0156</td><td>Plymouth Motors</td><td>22</td></tr><tr><td>DLR0216</td><td>Maybach  Motors</td><td>23</td></tr><tr><td>DLR0259</td><td>Asia Motors Motors</td><td>24</td></tr><tr><td>DLR0037</td><td>Citroën Motors</td><td>25</td></tr><tr><td>DLR0074</td><td>GTA Spano Motors</td><td>26</td></tr><tr><td>DLR0150</td><td>Panther Motors</td><td>27</td></tr><tr><td>DLR0135</td><td>Morgan Motors</td><td>28</td></tr><tr><td>DLR0073</td><td>GMC Motors</td><td>29</td></tr><tr><td>DLR0260</td><td>Aston Martin Motors</td><td>30</td></tr><tr><td>DLR0153</td><td>Peugeot Motors</td><td>31</td></tr><tr><td>DLR0124</td><td>McLaren Motors</td><td>32</td></tr><tr><td>DLR0121</td><td>Matra (including Deutsch-Bonnet, René Bonnet) Motors</td><td>33</td></tr><tr><td>DLR0211</td><td>ZIL Motors</td><td>34</td></tr><tr><td>DLR0066</td><td>Freightliner Motors</td><td>35</td></tr><tr><td>DLR0110</td><td>Lincoln Motors</td><td>36</td></tr><tr><td>DLR0143</td><td>Oldsmobile Motors</td><td>37</td></tr><tr><td>DLR0167</td><td>Rolls-Royce Motors</td><td>38</td></tr><tr><td>DLR0048</td><td>De Tomaso Motors</td><td>39</td></tr><tr><td>DLR0008</td><td>Anadol Motors</td><td>40</td></tr><tr><td>DLR0128</td><td>Messerschmitt Motors</td><td>41</td></tr><tr><td>DLR0177</td><td>Seat Motors</td><td>42</td></tr><tr><td>DLR0181</td><td>Singer Motors</td><td>43</td></tr><tr><td>DLR0079</td><td>Hillman Motors</td><td>44</td></tr><tr><td>DLR0072</td><td>Tata Dealerships</td><td>45</td></tr><tr><td>DLR0072</td><td>Glas Motors</td><td>45</td></tr><tr><td>DLR0248</td><td>AC Cars Motors</td><td>46</td></tr><tr><td>DLR0052</td><td>e.GO Mobile Motors</td><td>47</td></tr><tr><td>DLR0197</td><td>Toyota India Motors</td><td>48</td></tr><tr><td>DLR0080</td><td>Hindustan Motors</td><td>49</td></tr><tr><td>DLR0164</td><td>Reliant Motors</td><td>50</td></tr><tr><td>DLR0029</td><td>Bytom Motors</td><td>51</td></tr><tr><td>DLR0195</td><td>Tornado Motors</td><td>52</td></tr><tr><td>DLR0005</td><td>Alpine Motors</td><td>53</td></tr><tr><td>DLR0007</td><td>AMC, Eagle Motors</td><td>54</td></tr><tr><td>DLR0078</td><td>Hennessey Motors</td><td>55</td></tr><tr><td>DLR0247</td><td>Kindel Building</td><td>56</td></tr><tr><td>DLR0065</td><td>Ford India Motors</td><td>57</td></tr><tr><td>DLR0174</td><td>Santana Motors</td><td>58</td></tr><tr><td>DLR0022</td><td>Borgward (including Goliath and Lloyd) Motors</td><td>59</td></tr><tr><td>DLR0116</td><td>Marcos Motors</td><td>60</td></tr><tr><td>DLR0257</td><td>ARO Motors</td><td>61</td></tr><tr><td>DLR0172</td><td>San Motors</td><td>62</td></tr><tr><td>DLR0061</td><td>Ford America Motors</td><td>63</td></tr><tr><td>DLR0240</td><td>Clemens Automobile Company Building</td><td>64</td></tr><tr><td>DLR0103</td><td>KTM Motors</td><td>65</td></tr><tr><td>DLR0096</td><td>Iveco Motors</td><td>66</td></tr><tr><td>DLR0198</td><td>Turner Motors</td><td>67</td></tr><tr><td>DLR0137</td><td>Nash Motors</td><td>68</td></tr><tr><td>DLR0202</td><td>Venturi Motors</td><td>69</td></tr><tr><td>DLR0125</td><td>Mercedes-Benz (including Maybach) Motors</td><td>70</td></tr><tr><td>DLR0089</td><td>Infiniti Motors</td><td>71</td></tr><tr><td>DLR0266</td><td>Bitter Motors</td><td>72</td></tr><tr><td>DLR0148</td><td>Panhard Motors</td><td>73</td></tr><tr><td>DLR0142</td><td>NSU Motors</td><td>74</td></tr><tr><td>DLR0227</td><td>Ramani Motors</td><td>75</td></tr><tr><td>DLR0206</td><td>Volvo Motors</td><td>76</td></tr><tr><td>DLR0179</td><td>Simca Motors</td><td>77</td></tr><tr><td>DLR0059</td><td>Fiat India Motors</td><td>78</td></tr><tr><td>DLR0092</td><td>Isdera Motors</td><td>79</td></tr><tr><td>DLR0018</td><td>Bentley Motors</td><td>80</td></tr><tr><td>DLR0115</td><td>Mahindra Motors</td><td>81</td></tr><tr><td>DLR0169</td><td>SAIC Motor Motors</td><td>82</td></tr><tr><td>DLR0212</td><td>null</td><td>83</td></tr><tr><td>DLR0192</td><td>Tatra Motors</td><td>84</td></tr><tr><td>DLR0186</td><td>Standard-Triumph Motors</td><td>85</td></tr><tr><td>DLR0021</td><td>Bond Motors</td><td>86</td></tr><tr><td>DLR0147</td><td>Pagani Motors</td><td>87</td></tr><tr><td>DLR0098</td><td>Jeep Motors</td><td>88</td></tr><tr><td>DLR0209</td><td>Zastava Motors</td><td>89</td></tr><tr><td>DLR0166</td><td>Rivian Motors</td><td>90</td></tr><tr><td>DLR0250</td><td>Aixam-Mega (including Arola) Motors</td><td>91</td></tr><tr><td>DLR0220</td><td>Morris  Motors</td><td>92</td></tr><tr><td>DLR0183</td><td>Smart Motors</td><td>93</td></tr><tr><td>DLR0102</td><td>Koenigsegg Motors</td><td>94</td></tr><tr><td>DLR0188</td><td>Subaru Motors</td><td>95</td></tr><tr><td>DLR0155</td><td>Piaggio Motors</td><td>96</td></tr><tr><td>DLR0050</td><td>Donkervoort Motors</td><td>97</td></tr><tr><td>DLR0252</td><td>Alpine Motors</td><td>98</td></tr><tr><td>DLR0184</td><td>Spyker Motors</td><td>99</td></tr><tr><td>DLR0267</td><td>BMW Motors</td><td>100</td></tr><tr><td>DLR0091</td><td>Invicta Motors</td><td>101</td></tr><tr><td>DLR0262</td><td>Autobianchi Motors</td><td>102</td></tr><tr><td>DLR0249</td><td>Acura Motors</td><td>103</td></tr><tr><td>DLR0208</td><td>Wiesmann Motors</td><td>104</td></tr><tr><td>DLR0114</td><td>Lynx Motors</td><td>105</td></tr><tr><td>DLR0204</td><td>Volkswagen do Brasil Motors</td><td>106</td></tr><tr><td>DLR0200</td><td>UAZ Motors</td><td>107</td></tr><tr><td>DLR0163</td><td>Ranger Motors</td><td>108</td></tr><tr><td>DLR0223</td><td>Wolseley  Motors</td><td>109</td></tr><tr><td>DLR0044</td><td>null</td><td>110</td></tr><tr><td>DLR0231</td><td>Atlantic Motor Company</td><td>111</td></tr><tr><td>DLR0034</td><td>Chevrolet India Motors</td><td>112</td></tr><tr><td>DLR0126</td><td>Mercury Motors</td><td>113</td></tr><tr><td>DLR0046</td><td>DeLorean Motors</td><td>114</td></tr><tr><td>DLR0130</td><td>Micro Motors</td><td>115</td></tr><tr><td>DLR0210</td><td>ZAZ Motors</td><td>116</td></tr><tr><td>DLR0136</td><td>Moskwitch Motors</td><td>117</td></tr><tr><td>DLR0222</td><td>Riley  Motors</td><td>118</td></tr><tr><td>DLR0017</td><td>Auverland Motors</td><td>119</td></tr><tr><td>DLR0182</td><td>Skoda Motors</td><td>120</td></tr><tr><td>DLR0152</td><td>Perodua Motors</td><td>121</td></tr><tr><td>DLR0071</td><td>Ginetta Motors</td><td>122</td></tr><tr><td>DLR0161</td><td>Proton Motors</td><td>123</td></tr><tr><td>DLR0246</td><td>Jones Motor Company</td><td>124</td></tr><tr><td>DLR0020</td><td>BMW Motors</td><td>125</td></tr><tr><td>DLR0076</td><td>Healey Motors</td><td>126</td></tr><tr><td>DLR0237</td><td>Casa de cadillac</td><td>127</td></tr><tr><td>DLR0131</td><td>Mini Motors</td><td>128</td></tr><tr><td>DLR0112</td><td>LTI Motors</td><td>129</td></tr><tr><td>DLR0213</td><td>DKW Motors</td><td>130</td></tr><tr><td>DLR0040</td><td>Daewoo, Saehan, Chevrolet Korea Motors</td><td>131</td></tr><tr><td>DLR0187</td><td>Studebaker Motors</td><td>132</td></tr><tr><td>DLR0251</td><td>Alfa Romeo Motors</td><td>133</td></tr><tr><td>DLR0154</td><td>PGO Motors</td><td>134</td></tr><tr><td>DLR0119</td><td>Maserati Motors</td><td>135</td></tr><tr><td>DLR0013</td><td>Aston Martin Motors</td><td>136</td></tr><tr><td>DLR0087</td><td>Hyundai Motors</td><td>137</td></tr><tr><td>DLR0056</td><td>Ferrari Motors</td><td>138</td></tr><tr><td>DLR0033</td><td>Chevrolet Motors</td><td>139</td></tr><tr><td>DLR0042</td><td>Daihatsu Motors</td><td>140</td></tr><tr><td>DLR0229</td><td>Herald Motors</td><td>141</td></tr><tr><td>DLR0070</td><td>Mahindra & Mahindra</td><td>142</td></tr><tr><td>DLR0070</td><td>Gilbern Motors</td><td>142</td></tr><tr><td>DLR0191</td><td>Tata Motors</td><td>143</td></tr><tr><td>DLR0203</td><td>Volkswagen Motors</td><td>144</td></tr><tr><td>DLR0100</td><td>JPX Motors</td><td>145</td></tr><tr><td>DLR0047</td><td>DeSoto Motors</td><td>146</td></tr><tr><td>DLR0214</td><td>Horch Motors</td><td>147</td></tr><tr><td>DLR0171</td><td>Samsung Motors</td><td>148</td></tr><tr><td>DLR0045</td><td>Delahaye Motors</td><td>149</td></tr><tr><td>DLR0264</td><td>Auverland Motors</td><td>150</td></tr><tr><td>DLR0162</td><td>Puma Motors</td><td>151</td></tr><tr><td>DLR0159</td><td>Porsche Motors</td><td>152</td></tr><tr><td>DLR0146</td><td>Packard Motors</td><td>153</td></tr><tr><td>DLR0261</td><td>Audi Motors</td><td>154</td></tr><tr><td>DLR0032</td><td>Checker Motors</td><td>155</td></tr><tr><td>DLR0009</td><td>Ariel Motors</td><td>156</td></tr><tr><td>DLR0225</td><td>Talbot  Motors</td><td>157</td></tr><tr><td>DLR0221</td><td>Austin  Motors</td><td>158</td></tr><tr><td>DLR0075</td><td>Gumpert Motors</td><td>159</td></tr><tr><td>DLR0069</td><td>Geo Motors</td><td>160</td></tr><tr><td>DLR0104</td><td>Lada Motors</td><td>161</td></tr><tr><td>DLR0039</td><td>Dacia Motors</td><td>162</td></tr><tr><td>DLR0245</td><td>Jennings Ford Automobile Dealership</td><td>163</td></tr><tr><td>DLR0238</td><td>Cass Motor Sales</td><td>164</td></tr><tr><td>DLR0064</td><td>Ford Europe Motors</td><td>165</td></tr><tr><td>DLR0109</td><td>Ligier Motors</td><td>166</td></tr><tr><td>DLR0144</td><td>null</td><td>167</td></tr><tr><td>DLR0176</td><td>Scion Motors</td><td>168</td></tr><tr><td>DLR0255</td><td>Anadol Motors</td><td>169</td></tr><tr><td>DLR0138</td><td>Naza Motors</td><td>170</td></tr><tr><td>DLR0003</td><td>Aixam-Mega (including Arola) Motors</td><td>171</td></tr><tr><td>DLR0265</td><td>Bentley Motors</td><td>172</td></tr><tr><td>DLR0217</td><td>Izh  Motors</td><td>173</td></tr><tr><td>DLR0185</td><td>SsangYong Motors</td><td>174</td></tr><tr><td>DLR0019</td><td>Bitter Motors</td><td>175</td></tr><tr><td>DLR0165</td><td>Renault Motors</td><td>176</td></tr><tr><td>DLR0108</td><td>Lexus Motors</td><td>177</td></tr><tr><td>DLR0117</td><td>Marlin Motors</td><td>178</td></tr><tr><td>DLR0118</td><td>Maruti Motors</td><td>179</td></tr><tr><td>DLR0027</td><td>Bugatti Motors</td><td>180</td></tr><tr><td>DLR0139</td><td>Nissan Motors</td><td>181</td></tr><tr><td>DLR0088</td><td>IFA (including Trabant, Wartburg, Barkas) Motors</td><td>182</td></tr><tr><td>DLR0051</td><td>Edsel Motors</td><td>183</td></tr><tr><td>DLR0010</td><td>ARO Motors</td><td>184</td></tr><tr><td>DLR0006</td><td>Alvis Motors</td><td>185</td></tr><tr><td>DLR0180</td><td>Simca do Brasil Motors</td><td>186</td></tr><tr><td>DLR0253</td><td>Alvis Motors</td><td>187</td></tr><tr><td>DLR0230</td><td>Zion Automobils</td><td>188</td></tr><tr><td>DLR0190</td><td>Suzuki Motors</td><td>189</td></tr><tr><td>DLR0232</td><td>2008 NRHP-listed</td><td>190</td></tr><tr><td>DLR0030</td><td>Cadillac Motors</td><td>191</td></tr><tr><td>DLR0215</td><td>Wanderer Motors</td><td>192</td></tr><tr><td>DLR0016</td><td>Auto-Union Motors</td><td>193</td></tr><tr><td>DLR0160</td><td>Premier Motors</td><td>194</td></tr><tr><td>DLR0025</td><td>Austin-Healey Motors</td><td>195</td></tr><tr><td>DLR0239</td><td>Claremore Auto Dealership</td><td>196</td></tr><tr><td>DLR0228</td><td>Deccan Motors</td><td>197</td></tr><tr><td>DLR0189</td><td>Sunbeam Motors</td><td>198</td></tr><tr><td>DLR0263</td><td>Auto-Union Motors</td><td>199</td></tr><tr><td>DLR0132</td><td>Mitsubishi Motors</td><td>200</td></tr><tr><td>DLR0244</td><td>Hupmobile Building</td><td>201</td></tr><tr><td>DLR0068</td><td>GAZ Motors</td><td>202</td></tr><tr><td>DLR0053</td><td>Eicher Polaris Motors</td><td>203</td></tr><tr><td>DLR0002</td><td>Acura Motors</td><td>204</td></tr><tr><td>DLR0194</td><td>Tesla Motors</td><td>205</td></tr><tr><td>DLR0233</td><td>Blankinship Motor Company Building</td><td>206</td></tr><tr><td>DLR0014</td><td>Audi Motors</td><td>207</td></tr><tr><td>DLR0093</td><td>Iso Motors</td><td>208</td></tr><tr><td>DLR0205</td><td>Volkswagen South Africa Motors</td><td>209</td></tr><tr><td>DLR0141</td><td>Noble Motors</td><td>210</td></tr><tr><td>DLR0140</td><td>Nissan India Motors</td><td>211</td></tr><tr><td>DLR0101</td><td>Kia Motors</td><td>212</td></tr><tr><td>DLR0234</td><td>Bohn Motor Company Automobile Dealership</td><td>213</td></tr><tr><td>DLR0235</td><td>Buick Automobile Company Building</td><td>214</td></tr><tr><td>DLR0256</td><td>Ariel Motors</td><td>215</td></tr><tr><td>DLR0004</td><td>Alfa Romeo Motors</td><td>216</td></tr><tr><td>DLR0084</td><td>Hudson Motors</td><td>217</td></tr><tr><td>DLR0133</td><td>Monica Motors</td><td>218</td></tr><tr><td>DLR0062</td><td>Ford Australia Motors</td><td>219</td></tr><tr><td>DLR0038</td><td>Cizeta-Moroder Motors</td><td>220</td></tr><tr><td>DLR0049</td><td>Dodge Motors</td><td>221</td></tr><tr><td>DLR0055</td><td>Facel Vega Motors</td><td>222</td></tr><tr><td>DLR0170</td><td>Saleen Motors</td><td>223</td></tr><tr><td>DLR0242</td><td>H Street Playhouse</td><td>224</td></tr><tr><td>DLR0243</td><td>Howard Motor Company Building</td><td>225</td></tr><tr><td>DLR0224</td><td>Standard  Motors</td><td>226</td></tr><tr><td>DLR0077</td><td>Heinkel Motors</td><td>227</td></tr><tr><td>DLR0031</td><td>Caterham Motors</td><td>228</td></tr><tr><td>DLR0127</td><td>Merkur Motors</td><td>229</td></tr><tr><td>DLR0043</td><td>Daimler Motors</td><td>230</td></tr><tr><td>DLR0168</td><td>Saab Motors</td><td>231</td></tr><tr><td>DLR0083</td><td>Honda India Motors</td><td>232</td></tr><tr><td>DLR0099</td><td>Jensen Motors</td><td>233</td></tr><tr><td>DLR0090</td><td>null</td><td>234</td></tr><tr><td>DLR0173</td><td>Santa Matilde Motors</td><td>235</td></tr><tr><td>DLR0067</td><td>FSO Motors</td><td>236</td></tr><tr><td>DLR0113</td><td>LuAZ Motors</td><td>237</td></tr><tr><td>DLR0011</td><td>Artega Motors</td><td>238</td></tr><tr><td>DLR0157</td><td>Polestar Motors</td><td>239</td></tr><tr><td>DLR0258</td><td>null</td><td>240</td></tr><tr><td>DLR0086</td><td>Hummer Motors</td><td>241</td></tr><tr><td>DLR0054</td><td>Elva Motors</td><td>242</td></tr><tr><td>DLR0178</td><td>Shelby SuperCars Motors</td><td>243</td></tr><tr><td>DLR0023</td><td>Bristol Motors</td><td>244</td></tr><tr><td>DLR0026</td><td>Austin, Rover Motors</td><td>245</td></tr><tr><td>DLR0219</td><td>MG  Motors</td><td>246</td></tr><tr><td>DLR0120</td><td>Mastretta Motors</td><td>247</td></tr><tr><td>DLR0028</td><td>Buick Motors</td><td>248</td></tr><tr><td>DLR0057</td><td>Fiat Motors</td><td>249</td></tr><tr><td>DLR0041</td><td>DAF Motors</td><td>250</td></tr><tr><td>DLR0095</td><td>Isuzu Motors</td><td>251</td></tr><tr><td>DLR0123</td><td>Mazzanti Motors</td><td>252</td></tr><tr><td>DLR0036</td><td>Chrysler Europe Motors</td><td>253</td></tr><tr><td>DLR0149</td><td>Panoz Motors</td><td>254</td></tr><tr><td>DLR0145</td><td>Opel Motors</td><td>255</td></tr><tr><td>DLR0105</td><td>Lamborghini Motors</td><td>256</td></tr><tr><td>DLR0097</td><td>Jaguar Motors</td><td>257</td></tr><tr><td>DLR0196</td><td>Toyota Motors</td><td>258</td></tr><tr><td>DLR0024</td><td>British Leyland Motors</td><td>259</td></tr><tr><td>DLR0241</td><td>Colman Automotive Building</td><td>260</td></tr><tr><td>DLR0012</td><td>Asia Motors Motors</td><td>261</td></tr><tr><td>DLR0122</td><td>Mazda Motors</td><td>262</td></tr><tr><td>DLR0060</td><td>Fisker, Karma Motors</td><td>263</td></tr><tr><td>DLR0106</td><td>Lancia Motors</td><td>264</td></tr><tr><td>DLR0158</td><td>Pontiac, Asüna Motors</td><td>265</td></tr><tr><td>DLR0015</td><td>Autobianchi Motors</td><td>266</td></tr><tr><td>DLR0081</td><td>Holden Motors</td><td>267</td></tr></tbody></table></div>"
      ]
     },
     "metadata": {
      "application/vnd.databricks.v1+output": {
       "addedWidgets": {},
       "aggData": [],
       "aggError": "",
       "aggOverflow": false,
       "aggSchema": [],
       "aggSeriesLimitReached": false,
       "aggType": "",
       "arguments": {},
       "columnCustomDisplayInfos": {},
       "data": [
        [
         "DLR0058",
         "Fiat do Brasil Motors",
         1
        ],
        [
         "DLR0107",
         "Land Rover Motors",
         2
        ],
        [
         "DLR0129",
         "Mia Motors",
         3
        ],
        [
         "DLR0111",
         "Lotus Motors",
         4
        ],
        [
         "DLR0085",
         "Humber Motors",
         5
        ],
        [
         "DLR0001",
         "AC Cars Motors",
         6
        ],
        [
         "DLR0218",
         "Lagonda  Motors",
         7
        ],
        [
         "DLR0082",
         "Honda Motors",
         8
        ],
        [
         "DLR0063",
         "Ford do Brasil Motors",
         9
        ],
        [
         "DLR0193",
         "Tazzari Motors",
         10
        ],
        [
         "DLR0134",
         "Monteverdi Motors",
         11
        ],
        [
         "DLR0199",
         "TVR Motors",
         12
        ],
        [
         "DLR0254",
         "AMC, Eagle Motors",
         13
        ],
        [
         "DLR0094",
         "Isotta Fraschini Motors",
         14
        ],
        [
         "DLR0236",
         "Cadillac Automobile Company Building",
         15
        ],
        [
         "DLR0201",
         "Vauxhall Motors",
         16
        ],
        [
         "DLR0175",
         "Saturn Motors",
         17
        ],
        [
         "DLR0226",
         "Das Motors",
         18
        ],
        [
         "DLR0207",
         "Westfield Motors",
         19
        ],
        [
         "DLR0035",
         "Chrysler Motors",
         20
        ],
        [
         "DLR0151",
         "Peel Motors",
         21
        ],
        [
         "DLR0156",
         "Plymouth Motors",
         22
        ],
        [
         "DLR0216",
         "Maybach  Motors",
         23
        ],
        [
         "DLR0259",
         "Asia Motors Motors",
         24
        ],
        [
         "DLR0037",
         "Citroën Motors",
         25
        ],
        [
         "DLR0074",
         "GTA Spano Motors",
         26
        ],
        [
         "DLR0150",
         "Panther Motors",
         27
        ],
        [
         "DLR0135",
         "Morgan Motors",
         28
        ],
        [
         "DLR0073",
         "GMC Motors",
         29
        ],
        [
         "DLR0260",
         "Aston Martin Motors",
         30
        ],
        [
         "DLR0153",
         "Peugeot Motors",
         31
        ],
        [
         "DLR0124",
         "McLaren Motors",
         32
        ],
        [
         "DLR0121",
         "Matra (including Deutsch-Bonnet, René Bonnet) Motors",
         33
        ],
        [
         "DLR0211",
         "ZIL Motors",
         34
        ],
        [
         "DLR0066",
         "Freightliner Motors",
         35
        ],
        [
         "DLR0110",
         "Lincoln Motors",
         36
        ],
        [
         "DLR0143",
         "Oldsmobile Motors",
         37
        ],
        [
         "DLR0167",
         "Rolls-Royce Motors",
         38
        ],
        [
         "DLR0048",
         "De Tomaso Motors",
         39
        ],
        [
         "DLR0008",
         "Anadol Motors",
         40
        ],
        [
         "DLR0128",
         "Messerschmitt Motors",
         41
        ],
        [
         "DLR0177",
         "Seat Motors",
         42
        ],
        [
         "DLR0181",
         "Singer Motors",
         43
        ],
        [
         "DLR0079",
         "Hillman Motors",
         44
        ],
        [
         "DLR0072",
         "Tata Dealerships",
         45
        ],
        [
         "DLR0072",
         "Glas Motors",
         45
        ],
        [
         "DLR0248",
         "AC Cars Motors",
         46
        ],
        [
         "DLR0052",
         "e.GO Mobile Motors",
         47
        ],
        [
         "DLR0197",
         "Toyota India Motors",
         48
        ],
        [
         "DLR0080",
         "Hindustan Motors",
         49
        ],
        [
         "DLR0164",
         "Reliant Motors",
         50
        ],
        [
         "DLR0029",
         "Bytom Motors",
         51
        ],
        [
         "DLR0195",
         "Tornado Motors",
         52
        ],
        [
         "DLR0005",
         "Alpine Motors",
         53
        ],
        [
         "DLR0007",
         "AMC, Eagle Motors",
         54
        ],
        [
         "DLR0078",
         "Hennessey Motors",
         55
        ],
        [
         "DLR0247",
         "Kindel Building",
         56
        ],
        [
         "DLR0065",
         "Ford India Motors",
         57
        ],
        [
         "DLR0174",
         "Santana Motors",
         58
        ],
        [
         "DLR0022",
         "Borgward (including Goliath and Lloyd) Motors",
         59
        ],
        [
         "DLR0116",
         "Marcos Motors",
         60
        ],
        [
         "DLR0257",
         "ARO Motors",
         61
        ],
        [
         "DLR0172",
         "San Motors",
         62
        ],
        [
         "DLR0061",
         "Ford America Motors",
         63
        ],
        [
         "DLR0240",
         "Clemens Automobile Company Building",
         64
        ],
        [
         "DLR0103",
         "KTM Motors",
         65
        ],
        [
         "DLR0096",
         "Iveco Motors",
         66
        ],
        [
         "DLR0198",
         "Turner Motors",
         67
        ],
        [
         "DLR0137",
         "Nash Motors",
         68
        ],
        [
         "DLR0202",
         "Venturi Motors",
         69
        ],
        [
         "DLR0125",
         "Mercedes-Benz (including Maybach) Motors",
         70
        ],
        [
         "DLR0089",
         "Infiniti Motors",
         71
        ],
        [
         "DLR0266",
         "Bitter Motors",
         72
        ],
        [
         "DLR0148",
         "Panhard Motors",
         73
        ],
        [
         "DLR0142",
         "NSU Motors",
         74
        ],
        [
         "DLR0227",
         "Ramani Motors",
         75
        ],
        [
         "DLR0206",
         "Volvo Motors",
         76
        ],
        [
         "DLR0179",
         "Simca Motors",
         77
        ],
        [
         "DLR0059",
         "Fiat India Motors",
         78
        ],
        [
         "DLR0092",
         "Isdera Motors",
         79
        ],
        [
         "DLR0018",
         "Bentley Motors",
         80
        ],
        [
         "DLR0115",
         "Mahindra Motors",
         81
        ],
        [
         "DLR0169",
         "SAIC Motor Motors",
         82
        ],
        [
         "DLR0212",
         null,
         83
        ],
        [
         "DLR0192",
         "Tatra Motors",
         84
        ],
        [
         "DLR0186",
         "Standard-Triumph Motors",
         85
        ],
        [
         "DLR0021",
         "Bond Motors",
         86
        ],
        [
         "DLR0147",
         "Pagani Motors",
         87
        ],
        [
         "DLR0098",
         "Jeep Motors",
         88
        ],
        [
         "DLR0209",
         "Zastava Motors",
         89
        ],
        [
         "DLR0166",
         "Rivian Motors",
         90
        ],
        [
         "DLR0250",
         "Aixam-Mega (including Arola) Motors",
         91
        ],
        [
         "DLR0220",
         "Morris  Motors",
         92
        ],
        [
         "DLR0183",
         "Smart Motors",
         93
        ],
        [
         "DLR0102",
         "Koenigsegg Motors",
         94
        ],
        [
         "DLR0188",
         "Subaru Motors",
         95
        ],
        [
         "DLR0155",
         "Piaggio Motors",
         96
        ],
        [
         "DLR0050",
         "Donkervoort Motors",
         97
        ],
        [
         "DLR0252",
         "Alpine Motors",
         98
        ],
        [
         "DLR0184",
         "Spyker Motors",
         99
        ],
        [
         "DLR0267",
         "BMW Motors",
         100
        ],
        [
         "DLR0091",
         "Invicta Motors",
         101
        ],
        [
         "DLR0262",
         "Autobianchi Motors",
         102
        ],
        [
         "DLR0249",
         "Acura Motors",
         103
        ],
        [
         "DLR0208",
         "Wiesmann Motors",
         104
        ],
        [
         "DLR0114",
         "Lynx Motors",
         105
        ],
        [
         "DLR0204",
         "Volkswagen do Brasil Motors",
         106
        ],
        [
         "DLR0200",
         "UAZ Motors",
         107
        ],
        [
         "DLR0163",
         "Ranger Motors",
         108
        ],
        [
         "DLR0223",
         "Wolseley  Motors",
         109
        ],
        [
         "DLR0044",
         null,
         110
        ],
        [
         "DLR0231",
         "Atlantic Motor Company",
         111
        ],
        [
         "DLR0034",
         "Chevrolet India Motors",
         112
        ],
        [
         "DLR0126",
         "Mercury Motors",
         113
        ],
        [
         "DLR0046",
         "DeLorean Motors",
         114
        ],
        [
         "DLR0130",
         "Micro Motors",
         115
        ],
        [
         "DLR0210",
         "ZAZ Motors",
         116
        ],
        [
         "DLR0136",
         "Moskwitch Motors",
         117
        ],
        [
         "DLR0222",
         "Riley  Motors",
         118
        ],
        [
         "DLR0017",
         "Auverland Motors",
         119
        ],
        [
         "DLR0182",
         "Skoda Motors",
         120
        ],
        [
         "DLR0152",
         "Perodua Motors",
         121
        ],
        [
         "DLR0071",
         "Ginetta Motors",
         122
        ],
        [
         "DLR0161",
         "Proton Motors",
         123
        ],
        [
         "DLR0246",
         "Jones Motor Company",
         124
        ],
        [
         "DLR0020",
         "BMW Motors",
         125
        ],
        [
         "DLR0076",
         "Healey Motors",
         126
        ],
        [
         "DLR0237",
         "Casa de cadillac",
         127
        ],
        [
         "DLR0131",
         "Mini Motors",
         128
        ],
        [
         "DLR0112",
         "LTI Motors",
         129
        ],
        [
         "DLR0213",
         "DKW Motors",
         130
        ],
        [
         "DLR0040",
         "Daewoo, Saehan, Chevrolet Korea Motors",
         131
        ],
        [
         "DLR0187",
         "Studebaker Motors",
         132
        ],
        [
         "DLR0251",
         "Alfa Romeo Motors",
         133
        ],
        [
         "DLR0154",
         "PGO Motors",
         134
        ],
        [
         "DLR0119",
         "Maserati Motors",
         135
        ],
        [
         "DLR0013",
         "Aston Martin Motors",
         136
        ],
        [
         "DLR0087",
         "Hyundai Motors",
         137
        ],
        [
         "DLR0056",
         "Ferrari Motors",
         138
        ],
        [
         "DLR0033",
         "Chevrolet Motors",
         139
        ],
        [
         "DLR0042",
         "Daihatsu Motors",
         140
        ],
        [
         "DLR0229",
         "Herald Motors",
         141
        ],
        [
         "DLR0070",
         "Mahindra & Mahindra",
         142
        ],
        [
         "DLR0070",
         "Gilbern Motors",
         142
        ],
        [
         "DLR0191",
         "Tata Motors",
         143
        ],
        [
         "DLR0203",
         "Volkswagen Motors",
         144
        ],
        [
         "DLR0100",
         "JPX Motors",
         145
        ],
        [
         "DLR0047",
         "DeSoto Motors",
         146
        ],
        [
         "DLR0214",
         "Horch Motors",
         147
        ],
        [
         "DLR0171",
         "Samsung Motors",
         148
        ],
        [
         "DLR0045",
         "Delahaye Motors",
         149
        ],
        [
         "DLR0264",
         "Auverland Motors",
         150
        ],
        [
         "DLR0162",
         "Puma Motors",
         151
        ],
        [
         "DLR0159",
         "Porsche Motors",
         152
        ],
        [
         "DLR0146",
         "Packard Motors",
         153
        ],
        [
         "DLR0261",
         "Audi Motors",
         154
        ],
        [
         "DLR0032",
         "Checker Motors",
         155
        ],
        [
         "DLR0009",
         "Ariel Motors",
         156
        ],
        [
         "DLR0225",
         "Talbot  Motors",
         157
        ],
        [
         "DLR0221",
         "Austin  Motors",
         158
        ],
        [
         "DLR0075",
         "Gumpert Motors",
         159
        ],
        [
         "DLR0069",
         "Geo Motors",
         160
        ],
        [
         "DLR0104",
         "Lada Motors",
         161
        ],
        [
         "DLR0039",
         "Dacia Motors",
         162
        ],
        [
         "DLR0245",
         "Jennings Ford Automobile Dealership",
         163
        ],
        [
         "DLR0238",
         "Cass Motor Sales",
         164
        ],
        [
         "DLR0064",
         "Ford Europe Motors",
         165
        ],
        [
         "DLR0109",
         "Ligier Motors",
         166
        ],
        [
         "DLR0144",
         null,
         167
        ],
        [
         "DLR0176",
         "Scion Motors",
         168
        ],
        [
         "DLR0255",
         "Anadol Motors",
         169
        ],
        [
         "DLR0138",
         "Naza Motors",
         170
        ],
        [
         "DLR0003",
         "Aixam-Mega (including Arola) Motors",
         171
        ],
        [
         "DLR0265",
         "Bentley Motors",
         172
        ],
        [
         "DLR0217",
         "Izh  Motors",
         173
        ],
        [
         "DLR0185",
         "SsangYong Motors",
         174
        ],
        [
         "DLR0019",
         "Bitter Motors",
         175
        ],
        [
         "DLR0165",
         "Renault Motors",
         176
        ],
        [
         "DLR0108",
         "Lexus Motors",
         177
        ],
        [
         "DLR0117",
         "Marlin Motors",
         178
        ],
        [
         "DLR0118",
         "Maruti Motors",
         179
        ],
        [
         "DLR0027",
         "Bugatti Motors",
         180
        ],
        [
         "DLR0139",
         "Nissan Motors",
         181
        ],
        [
         "DLR0088",
         "IFA (including Trabant, Wartburg, Barkas) Motors",
         182
        ],
        [
         "DLR0051",
         "Edsel Motors",
         183
        ],
        [
         "DLR0010",
         "ARO Motors",
         184
        ],
        [
         "DLR0006",
         "Alvis Motors",
         185
        ],
        [
         "DLR0180",
         "Simca do Brasil Motors",
         186
        ],
        [
         "DLR0253",
         "Alvis Motors",
         187
        ],
        [
         "DLR0230",
         "Zion Automobils",
         188
        ],
        [
         "DLR0190",
         "Suzuki Motors",
         189
        ],
        [
         "DLR0232",
         "2008 NRHP-listed",
         190
        ],
        [
         "DLR0030",
         "Cadillac Motors",
         191
        ],
        [
         "DLR0215",
         "Wanderer Motors",
         192
        ],
        [
         "DLR0016",
         "Auto-Union Motors",
         193
        ],
        [
         "DLR0160",
         "Premier Motors",
         194
        ],
        [
         "DLR0025",
         "Austin-Healey Motors",
         195
        ],
        [
         "DLR0239",
         "Claremore Auto Dealership",
         196
        ],
        [
         "DLR0228",
         "Deccan Motors",
         197
        ],
        [
         "DLR0189",
         "Sunbeam Motors",
         198
        ],
        [
         "DLR0263",
         "Auto-Union Motors",
         199
        ],
        [
         "DLR0132",
         "Mitsubishi Motors",
         200
        ],
        [
         "DLR0244",
         "Hupmobile Building",
         201
        ],
        [
         "DLR0068",
         "GAZ Motors",
         202
        ],
        [
         "DLR0053",
         "Eicher Polaris Motors",
         203
        ],
        [
         "DLR0002",
         "Acura Motors",
         204
        ],
        [
         "DLR0194",
         "Tesla Motors",
         205
        ],
        [
         "DLR0233",
         "Blankinship Motor Company Building",
         206
        ],
        [
         "DLR0014",
         "Audi Motors",
         207
        ],
        [
         "DLR0093",
         "Iso Motors",
         208
        ],
        [
         "DLR0205",
         "Volkswagen South Africa Motors",
         209
        ],
        [
         "DLR0141",
         "Noble Motors",
         210
        ],
        [
         "DLR0140",
         "Nissan India Motors",
         211
        ],
        [
         "DLR0101",
         "Kia Motors",
         212
        ],
        [
         "DLR0234",
         "Bohn Motor Company Automobile Dealership",
         213
        ],
        [
         "DLR0235",
         "Buick Automobile Company Building",
         214
        ],
        [
         "DLR0256",
         "Ariel Motors",
         215
        ],
        [
         "DLR0004",
         "Alfa Romeo Motors",
         216
        ],
        [
         "DLR0084",
         "Hudson Motors",
         217
        ],
        [
         "DLR0133",
         "Monica Motors",
         218
        ],
        [
         "DLR0062",
         "Ford Australia Motors",
         219
        ],
        [
         "DLR0038",
         "Cizeta-Moroder Motors",
         220
        ],
        [
         "DLR0049",
         "Dodge Motors",
         221
        ],
        [
         "DLR0055",
         "Facel Vega Motors",
         222
        ],
        [
         "DLR0170",
         "Saleen Motors",
         223
        ],
        [
         "DLR0242",
         "H Street Playhouse",
         224
        ],
        [
         "DLR0243",
         "Howard Motor Company Building",
         225
        ],
        [
         "DLR0224",
         "Standard  Motors",
         226
        ],
        [
         "DLR0077",
         "Heinkel Motors",
         227
        ],
        [
         "DLR0031",
         "Caterham Motors",
         228
        ],
        [
         "DLR0127",
         "Merkur Motors",
         229
        ],
        [
         "DLR0043",
         "Daimler Motors",
         230
        ],
        [
         "DLR0168",
         "Saab Motors",
         231
        ],
        [
         "DLR0083",
         "Honda India Motors",
         232
        ],
        [
         "DLR0099",
         "Jensen Motors",
         233
        ],
        [
         "DLR0090",
         null,
         234
        ],
        [
         "DLR0173",
         "Santa Matilde Motors",
         235
        ],
        [
         "DLR0067",
         "FSO Motors",
         236
        ],
        [
         "DLR0113",
         "LuAZ Motors",
         237
        ],
        [
         "DLR0011",
         "Artega Motors",
         238
        ],
        [
         "DLR0157",
         "Polestar Motors",
         239
        ],
        [
         "DLR0258",
         null,
         240
        ],
        [
         "DLR0086",
         "Hummer Motors",
         241
        ],
        [
         "DLR0054",
         "Elva Motors",
         242
        ],
        [
         "DLR0178",
         "Shelby SuperCars Motors",
         243
        ],
        [
         "DLR0023",
         "Bristol Motors",
         244
        ],
        [
         "DLR0026",
         "Austin, Rover Motors",
         245
        ],
        [
         "DLR0219",
         "MG  Motors",
         246
        ],
        [
         "DLR0120",
         "Mastretta Motors",
         247
        ],
        [
         "DLR0028",
         "Buick Motors",
         248
        ],
        [
         "DLR0057",
         "Fiat Motors",
         249
        ],
        [
         "DLR0041",
         "DAF Motors",
         250
        ],
        [
         "DLR0095",
         "Isuzu Motors",
         251
        ],
        [
         "DLR0123",
         "Mazzanti Motors",
         252
        ],
        [
         "DLR0036",
         "Chrysler Europe Motors",
         253
        ],
        [
         "DLR0149",
         "Panoz Motors",
         254
        ],
        [
         "DLR0145",
         "Opel Motors",
         255
        ],
        [
         "DLR0105",
         "Lamborghini Motors",
         256
        ],
        [
         "DLR0097",
         "Jaguar Motors",
         257
        ],
        [
         "DLR0196",
         "Toyota Motors",
         258
        ],
        [
         "DLR0024",
         "British Leyland Motors",
         259
        ],
        [
         "DLR0241",
         "Colman Automotive Building",
         260
        ],
        [
         "DLR0012",
         "Asia Motors Motors",
         261
        ],
        [
         "DLR0122",
         "Mazda Motors",
         262
        ],
        [
         "DLR0060",
         "Fisker, Karma Motors",
         263
        ],
        [
         "DLR0106",
         "Lancia Motors",
         264
        ],
        [
         "DLR0158",
         "Pontiac, Asüna Motors",
         265
        ],
        [
         "DLR0015",
         "Autobianchi Motors",
         266
        ],
        [
         "DLR0081",
         "Holden Motors",
         267
        ]
       ],
       "datasetInfos": [],
       "dbfsResultPath": null,
       "isJsonSchema": true,
       "metadata": {},
       "overflow": false,
       "plotOptions": {
        "customPlotOptions": {},
        "displayType": "table",
        "pivotAggregation": null,
        "pivotColumns": null,
        "xColumns": null,
        "yColumns": null
       },
       "removedWidgets": [],
       "schema": [
        {
         "metadata": "{}",
         "name": "Dealer_ID",
         "type": "\"string\""
        },
        {
         "metadata": "{}",
         "name": "DealerName",
         "type": "\"string\""
        },
        {
         "metadata": "{}",
         "name": "dim_dealer_key",
         "type": "\"long\""
        }
       ],
       "type": "table"
      }
     },
     "output_type": "display_data"
    }
   ],
   "source": [
    "df_filter_old.display()"
   ]
  },
  {
   "cell_type": "markdown",
   "metadata": {
    "application/vnd.databricks.v1+cell": {
     "cellMetadata": {
      "byteLimit": 2048000,
      "rowLimit": 10000
     },
     "inputWidgets": {},
     "nuid": "dcc281a8-0bee-46c2-a11a-21d773b51368",
     "showTitle": false,
     "tableResultSettingsMap": {},
     "title": ""
    }
   },
   "source": [
    "### df_filter_new"
   ]
  },
  {
   "cell_type": "code",
   "execution_count": 0,
   "metadata": {
    "application/vnd.databricks.v1+cell": {
     "cellMetadata": {
      "byteLimit": 2048000,
      "rowLimit": 10000
     },
     "inputWidgets": {},
     "nuid": "f736ab0d-6dc9-4a5b-b9da-3e4ce5fee40c",
     "showTitle": false,
     "tableResultSettingsMap": {},
     "title": ""
    }
   },
   "outputs": [],
   "source": [
    "df_filter_new = df_filter.filter(col('dim_dealer_key').isNull()).select(df_filter['Dealer_ID'],df_filter['DealerName'])"
   ]
  },
  {
   "cell_type": "code",
   "execution_count": 0,
   "metadata": {
    "application/vnd.databricks.v1+cell": {
     "cellMetadata": {
      "byteLimit": 2048000,
      "rowLimit": 10000
     },
     "inputWidgets": {},
     "nuid": "63f681bf-d536-4723-9037-712a64a24443",
     "showTitle": false,
     "tableResultSettingsMap": {},
     "title": ""
    }
   },
   "outputs": [
    {
     "output_type": "display_data",
     "data": {
      "text/html": [
       "<style scoped>\n",
       "  .table-result-container {\n",
       "    max-height: 300px;\n",
       "    overflow: auto;\n",
       "  }\n",
       "  table, th, td {\n",
       "    border: 1px solid black;\n",
       "    border-collapse: collapse;\n",
       "  }\n",
       "  th, td {\n",
       "    padding: 5px;\n",
       "  }\n",
       "  th {\n",
       "    text-align: left;\n",
       "  }\n",
       "</style><div class='table-result-container'><table class='table-result'><thead style='background-color: white'><tr><th>Dealer_ID</th><th>DealerName</th></tr></thead><tbody><tr><td>XYZ0063</td><td>Datafam Dealers</td></tr><tr><td>XYZ0059</td><td>AI Powered Autos</td></tr></tbody></table></div>"
      ]
     },
     "metadata": {
      "application/vnd.databricks.v1+output": {
       "addedWidgets": {},
       "aggData": [],
       "aggError": "",
       "aggOverflow": false,
       "aggSchema": [],
       "aggSeriesLimitReached": false,
       "aggType": "",
       "arguments": {},
       "columnCustomDisplayInfos": {},
       "data": [
        [
         "XYZ0063",
         "Datafam Dealers"
        ],
        [
         "XYZ0059",
         "AI Powered Autos"
        ]
       ],
       "datasetInfos": [],
       "dbfsResultPath": null,
       "isJsonSchema": true,
       "metadata": {},
       "overflow": false,
       "plotOptions": {
        "customPlotOptions": {},
        "displayType": "table",
        "pivotAggregation": null,
        "pivotColumns": null,
        "xColumns": null,
        "yColumns": null
       },
       "removedWidgets": [],
       "schema": [
        {
         "metadata": "{}",
         "name": "Dealer_ID",
         "type": "\"string\""
        },
        {
         "metadata": "{}",
         "name": "DealerName",
         "type": "\"string\""
        }
       ],
       "type": "table"
      }
     },
     "output_type": "display_data"
    }
   ],
   "source": [
    "df_filter_new.display()"
   ]
  },
  {
   "cell_type": "markdown",
   "metadata": {
    "application/vnd.databricks.v1+cell": {
     "cellMetadata": {
      "byteLimit": 2048000,
      "rowLimit": 10000
     },
     "inputWidgets": {},
     "nuid": "33deb4c0-34fe-4900-8141-9f28086d9119",
     "showTitle": false,
     "tableResultSettingsMap": {},
     "title": ""
    }
   },
   "source": [
    "# Create Surrogate Key"
   ]
  },
  {
   "cell_type": "markdown",
   "metadata": {
    "application/vnd.databricks.v1+cell": {
     "cellMetadata": {
      "byteLimit": 2048000,
      "rowLimit": 10000
     },
     "inputWidgets": {},
     "nuid": "42d3d38e-b4ff-4582-bbd2-89ac91749b16",
     "showTitle": false,
     "tableResultSettingsMap": {},
     "title": ""
    }
   },
   "source": [
    "**Fetch the max Surrogate Key from existing table**"
   ]
  },
  {
   "cell_type": "code",
   "execution_count": 0,
   "metadata": {
    "application/vnd.databricks.v1+cell": {
     "cellMetadata": {
      "byteLimit": 2048000,
      "rowLimit": 10000
     },
     "inputWidgets": {},
     "nuid": "d09488d0-fbdd-48c8-97ea-b86f8520a860",
     "showTitle": false,
     "tableResultSettingsMap": {},
     "title": ""
    }
   },
   "outputs": [],
   "source": [
    "if (Incremental_flag == '0'):\n",
    "    max_value = 1\n",
    "else:\n",
    "    max_value_df = spark.sql(\"SELECT max(dim_dealer_key) FROM cars_catalog.gold.dim_dealer\")\n",
    "    max_value = max_value_df.collect()[0][0]+1"
   ]
  },
  {
   "cell_type": "markdown",
   "metadata": {
    "application/vnd.databricks.v1+cell": {
     "cellMetadata": {
      "byteLimit": 2048000,
      "rowLimit": 10000
     },
     "inputWidgets": {},
     "nuid": "6c9d4460-41be-486c-8e42-49601d062cc8",
     "showTitle": false,
     "tableResultSettingsMap": {},
     "title": ""
    }
   },
   "source": [
    "**Create surrogate key column ADD the max surrogate key**"
   ]
  },
  {
   "cell_type": "code",
   "execution_count": 0,
   "metadata": {
    "application/vnd.databricks.v1+cell": {
     "cellMetadata": {
      "byteLimit": 2048000,
      "rowLimit": 10000
     },
     "inputWidgets": {},
     "nuid": "e1ed86dc-8e5f-4c5d-911d-d6a3c05c99b2",
     "showTitle": false,
     "tableResultSettingsMap": {},
     "title": ""
    }
   },
   "outputs": [],
   "source": [
    "df_filter_new = df_filter_new.withColumn('dim_dealer_key', max_value + monotonically_increasing_id())"
   ]
  },
  {
   "cell_type": "code",
   "execution_count": 0,
   "metadata": {
    "application/vnd.databricks.v1+cell": {
     "cellMetadata": {
      "byteLimit": 2048000,
      "rowLimit": 10000
     },
     "inputWidgets": {},
     "nuid": "a2bf6a37-9473-4b15-a0fb-13af60829e37",
     "showTitle": false,
     "tableResultSettingsMap": {},
     "title": ""
    }
   },
   "outputs": [
    {
     "output_type": "display_data",
     "data": {
      "text/html": [
       "<style scoped>\n",
       "  .table-result-container {\n",
       "    max-height: 300px;\n",
       "    overflow: auto;\n",
       "  }\n",
       "  table, th, td {\n",
       "    border: 1px solid black;\n",
       "    border-collapse: collapse;\n",
       "  }\n",
       "  th, td {\n",
       "    padding: 5px;\n",
       "  }\n",
       "  th {\n",
       "    text-align: left;\n",
       "  }\n",
       "</style><div class='table-result-container'><table class='table-result'><thead style='background-color: white'><tr><th>Dealer_ID</th><th>DealerName</th><th>dim_dealer_key</th></tr></thead><tbody><tr><td>XYZ0063</td><td>Datafam Dealers</td><td>1</td></tr><tr><td>XYZ0059</td><td>AI Powered Autos</td><td>2</td></tr></tbody></table></div>"
      ]
     },
     "metadata": {
      "application/vnd.databricks.v1+output": {
       "addedWidgets": {},
       "aggData": [],
       "aggError": "",
       "aggOverflow": false,
       "aggSchema": [],
       "aggSeriesLimitReached": false,
       "aggType": "",
       "arguments": {},
       "columnCustomDisplayInfos": {},
       "data": [
        [
         "XYZ0063",
         "Datafam Dealers",
         1
        ],
        [
         "XYZ0059",
         "AI Powered Autos",
         2
        ]
       ],
       "datasetInfos": [],
       "dbfsResultPath": null,
       "isJsonSchema": true,
       "metadata": {},
       "overflow": false,
       "plotOptions": {
        "customPlotOptions": {},
        "displayType": "table",
        "pivotAggregation": null,
        "pivotColumns": null,
        "xColumns": null,
        "yColumns": null
       },
       "removedWidgets": [],
       "schema": [
        {
         "metadata": "{}",
         "name": "Dealer_ID",
         "type": "\"string\""
        },
        {
         "metadata": "{}",
         "name": "DealerName",
         "type": "\"string\""
        },
        {
         "metadata": "{}",
         "name": "dim_dealer_key",
         "type": "\"long\""
        }
       ],
       "type": "table"
      }
     },
     "output_type": "display_data"
    }
   ],
   "source": [
    "df_filter_new.display()"
   ]
  },
  {
   "cell_type": "markdown",
   "metadata": {
    "application/vnd.databricks.v1+cell": {
     "cellMetadata": {
      "byteLimit": 2048000,
      "rowLimit": 10000
     },
     "inputWidgets": {},
     "nuid": "48e413cd-4c7b-4bf3-8df7-2424c5781c89",
     "showTitle": false,
     "tableResultSettingsMap": {},
     "title": ""
    }
   },
   "source": [
    "### Create Final DF - df_filter_old + df_filter_new"
   ]
  },
  {
   "cell_type": "code",
   "execution_count": 0,
   "metadata": {
    "application/vnd.databricks.v1+cell": {
     "cellMetadata": {
      "byteLimit": 2048000,
      "rowLimit": 10000
     },
     "inputWidgets": {},
     "nuid": "5675fd32-f60c-4e20-b356-d7eb89978367",
     "showTitle": false,
     "tableResultSettingsMap": {},
     "title": ""
    }
   },
   "outputs": [
    {
     "output_type": "display_data",
     "data": {
      "text/html": [
       "<style scoped>\n",
       "  .table-result-container {\n",
       "    max-height: 300px;\n",
       "    overflow: auto;\n",
       "  }\n",
       "  table, th, td {\n",
       "    border: 1px solid black;\n",
       "    border-collapse: collapse;\n",
       "  }\n",
       "  th, td {\n",
       "    padding: 5px;\n",
       "  }\n",
       "  th {\n",
       "    text-align: left;\n",
       "  }\n",
       "</style><div class='table-result-container'><table class='table-result'><thead style='background-color: white'><tr><th>Dealer_ID</th><th>DealerName</th><th>dim_dealer_key</th></tr></thead><tbody><tr><td>XYZ0063</td><td>Datafam Dealers</td><td>1</td></tr><tr><td>XYZ0059</td><td>AI Powered Autos</td><td>2</td></tr><tr><td>DLR0058</td><td>Fiat do Brasil Motors</td><td>1</td></tr><tr><td>DLR0107</td><td>Land Rover Motors</td><td>2</td></tr><tr><td>DLR0129</td><td>Mia Motors</td><td>3</td></tr><tr><td>DLR0111</td><td>Lotus Motors</td><td>4</td></tr><tr><td>DLR0085</td><td>Humber Motors</td><td>5</td></tr><tr><td>DLR0001</td><td>AC Cars Motors</td><td>6</td></tr><tr><td>DLR0218</td><td>Lagonda  Motors</td><td>7</td></tr><tr><td>DLR0082</td><td>Honda Motors</td><td>8</td></tr><tr><td>DLR0063</td><td>Ford do Brasil Motors</td><td>9</td></tr><tr><td>DLR0193</td><td>Tazzari Motors</td><td>10</td></tr><tr><td>DLR0134</td><td>Monteverdi Motors</td><td>11</td></tr><tr><td>DLR0199</td><td>TVR Motors</td><td>12</td></tr><tr><td>DLR0254</td><td>AMC, Eagle Motors</td><td>13</td></tr><tr><td>DLR0094</td><td>Isotta Fraschini Motors</td><td>14</td></tr><tr><td>DLR0236</td><td>Cadillac Automobile Company Building</td><td>15</td></tr><tr><td>DLR0201</td><td>Vauxhall Motors</td><td>16</td></tr><tr><td>DLR0175</td><td>Saturn Motors</td><td>17</td></tr><tr><td>DLR0226</td><td>Das Motors</td><td>18</td></tr><tr><td>DLR0207</td><td>Westfield Motors</td><td>19</td></tr><tr><td>DLR0035</td><td>Chrysler Motors</td><td>20</td></tr><tr><td>DLR0151</td><td>Peel Motors</td><td>21</td></tr><tr><td>DLR0156</td><td>Plymouth Motors</td><td>22</td></tr><tr><td>DLR0216</td><td>Maybach  Motors</td><td>23</td></tr><tr><td>DLR0259</td><td>Asia Motors Motors</td><td>24</td></tr><tr><td>DLR0037</td><td>Citroën Motors</td><td>25</td></tr><tr><td>DLR0074</td><td>GTA Spano Motors</td><td>26</td></tr><tr><td>DLR0150</td><td>Panther Motors</td><td>27</td></tr><tr><td>DLR0135</td><td>Morgan Motors</td><td>28</td></tr><tr><td>DLR0073</td><td>GMC Motors</td><td>29</td></tr><tr><td>DLR0260</td><td>Aston Martin Motors</td><td>30</td></tr><tr><td>DLR0153</td><td>Peugeot Motors</td><td>31</td></tr><tr><td>DLR0124</td><td>McLaren Motors</td><td>32</td></tr><tr><td>DLR0121</td><td>Matra (including Deutsch-Bonnet, René Bonnet) Motors</td><td>33</td></tr><tr><td>DLR0211</td><td>ZIL Motors</td><td>34</td></tr><tr><td>DLR0066</td><td>Freightliner Motors</td><td>35</td></tr><tr><td>DLR0110</td><td>Lincoln Motors</td><td>36</td></tr><tr><td>DLR0143</td><td>Oldsmobile Motors</td><td>37</td></tr><tr><td>DLR0167</td><td>Rolls-Royce Motors</td><td>38</td></tr><tr><td>DLR0048</td><td>De Tomaso Motors</td><td>39</td></tr><tr><td>DLR0008</td><td>Anadol Motors</td><td>40</td></tr><tr><td>DLR0128</td><td>Messerschmitt Motors</td><td>41</td></tr><tr><td>DLR0177</td><td>Seat Motors</td><td>42</td></tr><tr><td>DLR0181</td><td>Singer Motors</td><td>43</td></tr><tr><td>DLR0079</td><td>Hillman Motors</td><td>44</td></tr><tr><td>DLR0072</td><td>Glas Motors</td><td>45</td></tr><tr><td>DLR0248</td><td>AC Cars Motors</td><td>46</td></tr><tr><td>DLR0052</td><td>e.GO Mobile Motors</td><td>47</td></tr><tr><td>DLR0197</td><td>Toyota India Motors</td><td>48</td></tr><tr><td>DLR0080</td><td>Hindustan Motors</td><td>49</td></tr><tr><td>DLR0164</td><td>Reliant Motors</td><td>50</td></tr><tr><td>DLR0029</td><td>Bytom Motors</td><td>51</td></tr><tr><td>DLR0195</td><td>Tornado Motors</td><td>52</td></tr><tr><td>DLR0005</td><td>Alpine Motors</td><td>53</td></tr><tr><td>DLR0007</td><td>AMC, Eagle Motors</td><td>54</td></tr><tr><td>DLR0078</td><td>Hennessey Motors</td><td>55</td></tr><tr><td>DLR0247</td><td>Kindel Building</td><td>56</td></tr><tr><td>DLR0065</td><td>Ford India Motors</td><td>57</td></tr><tr><td>DLR0174</td><td>Santana Motors</td><td>58</td></tr><tr><td>DLR0022</td><td>Borgward (including Goliath and Lloyd) Motors</td><td>59</td></tr><tr><td>DLR0116</td><td>Marcos Motors</td><td>60</td></tr><tr><td>DLR0257</td><td>ARO Motors</td><td>61</td></tr><tr><td>DLR0172</td><td>San Motors</td><td>62</td></tr><tr><td>DLR0061</td><td>Ford America Motors</td><td>63</td></tr><tr><td>DLR0240</td><td>Clemens Automobile Company Building</td><td>64</td></tr><tr><td>DLR0103</td><td>KTM Motors</td><td>65</td></tr><tr><td>DLR0096</td><td>Iveco Motors</td><td>66</td></tr><tr><td>DLR0198</td><td>Turner Motors</td><td>67</td></tr><tr><td>DLR0137</td><td>Nash Motors</td><td>68</td></tr><tr><td>DLR0202</td><td>Venturi Motors</td><td>69</td></tr><tr><td>DLR0125</td><td>Mercedes-Benz (including Maybach) Motors</td><td>70</td></tr><tr><td>DLR0089</td><td>Infiniti Motors</td><td>71</td></tr><tr><td>DLR0266</td><td>Bitter Motors</td><td>72</td></tr><tr><td>DLR0148</td><td>Panhard Motors</td><td>73</td></tr><tr><td>DLR0142</td><td>NSU Motors</td><td>74</td></tr><tr><td>DLR0227</td><td>Ramani Motors</td><td>75</td></tr><tr><td>DLR0206</td><td>Volvo Motors</td><td>76</td></tr><tr><td>DLR0179</td><td>Simca Motors</td><td>77</td></tr><tr><td>DLR0059</td><td>Fiat India Motors</td><td>78</td></tr><tr><td>DLR0092</td><td>Isdera Motors</td><td>79</td></tr><tr><td>DLR0018</td><td>Bentley Motors</td><td>80</td></tr><tr><td>DLR0115</td><td>Mahindra Motors</td><td>81</td></tr><tr><td>DLR0169</td><td>SAIC Motor Motors</td><td>82</td></tr><tr><td>DLR0212</td><td>null</td><td>83</td></tr><tr><td>DLR0192</td><td>Tatra Motors</td><td>84</td></tr><tr><td>DLR0186</td><td>Standard-Triumph Motors</td><td>85</td></tr><tr><td>DLR0021</td><td>Bond Motors</td><td>86</td></tr><tr><td>DLR0147</td><td>Pagani Motors</td><td>87</td></tr><tr><td>DLR0098</td><td>Jeep Motors</td><td>88</td></tr><tr><td>DLR0209</td><td>Zastava Motors</td><td>89</td></tr><tr><td>DLR0166</td><td>Rivian Motors</td><td>90</td></tr><tr><td>DLR0250</td><td>Aixam-Mega (including Arola) Motors</td><td>91</td></tr><tr><td>DLR0220</td><td>Morris  Motors</td><td>92</td></tr><tr><td>DLR0183</td><td>Smart Motors</td><td>93</td></tr><tr><td>DLR0102</td><td>Koenigsegg Motors</td><td>94</td></tr><tr><td>DLR0188</td><td>Subaru Motors</td><td>95</td></tr><tr><td>DLR0155</td><td>Piaggio Motors</td><td>96</td></tr><tr><td>DLR0050</td><td>Donkervoort Motors</td><td>97</td></tr><tr><td>DLR0252</td><td>Alpine Motors</td><td>98</td></tr><tr><td>DLR0184</td><td>Spyker Motors</td><td>99</td></tr><tr><td>DLR0267</td><td>BMW Motors</td><td>100</td></tr><tr><td>DLR0091</td><td>Invicta Motors</td><td>101</td></tr><tr><td>DLR0262</td><td>Autobianchi Motors</td><td>102</td></tr><tr><td>DLR0249</td><td>Acura Motors</td><td>103</td></tr><tr><td>DLR0208</td><td>Wiesmann Motors</td><td>104</td></tr><tr><td>DLR0114</td><td>Lynx Motors</td><td>105</td></tr><tr><td>DLR0204</td><td>Volkswagen do Brasil Motors</td><td>106</td></tr><tr><td>DLR0200</td><td>UAZ Motors</td><td>107</td></tr><tr><td>DLR0163</td><td>Ranger Motors</td><td>108</td></tr><tr><td>DLR0223</td><td>Wolseley  Motors</td><td>109</td></tr><tr><td>DLR0044</td><td>null</td><td>110</td></tr><tr><td>DLR0231</td><td>Atlantic Motor Company</td><td>111</td></tr><tr><td>DLR0034</td><td>Chevrolet India Motors</td><td>112</td></tr><tr><td>DLR0126</td><td>Mercury Motors</td><td>113</td></tr><tr><td>DLR0046</td><td>DeLorean Motors</td><td>114</td></tr><tr><td>DLR0130</td><td>Micro Motors</td><td>115</td></tr><tr><td>DLR0210</td><td>ZAZ Motors</td><td>116</td></tr><tr><td>DLR0136</td><td>Moskwitch Motors</td><td>117</td></tr><tr><td>DLR0222</td><td>Riley  Motors</td><td>118</td></tr><tr><td>DLR0017</td><td>Auverland Motors</td><td>119</td></tr><tr><td>DLR0182</td><td>Skoda Motors</td><td>120</td></tr><tr><td>DLR0152</td><td>Perodua Motors</td><td>121</td></tr><tr><td>DLR0071</td><td>Ginetta Motors</td><td>122</td></tr><tr><td>DLR0161</td><td>Proton Motors</td><td>123</td></tr><tr><td>DLR0246</td><td>Jones Motor Company</td><td>124</td></tr><tr><td>DLR0020</td><td>BMW Motors</td><td>125</td></tr><tr><td>DLR0076</td><td>Healey Motors</td><td>126</td></tr><tr><td>DLR0237</td><td>Casa de cadillac</td><td>127</td></tr><tr><td>DLR0131</td><td>Mini Motors</td><td>128</td></tr><tr><td>DLR0112</td><td>LTI Motors</td><td>129</td></tr><tr><td>DLR0213</td><td>DKW Motors</td><td>130</td></tr><tr><td>DLR0040</td><td>Daewoo, Saehan, Chevrolet Korea Motors</td><td>131</td></tr><tr><td>DLR0187</td><td>Studebaker Motors</td><td>132</td></tr><tr><td>DLR0251</td><td>Alfa Romeo Motors</td><td>133</td></tr><tr><td>DLR0154</td><td>PGO Motors</td><td>134</td></tr><tr><td>DLR0119</td><td>Maserati Motors</td><td>135</td></tr><tr><td>DLR0013</td><td>Aston Martin Motors</td><td>136</td></tr><tr><td>DLR0087</td><td>Hyundai Motors</td><td>137</td></tr><tr><td>DLR0056</td><td>Ferrari Motors</td><td>138</td></tr><tr><td>DLR0033</td><td>Chevrolet Motors</td><td>139</td></tr><tr><td>DLR0042</td><td>Daihatsu Motors</td><td>140</td></tr><tr><td>DLR0229</td><td>Herald Motors</td><td>141</td></tr><tr><td>DLR0070</td><td>Gilbern Motors</td><td>142</td></tr><tr><td>DLR0191</td><td>Tata Motors</td><td>143</td></tr><tr><td>DLR0203</td><td>Volkswagen Motors</td><td>144</td></tr><tr><td>DLR0100</td><td>JPX Motors</td><td>145</td></tr><tr><td>DLR0047</td><td>DeSoto Motors</td><td>146</td></tr><tr><td>DLR0214</td><td>Horch Motors</td><td>147</td></tr><tr><td>DLR0171</td><td>Samsung Motors</td><td>148</td></tr><tr><td>DLR0045</td><td>Delahaye Motors</td><td>149</td></tr><tr><td>DLR0264</td><td>Auverland Motors</td><td>150</td></tr><tr><td>DLR0162</td><td>Puma Motors</td><td>151</td></tr><tr><td>DLR0159</td><td>Porsche Motors</td><td>152</td></tr><tr><td>DLR0146</td><td>Packard Motors</td><td>153</td></tr><tr><td>DLR0261</td><td>Audi Motors</td><td>154</td></tr><tr><td>DLR0032</td><td>Checker Motors</td><td>155</td></tr><tr><td>DLR0009</td><td>Ariel Motors</td><td>156</td></tr><tr><td>DLR0225</td><td>Talbot  Motors</td><td>157</td></tr><tr><td>DLR0221</td><td>Austin  Motors</td><td>158</td></tr><tr><td>DLR0075</td><td>Gumpert Motors</td><td>159</td></tr><tr><td>DLR0069</td><td>Geo Motors</td><td>160</td></tr><tr><td>DLR0104</td><td>Lada Motors</td><td>161</td></tr><tr><td>DLR0039</td><td>Dacia Motors</td><td>162</td></tr><tr><td>DLR0245</td><td>Jennings Ford Automobile Dealership</td><td>163</td></tr><tr><td>DLR0238</td><td>Cass Motor Sales</td><td>164</td></tr><tr><td>DLR0064</td><td>Ford Europe Motors</td><td>165</td></tr><tr><td>DLR0109</td><td>Ligier Motors</td><td>166</td></tr><tr><td>DLR0144</td><td>null</td><td>167</td></tr><tr><td>DLR0176</td><td>Scion Motors</td><td>168</td></tr><tr><td>DLR0255</td><td>Anadol Motors</td><td>169</td></tr><tr><td>DLR0138</td><td>Naza Motors</td><td>170</td></tr><tr><td>DLR0003</td><td>Aixam-Mega (including Arola) Motors</td><td>171</td></tr><tr><td>DLR0265</td><td>Bentley Motors</td><td>172</td></tr><tr><td>DLR0217</td><td>Izh  Motors</td><td>173</td></tr><tr><td>DLR0185</td><td>SsangYong Motors</td><td>174</td></tr><tr><td>DLR0019</td><td>Bitter Motors</td><td>175</td></tr><tr><td>DLR0165</td><td>Renault Motors</td><td>176</td></tr><tr><td>DLR0108</td><td>Lexus Motors</td><td>177</td></tr><tr><td>DLR0117</td><td>Marlin Motors</td><td>178</td></tr><tr><td>DLR0118</td><td>Maruti Motors</td><td>179</td></tr><tr><td>DLR0027</td><td>Bugatti Motors</td><td>180</td></tr><tr><td>DLR0139</td><td>Nissan Motors</td><td>181</td></tr><tr><td>DLR0088</td><td>IFA (including Trabant, Wartburg, Barkas) Motors</td><td>182</td></tr><tr><td>DLR0051</td><td>Edsel Motors</td><td>183</td></tr><tr><td>DLR0010</td><td>ARO Motors</td><td>184</td></tr><tr><td>DLR0006</td><td>Alvis Motors</td><td>185</td></tr><tr><td>DLR0180</td><td>Simca do Brasil Motors</td><td>186</td></tr><tr><td>DLR0253</td><td>Alvis Motors</td><td>187</td></tr><tr><td>DLR0230</td><td>Zion Automobils</td><td>188</td></tr><tr><td>DLR0190</td><td>Suzuki Motors</td><td>189</td></tr><tr><td>DLR0232</td><td>2008 NRHP-listed</td><td>190</td></tr><tr><td>DLR0030</td><td>Cadillac Motors</td><td>191</td></tr><tr><td>DLR0215</td><td>Wanderer Motors</td><td>192</td></tr><tr><td>DLR0016</td><td>Auto-Union Motors</td><td>193</td></tr><tr><td>DLR0160</td><td>Premier Motors</td><td>194</td></tr><tr><td>DLR0025</td><td>Austin-Healey Motors</td><td>195</td></tr><tr><td>DLR0239</td><td>Claremore Auto Dealership</td><td>196</td></tr><tr><td>DLR0228</td><td>Deccan Motors</td><td>197</td></tr><tr><td>DLR0189</td><td>Sunbeam Motors</td><td>198</td></tr><tr><td>DLR0263</td><td>Auto-Union Motors</td><td>199</td></tr><tr><td>DLR0132</td><td>Mitsubishi Motors</td><td>200</td></tr><tr><td>DLR0244</td><td>Hupmobile Building</td><td>201</td></tr><tr><td>DLR0068</td><td>GAZ Motors</td><td>202</td></tr><tr><td>DLR0053</td><td>Eicher Polaris Motors</td><td>203</td></tr><tr><td>DLR0002</td><td>Acura Motors</td><td>204</td></tr><tr><td>DLR0194</td><td>Tesla Motors</td><td>205</td></tr><tr><td>DLR0233</td><td>Blankinship Motor Company Building</td><td>206</td></tr><tr><td>DLR0014</td><td>Audi Motors</td><td>207</td></tr><tr><td>DLR0093</td><td>Iso Motors</td><td>208</td></tr><tr><td>DLR0205</td><td>Volkswagen South Africa Motors</td><td>209</td></tr><tr><td>DLR0141</td><td>Noble Motors</td><td>210</td></tr><tr><td>DLR0140</td><td>Nissan India Motors</td><td>211</td></tr><tr><td>DLR0101</td><td>Kia Motors</td><td>212</td></tr><tr><td>DLR0234</td><td>Bohn Motor Company Automobile Dealership</td><td>213</td></tr><tr><td>DLR0235</td><td>Buick Automobile Company Building</td><td>214</td></tr><tr><td>DLR0256</td><td>Ariel Motors</td><td>215</td></tr><tr><td>DLR0004</td><td>Alfa Romeo Motors</td><td>216</td></tr><tr><td>DLR0084</td><td>Hudson Motors</td><td>217</td></tr><tr><td>DLR0133</td><td>Monica Motors</td><td>218</td></tr><tr><td>DLR0062</td><td>Ford Australia Motors</td><td>219</td></tr><tr><td>DLR0038</td><td>Cizeta-Moroder Motors</td><td>220</td></tr><tr><td>DLR0049</td><td>Dodge Motors</td><td>221</td></tr><tr><td>DLR0055</td><td>Facel Vega Motors</td><td>222</td></tr><tr><td>DLR0170</td><td>Saleen Motors</td><td>223</td></tr><tr><td>DLR0242</td><td>H Street Playhouse</td><td>224</td></tr><tr><td>DLR0243</td><td>Howard Motor Company Building</td><td>225</td></tr><tr><td>DLR0224</td><td>Standard  Motors</td><td>226</td></tr><tr><td>DLR0077</td><td>Heinkel Motors</td><td>227</td></tr><tr><td>DLR0031</td><td>Caterham Motors</td><td>228</td></tr><tr><td>DLR0127</td><td>Merkur Motors</td><td>229</td></tr><tr><td>DLR0043</td><td>Daimler Motors</td><td>230</td></tr><tr><td>DLR0168</td><td>Saab Motors</td><td>231</td></tr><tr><td>DLR0083</td><td>Honda India Motors</td><td>232</td></tr><tr><td>DLR0099</td><td>Jensen Motors</td><td>233</td></tr><tr><td>DLR0090</td><td>null</td><td>234</td></tr><tr><td>DLR0173</td><td>Santa Matilde Motors</td><td>235</td></tr><tr><td>DLR0067</td><td>FSO Motors</td><td>236</td></tr><tr><td>DLR0113</td><td>LuAZ Motors</td><td>237</td></tr><tr><td>DLR0011</td><td>Artega Motors</td><td>238</td></tr><tr><td>DLR0157</td><td>Polestar Motors</td><td>239</td></tr><tr><td>DLR0258</td><td>null</td><td>240</td></tr><tr><td>DLR0086</td><td>Hummer Motors</td><td>241</td></tr><tr><td>DLR0054</td><td>Elva Motors</td><td>242</td></tr><tr><td>DLR0178</td><td>Shelby SuperCars Motors</td><td>243</td></tr><tr><td>DLR0023</td><td>Bristol Motors</td><td>244</td></tr><tr><td>DLR0026</td><td>Austin, Rover Motors</td><td>245</td></tr><tr><td>DLR0219</td><td>MG  Motors</td><td>246</td></tr><tr><td>DLR0120</td><td>Mastretta Motors</td><td>247</td></tr><tr><td>DLR0028</td><td>Buick Motors</td><td>248</td></tr><tr><td>DLR0057</td><td>Fiat Motors</td><td>249</td></tr><tr><td>DLR0041</td><td>DAF Motors</td><td>250</td></tr><tr><td>DLR0095</td><td>Isuzu Motors</td><td>251</td></tr><tr><td>DLR0123</td><td>Mazzanti Motors</td><td>252</td></tr><tr><td>DLR0036</td><td>Chrysler Europe Motors</td><td>253</td></tr><tr><td>DLR0149</td><td>Panoz Motors</td><td>254</td></tr><tr><td>DLR0145</td><td>Opel Motors</td><td>255</td></tr><tr><td>DLR0105</td><td>Lamborghini Motors</td><td>256</td></tr><tr><td>DLR0097</td><td>Jaguar Motors</td><td>257</td></tr><tr><td>DLR0196</td><td>Toyota Motors</td><td>258</td></tr><tr><td>DLR0024</td><td>British Leyland Motors</td><td>259</td></tr><tr><td>DLR0241</td><td>Colman Automotive Building</td><td>260</td></tr><tr><td>DLR0012</td><td>Asia Motors Motors</td><td>261</td></tr><tr><td>DLR0122</td><td>Mazda Motors</td><td>262</td></tr><tr><td>DLR0060</td><td>Fisker, Karma Motors</td><td>263</td></tr><tr><td>DLR0106</td><td>Lancia Motors</td><td>264</td></tr><tr><td>DLR0158</td><td>Pontiac, Asüna Motors</td><td>265</td></tr><tr><td>DLR0015</td><td>Autobianchi Motors</td><td>266</td></tr><tr><td>DLR0081</td><td>Holden Motors</td><td>267</td></tr><tr><td>DLR0070</td><td>Mahindra & Mahindra</td><td>142</td></tr><tr><td>DLR0072</td><td>Tata Dealerships</td><td>45</td></tr></tbody></table></div>"
      ]
     },
     "metadata": {
      "application/vnd.databricks.v1+output": {
       "addedWidgets": {},
       "aggData": [],
       "aggError": "",
       "aggOverflow": false,
       "aggSchema": [],
       "aggSeriesLimitReached": false,
       "aggType": "",
       "arguments": {},
       "columnCustomDisplayInfos": {},
       "data": [
        [
         "XYZ0063",
         "Datafam Dealers",
         1
        ],
        [
         "XYZ0059",
         "AI Powered Autos",
         2
        ],
        [
         "DLR0058",
         "Fiat do Brasil Motors",
         1
        ],
        [
         "DLR0107",
         "Land Rover Motors",
         2
        ],
        [
         "DLR0129",
         "Mia Motors",
         3
        ],
        [
         "DLR0111",
         "Lotus Motors",
         4
        ],
        [
         "DLR0085",
         "Humber Motors",
         5
        ],
        [
         "DLR0001",
         "AC Cars Motors",
         6
        ],
        [
         "DLR0218",
         "Lagonda  Motors",
         7
        ],
        [
         "DLR0082",
         "Honda Motors",
         8
        ],
        [
         "DLR0063",
         "Ford do Brasil Motors",
         9
        ],
        [
         "DLR0193",
         "Tazzari Motors",
         10
        ],
        [
         "DLR0134",
         "Monteverdi Motors",
         11
        ],
        [
         "DLR0199",
         "TVR Motors",
         12
        ],
        [
         "DLR0254",
         "AMC, Eagle Motors",
         13
        ],
        [
         "DLR0094",
         "Isotta Fraschini Motors",
         14
        ],
        [
         "DLR0236",
         "Cadillac Automobile Company Building",
         15
        ],
        [
         "DLR0201",
         "Vauxhall Motors",
         16
        ],
        [
         "DLR0175",
         "Saturn Motors",
         17
        ],
        [
         "DLR0226",
         "Das Motors",
         18
        ],
        [
         "DLR0207",
         "Westfield Motors",
         19
        ],
        [
         "DLR0035",
         "Chrysler Motors",
         20
        ],
        [
         "DLR0151",
         "Peel Motors",
         21
        ],
        [
         "DLR0156",
         "Plymouth Motors",
         22
        ],
        [
         "DLR0216",
         "Maybach  Motors",
         23
        ],
        [
         "DLR0259",
         "Asia Motors Motors",
         24
        ],
        [
         "DLR0037",
         "Citroën Motors",
         25
        ],
        [
         "DLR0074",
         "GTA Spano Motors",
         26
        ],
        [
         "DLR0150",
         "Panther Motors",
         27
        ],
        [
         "DLR0135",
         "Morgan Motors",
         28
        ],
        [
         "DLR0073",
         "GMC Motors",
         29
        ],
        [
         "DLR0260",
         "Aston Martin Motors",
         30
        ],
        [
         "DLR0153",
         "Peugeot Motors",
         31
        ],
        [
         "DLR0124",
         "McLaren Motors",
         32
        ],
        [
         "DLR0121",
         "Matra (including Deutsch-Bonnet, René Bonnet) Motors",
         33
        ],
        [
         "DLR0211",
         "ZIL Motors",
         34
        ],
        [
         "DLR0066",
         "Freightliner Motors",
         35
        ],
        [
         "DLR0110",
         "Lincoln Motors",
         36
        ],
        [
         "DLR0143",
         "Oldsmobile Motors",
         37
        ],
        [
         "DLR0167",
         "Rolls-Royce Motors",
         38
        ],
        [
         "DLR0048",
         "De Tomaso Motors",
         39
        ],
        [
         "DLR0008",
         "Anadol Motors",
         40
        ],
        [
         "DLR0128",
         "Messerschmitt Motors",
         41
        ],
        [
         "DLR0177",
         "Seat Motors",
         42
        ],
        [
         "DLR0181",
         "Singer Motors",
         43
        ],
        [
         "DLR0079",
         "Hillman Motors",
         44
        ],
        [
         "DLR0072",
         "Glas Motors",
         45
        ],
        [
         "DLR0248",
         "AC Cars Motors",
         46
        ],
        [
         "DLR0052",
         "e.GO Mobile Motors",
         47
        ],
        [
         "DLR0197",
         "Toyota India Motors",
         48
        ],
        [
         "DLR0080",
         "Hindustan Motors",
         49
        ],
        [
         "DLR0164",
         "Reliant Motors",
         50
        ],
        [
         "DLR0029",
         "Bytom Motors",
         51
        ],
        [
         "DLR0195",
         "Tornado Motors",
         52
        ],
        [
         "DLR0005",
         "Alpine Motors",
         53
        ],
        [
         "DLR0007",
         "AMC, Eagle Motors",
         54
        ],
        [
         "DLR0078",
         "Hennessey Motors",
         55
        ],
        [
         "DLR0247",
         "Kindel Building",
         56
        ],
        [
         "DLR0065",
         "Ford India Motors",
         57
        ],
        [
         "DLR0174",
         "Santana Motors",
         58
        ],
        [
         "DLR0022",
         "Borgward (including Goliath and Lloyd) Motors",
         59
        ],
        [
         "DLR0116",
         "Marcos Motors",
         60
        ],
        [
         "DLR0257",
         "ARO Motors",
         61
        ],
        [
         "DLR0172",
         "San Motors",
         62
        ],
        [
         "DLR0061",
         "Ford America Motors",
         63
        ],
        [
         "DLR0240",
         "Clemens Automobile Company Building",
         64
        ],
        [
         "DLR0103",
         "KTM Motors",
         65
        ],
        [
         "DLR0096",
         "Iveco Motors",
         66
        ],
        [
         "DLR0198",
         "Turner Motors",
         67
        ],
        [
         "DLR0137",
         "Nash Motors",
         68
        ],
        [
         "DLR0202",
         "Venturi Motors",
         69
        ],
        [
         "DLR0125",
         "Mercedes-Benz (including Maybach) Motors",
         70
        ],
        [
         "DLR0089",
         "Infiniti Motors",
         71
        ],
        [
         "DLR0266",
         "Bitter Motors",
         72
        ],
        [
         "DLR0148",
         "Panhard Motors",
         73
        ],
        [
         "DLR0142",
         "NSU Motors",
         74
        ],
        [
         "DLR0227",
         "Ramani Motors",
         75
        ],
        [
         "DLR0206",
         "Volvo Motors",
         76
        ],
        [
         "DLR0179",
         "Simca Motors",
         77
        ],
        [
         "DLR0059",
         "Fiat India Motors",
         78
        ],
        [
         "DLR0092",
         "Isdera Motors",
         79
        ],
        [
         "DLR0018",
         "Bentley Motors",
         80
        ],
        [
         "DLR0115",
         "Mahindra Motors",
         81
        ],
        [
         "DLR0169",
         "SAIC Motor Motors",
         82
        ],
        [
         "DLR0212",
         null,
         83
        ],
        [
         "DLR0192",
         "Tatra Motors",
         84
        ],
        [
         "DLR0186",
         "Standard-Triumph Motors",
         85
        ],
        [
         "DLR0021",
         "Bond Motors",
         86
        ],
        [
         "DLR0147",
         "Pagani Motors",
         87
        ],
        [
         "DLR0098",
         "Jeep Motors",
         88
        ],
        [
         "DLR0209",
         "Zastava Motors",
         89
        ],
        [
         "DLR0166",
         "Rivian Motors",
         90
        ],
        [
         "DLR0250",
         "Aixam-Mega (including Arola) Motors",
         91
        ],
        [
         "DLR0220",
         "Morris  Motors",
         92
        ],
        [
         "DLR0183",
         "Smart Motors",
         93
        ],
        [
         "DLR0102",
         "Koenigsegg Motors",
         94
        ],
        [
         "DLR0188",
         "Subaru Motors",
         95
        ],
        [
         "DLR0155",
         "Piaggio Motors",
         96
        ],
        [
         "DLR0050",
         "Donkervoort Motors",
         97
        ],
        [
         "DLR0252",
         "Alpine Motors",
         98
        ],
        [
         "DLR0184",
         "Spyker Motors",
         99
        ],
        [
         "DLR0267",
         "BMW Motors",
         100
        ],
        [
         "DLR0091",
         "Invicta Motors",
         101
        ],
        [
         "DLR0262",
         "Autobianchi Motors",
         102
        ],
        [
         "DLR0249",
         "Acura Motors",
         103
        ],
        [
         "DLR0208",
         "Wiesmann Motors",
         104
        ],
        [
         "DLR0114",
         "Lynx Motors",
         105
        ],
        [
         "DLR0204",
         "Volkswagen do Brasil Motors",
         106
        ],
        [
         "DLR0200",
         "UAZ Motors",
         107
        ],
        [
         "DLR0163",
         "Ranger Motors",
         108
        ],
        [
         "DLR0223",
         "Wolseley  Motors",
         109
        ],
        [
         "DLR0044",
         null,
         110
        ],
        [
         "DLR0231",
         "Atlantic Motor Company",
         111
        ],
        [
         "DLR0034",
         "Chevrolet India Motors",
         112
        ],
        [
         "DLR0126",
         "Mercury Motors",
         113
        ],
        [
         "DLR0046",
         "DeLorean Motors",
         114
        ],
        [
         "DLR0130",
         "Micro Motors",
         115
        ],
        [
         "DLR0210",
         "ZAZ Motors",
         116
        ],
        [
         "DLR0136",
         "Moskwitch Motors",
         117
        ],
        [
         "DLR0222",
         "Riley  Motors",
         118
        ],
        [
         "DLR0017",
         "Auverland Motors",
         119
        ],
        [
         "DLR0182",
         "Skoda Motors",
         120
        ],
        [
         "DLR0152",
         "Perodua Motors",
         121
        ],
        [
         "DLR0071",
         "Ginetta Motors",
         122
        ],
        [
         "DLR0161",
         "Proton Motors",
         123
        ],
        [
         "DLR0246",
         "Jones Motor Company",
         124
        ],
        [
         "DLR0020",
         "BMW Motors",
         125
        ],
        [
         "DLR0076",
         "Healey Motors",
         126
        ],
        [
         "DLR0237",
         "Casa de cadillac",
         127
        ],
        [
         "DLR0131",
         "Mini Motors",
         128
        ],
        [
         "DLR0112",
         "LTI Motors",
         129
        ],
        [
         "DLR0213",
         "DKW Motors",
         130
        ],
        [
         "DLR0040",
         "Daewoo, Saehan, Chevrolet Korea Motors",
         131
        ],
        [
         "DLR0187",
         "Studebaker Motors",
         132
        ],
        [
         "DLR0251",
         "Alfa Romeo Motors",
         133
        ],
        [
         "DLR0154",
         "PGO Motors",
         134
        ],
        [
         "DLR0119",
         "Maserati Motors",
         135
        ],
        [
         "DLR0013",
         "Aston Martin Motors",
         136
        ],
        [
         "DLR0087",
         "Hyundai Motors",
         137
        ],
        [
         "DLR0056",
         "Ferrari Motors",
         138
        ],
        [
         "DLR0033",
         "Chevrolet Motors",
         139
        ],
        [
         "DLR0042",
         "Daihatsu Motors",
         140
        ],
        [
         "DLR0229",
         "Herald Motors",
         141
        ],
        [
         "DLR0070",
         "Gilbern Motors",
         142
        ],
        [
         "DLR0191",
         "Tata Motors",
         143
        ],
        [
         "DLR0203",
         "Volkswagen Motors",
         144
        ],
        [
         "DLR0100",
         "JPX Motors",
         145
        ],
        [
         "DLR0047",
         "DeSoto Motors",
         146
        ],
        [
         "DLR0214",
         "Horch Motors",
         147
        ],
        [
         "DLR0171",
         "Samsung Motors",
         148
        ],
        [
         "DLR0045",
         "Delahaye Motors",
         149
        ],
        [
         "DLR0264",
         "Auverland Motors",
         150
        ],
        [
         "DLR0162",
         "Puma Motors",
         151
        ],
        [
         "DLR0159",
         "Porsche Motors",
         152
        ],
        [
         "DLR0146",
         "Packard Motors",
         153
        ],
        [
         "DLR0261",
         "Audi Motors",
         154
        ],
        [
         "DLR0032",
         "Checker Motors",
         155
        ],
        [
         "DLR0009",
         "Ariel Motors",
         156
        ],
        [
         "DLR0225",
         "Talbot  Motors",
         157
        ],
        [
         "DLR0221",
         "Austin  Motors",
         158
        ],
        [
         "DLR0075",
         "Gumpert Motors",
         159
        ],
        [
         "DLR0069",
         "Geo Motors",
         160
        ],
        [
         "DLR0104",
         "Lada Motors",
         161
        ],
        [
         "DLR0039",
         "Dacia Motors",
         162
        ],
        [
         "DLR0245",
         "Jennings Ford Automobile Dealership",
         163
        ],
        [
         "DLR0238",
         "Cass Motor Sales",
         164
        ],
        [
         "DLR0064",
         "Ford Europe Motors",
         165
        ],
        [
         "DLR0109",
         "Ligier Motors",
         166
        ],
        [
         "DLR0144",
         null,
         167
        ],
        [
         "DLR0176",
         "Scion Motors",
         168
        ],
        [
         "DLR0255",
         "Anadol Motors",
         169
        ],
        [
         "DLR0138",
         "Naza Motors",
         170
        ],
        [
         "DLR0003",
         "Aixam-Mega (including Arola) Motors",
         171
        ],
        [
         "DLR0265",
         "Bentley Motors",
         172
        ],
        [
         "DLR0217",
         "Izh  Motors",
         173
        ],
        [
         "DLR0185",
         "SsangYong Motors",
         174
        ],
        [
         "DLR0019",
         "Bitter Motors",
         175
        ],
        [
         "DLR0165",
         "Renault Motors",
         176
        ],
        [
         "DLR0108",
         "Lexus Motors",
         177
        ],
        [
         "DLR0117",
         "Marlin Motors",
         178
        ],
        [
         "DLR0118",
         "Maruti Motors",
         179
        ],
        [
         "DLR0027",
         "Bugatti Motors",
         180
        ],
        [
         "DLR0139",
         "Nissan Motors",
         181
        ],
        [
         "DLR0088",
         "IFA (including Trabant, Wartburg, Barkas) Motors",
         182
        ],
        [
         "DLR0051",
         "Edsel Motors",
         183
        ],
        [
         "DLR0010",
         "ARO Motors",
         184
        ],
        [
         "DLR0006",
         "Alvis Motors",
         185
        ],
        [
         "DLR0180",
         "Simca do Brasil Motors",
         186
        ],
        [
         "DLR0253",
         "Alvis Motors",
         187
        ],
        [
         "DLR0230",
         "Zion Automobils",
         188
        ],
        [
         "DLR0190",
         "Suzuki Motors",
         189
        ],
        [
         "DLR0232",
         "2008 NRHP-listed",
         190
        ],
        [
         "DLR0030",
         "Cadillac Motors",
         191
        ],
        [
         "DLR0215",
         "Wanderer Motors",
         192
        ],
        [
         "DLR0016",
         "Auto-Union Motors",
         193
        ],
        [
         "DLR0160",
         "Premier Motors",
         194
        ],
        [
         "DLR0025",
         "Austin-Healey Motors",
         195
        ],
        [
         "DLR0239",
         "Claremore Auto Dealership",
         196
        ],
        [
         "DLR0228",
         "Deccan Motors",
         197
        ],
        [
         "DLR0189",
         "Sunbeam Motors",
         198
        ],
        [
         "DLR0263",
         "Auto-Union Motors",
         199
        ],
        [
         "DLR0132",
         "Mitsubishi Motors",
         200
        ],
        [
         "DLR0244",
         "Hupmobile Building",
         201
        ],
        [
         "DLR0068",
         "GAZ Motors",
         202
        ],
        [
         "DLR0053",
         "Eicher Polaris Motors",
         203
        ],
        [
         "DLR0002",
         "Acura Motors",
         204
        ],
        [
         "DLR0194",
         "Tesla Motors",
         205
        ],
        [
         "DLR0233",
         "Blankinship Motor Company Building",
         206
        ],
        [
         "DLR0014",
         "Audi Motors",
         207
        ],
        [
         "DLR0093",
         "Iso Motors",
         208
        ],
        [
         "DLR0205",
         "Volkswagen South Africa Motors",
         209
        ],
        [
         "DLR0141",
         "Noble Motors",
         210
        ],
        [
         "DLR0140",
         "Nissan India Motors",
         211
        ],
        [
         "DLR0101",
         "Kia Motors",
         212
        ],
        [
         "DLR0234",
         "Bohn Motor Company Automobile Dealership",
         213
        ],
        [
         "DLR0235",
         "Buick Automobile Company Building",
         214
        ],
        [
         "DLR0256",
         "Ariel Motors",
         215
        ],
        [
         "DLR0004",
         "Alfa Romeo Motors",
         216
        ],
        [
         "DLR0084",
         "Hudson Motors",
         217
        ],
        [
         "DLR0133",
         "Monica Motors",
         218
        ],
        [
         "DLR0062",
         "Ford Australia Motors",
         219
        ],
        [
         "DLR0038",
         "Cizeta-Moroder Motors",
         220
        ],
        [
         "DLR0049",
         "Dodge Motors",
         221
        ],
        [
         "DLR0055",
         "Facel Vega Motors",
         222
        ],
        [
         "DLR0170",
         "Saleen Motors",
         223
        ],
        [
         "DLR0242",
         "H Street Playhouse",
         224
        ],
        [
         "DLR0243",
         "Howard Motor Company Building",
         225
        ],
        [
         "DLR0224",
         "Standard  Motors",
         226
        ],
        [
         "DLR0077",
         "Heinkel Motors",
         227
        ],
        [
         "DLR0031",
         "Caterham Motors",
         228
        ],
        [
         "DLR0127",
         "Merkur Motors",
         229
        ],
        [
         "DLR0043",
         "Daimler Motors",
         230
        ],
        [
         "DLR0168",
         "Saab Motors",
         231
        ],
        [
         "DLR0083",
         "Honda India Motors",
         232
        ],
        [
         "DLR0099",
         "Jensen Motors",
         233
        ],
        [
         "DLR0090",
         null,
         234
        ],
        [
         "DLR0173",
         "Santa Matilde Motors",
         235
        ],
        [
         "DLR0067",
         "FSO Motors",
         236
        ],
        [
         "DLR0113",
         "LuAZ Motors",
         237
        ],
        [
         "DLR0011",
         "Artega Motors",
         238
        ],
        [
         "DLR0157",
         "Polestar Motors",
         239
        ],
        [
         "DLR0258",
         null,
         240
        ],
        [
         "DLR0086",
         "Hummer Motors",
         241
        ],
        [
         "DLR0054",
         "Elva Motors",
         242
        ],
        [
         "DLR0178",
         "Shelby SuperCars Motors",
         243
        ],
        [
         "DLR0023",
         "Bristol Motors",
         244
        ],
        [
         "DLR0026",
         "Austin, Rover Motors",
         245
        ],
        [
         "DLR0219",
         "MG  Motors",
         246
        ],
        [
         "DLR0120",
         "Mastretta Motors",
         247
        ],
        [
         "DLR0028",
         "Buick Motors",
         248
        ],
        [
         "DLR0057",
         "Fiat Motors",
         249
        ],
        [
         "DLR0041",
         "DAF Motors",
         250
        ],
        [
         "DLR0095",
         "Isuzu Motors",
         251
        ],
        [
         "DLR0123",
         "Mazzanti Motors",
         252
        ],
        [
         "DLR0036",
         "Chrysler Europe Motors",
         253
        ],
        [
         "DLR0149",
         "Panoz Motors",
         254
        ],
        [
         "DLR0145",
         "Opel Motors",
         255
        ],
        [
         "DLR0105",
         "Lamborghini Motors",
         256
        ],
        [
         "DLR0097",
         "Jaguar Motors",
         257
        ],
        [
         "DLR0196",
         "Toyota Motors",
         258
        ],
        [
         "DLR0024",
         "British Leyland Motors",
         259
        ],
        [
         "DLR0241",
         "Colman Automotive Building",
         260
        ],
        [
         "DLR0012",
         "Asia Motors Motors",
         261
        ],
        [
         "DLR0122",
         "Mazda Motors",
         262
        ],
        [
         "DLR0060",
         "Fisker, Karma Motors",
         263
        ],
        [
         "DLR0106",
         "Lancia Motors",
         264
        ],
        [
         "DLR0158",
         "Pontiac, Asüna Motors",
         265
        ],
        [
         "DLR0015",
         "Autobianchi Motors",
         266
        ],
        [
         "DLR0081",
         "Holden Motors",
         267
        ],
        [
         "DLR0070",
         "Mahindra & Mahindra",
         142
        ],
        [
         "DLR0072",
         "Tata Dealerships",
         45
        ]
       ],
       "datasetInfos": [],
       "dbfsResultPath": null,
       "isJsonSchema": true,
       "metadata": {},
       "overflow": false,
       "plotOptions": {
        "customPlotOptions": {},
        "displayType": "table",
        "pivotAggregation": null,
        "pivotColumns": null,
        "xColumns": null,
        "yColumns": null
       },
       "removedWidgets": [],
       "schema": [
        {
         "metadata": "{}",
         "name": "Dealer_ID",
         "type": "\"string\""
        },
        {
         "metadata": "{}",
         "name": "DealerName",
         "type": "\"string\""
        },
        {
         "metadata": "{}",
         "name": "dim_dealer_key",
         "type": "\"long\""
        }
       ],
       "type": "table"
      }
     },
     "output_type": "display_data"
    }
   ],
   "source": [
    "df_final= df_filter_new.union(df_filter_old)\n",
    "df_final.display()"
   ]
  },
  {
   "cell_type": "markdown",
   "metadata": {
    "application/vnd.databricks.v1+cell": {
     "cellMetadata": {
      "byteLimit": 2048000,
      "rowLimit": 10000
     },
     "inputWidgets": {},
     "nuid": "1b880edf-1707-4ce6-bde7-9807a35dadb5",
     "showTitle": false,
     "tableResultSettingsMap": {},
     "title": ""
    }
   },
   "source": [
    "# SCD TYPE 1 (UPSERT)"
   ]
  },
  {
   "cell_type": "code",
   "execution_count": 0,
   "metadata": {
    "application/vnd.databricks.v1+cell": {
     "cellMetadata": {
      "byteLimit": 2048000,
      "rowLimit": 10000
     },
     "inputWidgets": {},
     "nuid": "a5b3cdd2-a1e7-4e19-9851-056232890942",
     "showTitle": false,
     "tableResultSettingsMap": {},
     "title": ""
    }
   },
   "outputs": [],
   "source": [
    "from delta.tables import DeltaTable"
   ]
  },
  {
   "cell_type": "code",
   "execution_count": 0,
   "metadata": {
    "application/vnd.databricks.v1+cell": {
     "cellMetadata": {
      "byteLimit": 2048000,
      "rowLimit": 10000
     },
     "inputWidgets": {},
     "nuid": "b4f5cfef-06fc-440b-ac72-06bdc62b3688",
     "showTitle": false,
     "tableResultSettingsMap": {},
     "title": ""
    }
   },
   "outputs": [],
   "source": [
    "if spark.catalog.tableExists('cars_catalog.gold.dim_dealer'):\n",
    "    delta_tbl = DeltaTable.forPath(spark, \"abfss://gold@carsalesadls.dfs.core.windows.net/dim_dealer\")\n",
    "\n",
    "    # Remove duplicates from the source DataFrame\n",
    "    df_final = df_final.dropDuplicates([\"dim_dealer_key\"])\n",
    "\n",
    "    delta_tbl.alias(\"trg\").merge(\n",
    "        df_final.alias(\"src\"),\n",
    "        \"trg.dim_dealer_key = src.dim_dealer_key\"\n",
    "    ).whenMatchedUpdateAll()\\\n",
    "     .whenNotMatchedInsertAll()\\\n",
    "     .execute()\n",
    "\n",
    "# Initial RUN\n",
    "else:\n",
    "    df_final.write.format(\"delta\")\\\n",
    "        .mode(\"overwrite\")\\\n",
    "        .option(\"path\", \"abfss://gold@carsalesadls.dfs.core.windows.net/dim_dealer\")\\\n",
    "        .saveAsTable(\"cars_catalog.gold.dim_dealer\")"
   ]
  },
  {
   "cell_type": "code",
   "execution_count": 0,
   "metadata": {
    "application/vnd.databricks.v1+cell": {
     "cellMetadata": {
      "byteLimit": 2048000,
      "implicitDf": true,
      "rowLimit": 10000
     },
     "inputWidgets": {},
     "nuid": "7bd6fe8d-fc01-458c-bcf5-c01a959adb59",
     "showTitle": false,
     "tableResultSettingsMap": {},
     "title": ""
    }
   },
   "outputs": [
    {
     "output_type": "display_data",
     "data": {
      "text/html": [
       "<style scoped>\n",
       "  .table-result-container {\n",
       "    max-height: 300px;\n",
       "    overflow: auto;\n",
       "  }\n",
       "  table, th, td {\n",
       "    border: 1px solid black;\n",
       "    border-collapse: collapse;\n",
       "  }\n",
       "  th, td {\n",
       "    padding: 5px;\n",
       "  }\n",
       "  th {\n",
       "    text-align: left;\n",
       "  }\n",
       "</style><div class='table-result-container'><table class='table-result'><thead style='background-color: white'><tr><th>Dealer_ID</th><th>DealerName</th><th>dim_dealer_key</th></tr></thead><tbody><tr><td>BR0854</td><td>Austin, Rover Motors</td><td>268</td></tr><tr><td>BR0984</td><td>Dacia Motors</td><td>269</td></tr><tr><td>BR0990</td><td>Standard-Triumph Motors</td><td>270</td></tr><tr><td>BR1554</td><td>Iveco Motors</td><td>271</td></tr><tr><td>BR1682</td><td>Panoz Motors</td><td>272</td></tr><tr><td>BR1764</td><td>Marlin Motors</td><td>273</td></tr><tr><td>BR2115</td><td>Mitsubishi Motors</td><td>274</td></tr><tr><td>BR2152</td><td>Toyota Motors</td><td>275</td></tr><tr><td>BR2404</td><td>Singer Motors</td><td>276</td></tr><tr><td>BR0502</td><td>Caterham Motors</td><td>277</td></tr><tr><td>BR0633</td><td>British Leyland Motors</td><td>278</td></tr><tr><td>BR0832</td><td>Ford Europe Motors</td><td>279</td></tr><tr><td>BR1051</td><td>Lancia Motors</td><td>280</td></tr><tr><td>BR1448</td><td>Alpine Motors</td><td>281</td></tr><tr><td>BR1600</td><td>Kindel Building</td><td>282</td></tr><tr><td>BR1842</td><td>Renault Motors</td><td>283</td></tr><tr><td>BR1923</td><td>Peugeot Motors</td><td>284</td></tr><tr><td>BR1952</td><td>Scion Motors</td><td>285</td></tr><tr><td>BR2144</td><td>Piaggio Motors</td><td>286</td></tr><tr><td>BR2385</td><td>Porsche Motors</td><td>287</td></tr><tr><td>BR2439</td><td>Hudson Motors</td><td>288</td></tr><tr><td>BR0108</td><td>Naza Motors</td><td>289</td></tr><tr><td>BR0883</td><td>Dodge Motors</td><td>290</td></tr><tr><td>BR10386</td><td>GTA Spano Motors</td><td>291</td></tr><tr><td>BR1203</td><td>Holden Motors</td><td>292</td></tr><tr><td>BR1491</td><td>Panther Motors</td><td>293</td></tr><tr><td>BR1633</td><td>McLaren Motors</td><td>294</td></tr><tr><td>BR1700</td><td>ARO Motors</td><td>295</td></tr><tr><td>BR1754</td><td>Marcos Motors</td><td>296</td></tr><tr><td>BR2037</td><td>Hudson Motors</td><td>297</td></tr><tr><td>BR3606</td><td>Deccan Motors</td><td>298</td></tr><tr><td>BR0759</td><td>Smart Motors</td><td>299</td></tr><tr><td>BR0792</td><td>Fisker, Karma Motors</td><td>300</td></tr><tr><td>BR1332</td><td>Lynx Motors</td><td>301</td></tr><tr><td>BR2232</td><td>Volkswagen do Brasil Motors</td><td>302</td></tr><tr><td>BR2262</td><td>Westfield Motors</td><td>303</td></tr><tr><td>BR2353</td><td>Toyota Motors</td><td>304</td></tr><tr><td>BR0277</td><td>Saturn Motors</td><td>305</td></tr><tr><td>BR0561</td><td>Fiat Motors</td><td>306</td></tr><tr><td>BR0584</td><td>Bitter Motors</td><td>307</td></tr><tr><td>BR0668</td><td>Tesla Motors</td><td>308</td></tr><tr><td>BR0908</td><td>Lagonda  Motors</td><td>309</td></tr><tr><td>BR1207</td><td>AC Cars Motors</td><td>310</td></tr><tr><td>BR1313</td><td>Isdera Motors</td><td>311</td></tr><tr><td>BR1512</td><td>Mitsubishi Motors</td><td>312</td></tr><tr><td>BR1547</td><td>Chrysler Motors</td><td>313</td></tr><tr><td>BR1574</td><td>Jeep Motors</td><td>314</td></tr><tr><td>BR1752</td><td>Plymouth Motors</td><td>315</td></tr><tr><td>BR1964</td><td>Nash Motors</td><td>316</td></tr><tr><td>BR2024</td><td>Oldsmobile Motors</td><td>317</td></tr><tr><td>BR4446</td><td>H Street Playhouse</td><td>318</td></tr><tr><td>BR0008</td><td>Messerschmitt Motors</td><td>319</td></tr><tr><td>BR0491</td><td>Donkervoort Motors</td><td>320</td></tr><tr><td>BR0798</td><td>Westfield Motors</td><td>321</td></tr><tr><td>BR0899</td><td>Toyota India Motors</td><td>322</td></tr><tr><td>BR1485</td><td>Geo Motors</td><td>323</td></tr><tr><td>BR1561</td><td>Polestar Motors</td><td>324</td></tr><tr><td>BR1967</td><td>Heinkel Motors</td><td>325</td></tr><tr><td>BR2128</td><td>GMC Motors</td><td>326</td></tr><tr><td>BR0154</td><td>Wolseley  Motors</td><td>327</td></tr><tr><td>BR0424</td><td>Aixam-Mega (including Arola) Motors</td><td>328</td></tr><tr><td>BR0451</td><td>DeLorean Motors</td><td>329</td></tr><tr><td>BR0701</td><td>Ginetta Motors</td><td>330</td></tr><tr><td>BR0846</td><td>Skoda Motors</td><td>331</td></tr><tr><td>BR1025</td><td>Bristol Motors</td><td>332</td></tr><tr><td>BR1307</td><td>Artega Motors</td><td>333</td></tr><tr><td>BR1519</td><td>Asia Motors Motors</td><td>334</td></tr><tr><td>BR2191</td><td>Morris  Motors</td><td>335</td></tr><tr><td>BR6306</td><td>Alvis Motors</td><td>336</td></tr><tr><td>BR0013</td><td>Herald Motors</td><td>337</td></tr><tr><td>BR0050</td><td>Isdera Motors</td><td>338</td></tr><tr><td>BR0175</td><td>Volkswagen South Africa Motors</td><td>339</td></tr><tr><td>BR0368</td><td>Reliant Motors</td><td>340</td></tr><tr><td>BR0454</td><td>Alvis Motors</td><td>341</td></tr><tr><td>BR0714</td><td>Asia Motors Motors</td><td>342</td></tr><tr><td>BR1172</td><td>Jeep Motors</td><td>343</td></tr><tr><td>BR1402</td><td>Matra (including Deutsch-Bonnet, René Bonnet) Motors</td><td>344</td></tr><tr><td>BR1553</td><td>Marcos Motors</td><td>345</td></tr><tr><td>BR2060</td><td>Austin, Rover Motors</td><td>346</td></tr><tr><td>BR2062</td><td>Studebaker Motors</td><td>347</td></tr><tr><td>BR2075</td><td>Messerschmitt Motors</td><td>348</td></tr><tr><td>BR2153</td><td>Scion Motors</td><td>349</td></tr><tr><td>BR2323</td><td>Tazzari Motors</td><td>350</td></tr><tr><td>BR2440</td><td>Ford Europe Motors</td><td>351</td></tr><tr><td>BR0734</td><td>Audi Motors</td><td>352</td></tr><tr><td>BR2129</td><td>Eicher Polaris Motors</td><td>353</td></tr><tr><td>BR2221</td><td>Wolseley  Motors</td><td>354</td></tr><tr><td>BR7866</td><td>Checker Motors</td><td>355</td></tr><tr><td>BR0408</td><td>Saab Motors</td><td>356</td></tr><tr><td>BR0555</td><td>Howard Motor Company Building</td><td>357</td></tr><tr><td>BR0567</td><td>Volkswagen do Brasil Motors</td><td>358</td></tr><tr><td>BR0769</td><td>Spyker Motors</td><td>359</td></tr><tr><td>BR0841</td><td>Humber Motors</td><td>360</td></tr><tr><td>BR1333</td><td>Isotta Fraschini Motors</td><td>361</td></tr><tr><td>BR6486</td><td>Ariel Motors</td><td>362</td></tr><tr><td>BR6966</td><td>Auverland Motors</td><td>363</td></tr><tr><td>BR0011</td><td>Geo Motors</td><td>364</td></tr><tr><td>BR0692</td><td>Donkervoort Motors</td><td>365</td></tr><tr><td>BR0771</td><td>Hennessey Motors</td><td>366</td></tr><tr><td>BR0919</td><td>TVR Motors</td><td>367</td></tr><tr><td>BR1219</td><td>Herald Motors</td><td>368</td></tr><tr><td>BR1263</td><td>Hyundai Motors</td><td>369</td></tr><tr><td>BR1404</td><td>Holden Motors</td><td>370</td></tr><tr><td>BR1720</td><td>Asia Motors Motors</td><td>371</td></tr><tr><td>BR1749</td><td>Autobianchi Motors</td><td>372</td></tr><tr><td>BR1852</td><td>Rivian Motors</td><td>373</td></tr><tr><td>BR0033</td><td>Atlantic Motor Company</td><td>374</td></tr><tr><td>BR0172</td><td>Bentley Motors</td><td>375</td></tr><tr><td>BR0229</td><td>Micro Motors</td><td>376</td></tr><tr><td>BR1103</td><td>Ginetta Motors</td><td>377</td></tr><tr><td>BR1318</td><td>Asia Motors Motors</td><td>378</td></tr><tr><td>BR1420</td><td>Herald Motors</td><td>379</td></tr><tr><td>BR5106</td><td>Alvis Motors</td><td>380</td></tr><tr><td>BR0143</td><td>H Street Playhouse</td><td>381</td></tr><tr><td>BR0198</td><td>Pagani Motors</td><td>382</td></tr><tr><td>BR0651</td><td>Freightliner Motors</td><td>383</td></tr><tr><td>BR1014</td><td>Daihatsu Motors</td><td>384</td></tr><tr><td>BR1499</td><td>ARO Motors</td><td>385</td></tr><tr><td>BR1743</td><td>Morgan Motors</td><td>386</td></tr><tr><td>BR1858</td><td>DeLorean Motors</td><td>387</td></tr><tr><td>BR1871</td><td>Subaru Motors</td><td>388</td></tr><tr><td>BR1897</td><td>Gilbern Motors</td><td>389</td></tr><tr><td>BR1943</td><td>Piaggio Motors</td><td>390</td></tr><tr><td>BR1951</td><td>Toyota Motors</td><td>391</td></tr><tr><td>BR2330</td><td>Eicher Polaris Motors</td><td>392</td></tr><tr><td>BR2367</td><td>Marlin Motors</td><td>393</td></tr><tr><td>BR2444</td><td>SsangYong Motors</td><td>394</td></tr><tr><td>BR8406</td><td>DAF Motors</td><td>395</td></tr><tr><td>BR8586</td><td>null</td><td>396</td></tr><tr><td>BR8766</td><td>DeSoto Motors</td><td>397</td></tr><tr><td>BR0051</td><td>GMC Motors</td><td>398</td></tr><tr><td>BR0304</td><td>Cass Motor Sales</td><td>399</td></tr><tr><td>BR0801</td><td>Holden Motors</td><td>400</td></tr><tr><td>BR1244</td><td>Ford India Motors</td><td>401</td></tr><tr><td>BR1582</td><td>Nissan Motors</td><td>402</td></tr><tr><td>BR1969</td><td>Citroën Motors</td><td>403</td></tr><tr><td>BR2095</td><td>Micro Motors</td><td>404</td></tr><tr><td>BR2107</td><td>Invicta Motors</td><td>405</td></tr><tr><td>BR2324</td><td>Santa Matilde Motors</td><td>406</td></tr><tr><td>BR2415</td><td>Puma Motors</td><td>407</td></tr><tr><td>BR2449</td><td>Humber Motors</td><td>408</td></tr><tr><td>BR2646</td><td>null</td><td>409</td></tr><tr><td>BR0222</td><td>Aixam-Mega (including Arola) Motors</td><td>410</td></tr><tr><td>BR0720</td><td>Porsche Motors</td><td>411</td></tr><tr><td>BR0953</td><td>Ferrari Motors</td><td>412</td></tr><tr><td>BR1012</td><td>Honda Motors</td><td>413</td></tr><tr><td>BR1220</td><td>Zastava Motors</td><td>414</td></tr><tr><td>BR1360</td><td>Wolseley  Motors</td><td>415</td></tr><tr><td>BR1380</td><td>Talbot  Motors</td><td>416</td></tr><tr><td>BR1461</td><td>Pagani Motors</td><td>417</td></tr><tr><td>BR1771</td><td>Shelby SuperCars Motors</td><td>418</td></tr><tr><td>BR1785</td><td>Jensen Motors</td><td>419</td></tr><tr><td>BR2213</td><td>Skoda Motors</td><td>420</td></tr><tr><td>BR2270</td><td>DeSoto Motors</td><td>421</td></tr><tr><td>BR2410</td><td>Ford America Motors</td><td>422</td></tr><tr><td>BR0221</td><td>null</td><td>423</td></tr><tr><td>BR0324</td><td>Clemens Automobile Company Building</td><td>424</td></tr><tr><td>BR0364</td><td>Hupmobile Building</td><td>425</td></tr><tr><td>BR1628</td><td>Bristol Motors</td><td>426</td></tr><tr><td>BR1987</td><td>Hillman Motors</td><td>427</td></tr><tr><td>BR2263</td><td>Studebaker Motors</td><td>428</td></tr><tr><td>BR2427</td><td>Mazzanti Motors</td><td>429</td></tr><tr><td>BR0183</td><td>Jones Motor Company</td><td>430</td></tr><tr><td>BR0359</td><td>Oldsmobile Motors</td><td>431</td></tr><tr><td>BR1861</td><td>Studebaker Motors</td><td>432</td></tr><tr><td>BR1991</td><td>UAZ Motors</td><td>433</td></tr><tr><td>BR0200</td><td>Land Rover Motors</td><td>434</td></tr><tr><td>BR0815</td><td>Acura Motors</td><td>435</td></tr><tr><td>BR0870</td><td>Santana Motors</td><td>436</td></tr><tr><td>BR0897</td><td>Casa de cadillac</td><td>437</td></tr><tr><td>BR1028</td><td>Zion Automobils</td><td>438</td></tr><tr><td>BR2260</td><td>DeLorean Motors</td><td>439</td></tr><tr><td>BR2586</td><td>ZIL Motors</td><td>440</td></tr><tr><td>BR5466</td><td>Asia Motors Motors</td><td>441</td></tr><tr><td>BR0001</td><td>AC Cars Motors</td><td>442</td></tr><tr><td>BR0037</td><td>Peel Motors</td><td>443</td></tr><tr><td>BR0642</td><td>Delahaye Motors</td><td>444</td></tr><tr><td>BR10626</td><td>Hennessey Motors</td><td>445</td></tr><tr><td>BR1165</td><td>Citroën Motors</td><td>446</td></tr><tr><td>BR1174</td><td>Fiat do Brasil Motors</td><td>447</td></tr><tr><td>BR1228</td><td>Aixam-Mega (including Arola) Motors</td><td>448</td></tr><tr><td>BR1243</td><td>Humber Motors</td><td>449</td></tr><tr><td>BR14706</td><td>Packard Motors</td><td>450</td></tr><tr><td>BR1510</td><td>Cass Motor Sales</td><td>451</td></tr><tr><td>BR1931</td><td>Tesla Motors</td><td>452</td></tr><tr><td>BR2295</td><td>Panther Motors</td><td>453</td></tr><tr><td>BR0127</td><td>Premier Motors</td><td>454</td></tr><tr><td>BR0182</td><td>Bitter Motors</td><td>455</td></tr><tr><td>BR0385</td><td>Das Motors</td><td>456</td></tr><tr><td>BR0660</td><td>Peugeot Motors</td><td>457</td></tr><tr><td>BR0842</td><td>Ford India Motors</td><td>458</td></tr><tr><td>BR0935</td><td>Audi Motors</td><td>459</td></tr><tr><td>BR1070</td><td>Tesla Motors</td><td>460</td></tr><tr><td>BR1477</td><td>Buick Motors</td><td>461</td></tr><tr><td>BR2061</td><td>Westfield Motors</td><td>462</td></tr><tr><td>BR0280</td><td>Mahindra Motors</td><td>463</td></tr><tr><td>BR0619</td><td>SAIC Motor Motors</td><td>464</td></tr><tr><td>BR0902</td><td>Ginetta Motors</td><td>465</td></tr><tr><td>BR0988</td><td>Das Motors</td><td>466</td></tr><tr><td>BR1351</td><td>Moskwitch Motors</td><td>467</td></tr><tr><td>BR1652</td><td>Packard Motors</td><td>468</td></tr><tr><td>BR1999</td><td>Daewoo, Saehan, Chevrolet Korea Motors</td><td>469</td></tr><tr><td>BR2106</td><td>Volkswagen Motors</td><td>470</td></tr><tr><td>BR2230</td><td>Daimler Motors</td><td>471</td></tr><tr><td>BR2409</td><td>Holden Motors</td><td>472</td></tr><tr><td>BR2706</td><td>DKW Motors</td><td>473</td></tr><tr><td>BR4746</td><td>Kindel Building</td><td>474</td></tr><tr><td>BR9426</td><td>Fiat do Brasil Motors</td><td>475</td></tr><tr><td>BR0531</td><td>Elva Motors</td><td>476</td></tr><tr><td>BR0691</td><td>Gilbern Motors</td><td>477</td></tr><tr><td>BR0867</td><td>Bohn Motor Company Automobile Dealership</td><td>478</td></tr><tr><td>BR0940</td><td>Singer Motors</td><td>479</td></tr><tr><td>BR1340</td><td>Austin  Motors</td><td>480</td></tr><tr><td>BR13566</td><td>Merkur Motors</td><td>481</td></tr><tr><td>BR13746</td><td>Micro Motors</td><td>482</td></tr><tr><td>BR1399</td><td>Kindel Building</td><td>483</td></tr><tr><td>BR1910</td><td>Artega Motors</td><td>484</td></tr><tr><td>BR1933</td><td>PGO Motors</td><td>485</td></tr><tr><td>BR2291</td><td>Zion Automobils</td><td>486</td></tr><tr><td>BR4626</td><td>Jennings Ford Automobile Dealership</td><td>487</td></tr><tr><td>BR8046</td><td>Chrysler Motors</td><td>488</td></tr><tr><td>BR0833</td><td>null</td><td>489</td></tr><tr><td>BR0858</td><td>DKW Motors</td><td>490</td></tr><tr><td>BR1068</td><td>Bohn Motor Company Automobile Dealership</td><td>491</td></tr><tr><td>BR1099</td><td>Izh  Motors</td><td>492</td></tr><tr><td>BR1248</td><td>Alpine Motors</td><td>493</td></tr><tr><td>BR1844</td><td>Mercedes-Benz (including Maybach) Motors</td><td>494</td></tr><tr><td>BR2028</td><td>Ford do Brasil Motors</td><td>495</td></tr><tr><td>BR2315</td><td>Perodua Motors</td><td>496</td></tr><tr><td>BR0300</td><td>Marlin Motors</td><td>497</td></tr><tr><td>BR0315</td><td>MG  Motors</td><td>498</td></tr><tr><td>BR0333</td><td>Audi Motors</td><td>499</td></tr><tr><td>BR0479</td><td>Piaggio Motors</td><td>500</td></tr><tr><td>BR0818</td><td>Zastava Motors</td><td>501</td></tr><tr><td>BR1140</td><td>Vauxhall Motors</td><td>502</td></tr><tr><td>BR1177</td><td>Bentley Motors</td><td>503</td></tr><tr><td>BR1681</td><td>SAIC Motor Motors</td><td>504</td></tr><tr><td>BR1803</td><td>Noble Motors</td><td>505</td></tr><tr><td>BR1862</td><td>Rolls-Royce Motors</td><td>506</td></tr><tr><td>BR2017</td><td>Honda Motors</td><td>507</td></tr><tr><td>BR0057</td><td>Peugeot Motors</td><td>508</td></tr><tr><td>BR0360</td><td>Mazzanti Motors</td><td>509</td></tr><tr><td>BR0474</td><td>Anadol Motors</td><td>510</td></tr><tr><td>BR0698</td><td>Toyota India Motors</td><td>511</td></tr><tr><td>BR1544</td><td>Isuzu Motors</td><td>512</td></tr><tr><td>BR1649</td><td>Alpine Motors</td><td>513</td></tr><tr><td>BR2063</td><td>Rolls-Royce Motors</td><td>514</td></tr><tr><td>BR0275</td><td>Wanderer Motors</td><td>515</td></tr><tr><td>BR0640</td><td>Peel Motors</td><td>516</td></tr><tr><td>BR1005</td><td>Bond Motors</td><td>517</td></tr><tr><td>BR1071</td><td>Lexus Motors</td><td>518</td></tr><tr><td>BR1108</td><td>Cass Motor Sales</td><td>519</td></tr><tr><td>BR1268</td><td>AMC, Eagle Motors</td><td>520</td></tr><tr><td>BR1528</td><td>Aston Martin Motors</td><td>521</td></tr><tr><td>BR1661</td><td>Rolls-Royce Motors</td><td>522</td></tr><tr><td>BR2023</td><td>Ranger Motors</td><td>523</td></tr><tr><td>BR2053</td><td>Rivian Motors</td><td>524</td></tr><tr><td>BR2441</td><td>Jennings Ford Automobile Dealership</td><td>525</td></tr><tr><td>BR0426</td><td>Saturn Motors</td><td>526</td></tr><tr><td>BR0857</td><td>Blankinship Motor Company Building</td><td>527</td></tr><tr><td>BR1303</td><td>Invicta Motors</td><td>528</td></tr><tr><td>BR1777</td><td>Fiat do Brasil Motors</td><td>529</td></tr><tr><td>BR1915</td><td>LTI Motors</td><td>530</td></tr><tr><td>BR2182</td><td>TVR Motors</td><td>531</td></tr><tr><td>BR0018</td><td>Mia Motors</td><td>532</td></tr><tr><td>BR0073</td><td>Buick Automobile Company Building</td><td>533</td></tr><tr><td>BR0388</td><td>Rivian Motors</td><td>534</td></tr><tr><td>BR0402</td><td>Bond Motors</td><td>535</td></tr><tr><td>BR0407</td><td>Subaru Motors</td><td>536</td></tr><tr><td>BR0461</td><td>DeSoto Motors</td><td>537</td></tr><tr><td>BR0627</td><td>ZAZ Motors</td><td>538</td></tr><tr><td>BR1067</td><td>AMC, Eagle Motors</td><td>539</td></tr><tr><td>BR1717</td><td>e.GO Mobile Motors</td><td>540</td></tr><tr><td>BR1887</td><td>Geo Motors</td><td>541</td></tr><tr><td>BR2350</td><td>Facel Vega Motors</td><td>542</td></tr><tr><td>BR0032</td><td>Alfa Romeo Motors</td><td>543</td></tr><tr><td>BR0434</td><td>Alfa Romeo Motors</td><td>544</td></tr><tr><td>BR0463</td><td>AMC, Eagle Motors</td><td>545</td></tr><tr><td>BR0861</td><td>Hyundai Motors</td><td>546</td></tr><tr><td>BR14046</td><td>Morgan Motors</td><td>547</td></tr><tr><td>BR2008</td><td>Ford America Motors</td><td>548</td></tr><tr><td>BR2187</td><td>Jensen Motors</td><td>549</td></tr><tr><td>BR3186</td><td>Austin  Motors</td><td>550</td></tr><tr><td>BR3546</td><td>Ramani Motors</td><td>551</td></tr><tr><td>BR3966</td><td>Bohn Motor Company Automobile Dealership</td><td>552</td></tr><tr><td>BR7146</td><td>BMW Motors</td><td>553</td></tr><tr><td>BR0695</td><td>ARO Motors</td><td>554</td></tr><tr><td>BR0719</td><td>Simca Motors</td><td>555</td></tr><tr><td>BR1302</td><td>Lotus Motors</td><td>556</td></tr><tr><td>BR1530</td><td>Clemens Automobile Company Building</td><td>557</td></tr><tr><td>BR1711</td><td>San Motors</td><td>558</td></tr><tr><td>BR2140</td><td>Chevrolet India Motors</td><td>559</td></tr><tr><td>BR2244</td><td>Renault Motors</td><td>560</td></tr><tr><td>BR2407</td><td>Matra (including Deutsch-Bonnet, René Bonnet) Motors</td><td>561</td></tr><tr><td>BR4026</td><td>Buick Automobile Company Building</td><td>562</td></tr><tr><td>BR0031</td><td>Alfa Romeo Motors</td><td>563</td></tr><tr><td>BR0121</td><td>Aston Martin Motors</td><td>564</td></tr><tr><td>BR0171</td><td>Bentley Motors</td><td>565</td></tr><tr><td>BR0497</td><td>Toyota India Motors</td><td>566</td></tr><tr><td>BR2275</td><td>Panhard Motors</td><td>567</td></tr><tr><td>BR2382</td><td>MG  Motors</td><td>568</td></tr><tr><td>BR2463</td><td>Westfield Motors</td><td>569</td></tr><tr><td>BR0338</td><td>Proton Motors</td><td>570</td></tr><tr><td>BR0525</td><td>Clemens Automobile Company Building</td><td>571</td></tr><tr><td>BR0546</td><td>Seat Motors</td><td>572</td></tr><tr><td>BR0911</td><td>Isdera Motors</td><td>573</td></tr><tr><td>BR0966</td><td>Spyker Motors</td><td>574</td></tr><tr><td>BR0987</td><td>Jones Motor Company</td><td>575</td></tr><tr><td>BR1145</td><td>Chrysler Motors</td><td>576</td></tr><tr><td>BR14166</td><td>Nash Motors</td><td>577</td></tr><tr><td>BR1835</td><td>Lada Motors</td><td>578</td></tr><tr><td>BR2117</td><td>Isdera Motors</td><td>579</td></tr><tr><td>BR2195</td><td>Nissan India Motors</td><td>580</td></tr><tr><td>BR2237</td><td>Lada Motors</td><td>581</td></tr><tr><td>BR0457</td><td>Tazzari Motors</td><td>582</td></tr><tr><td>BR0458</td><td>Santa Matilde Motors</td><td>583</td></tr><tr><td>BR0552</td><td>Chrysler Europe Motors</td><td>584</td></tr><tr><td>BR0745</td><td>Autobianchi Motors</td><td>585</td></tr><tr><td>BR1135</td><td>Chevrolet India Motors</td><td>586</td></tr><tr><td>BR1418</td><td>Acura Motors</td><td>587</td></tr><tr><td>BR1731</td><td>Santana Motors</td><td>588</td></tr><tr><td>BR2355</td><td>Plymouth Motors</td><td>589</td></tr><tr><td>BR0029</td><td>Lincoln Motors</td><td>590</td></tr><tr><td>BR0649</td><td>San Motors</td><td>591</td></tr><tr><td>BR0985</td><td>Bitter Motors</td><td>592</td></tr><tr><td>BR1247</td><td>Alpine Motors</td><td>593</td></tr><tr><td>BR1569</td><td>Auverland Motors</td><td>594</td></tr><tr><td>BR1632</td><td>null</td><td>595</td></tr><tr><td>BR2021</td><td>Volkswagen Motors</td><td>596</td></tr><tr><td>BR2123</td><td>Santa Matilde Motors</td><td>597</td></tr><tr><td>BR2178</td><td>Hennessey Motors</td><td>598</td></tr><tr><td>BR2452</td><td>Das Motors</td><td>599</td></tr><tr><td>BR5706</td><td>Auto-Union Motors</td><td>600</td></tr><tr><td>BR6426</td><td>Anadol Motors</td><td>601</td></tr><tr><td>BR0519</td><td>Porsche Motors</td><td>602</td></tr><tr><td>BR1364</td><td>Heinkel Motors</td><td>603</td></tr><tr><td>BR1721</td><td>Santa Matilde Motors</td><td>604</td></tr><tr><td>BR2143</td><td>Saturn Motors</td><td>605</td></tr><tr><td>BR2179</td><td>Fiat do Brasil Motors</td><td>606</td></tr><tr><td>BR3066</td><td>MG  Motors</td><td>607</td></tr><tr><td>BR0804</td><td>Bond Motors</td><td>608</td></tr><tr><td>BR1050</td><td>Tatra Motors</td><td>609</td></tr><tr><td>BR1523</td><td>LuAZ Motors</td><td>610</td></tr><tr><td>BR1573</td><td>Maruti Motors</td><td>611</td></tr><tr><td>BR2318</td><td>Isdera Motors</td><td>612</td></tr><tr><td>BR2346</td><td>Westfield Motors</td><td>613</td></tr><tr><td>BR2417</td><td>Mazda Motors</td><td>614</td></tr><tr><td>BR4266</td><td>Claremore Auto Dealership</td><td>615</td></tr><tr><td>BR0565</td><td>Hupmobile Building</td><td>616</td></tr><tr><td>BR0710</td><td>Pontiac, Asüna Motors</td><td>617</td></tr><tr><td>BR0970</td><td>Spyker Motors</td><td>618</td></tr><tr><td>BR1032</td><td>Hudson Motors</td><td>619</td></tr><tr><td>BR13986</td><td>Monteverdi Motors</td><td>620</td></tr><tr><td>BR1455</td><td>Freightliner Motors</td><td>621</td></tr><tr><td>BR1755</td><td>Iveco Motors</td><td>622</td></tr><tr><td>BR1928</td><td>Eicher Polaris Motors</td><td>623</td></tr><tr><td>BR2091</td><td>ZAZ Motors</td><td>624</td></tr><tr><td>BR2223</td><td>Smart Motors</td><td>625</td></tr><tr><td>BR0260</td><td>LuAZ Motors</td><td>626</td></tr><tr><td>BR0420</td><td>Mia Motors</td><td>627</td></tr><tr><td>BR0723</td><td>Chevrolet Motors</td><td>628</td></tr><tr><td>BR1079</td><td>Wanderer Motors</td><td>629</td></tr><tr><td>BR11286</td><td>Infiniti Motors</td><td>630</td></tr><tr><td>BR1194</td><td>Fisker, Karma Motors</td><td>631</td></tr><tr><td>BR1362</td><td>Marlin Motors</td><td>632</td></tr><tr><td>BR1513</td><td>LTI Motors</td><td>633</td></tr><tr><td>BR2084</td><td>Panoz Motors</td><td>634</td></tr><tr><td>BR2199</td><td>Fisker, Karma Motors</td><td>635</td></tr><tr><td>BR0027</td><td>Panther Motors</td><td>636</td></tr><tr><td>BR0158</td><td>Oldsmobile Motors</td><td>637</td></tr><tr><td>BR0291</td><td>Cadillac Motors</td><td>638</td></tr><tr><td>BR0534</td><td>Audi Motors</td><td>639</td></tr><tr><td>BR1541</td><td>Piaggio Motors</td><td>640</td></tr><tr><td>BR1793</td><td>Nissan India Motors</td><td>641</td></tr><tr><td>BR2253</td><td>Standard-Triumph Motors</td><td>642</td></tr><tr><td>BR2322</td><td>DKW Motors</td><td>643</td></tr><tr><td>BR7686</td><td>Bytom Motors</td><td>644</td></tr><tr><td>BR0092</td><td>ARO Motors</td><td>645</td></tr><tr><td>BR0111</td><td>Asia Motors Motors</td><td>646</td></tr><tr><td>BR0255</td><td>DKW Motors</td><td>647</td></tr><tr><td>BR0490</td><td>Moskwitch Motors</td><td>648</td></tr><tr><td>BR0624</td><td>Aixam-Mega (including Arola) Motors</td><td>649</td></tr><tr><td>BR0748</td><td>Venturi Motors</td><td>650</td></tr><tr><td>BR0934</td><td>Chevrolet India Motors</td><td>651</td></tr><tr><td>BR1061</td><td>Land Rover Motors</td><td>652</td></tr><tr><td>BR1301</td><td>Mini Motors</td><td>653</td></tr><tr><td>BR1347</td><td>Autobianchi Motors</td><td>654</td></tr><tr><td>BR1369</td><td>Hupmobile Building</td><td>655</td></tr><tr><td>BR1834</td><td>McLaren Motors</td><td>656</td></tr><tr><td>BR2161</td><td>Izh  Motors</td><td>657</td></tr><tr><td>BR2207</td><td>Kia Motors</td><td>658</td></tr><tr><td>BR0271</td><td>Buick Motors</td><td>659</td></tr><tr><td>BR0455</td><td>Blankinship Motor Company Building</td><td>660</td></tr><tr><td>BR1167</td><td>Auverland Motors</td><td>661</td></tr><tr><td>BR1209</td><td>Deccan Motors</td><td>662</td></tr><tr><td>BR2526</td><td>ZAZ Motors</td><td>663</td></tr><tr><td>BR0101</td><td>Artega Motors</td><td>664</td></tr><tr><td>BR0112</td><td>Asia Motors Motors</td><td>665</td></tr><tr><td>BR0193</td><td>Kindel Building</td><td>666</td></tr><tr><td>BR0219</td><td>Mia Motors</td><td>667</td></tr><tr><td>BR0544</td><td>Autobianchi Motors</td><td>668</td></tr><tr><td>BR0891</td><td>null</td><td>669</td></tr><tr><td>BR1019</td><td>Zastava Motors</td><td>670</td></tr><tr><td>BR1141</td><td>Mahindra Motors</td><td>671</td></tr><tr><td>BR1634</td><td>Lada Motors</td><td>672</td></tr><tr><td>BR1728</td><td>Chevrolet Motors</td><td>673</td></tr><tr><td>BR1877</td><td>GAZ Motors</td><td>674</td></tr><tr><td>BR1905</td><td>Lotus Motors</td><td>675</td></tr><tr><td>BR2089</td><td>Dodge Motors</td><td>676</td></tr><tr><td>BR0514</td><td>Asia Motors Motors</td><td>677</td></tr><tr><td>BR0732</td><td>Elva Motors</td><td>678</td></tr><tr><td>BR12306</td><td>Lancia Motors</td><td>679</td></tr><tr><td>BR1391</td><td>Nissan India Motors</td><td>680</td></tr><tr><td>BR1884</td><td>Mia Motors</td><td>681</td></tr><tr><td>BR1938</td><td>Elva Motors</td><td>682</td></tr><tr><td>BR1994</td><td>Nissan India Motors</td><td>683</td></tr><tr><td>BR0524</td><td>Aston Martin Motors</td><td>684</td></tr><tr><td>BR0621</td><td>Ford do Brasil Motors</td><td>685</td></tr><tr><td>BR1027</td><td>Aixam-Mega (including Arola) Motors</td><td>686</td></tr><tr><td>BR1190</td><td>Volvo Motors</td><td>687</td></tr><tr><td>BR1326</td><td>Suzuki Motors</td><td>688</td></tr><tr><td>BR1690</td><td>Ariel Motors</td><td>689</td></tr><tr><td>BR1727</td><td>Eicher Polaris Motors</td><td>690</td></tr><tr><td>BR2035</td><td>McLaren Motors</td><td>691</td></tr><tr><td>BR0141</td><td>Honda Motors</td><td>692</td></tr><tr><td>BR0635</td><td>Alfa Romeo Motors</td><td>693</td></tr><tr><td>BR0860</td><td>Santa Matilde Motors</td><td>694</td></tr><tr><td>BR1829</td><td>Bristol Motors</td><td>695</td></tr><tr><td>BR1889</td><td>Bytom Motors</td><td>696</td></tr><tr><td>BR2309</td><td>Ginetta Motors</td><td>697</td></tr><tr><td>BR0405</td><td>Deccan Motors</td><td>698</td></tr><tr><td>BR1233</td><td>Hudson Motors</td><td>699</td></tr><tr><td>BR1442</td><td>Mercedes-Benz (including Maybach) Motors</td><td>700</td></tr><tr><td>BR1685</td><td>Infiniti Motors</td><td>701</td></tr><tr><td>BR2071</td><td>Wiesmann Motors</td><td>702</td></tr><tr><td>BR0243</td><td>Alpine Motors</td><td>703</td></tr><tr><td>BR0768</td><td>Volkswagen do Brasil Motors</td><td>704</td></tr><tr><td>BR0814</td><td>Borgward (including Goliath and Lloyd) Motors</td><td>705</td></tr><tr><td>BR0843</td><td>Delahaye Motors</td><td>706</td></tr><tr><td>BR0863</td><td>DeSoto Motors</td><td>707</td></tr><tr><td>BR0945</td><td>Autobianchi Motors</td><td>708</td></tr><tr><td>BR0994</td><td>Daewoo, Saehan, Chevrolet Korea Motors</td><td>709</td></tr><tr><td>BR1127</td><td>Aston Martin Motors</td><td>710</td></tr><tr><td>BR1158</td><td>Howard Motor Company Building</td><td>711</td></tr><tr><td>BR1235</td><td>null</td><td>712</td></tr><tr><td>BR1241</td><td>Mercedes-Benz (including Maybach) Motors</td><td>713</td></tr><tr><td>BR13266</td><td>Mazda Motors</td><td>714</td></tr><tr><td>BR1352</td><td>Marcos Motors</td><td>715</td></tr><tr><td>BR1424</td><td>Honda India Motors</td><td>716</td></tr><tr><td>BR1557</td><td>Chrysler Europe Motors</td><td>717</td></tr><tr><td>BR1668</td><td>Bugatti Motors</td><td>718</td></tr><tr><td>BR1805</td><td>Kia Motors</td><td>719</td></tr><tr><td>BR2000</td><td>BMW Motors</td><td>720</td></tr><tr><td>BR2045</td><td>Mercedes-Benz (including Maybach) Motors</td><td>721</td></tr><tr><td>BR2158</td><td>Healey Motors</td><td>722</td></tr><tr><td>BR5586</td><td>Audi Motors</td><td>723</td></tr><tr><td>BR0211</td><td>Borgward (including Goliath and Lloyd) Motors</td><td>724</td></tr><tr><td>BR0269</td><td>Monteverdi Motors</td><td>725</td></tr><tr><td>BR0321</td><td>Chevrolet Motors</td><td>726</td></tr><tr><td>BR0775</td><td>Bentley Motors</td><td>727</td></tr><tr><td>BR0868</td><td>Horch Motors</td><td>728</td></tr><tr><td>BR0939</td><td>Vauxhall Motors</td><td>729</td></tr><tr><td>BR1317</td><td>Asia Motors Motors</td><td>730</td></tr><tr><td>BR13326</td><td>Mazzanti Motors</td><td>731</td></tr><tr><td>BR1463</td><td>Land Rover Motors</td><td>732</td></tr><tr><td>BR1702</td><td>Peel Motors</td><td>733</td></tr><tr><td>BR1837</td><td>Ford Europe Motors</td><td>734</td></tr><tr><td>BR2313</td><td>Tatra Motors</td><td>735</td></tr><tr><td>BR0173</td><td>Jennings Ford Automobile Dealership</td><td>736</td></tr><tr><td>BR0469</td><td>PGO Motors</td><td>737</td></tr><tr><td>BR0889</td><td>Toyota Motors</td><td>738</td></tr><tr><td>BR1105</td><td>Caterham Motors</td><td>739</td></tr><tr><td>BR1977</td><td>Hennessey Motors</td><td>740</td></tr><tr><td>BR1985</td><td>Maserati Motors</td><td>741</td></tr><tr><td>BR2171</td><td>Lagonda  Motors</td><td>742</td></tr><tr><td>BR2273</td><td>Subaru Motors</td><td>743</td></tr><tr><td>BR2283</td><td>Sunbeam Motors</td><td>744</td></tr><tr><td>BR2388</td><td>Jensen Motors</td><td>745</td></tr><tr><td>BR2438</td><td>Lada Motors</td><td>746</td></tr><tr><td>BR4986</td><td>Alfa Romeo Motors</td><td>747</td></tr><tr><td>BR0080</td><td>Isuzu Motors</td><td>748</td></tr><tr><td>BR0602</td><td>DAF Motors</td><td>749</td></tr><tr><td>BR0963</td><td>Fiat Motors</td><td>750</td></tr><tr><td>BR1175</td><td>Cizeta-Moroder Motors</td><td>751</td></tr><tr><td>BR12606</td><td>Lotus Motors</td><td>752</td></tr><tr><td>BR1626</td><td>Tornado Motors</td><td>753</td></tr><tr><td>BR0019</td><td>Ligier Motors</td><td>754</td></tr><tr><td>BR0020</td><td>Infiniti Motors</td><td>755</td></tr><tr><td>BR0021</td><td>Gilbern Motors</td><td>756</td></tr><tr><td>BR0041</td><td>Glas Motors</td><td>757</td></tr><tr><td>BR0081</td><td>Healey Motors</td><td>758</td></tr><tr><td>BR0375</td><td>Talbot  Motors</td><td>759</td></tr><tr><td>BR0773</td><td>Cizeta-Moroder Motors</td><td>760</td></tr><tr><td>BR0873</td><td>De Tomaso Motors</td><td>761</td></tr><tr><td>BR1173</td><td>Hennessey Motors</td><td>762</td></tr><tr><td>BR1940</td><td>Audi Motors</td><td>763</td></tr><tr><td>BR1949</td><td>Chrysler Motors</td><td>764</td></tr><tr><td>BR0197</td><td>Rolls-Royce Motors</td><td>765</td></tr><tr><td>BR1234</td><td>Ford Europe Motors</td><td>766</td></tr><tr><td>BR1325</td><td>Eicher Polaris Motors</td><td>767</td></tr><tr><td>BR1671</td><td>Saab Motors</td><td>768</td></tr><tr><td>BR2052</td><td>Standard-Triumph Motors</td><td>769</td></tr><tr><td>BR2164</td><td>Polestar Motors</td><td>770</td></tr><tr><td>BR2293</td><td>Suzuki Motors</td><td>771</td></tr><tr><td>BR2766</td><td>Horch Motors</td><td>772</td></tr><tr><td>BR0362</td><td>Auverland Motors</td><td>773</td></tr><tr><td>BR0581</td><td>Fiat India Motors</td><td>774</td></tr><tr><td>BR0669</td><td>Santana Motors</td><td>775</td></tr><tr><td>BR0694</td><td>ARO Motors</td><td>776</td></tr><tr><td>BR1179</td><td>Talbot  Motors</td><td>777</td></tr><tr><td>BR12126</td><td>KTM Motors</td><td>778</td></tr><tr><td>BR1323</td><td>Iso Motors</td><td>779</td></tr><tr><td>BR1678</td><td>Buick Motors</td><td>780</td></tr><tr><td>BR1875</td><td>Lexus Motors</td><td>781</td></tr><tr><td>BR0102</td><td>null</td><td>782</td></tr><tr><td>BR0180</td><td>Lamborghini Motors</td><td>783</td></tr><tr><td>BR0227</td><td>Saleen Motors</td><td>784</td></tr><tr><td>BR0298</td><td>Polestar Motors</td><td>785</td></tr><tr><td>BR0301</td><td>Caterham Motors</td><td>786</td></tr><tr><td>BR0504</td><td>null</td><td>787</td></tr><tr><td>BR0871</td><td>IFA (including Trabant, Wartburg, Barkas) Motors</td><td>788</td></tr><tr><td>BR0925</td><td>Aston Martin Motors</td><td>789</td></tr><tr><td>BR1217</td><td>Acura Motors</td><td>790</td></tr><tr><td>BR1258</td><td>Alvis Motors</td><td>791</td></tr><tr><td>BR14586</td><td>null</td><td>792</td></tr><tr><td>BR2082</td><td>Sunbeam Motors</td><td>793</td></tr><tr><td>BR2132</td><td>Tesla Motors</td><td>794</td></tr><tr><td>BR2395</td><td>Premier Motors</td><td>795</td></tr><tr><td>BR2402</td><td>Austin  Motors</td><td>796</td></tr><tr><td>BR0393</td><td>BMW Motors</td><td>797</td></tr><tr><td>BR0600</td><td>Pagani Motors</td><td>798</td></tr><tr><td>BR0623</td><td>Bristol Motors</td><td>799</td></tr><tr><td>BR0791</td><td>Hindustan Motors</td><td>800</td></tr><tr><td>BR10146</td><td>Gilbern Motors</td><td>801</td></tr><tr><td>BR1063</td><td>FSO Motors</td><td>802</td></tr><tr><td>BR1181</td><td>Maserati Motors</td><td>803</td></tr><tr><td>BR1259</td><td>Blankinship Motor Company Building</td><td>804</td></tr><tr><td>BR1372</td><td>Maruti Motors</td><td>805</td></tr><tr><td>BR1878</td><td>De Tomaso Motors</td><td>806</td></tr><tr><td>BR2375</td><td>Pontiac, Asüna Motors</td><td>807</td></tr><tr><td>BR3666</td><td>Herald Motors</td><td>808</td></tr><tr><td>BR0201</td><td>IFA (including Trabant, Wartburg, Barkas) Motors</td><td>809</td></tr><tr><td>BR0973</td><td>Fiat do Brasil Motors</td><td>810</td></tr><tr><td>BR1117</td><td>Asia Motors Motors</td><td>811</td></tr><tr><td>BR1397</td><td>BMW Motors</td><td>812</td></tr><tr><td>BR1467</td><td>Bugatti Motors</td><td>813</td></tr><tr><td>BR1577</td><td>Cizeta-Moroder Motors</td><td>814</td></tr><tr><td>BR1598</td><td>BMW Motors</td><td>815</td></tr><tr><td>BR1601</td><td>Proton Motors</td><td>816</td></tr><tr><td>BR1945</td><td>Mahindra Motors</td><td>817</td></tr><tr><td>BR2050</td><td>Austin-Healey Motors</td><td>818</td></tr><tr><td>BR0004</td><td>Wiesmann Motors</td><td>819</td></tr><tr><td>BR0262</td><td>AMC, Eagle Motors</td><td>820</td></tr><tr><td>BR0369</td><td>null</td><td>821</td></tr><tr><td>BR0573</td><td>Bentley Motors</td><td>822</td></tr><tr><td>BR1665</td><td>Hyundai Motors</td><td>823</td></tr><tr><td>BR1895</td><td>Lincoln Motors</td><td>824</td></tr><tr><td>BR2101</td><td>ZIL Motors</td><td>825</td></tr><tr><td>BR2202</td><td>Vauxhall Motors</td><td>826</td></tr><tr><td>BR2335</td><td>PGO Motors</td><td>827</td></tr><tr><td>BR2372</td><td>Lagonda  Motors</td><td>828</td></tr><tr><td>BR3906</td><td>Blankinship Motor Company Building</td><td>829</td></tr><tr><td>BR0130</td><td>JPX Motors</td><td>830</td></tr><tr><td>BR0611</td><td>Ford Australia Motors</td><td>831</td></tr><tr><td>BR1157</td><td>Auto-Union Motors</td><td>832</td></tr><tr><td>BR1292</td><td>Lincoln Motors</td><td>833</td></tr><tr><td>BR1677</td><td>De Tomaso Motors</td><td>834</td></tr><tr><td>BR1840</td><td>Alfa Romeo Motors</td><td>835</td></tr><tr><td>BR1894</td><td>Micro Motors</td><td>836</td></tr><tr><td>BR1957</td><td>Healey Motors</td><td>837</td></tr><tr><td>BR2289</td><td>Geo Motors</td><td>838</td></tr><tr><td>BR2371</td><td>Cass Motor Sales</td><td>839</td></tr><tr><td>BR7926</td><td>Chevrolet Motors</td><td>840</td></tr><tr><td>BR0195</td><td>Westfield Motors</td><td>841</td></tr><tr><td>BR0484</td><td>Ariel Motors</td><td>842</td></tr><tr><td>BR1029</td><td>ZAZ Motors</td><td>843</td></tr><tr><td>BR1137</td><td>Audi Motors</td><td>844</td></tr><tr><td>BR1431</td><td>null</td><td>845</td></tr><tr><td>BR1792</td><td>Premier Motors</td><td>846</td></tr><tr><td>BR2272</td><td>Wiesmann Motors</td><td>847</td></tr><tr><td>BR1215</td><td>Daihatsu Motors</td><td>848</td></tr><tr><td>BR14226</td><td>Naza Motors</td><td>849</td></tr><tr><td>BR1725</td><td>Iso Motors</td><td>850</td></tr><tr><td>BR2886</td><td>Maybach  Motors</td><td>851</td></tr><tr><td>BR0014</td><td>Zastava Motors</td><td>852</td></tr><tr><td>BR0066</td><td>SAIC Motor Motors</td><td>853</td></tr><tr><td>BR0608</td><td>Subaru Motors</td><td>854</td></tr><tr><td>BR0774</td><td>Bentley Motors</td><td>855</td></tr><tr><td>BR0894</td><td>Cadillac Motors</td><td>856</td></tr><tr><td>BR0912</td><td>Glas Motors</td><td>857</td></tr><tr><td>BR1558</td><td>Auto-Union Motors</td><td>858</td></tr><tr><td>BR2042</td><td>SsangYong Motors</td><td>859</td></tr><tr><td>BR2154</td><td>Plymouth Motors</td><td>860</td></tr><tr><td>BR2267</td><td>Land Rover Motors</td><td>861</td></tr><tr><td>BR0144</td><td>Riley  Motors</td><td>862</td></tr><tr><td>BR0509</td><td>Pontiac, Asüna Motors</td><td>863</td></tr><tr><td>BR0709</td><td>Shelby SuperCars Motors</td><td>864</td></tr><tr><td>BR0851</td><td>Hummer Motors</td><td>865</td></tr><tr><td>BR1310</td><td>Lagonda  Motors</td><td>866</td></tr><tr><td>BR1954</td><td>Moskwitch Motors</td><td>867</td></tr><tr><td>BR2131</td><td>Horch Motors</td><td>868</td></tr><tr><td>BR2220</td><td>Daihatsu Motors</td><td>869</td></tr><tr><td>BR2243</td><td>SsangYong Motors</td><td>870</td></tr><tr><td>BR2457</td><td>Mercury Motors</td><td>871</td></tr><tr><td>BR0065</td><td>Tesla Motors</td><td>872</td></tr><tr><td>BR0488</td><td>Scion Motors</td><td>873</td></tr><tr><td>BR0810</td><td>Saab Motors</td><td>874</td></tr><tr><td>BR0947</td><td>H Street Playhouse</td><td>875</td></tr><tr><td>BR1815</td><td>Koenigsegg Motors</td><td>876</td></tr><tr><td>BR2034</td><td>null</td><td>877</td></tr><tr><td>BR2188</td><td>Hillman Motors</td><td>878</td></tr><tr><td>BR2250</td><td>Delahaye Motors</td><td>879</td></tr><tr><td>BR2340</td><td>Elva Motors</td><td>880</td></tr><tr><td>BR0135</td><td>Vauxhall Motors</td><td>881</td></tr><tr><td>BR0152</td><td>Auto-Union Motors</td><td>882</td></tr><tr><td>BR0352</td><td>Auto-Union Motors</td><td>883</td></tr><tr><td>BR1291</td><td>Micro Motors</td><td>884</td></tr><tr><td>BR1608</td><td>Bond Motors</td><td>885</td></tr><tr><td>BR2394</td><td>Simca do Brasil Motors</td><td>886</td></tr><tr><td>BR2451</td><td>Jones Motor Company</td><td>887</td></tr><tr><td>BR0220</td><td>Ligier Motors</td><td>888</td></tr><tr><td>BR0283</td><td>Ariel Motors</td><td>889</td></tr><tr><td>BR0770</td><td>Reliant Motors</td><td>890</td></tr><tr><td>BR0845</td><td>Alpine Motors</td><td>891</td></tr><tr><td>BR1339</td><td>Colman Automotive Building</td><td>892</td></tr><tr><td>BR2454</td><td>Standard-Triumph Motors</td><td>893</td></tr><tr><td>BR0409</td><td>Panhard Motors</td><td>894</td></tr><tr><td>BR0971</td><td>Jeep Motors</td><td>895</td></tr><tr><td>BR1083</td><td>Geo Motors</td><td>896</td></tr><tr><td>BR1159</td><td>Wolseley  Motors</td><td>897</td></tr><tr><td>BR1779</td><td>Bentley Motors</td><td>898</td></tr><tr><td>BR1864</td><td>Merkur Motors</td><td>899</td></tr><tr><td>BR2007</td><td>Holden Motors</td><td>900</td></tr><tr><td>BR1189</td><td>Das Motors</td><td>901</td></tr><tr><td>BR1348</td><td>Autobianchi Motors</td><td>902</td></tr><tr><td>BR2018</td><td>Ford Australia Motors</td><td>903</td></tr><tr><td>BR2048</td><td>Ford India Motors</td><td>904</td></tr><tr><td>BR8106</td><td>Chrysler Europe Motors</td><td>905</td></tr><tr><td>BR0185</td><td>Volvo Motors</td><td>906</td></tr><tr><td>BR0700</td><td>Polestar Motors</td><td>907</td></tr><tr><td>BR1112</td><td>Isdera Motors</td><td>908</td></tr><tr><td>BR1253</td><td>Hummer Motors</td><td>909</td></tr><tr><td>BR1293</td><td>null</td><td>910</td></tr><tr><td>BR1638</td><td>British Leyland Motors</td><td>911</td></tr><tr><td>BR1783</td><td>Nissan Motors</td><td>912</td></tr><tr><td>BR1830</td><td>Aixam-Mega (including Arola) Motors</td><td>913</td></tr><tr><td>BR2351</td><td>Cadillac Automobile Company Building</td><td>914</td></tr><tr><td>BR6546</td><td>ARO Motors</td><td>915</td></tr><tr><td>BR0094</td><td>Izh  Motors</td><td>916</td></tr><tr><td>BR0239</td><td>Mini Motors</td><td>917</td></tr><tr><td>BR0268</td><td>PGO Motors</td><td>918</td></tr><tr><td>BR0702</td><td>Edsel Motors</td><td>919</td></tr><tr><td>BR0968</td><td>Standard  Motors</td><td>920</td></tr><tr><td>BR1162</td><td>Jaguar Motors</td><td>921</td></tr><tr><td>BR12486</td><td>Ligier Motors</td><td>922</td></tr><tr><td>BR1562</td><td>Nash Motors</td><td>923</td></tr><tr><td>BR1745</td><td>Isuzu Motors</td><td>924</td></tr><tr><td>BR1974</td><td>Naza Motors</td><td>925</td></tr><tr><td>BR2122</td><td>Tazzari Motors</td><td>926</td></tr><tr><td>BR2163</td><td>Seat Motors</td><td>927</td></tr><tr><td>BR2166</td><td>Volkswagen do Brasil Motors</td><td>928</td></tr><tr><td>BR2226</td><td>Volkswagen South Africa Motors</td><td>929</td></tr><tr><td>BR0064</td><td>Horch Motors</td><td>930</td></tr><tr><td>BR0083</td><td>Cadillac Automobile Company Building</td><td>931</td></tr><tr><td>BR0328</td><td>Premier Motors</td><td>932</td></tr><tr><td>BR0492</td><td>Cadillac Motors</td><td>933</td></tr><tr><td>BR1087</td><td>Ariel Motors</td><td>934</td></tr><tr><td>BR1393</td><td>JPX Motors</td><td>935</td></tr><tr><td>BR1811</td><td>Skoda Motors</td><td>936</td></tr><tr><td>BR1901</td><td>Tata Motors</td><td>937</td></tr><tr><td>BR0487</td><td>Toyota Motors</td><td>938</td></tr><tr><td>BR0585</td><td>Jones Motor Company</td><td>939</td></tr><tr><td>BR0678</td><td>Tornado Motors</td><td>940</td></tr><tr><td>BR1088</td><td>Cadillac Automobile Company Building</td><td>941</td></tr><tr><td>BR1425</td><td>Ford do Brasil Motors</td><td>942</td></tr><tr><td>BR1709</td><td>Artega Motors</td><td>943</td></tr><tr><td>BR1742</td><td>Piaggio Motors</td><td>944</td></tr><tr><td>BR2025</td><td>Mazzanti Motors</td><td>945</td></tr><tr><td>BR2469</td><td>Hyundai Motors</td><td>946</td></tr><tr><td>BR0747</td><td>Riley  Motors</td><td>947</td></tr><tr><td>BR0961</td><td>Jaguar Motors</td><td>948</td></tr><tr><td>BR1471</td><td>Panhard Motors</td><td>949</td></tr><tr><td>BR1615</td><td>Honda Motors</td><td>950</td></tr><tr><td>BR2059</td><td>DeLorean Motors</td><td>951</td></tr><tr><td>BR2211</td><td>Riley  Motors</td><td>952</td></tr><tr><td>BR2455</td><td>Rivian Motors</td><td>953</td></tr><tr><td>BR0103</td><td>Cass Motor Sales</td><td>954</td></tr><tr><td>BR1993</td><td>Premier Motors</td><td>955</td></tr><tr><td>BR8706</td><td>DeLorean Motors</td><td>956</td></tr><tr><td>BR9126</td><td>Eicher Polaris Motors</td><td>957</td></tr><tr><td>BR0342</td><td>Autobianchi Motors</td><td>958</td></tr><tr><td>BR0410</td><td>Messerschmitt Motors</td><td>959</td></tr><tr><td>BR2348</td><td>Isuzu Motors</td><td>960</td></tr><tr><td>BR8226</td><td>Cizeta-Moroder Motors</td><td>961</td></tr><tr><td>BR0202</td><td>AC Cars Motors</td><td>962</td></tr><tr><td>BR0387</td><td>Standard-Triumph Motors</td><td>963</td></tr><tr><td>BR1107</td><td>null</td><td>964</td></tr><tr><td>BR1403</td><td>Kia Motors</td><td>965</td></tr><tr><td>BR1410</td><td>Deccan Motors</td><td>966</td></tr><tr><td>BR1444</td><td>Humber Motors</td><td>967</td></tr><tr><td>BR1621</td><td>Ranger Motors</td><td>968</td></tr><tr><td>BR1797</td><td>Fisker, Karma Motors</td><td>969</td></tr><tr><td>BR1980</td><td>Bentley Motors</td><td>970</td></tr><tr><td>BR2047</td><td>Humber Motors</td><td>971</td></tr><tr><td>BR0211</td><td>Infiniti Motors</td><td>972</td></tr><tr><td>BR1473</td><td>Lexus Motors</td><td>973</td></tr><tr><td>BR1492</td><td>Micro Motors</td><td>974</td></tr><tr><td>BR2068</td><td>FSO Motors</td><td>975</td></tr><tr><td>BR2412</td><td>Riley  Motors</td><td>976</td></tr><tr><td>BR7326</td><td>Bristol Motors</td><td>977</td></tr><tr><td>BR1101</td><td>Lotus Motors</td><td>978</td></tr><tr><td>BR1163</td><td>Heinkel Motors</td><td>979</td></tr><tr><td>BR14406</td><td>Noble Motors</td><td>980</td></tr><tr><td>BR1543</td><td>Mahindra Motors</td><td>981</td></tr><tr><td>BR1672</td><td>Panhard Motors</td><td>982</td></tr><tr><td>BR1765</td><td>Jaguar Motors</td><td>983</td></tr><tr><td>BR1965</td><td>Marlin Motors</td><td>984</td></tr><tr><td>BR2234</td><td>Reliant Motors</td><td>985</td></tr><tr><td>BR2300</td><td>Donkervoort Motors</td><td>986</td></tr><tr><td>BR2377</td><td>Maruti Motors</td><td>987</td></tr><tr><td>BR2437</td><td>McLaren Motors</td><td>988</td></tr><tr><td>BR0295</td><td>Izh  Motors</td><td>989</td></tr><tr><td>BR0672</td><td>De Tomaso Motors</td><td>990</td></tr><tr><td>BR0735</td><td>Audi Motors</td><td>991</td></tr><tr><td>BR0794</td><td>BMW Motors</td><td>992</td></tr><tr><td>BR2041</td><td>Volkswagen South Africa Motors</td><td>993</td></tr><tr><td>BR0189</td><td>Mercury Motors</td><td>994</td></tr><tr><td>BR0306</td><td>Santa Matilde Motors</td><td>995</td></tr><tr><td>BR0371</td><td>Cizeta-Moroder Motors</td><td>996</td></tr><tr><td>BR0384</td><td>Jones Motor Company</td><td>997</td></tr><tr><td>BR0605</td><td>AC Cars Motors</td><td>998</td></tr><tr><td>BR0921</td><td>Iso Motors</td><td>999</td></tr><tr><td>BR10026</td><td>GAZ Motors</td><td>1000</td></tr><tr><td>BR1059</td><td>DKW Motors</td><td>1001</td></tr><tr><td>BR1338</td><td>Audi Motors</td><td>1002</td></tr><tr><td>BR1787</td><td>Fiat India Motors</td><td>1003</td></tr><tr><td>BR2380</td><td>Fiat do Brasil Motors</td><td>1004</td></tr><tr><td>BR0117</td><td>Porsche Motors</td><td>1005</td></tr><tr><td>BR0170</td><td>Lada Motors</td><td>1006</td></tr><tr><td>BR0690</td><td>Plymouth Motors</td><td>1007</td></tr><tr><td>BR1262</td><td>Land Rover Motors</td><td>1008</td></tr><tr><td>BR1419</td><td>Acura Motors</td><td>1009</td></tr><tr><td>BR1457</td><td>Austin, Rover Motors</td><td>1010</td></tr><tr><td>BR1520</td><td>Claremore Auto Dealership</td><td>1011</td></tr><tr><td>BR1719</td><td>Asia Motors Motors</td><td>1012</td></tr><tr><td>BR1758</td><td>Chrysler Europe Motors</td><td>1013</td></tr><tr><td>BR2214</td><td>Puma Motors</td><td>1014</td></tr><tr><td>BR2305</td><td>Peel Motors</td><td>1015</td></tr><tr><td>BR5946</td><td>BMW Motors</td><td>1016</td></tr><tr><td>BR0041</td><td>Alpine Motors</td><td>1017</td></tr><tr><td>BR0104</td><td>Lagonda  Motors</td><td>1018</td></tr><tr><td>BR0122</td><td>Aston Martin Motors</td><td>1019</td></tr><tr><td>BR0429</td><td>Panther Motors</td><td>1020</td></tr><tr><td>BR0786</td><td>Singer Motors</td><td>1021</td></tr><tr><td>BR0943</td><td>Facel Vega Motors</td><td>1022</td></tr><tr><td>BR1231</td><td>McLaren Motors</td><td>1023</td></tr><tr><td>BR1305</td><td>Edsel Motors</td><td>1024</td></tr><tr><td>BR1330</td><td>Morris  Motors</td><td>1025</td></tr><tr><td>BR1737</td><td>Elva Motors</td><td>1026</td></tr><tr><td>BR4686</td><td>Jones Motor Company</td><td>1027</td></tr><tr><td>BR0114</td><td>MG  Motors</td><td>1028</td></tr><tr><td>BR0181</td><td>Hummer Motors</td><td>1029</td></tr><tr><td>BR0353</td><td>Auto-Union Motors</td><td>1030</td></tr><tr><td>BR0995</td><td>BMW Motors</td><td>1031</td></tr><tr><td>BR11466</td><td>Isdera Motors</td><td>1032</td></tr><tr><td>BR1152</td><td>Iveco Motors</td><td>1033</td></tr><tr><td>BR1383</td><td>Jensen Motors</td><td>1034</td></tr><tr><td>BR1585</td><td>Hillman Motors</td><td>1035</td></tr><tr><td>BR1670</td><td>AMC, Eagle Motors</td><td>1036</td></tr><tr><td>BR1929</td><td>Chevrolet Motors</td><td>1037</td></tr><tr><td>BR2310</td><td>Edsel Motors</td><td>1038</td></tr><tr><td>BR4086</td><td>Cadillac Automobile Company Building</td><td>1039</td></tr><tr><td>BR5346</td><td>ARO Motors</td><td>1040</td></tr><tr><td>BR0194</td><td>Ramani Motors</td><td>1041</td></tr><tr><td>BR0337</td><td>Singer Motors</td><td>1042</td></tr><tr><td>BR0382</td><td>Bitter Motors</td><td>1043</td></tr><tr><td>BR0738</td><td>Vauxhall Motors</td><td>1044</td></tr><tr><td>BR1502</td><td>Mini Motors</td><td>1045</td></tr><tr><td>BR2134</td><td>PGO Motors</td><td>1046</td></tr><tr><td>BR2139</td><td>Elva Motors</td><td>1047</td></tr><tr><td>BR3786</td><td>Atlantic Motor Company</td><td>1048</td></tr><tr><td>BR6606</td><td>Artega Motors</td><td>1049</td></tr><tr><td>BR7506</td><td>Austin, Rover Motors</td><td>1050</td></tr><tr><td>BR0138</td><td>Noble Motors</td><td>1051</td></tr><tr><td>BR0367</td><td>Spyker Motors</td><td>1052</td></tr><tr><td>BR0512</td><td>Checker Motors</td><td>1053</td></tr><tr><td>BR0711</td><td>Glas Motors</td><td>1054</td></tr><tr><td>BR0787</td><td>Das Motors</td><td>1055</td></tr><tr><td>BR1049</td><td>null</td><td>1056</td></tr><tr><td>BR2307</td><td>Lotus Motors</td><td>1057</td></tr><tr><td>BR0118</td><td>Nissan Motors</td><td>1058</td></tr><tr><td>BR0131</td><td>Holden Motors</td><td>1059</td></tr><tr><td>BR0279</td><td>Morgan Motors</td><td>1060</td></tr><tr><td>BR0727</td><td>Morris  Motors</td><td>1061</td></tr><tr><td>BR1184</td><td>Fiat India Motors</td><td>1062</td></tr><tr><td>BR1192</td><td>JPX Motors</td><td>1063</td></tr><tr><td>BR11946</td><td>JPX Motors</td><td>1064</td></tr><tr><td>BR1238</td><td>Alfa Romeo Motors</td><td>1065</td></tr><tr><td>BR1488</td><td>Ariel Motors</td><td>1066</td></tr><tr><td>BR1579</td><td>Bentley Motors</td><td>1067</td></tr><tr><td>BR1620</td><td>Acura Motors</td><td>1068</td></tr><tr><td>BR1625</td><td>Honda India Motors</td><td>1069</td></tr><tr><td>BR1937</td><td>GTA Spano Motors</td><td>1070</td></tr><tr><td>BR2113</td><td>San Motors</td><td>1071</td></tr><tr><td>BR0493</td><td>ARO Motors</td><td>1072</td></tr><tr><td>BR0625</td><td>Aixam-Mega (including Arola) Motors</td><td>1073</td></tr><tr><td>BR0744</td><td>Autobianchi Motors</td><td>1074</td></tr><tr><td>BR0781</td><td>Hillman Motors</td><td>1075</td></tr><tr><td>BR0785</td><td>Bitter Motors</td><td>1076</td></tr><tr><td>BR0931</td><td>Isotta Fraschini Motors</td><td>1077</td></tr><tr><td>BR1414</td><td>Honda Motors</td><td>1078</td></tr><tr><td>BR1445</td><td>Ford India Motors</td><td>1079</td></tr><tr><td>BR1655</td><td>Hummer Motors</td><td>1080</td></tr><tr><td>BR1778</td><td>Cizeta-Moroder Motors</td><td>1081</td></tr><tr><td>BR2011</td><td>Venturi Motors</td><td>1082</td></tr><tr><td>BR2222</td><td>Volkswagen Motors</td><td>1083</td></tr><tr><td>BR0423</td><td>Aixam-Mega (including Arola) Motors</td><td>1084</td></tr><tr><td>BR0965</td><td>Auverland Motors</td><td>1085</td></tr><tr><td>BR1094</td><td>Donkervoort Motors</td><td>1086</td></tr><tr><td>BR1182</td><td>Jensen Motors</td><td>1087</td></tr><tr><td>BR12186</td><td>Lada Motors</td><td>1088</td></tr><tr><td>BR13086</td><td>Maserati Motors</td><td>1089</td></tr><tr><td>BR1908</td><td>Edsel Motors</td><td>1090</td></tr><tr><td>BR1922</td><td>Santa Matilde Motors</td><td>1091</td></tr><tr><td>BR2159</td><td>Ferrari Motors</td><td>1092</td></tr><tr><td>BR6246</td><td>Alpine Motors</td><td>1093</td></tr><tr><td>BR0224</td><td>Zion Automobils</td><td>1094</td></tr><tr><td>BR0414</td><td>Acura Motors</td><td>1095</td></tr><tr><td>BR0793</td><td>Daewoo, Saehan, Chevrolet Korea Motors</td><td>1096</td></tr><tr><td>BR1077</td><td>Anadol Motors</td><td>1097</td></tr><tr><td>BR13506</td><td>Mercury Motors</td><td>1098</td></tr><tr><td>BR1363</td><td>Jaguar Motors</td><td>1099</td></tr><tr><td>BR1699</td><td>ARO Motors</td><td>1100</td></tr><tr><td>BR1958</td><td>Ferrari Motors</td><td>1101</td></tr><tr><td>BR2046</td><td>Venturi Motors</td><td>1102</td></tr><tr><td>BR2157</td><td>Iveco Motors</td><td>1103</td></tr><tr><td>BR2281</td><td>Herald Motors</td><td>1104</td></tr><tr><td>BR0313</td><td>Asia Motors Motors</td><td>1105</td></tr><tr><td>BR0666</td><td>Simca Motors</td><td>1106</td></tr><tr><td>BR1692</td><td>Panther Motors</td><td>1107</td></tr><tr><td>BR1955</td><td>Marcos Motors</td><td>1108</td></tr><tr><td>BR0331</td><td>Chevrolet India Motors</td><td>1109</td></tr><tr><td>BR0588</td><td>Standard-Triumph Motors</td><td>1110</td></tr><tr><td>BR0681</td><td>Geo Motors</td><td>1111</td></tr><tr><td>BR1249</td><td>2008 NRHP-listed</td><td>1112</td></tr><tr><td>BR1315</td><td>e.GO Mobile Motors</td><td>1113</td></tr><tr><td>BR1449</td><td>Alpine Motors</td><td>1114</td></tr><tr><td>BR0228</td><td>Panther Motors</td><td>1115</td></tr><tr><td>BR0523</td><td>Aston Martin Motors</td><td>1116</td></tr><tr><td>BR0697</td><td>Izh  Motors</td><td>1117</td></tr><tr><td>BR0762</td><td>Fiat Motors</td><td>1118</td></tr><tr><td>BR0838</td><td>ZIL Motors</td><td>1119</td></tr><tr><td>BR0974</td><td>Cizeta-Moroder Motors</td><td>1120</td></tr><tr><td>BR1482</td><td>Mia Motors</td><td>1121</td></tr><tr><td>BR1667</td><td>DeSoto Motors</td><td>1122</td></tr><tr><td>BR1839</td><td>British Leyland Motors</td><td>1123</td></tr><tr><td>BR2229</td><td>Ford do Brasil Motors</td><td>1124</td></tr><tr><td>BR2231</td><td>Standard  Motors</td><td>1125</td></tr><tr><td>BR0303</td><td>null</td><td>1126</td></tr><tr><td>BR0372</td><td>Bentley Motors</td><td>1127</td></tr><tr><td>BR0713</td><td>Checker Motors</td><td>1128</td></tr><tr><td>BR0784</td><td>Bitter Motors</td><td>1129</td></tr><tr><td>BR0901</td><td>Invicta Motors</td><td>1130</td></tr><tr><td>BR1202</td><td>Kia Motors</td><td>1131</td></tr><tr><td>BR12786</td><td>Lynx Motors</td><td>1132</td></tr><tr><td>BR1860</td><td>Alvis Motors</td><td>1133</td></tr><tr><td>BR2110</td><td>Caterham Motors</td><td>1134</td></tr><tr><td>BR2277</td><td>Lexus Motors</td><td>1135</td></tr><tr><td>BR2332</td><td>Horch Motors</td><td>1136</td></tr><tr><td>BR0778</td><td>Volkswagen South Africa Motors</td><td>1137</td></tr><tr><td>BR0942</td><td>Gumpert Motors</td><td>1138</td></tr><tr><td>BR1401</td><td>Noble Motors</td><td>1139</td></tr><tr><td>BR1435</td><td>Ford Europe Motors</td><td>1140</td></tr><tr><td>BR1465</td><td>FSO Motors</td><td>1141</td></tr><tr><td>BR2067</td><td>Hyundai Motors</td><td>1142</td></tr><tr><td>BR2124</td><td>Peugeot Motors</td><td>1143</td></tr><tr><td>BR2399</td><td>Hindustan Motors</td><td>1144</td></tr><tr><td>BR7026</td><td>Bentley Motors</td><td>1145</td></tr><tr><td>BR0045</td><td>Tatra Motors</td><td>1146</td></tr><tr><td>BR0151</td><td>Honda India Motors</td><td>1147</td></tr><tr><td>BR0334</td><td>Colman Automotive Building</td><td>1148</td></tr><tr><td>BR1026</td><td>SsangYong Motors</td><td>1149</td></tr><tr><td>BR1322</td><td>LuAZ Motors</td><td>1150</td></tr><tr><td>BR1888</td><td>Dodge Motors</td><td>1151</td></tr><tr><td>BR1947</td><td>Gumpert Motors</td><td>1152</td></tr><tr><td>BR2148</td><td>Gumpert Motors</td><td>1153</td></tr><tr><td>BR2239</td><td>Ford Europe Motors</td><td>1154</td></tr><tr><td>BR0017</td><td>Panoz Motors</td><td>1155</td></tr><tr><td>BR0599</td><td>Rolls-Royce Motors</td><td>1156</td></tr><tr><td>BR1279</td><td>Buick Automobile Company Building</td><td>1157</td></tr><tr><td>BR1343</td><td>Isuzu Motors</td><td>1158</td></tr><tr><td>BR1522</td><td>Monica Motors</td><td>1159</td></tr><tr><td>BR2031</td><td>Volkswagen do Brasil Motors</td><td>1160</td></tr><tr><td>BR2190</td><td>Dacia Motors</td><td>1161</td></tr><tr><td>BR2361</td><td>Casa de cadillac</td><td>1162</td></tr><tr><td>BR0168</td><td>null</td><td>1163</td></tr><tr><td>BR0577</td><td>Volkswagen South Africa Motors</td><td>1164</td></tr><tr><td>BR0730</td><td>Premier Motors</td><td>1165</td></tr><tr><td>BR0879</td><td>Tornado Motors</td><td>1166</td></tr><tr><td>BR0923</td><td>Eicher Polaris Motors</td><td>1167</td></tr><tr><td>BR2104</td><td>Peel Motors</td><td>1168</td></tr><tr><td>BR2419</td><td>Honda Motors</td><td>1169</td></tr><tr><td>BR2448</td><td>Lamborghini Motors</td><td>1170</td></tr><tr><td>BR2470</td><td>FSO Motors</td><td>1171</td></tr><tr><td>BR0031</td><td>Ginetta Motors</td><td>1172</td></tr><tr><td>BR0391</td><td>Daewoo, Saehan, Chevrolet Korea Motors</td><td>1173</td></tr><tr><td>BR0477</td><td>Tornado Motors</td><td>1174</td></tr><tr><td>BR0614</td><td>Acura Motors</td><td>1175</td></tr><tr><td>BR0751</td><td>Healey Motors</td><td>1176</td></tr><tr><td>BR14766</td><td>Pagani Motors</td><td>1177</td></tr><tr><td>BR2302</td><td>ZIL Motors</td><td>1178</td></tr><tr><td>BR0218</td><td>Panoz Motors</td><td>1179</td></tr><tr><td>BR0323</td><td>Aston Martin Motors</td><td>1180</td></tr><tr><td>BR0395</td><td>Ramani Motors</td><td>1181</td></tr><tr><td>BR0450</td><td>Mitsubishi Motors</td><td>1182</td></tr><tr><td>BR0958</td><td>Wolseley  Motors</td><td>1183</td></tr><tr><td>BR0964</td><td>Citroën Motors</td><td>1184</td></tr><tr><td>BR1715</td><td>Isdera Motors</td><td>1185</td></tr><tr><td>BR1768</td><td>Citroën Motors</td><td>1186</td></tr><tr><td>BR2097</td><td>null</td><td>1187</td></tr><tr><td>BR2204</td><td>Proton Motors</td><td>1188</td></tr><tr><td>BR2258</td><td>Hummer Motors</td><td>1189</td></tr><tr><td>BR0053</td><td>Blankinship Motor Company Building</td><td>1190</td></tr><tr><td>BR0074</td><td>Wanderer Motors</td><td>1191</td></tr><tr><td>BR0249</td><td>Mitsubishi Motors</td><td>1192</td></tr><tr><td>BR0643</td><td>Austin-Healey Motors</td><td>1193</td></tr><tr><td>BR0661</td><td>FSO Motors</td><td>1194</td></tr><tr><td>BR1021</td><td>KTM Motors</td><td>1195</td></tr><tr><td>BR1098</td><td>Casa de cadillac</td><td>1196</td></tr><tr><td>BR1125</td><td>Chevrolet Motors</td><td>1197</td></tr><tr><td>BR13926</td><td>Monica Motors</td><td>1198</td></tr><tr><td>BR1493</td><td>Lincoln Motors</td><td>1199</td></tr><tr><td>BR2151</td><td>Maybach  Motors</td><td>1200</td></tr><tr><td>BR2352</td><td>Maybach  Motors</td><td>1201</td></tr><tr><td>BR0006</td><td>Saab Motors</td><td>1202</td></tr><tr><td>BR0051</td><td>Alvis Motors</td><td>1203</td></tr><tr><td>BR0169</td><td>McLaren Motors</td><td>1204</td></tr><tr><td>BR0341</td><td>Chrysler Motors</td><td>1205</td></tr><tr><td>BR0620</td><td>Panoz Motors</td><td>1206</td></tr><tr><td>BR0658</td><td>Tazzari Motors</td><td>1207</td></tr><tr><td>BR0803</td><td>DAF Motors</td><td>1208</td></tr><tr><td>BR1944</td><td>Morgan Motors</td><td>1209</td></tr><tr><td>BR2312</td><td>null</td><td>1210</td></tr><tr><td>BR0069</td><td>Lynx Motors</td><td>1211</td></tr><tr><td>BR0267</td><td>Santana Motors</td><td>1212</td></tr><tr><td>BR0379</td><td>Opel Motors</td><td>1213</td></tr><tr><td>BR0634</td><td>Alfa Romeo Motors</td><td>1214</td></tr><tr><td>BR0680</td><td>Piaggio Motors</td><td>1215</td></tr><tr><td>BR0688</td><td>Toyota Motors</td><td>1216</td></tr><tr><td>BR0884</td><td>Bytom Motors</td><td>1217</td></tr><tr><td>BR0983</td><td>Fiat India Motors</td><td>1218</td></tr><tr><td>BR1147</td><td>Autobianchi Motors</td><td>1219</td></tr><tr><td>BR1411</td><td>NSU Motors</td><td>1220</td></tr><tr><td>BR1464</td><td>Hyundai Motors</td><td>1221</td></tr><tr><td>BR2251</td><td>Das Motors</td><td>1222</td></tr><tr><td>BR2329</td><td>GMC Motors</td><td>1223</td></tr><tr><td>BR0049</td><td>LTI Motors</td><td>1224</td></tr><tr><td>BR0225</td><td>ZAZ Motors</td><td>1225</td></tr><tr><td>BR0272</td><td>Anadol Motors</td><td>1226</td></tr><tr><td>BR0844</td><td>Austin-Healey Motors</td><td>1227</td></tr><tr><td>BR1043</td><td>Ford India Motors</td><td>1228</td></tr><tr><td>BR1148</td><td>H Street Playhouse</td><td>1229</td></tr><tr><td>BR1171</td><td>Maruti Motors</td><td>1230</td></tr><tr><td>BR1232</td><td>Lada Motors</td><td>1231</td></tr><tr><td>BR1831</td><td>Spyker Motors</td><td>1232</td></tr><tr><td>BR2174</td><td>Pontiac, Asüna Motors</td><td>1233</td></tr><tr><td>BR0119</td><td>Maserati Motors</td><td>1234</td></tr><tr><td>BR0160</td><td>KTM Motors</td><td>1235</td></tr><tr><td>BR0433</td><td>Alfa Romeo Motors</td><td>1236</td></tr><tr><td>BR0629</td><td>Saleen Motors</td><td>1237</td></tr><tr><td>BR0718</td><td>TVR Motors</td><td>1238</td></tr><tr><td>BR1065</td><td>Bugatti Motors</td><td>1239</td></tr><tr><td>BR1149</td><td>Riley  Motors</td><td>1240</td></tr><tr><td>BR1180</td><td>Volkswagen South Africa Motors</td><td>1241</td></tr><tr><td>BR1195</td><td>Daewoo, Saehan, Chevrolet Korea Motors</td><td>1242</td></tr><tr><td>BR1212</td><td>Koenigsegg Motors</td><td>1243</td></tr><tr><td>BR1224</td><td>Ford do Brasil Motors</td><td>1244</td></tr><tr><td>BR1529</td><td>Aston Martin Motors</td><td>1245</td></tr><tr><td>BR1592</td><td>Nissan India Motors</td><td>1246</td></tr><tr><td>BR1714</td><td>LTI Motors</td><td>1247</td></tr><tr><td>BR1934</td><td>Monteverdi Motors</td><td>1248</td></tr><tr><td>BR1935</td><td>Lynx Motors</td><td>1249</td></tr><tr><td>BR2049</td><td>Delahaye Motors</td><td>1250</td></tr><tr><td>BR2064</td><td>Pagani Motors</td><td>1251</td></tr><tr><td>BR2085</td><td>Mia Motors</td><td>1252</td></tr><tr><td>BR2248</td><td>Humber Motors</td><td>1253</td></tr><tr><td>BR2406</td><td>Wiesmann Motors</td><td>1254</td></tr><tr><td>BR0347</td><td>Skoda Motors</td><td>1255</td></tr><tr><td>BR1450</td><td>2008 NRHP-listed</td><td>1256</td></tr><tr><td>BR1640</td><td>Alfa Romeo Motors</td><td>1257</td></tr><tr><td>BR1687</td><td>Dodge Motors</td><td>1258</td></tr><tr><td>BR2321</td><td>Blankinship Motor Company Building</td><td>1259</td></tr><tr><td>BR0572</td><td>Cizeta-Moroder Motors</td><td>1260</td></tr><tr><td>BR0606</td><td>Shelby SuperCars Motors</td><td>1261</td></tr><tr><td>BR0641</td><td>Ford India Motors</td><td>1262</td></tr><tr><td>BR0667</td><td>Horch Motors</td><td>1263</td></tr><tr><td>BR0767</td><td>Standard  Motors</td><td>1264</td></tr><tr><td>BR0877</td><td>Buick Automobile Company Building</td><td>1265</td></tr><tr><td>BR1034</td><td>null</td><td>1266</td></tr><tr><td>BR1200</td><td>Westfield Motors</td><td>1267</td></tr><tr><td>BR1639</td><td>Alfa Romeo Motors</td><td>1268</td></tr><tr><td>BR1741</td><td>Saturn Motors</td><td>1269</td></tr><tr><td>BR1854</td><td>Mercury Motors</td><td>1270</td></tr><tr><td>BR1903</td><td>Peel Motors</td><td>1271</td></tr><tr><td>BR1930</td><td>Aston Martin Motors</td><td>1272</td></tr><tr><td>BR2155</td><td>Moskwitch Motors</td><td>1273</td></tr><tr><td>BR2217</td><td>Koenigsegg Motors</td><td>1274</td></tr><tr><td>BR2405</td><td>Proton Motors</td><td>1275</td></tr><tr><td>BR0042</td><td>Alpine Motors</td><td>1276</td></tr><tr><td>BR0285</td><td>Maybach  Motors</td><td>1277</td></tr><tr><td>BR0311</td><td>Checker Motors</td><td>1278</td></tr><tr><td>BR0895</td><td>ARO Motors</td><td>1279</td></tr><tr><td>BR1017</td><td>Acura Motors</td><td>1280</td></tr><tr><td>BR1295</td><td>Donkervoort Motors</td><td>1281</td></tr><tr><td>BR1571</td><td>Pontiac, Asüna Motors</td><td>1282</td></tr><tr><td>BR1637</td><td>null</td><td>1283</td></tr><tr><td>BR0084</td><td>Maybach  Motors</td><td>1284</td></tr><tr><td>BR0087</td><td>Plymouth Motors</td><td>1285</td></tr><tr><td>BR0186</td><td>Samsung Motors</td><td>1286</td></tr><tr><td>BR0199</td><td>Merkur Motors</td><td>1287</td></tr><tr><td>BR0447</td><td>Tatra Motors</td><td>1288</td></tr><tr><td>BR0533</td><td>Audi Motors</td><td>1289</td></tr><tr><td>BR0981</td><td>Jensen Motors</td><td>1290</td></tr><tr><td>BR10806</td><td>Holden Motors</td><td>1291</td></tr><tr><td>BR1229</td><td>Zion Automobils</td><td>1292</td></tr><tr><td>BR1761</td><td>Seat Motors</td><td>1293</td></tr><tr><td>BR1927</td><td>GMC Motors</td><td>1294</td></tr><tr><td>BR1978</td><td>Fiat do Brasil Motors</td><td>1295</td></tr><tr><td>BR2137</td><td>Isotta Fraschini Motors</td><td>1296</td></tr><tr><td>BR2303</td><td>Tata Motors</td><td>1297</td></tr><tr><td>BR2347</td><td>Mahindra Motors</td><td>1298</td></tr><tr><td>BR0120</td><td>Jensen Motors</td><td>1299</td></tr><tr><td>BR0397</td><td>Studebaker Motors</td><td>1300</td></tr><tr><td>BR0699</td><td>Seat Motors</td><td>1301</td></tr><tr><td>BR0924</td><td>Chevrolet Motors</td><td>1302</td></tr><tr><td>BR1143</td><td>Gumpert Motors</td><td>1303</td></tr><tr><td>BR12006</td><td>Kia Motors</td><td>1304</td></tr><tr><td>BR1451</td><td>Packard Motors</td><td>1305</td></tr><tr><td>BR1480</td><td>Buick Automobile Company Building</td><td>1306</td></tr><tr><td>BR1804</td><td>Matra (including Deutsch-Bonnet, René Bonnet) Motors</td><td>1307</td></tr><tr><td>BR1865</td><td>Land Rover Motors</td><td>1308</td></tr><tr><td>BR1892</td><td>Saleen Motors</td><td>1309</td></tr><tr><td>BR1918</td><td>e.GO Mobile Motors</td><td>1310</td></tr><tr><td>BR1919</td><td>Checker Motors</td><td>1311</td></tr><tr><td>BR2170</td><td>Citroën Motors</td><td>1312</td></tr><tr><td>BR6066</td><td>Acura Motors</td><td>1313</td></tr><tr><td>BR0290</td><td>Marcos Motors</td><td>1314</td></tr><tr><td>BR0542</td><td>Chrysler Motors</td><td>1315</td></tr><tr><td>BR1289</td><td>Cadillac Automobile Company Building</td><td>1316</td></tr><tr><td>BR13026</td><td>Maruti Motors</td><td>1317</td></tr><tr><td>BR1460</td><td>Blankinship Motor Company Building</td><td>1318</td></tr><tr><td>BR1619</td><td>Acura Motors</td><td>1319</td></tr><tr><td>BR1664</td><td>Land Rover Motors</td><td>1320</td></tr><tr><td>BR0015</td><td>Sunbeam Motors</td><td>1321</td></tr><tr><td>BR0060</td><td>Iso Motors</td><td>1322</td></tr><tr><td>BR0153</td><td>Howard Motor Company Building</td><td>1323</td></tr><tr><td>BR0213</td><td>Acura Motors</td><td>1324</td></tr><tr><td>BR0617</td><td>Zastava Motors</td><td>1325</td></tr><tr><td>BR0728</td><td>UAZ Motors</td><td>1326</td></tr><tr><td>BR0975</td><td>Bentley Motors</td><td>1327</td></tr><tr><td>BR1261</td><td>Merkur Motors</td><td>1328</td></tr><tr><td>BR1759</td><td>Auto-Union Motors</td><td>1329</td></tr><tr><td>BR1814</td><td>Mazda Motors</td><td>1330</td></tr><tr><td>BR1948</td><td>Facel Vega Motors</td><td>1331</td></tr><tr><td>BR2337</td><td>Lynx Motors</td><td>1332</td></tr><tr><td>BR3006</td><td>Lagonda  Motors</td><td>1333</td></tr><tr><td>BR0181</td><td>Bitter Motors</td><td>1334</td></tr><tr><td>BR0274</td><td>Buick Automobile Company Building</td><td>1335</td></tr><tr><td>BR1208</td><td>AC Cars Motors</td><td>1336</td></tr><tr><td>BR1972</td><td>Shelby SuperCars Motors</td><td>1337</td></tr><tr><td>BR8946</td><td>Donkervoort Motors</td><td>1338</td></tr><tr><td>BR0950</td><td>Skoda Motors</td><td>1339</td></tr><tr><td>BR1855</td><td>Lancia Motors</td><td>1340</td></tr><tr><td>BR2344</td><td>Saturn Motors</td><td>1341</td></tr><tr><td>BR0252</td><td>Alvis Motors</td><td>1342</td></tr><tr><td>BR0254</td><td>Blankinship Motor Company Building</td><td>1343</td></tr><tr><td>BR0293</td><td>ARO Motors</td><td>1344</td></tr><tr><td>BR0837</td><td>Atlantic Motor Company</td><td>1345</td></tr><tr><td>BR1003</td><td>Ford America Motors</td><td>1346</td></tr><tr><td>BR13686</td><td>Mia Motors</td><td>1347</td></tr><tr><td>BR0657</td><td>DKW Motors</td><td>1348</td></tr><tr><td>BR0949</td><td>Venturi Motors</td><td>1349</td></tr><tr><td>BR10206</td><td>Ginetta Motors</td><td>1350</td></tr><tr><td>BR11106</td><td>Hummer Motors</td><td>1351</td></tr><tr><td>BR12246</td><td>Lamborghini Motors</td><td>1352</td></tr><tr><td>BR0068</td><td>Monteverdi Motors</td><td>1353</td></tr><tr><td>BR0859</td><td>Tazzari Motors</td><td>1354</td></tr><tr><td>BR1227</td><td>Aixam-Mega (including Arola) Motors</td><td>1355</td></tr><tr><td>BR1578</td><td>Bentley Motors</td><td>1356</td></tr><tr><td>BR1872</td><td>Saab Motors</td><td>1357</td></tr><tr><td>BR1960</td><td>Auto-Union Motors</td><td>1358</td></tr><tr><td>BR2029</td><td>Daimler Motors</td><td>1359</td></tr><tr><td>BR0305</td><td>Lagonda  Motors</td><td>1360</td></tr><tr><td>BR1911</td><td>Tatra Motors</td><td>1361</td></tr><tr><td>BR2032</td><td>Spyker Motors</td><td>1362</td></tr><tr><td>BR2160</td><td>Chrysler Europe Motors</td><td>1363</td></tr><tr><td>BR8826</td><td>De Tomaso Motors</td><td>1364</td></tr><tr><td>BR0444</td><td>Alpine Motors</td><td>1365</td></tr><tr><td>BR1205</td><td>DAF Motors</td><td>1366</td></tr><tr><td>BR1552</td><td>Moskwitch Motors</td><td>1367</td></tr><tr><td>BR1604</td><td>Kia Motors</td><td>1368</td></tr><tr><td>BR1718</td><td>Checker Motors</td><td>1369</td></tr><tr><td>BR0028</td><td>Micro Motors</td><td>1370</td></tr><tr><td>BR0159</td><td>Mazzanti Motors</td><td>1371</td></tr><tr><td>BR0309</td><td>Naza Motors</td><td>1372</td></tr><tr><td>BR0403</td><td>AC Cars Motors</td><td>1373</td></tr><tr><td>BR1595</td><td>Hindustan Motors</td><td>1374</td></tr><tr><td>BR1680</td><td>Anadol Motors</td><td>1375</td></tr><tr><td>BR2130</td><td>Chevrolet Motors</td><td>1376</td></tr><tr><td>BR0054</td><td>DKW Motors</td><td>1377</td></tr><tr><td>BR0294</td><td>Casa de cadillac</td><td>1378</td></tr><tr><td>BR0517</td><td>TVR Motors</td><td>1379</td></tr><tr><td>BR0631</td><td>Ford Europe Motors</td><td>1380</td></tr><tr><td>BR0703</td><td>Caterham Motors</td><td>1381</td></tr><tr><td>BR0717</td><td>MG  Motors</td><td>1382</td></tr><tr><td>BR0765</td><td>Auverland Motors</td><td>1383</td></tr><tr><td>BR0789</td><td>Standard-Triumph Motors</td><td>1384</td></tr><tr><td>BR1104</td><td>Edsel Motors</td><td>1385</td></tr><tr><td>BR1151</td><td>Marcos Motors</td><td>1386</td></tr><tr><td>BR1239</td><td>Atlantic Motor Company</td><td>1387</td></tr><tr><td>BR1495</td><td>Gilbern Motors</td><td>1388</td></tr><tr><td>BR1838</td><td>null</td><td>1389</td></tr><tr><td>BR2121</td><td>DKW Motors</td><td>1390</td></tr><tr><td>BR2423</td><td>Volkswagen Motors</td><td>1391</td></tr><tr><td>BR3726</td><td>Zion Automobils</td><td>1392</td></tr><tr><td>BR0003</td><td>Deccan Motors</td><td>1393</td></tr><tr><td>BR0400</td><td>Merkur Motors</td><td>1394</td></tr><tr><td>BR1092</td><td>null</td><td>1395</td></tr><tr><td>BR13386</td><td>McLaren Motors</td><td>1396</td></tr><tr><td>BR1824</td><td>Mazzanti Motors</td><td>1397</td></tr><tr><td>BR0823</td><td>Daimler Motors</td><td>1398</td></tr><tr><td>BR0955</td><td>Auto-Union Motors</td><td>1399</td></tr><tr><td>BR1198</td><td>Kindel Building</td><td>1400</td></tr><tr><td>BR13626</td><td>Messerschmitt Motors</td><td>1401</td></tr><tr><td>BR1683</td><td>Mia Motors</td><td>1402</td></tr><tr><td>BR1798</td><td>Daewoo, Saehan, Chevrolet Korea Motors</td><td>1403</td></tr><tr><td>BR1998</td><td>Fisker, Karma Motors</td><td>1404</td></tr><tr><td>BR2301</td><td>Atlantic Motor Company</td><td>1405</td></tr><tr><td>BR0217</td><td>SAIC Motor Motors</td><td>1406</td></tr><tr><td>BR0339</td><td>Noble Motors</td><td>1407</td></tr><tr><td>BR0538</td><td>Singer Motors</td><td>1408</td></tr><tr><td>BR0578</td><td>SsangYong Motors</td><td>1409</td></tr><tr><td>BR1684</td><td>Ligier Motors</td><td>1410</td></tr><tr><td>BR0357</td><td>Smart Motors</td><td>1411</td></tr><tr><td>BR1074</td><td>De Tomaso Motors</td><td>1412</td></tr><tr><td>BR1193</td><td>Hindustan Motors</td><td>1413</td></tr><tr><td>BR1353</td><td>Iveco Motors</td><td>1414</td></tr><tr><td>BR2090</td><td>Bytom Motors</td><td>1415</td></tr><tr><td>BR0012</td><td>Acura Motors</td><td>1416</td></tr><tr><td>BR0264</td><td>Bohn Motor Company Automobile Dealership</td><td>1417</td></tr><tr><td>BR0297</td><td>Seat Motors</td><td>1418</td></tr><tr><td>BR0415</td><td>Herald Motors</td><td>1419</td></tr><tr><td>BR0673</td><td>Buick Motors</td><td>1420</td></tr><tr><td>BR0682</td><td>Dodge Motors</td><td>1421</td></tr><tr><td>BR0752</td><td>Ferrari Motors</td><td>1422</td></tr><tr><td>BR0839</td><td>Tata Motors</td><td>1423</td></tr><tr><td>BR1398</td><td>BMW Motors</td><td>1424</td></tr><tr><td>BR1746</td><td>Toyota India Motors</td><td>1425</td></tr><tr><td>BR2072</td><td>Subaru Motors</td><td>1426</td></tr><tr><td>BR2133</td><td>Santana Motors</td><td>1427</td></tr><tr><td>BR2264</td><td>Rolls-Royce Motors</td><td>1428</td></tr><tr><td>BR0473</td><td>Anadol Motors</td><td>1429</td></tr><tr><td>BR0613</td><td>Borgward (including Goliath and Lloyd) Motors</td><td>1430</td></tr><tr><td>BR1001</td><td>Kia Motors</td><td>1431</td></tr><tr><td>BR10506</td><td>Healey Motors</td><td>1432</td></tr><tr><td>BR1188</td><td>Jones Motor Company</td><td>1433</td></tr><tr><td>BR1549</td><td>Autobianchi Motors</td><td>1434</td></tr><tr><td>BR1710</td><td>null</td><td>1435</td></tr><tr><td>BR1751</td><td>Scion Motors</td><td>1436</td></tr><tr><td>BR2280</td><td>De Tomaso Motors</td><td>1437</td></tr><tr><td>BR2286</td><td>Volvo Motors</td><td>1438</td></tr><tr><td>BR6186</td><td>Alfa Romeo Motors</td><td>1439</td></tr><tr><td>BR0128</td><td>Nissan India Motors</td><td>1440</td></tr><tr><td>BR0969</td><td>Volkswagen do Brasil Motors</td><td>1441</td></tr><tr><td>BR1047</td><td>Alpine Motors</td><td>1442</td></tr><tr><td>BR1371</td><td>Naza Motors</td><td>1443</td></tr><tr><td>BR1454</td><td>Hummer Motors</td><td>1444</td></tr><tr><td>BR1739</td><td>Audi Motors</td><td>1445</td></tr><tr><td>BR1920</td><td>Asia Motors Motors</td><td>1446</td></tr><tr><td>BR3426</td><td>Talbot  Motors</td><td>1447</td></tr><tr><td>BR6366</td><td>AMC, Eagle Motors</td><td>1448</td></tr><tr><td>BR0061</td><td>AMC, Eagle Motors</td><td>1449</td></tr><tr><td>BR0604</td><td>AC Cars Motors</td><td>1450</td></tr><tr><td>BR0653</td><td>Austin, Rover Motors</td><td>1451</td></tr><tr><td>BR0840</td><td>Samsung Motors</td><td>1452</td></tr><tr><td>BR1023</td><td>Ford do Brasil Motors</td><td>1453</td></tr><tr><td>BR1378</td><td>Bentley Motors</td><td>1454</td></tr><tr><td>BR1603</td><td>Matra (including Deutsch-Bonnet, René Bonnet) Motors</td><td>1455</td></tr><tr><td>BR1869</td><td>Bugatti Motors</td><td>1456</td></tr><tr><td>BR2027</td><td>Honda India Motors</td><td>1457</td></tr><tr><td>BR2431</td><td>Hupmobile Building</td><td>1458</td></tr><tr><td>BR0551</td><td>Ferrari Motors</td><td>1459</td></tr><tr><td>BR0707</td><td>Lagonda  Motors</td><td>1460</td></tr><tr><td>BR0824</td><td>Bristol Motors</td><td>1461</td></tr><tr><td>BR1245</td><td>Delahaye Motors</td><td>1462</td></tr><tr><td>BR1395</td><td>Fisker, Karma Motors</td><td>1463</td></tr><tr><td>BR1769</td><td>Auverland Motors</td><td>1464</td></tr><tr><td>BR1782</td><td>Porsche Motors</td><td>1465</td></tr><tr><td>BR2165</td><td>Nash Motors</td><td>1466</td></tr><tr><td>BR0221</td><td>Bristol Motors</td><td>1467</td></tr><tr><td>BR0223</td><td>Aixam-Mega (including Arola) Motors</td><td>1468</td></tr><tr><td>BR0349</td><td>NSU Motors</td><td>1469</td></tr><tr><td>BR0904</td><td>Caterham Motors</td><td>1470</td></tr><tr><td>BR0927</td><td>Clemens Automobile Company Building</td><td>1471</td></tr><tr><td>BR1053</td><td>Freightliner Motors</td><td>1472</td></tr><tr><td>BR1055</td><td>Austin, Rover Motors</td><td>1473</td></tr><tr><td>BR1251</td><td>Mercury Motors</td><td>1474</td></tr><tr><td>BR1674</td><td>Lexus Motors</td><td>1475</td></tr><tr><td>BR2114</td><td>Perodua Motors</td><td>1476</td></tr><tr><td>BR2177</td><td>Jeep Motors</td><td>1477</td></tr><tr><td>BR2368</td><td>Jaguar Motors</td><td>1478</td></tr><tr><td>BR2393</td><td>UAZ Motors</td><td>1479</td></tr><tr><td>BR0299</td><td>Nash Motors</td><td>1480</td></tr><tr><td>BR0498</td><td>Seat Motors</td><td>1481</td></tr><tr><td>BR0615</td><td>Acura Motors</td><td>1482</td></tr><tr><td>BR0663</td><td>Bugatti Motors</td><td>1483</td></tr><tr><td>BR0929</td><td>UAZ Motors</td><td>1484</td></tr><tr><td>BR1058</td><td>Blankinship Motor Company Building</td><td>1485</td></tr><tr><td>BR1113</td><td>Glas Motors</td><td>1486</td></tr><tr><td>BR1542</td><td>Morgan Motors</td><td>1487</td></tr><tr><td>BR2087</td><td>Infiniti Motors</td><td>1488</td></tr><tr><td>BR2443</td><td>Volkswagen South Africa Motors</td><td>1489</td></tr><tr><td>BR0191</td><td>Hyundai Motors</td><td>1490</td></tr><tr><td>BR0693</td><td>Cadillac Motors</td><td>1491</td></tr><tr><td>BR1300</td><td>Izh  Motors</td><td>1492</td></tr><tr><td>BR1963</td><td>Polestar Motors</td><td>1493</td></tr><tr><td>BR0071</td><td>Gumpert Motors</td><td>1494</td></tr><tr><td>BR0322</td><td>Aston Martin Motors</td><td>1495</td></tr><tr><td>BR0381</td><td>Dacia Motors</td><td>1496</td></tr><tr><td>BR0913</td><td>e.GO Mobile Motors</td><td>1497</td></tr><tr><td>BR1382</td><td>Maserati Motors</td><td>1498</td></tr><tr><td>BR1440</td><td>Atlantic Motor Company</td><td>1499</td></tr><tr><td>BR1545</td><td>Gumpert Motors</td><td>1500</td></tr><tr><td>BR2004</td><td>Noble Motors</td><td>1501</td></tr><tr><td>BR2080</td><td>Buick Motors</td><td>1502</td></tr><tr><td>BR2357</td><td>Marcos Motors</td><td>1503</td></tr><tr><td>BR2411</td><td>H Street Playhouse</td><td>1504</td></tr><tr><td>BR0208</td><td>Panhard Motors</td><td>1505</td></tr><tr><td>BR0317</td><td>Simca Motors</td><td>1506</td></tr><tr><td>BR0441</td><td>Delahaye Motors</td><td>1507</td></tr><tr><td>BR0513</td><td>Asia Motors Motors</td><td>1508</td></tr><tr><td>BR12906</td><td>Marcos Motors</td><td>1509</td></tr><tr><td>BR1370</td><td>Standard  Motors</td><td>1510</td></tr><tr><td>BR1567</td><td>Citroën Motors</td><td>1511</td></tr><tr><td>BR1708</td><td>Caterham Motors</td><td>1512</td></tr><tr><td>BR1925</td><td>LuAZ Motors</td><td>1513</td></tr><tr><td>BR2247</td><td>Lamborghini Motors</td><td>1514</td></tr><tr><td>BR2287</td><td>Ligier Motors</td><td>1515</td></tr><tr><td>BR7746</td><td>Cadillac Motors</td><td>1516</td></tr><tr><td>BR0439</td><td>Peel Motors</td><td>1517</td></tr><tr><td>BR0959</td><td>Volkswagen Motors</td><td>1518</td></tr><tr><td>BR1230</td><td>ZAZ Motors</td><td>1519</td></tr><tr><td>BR1386</td><td>Tata Motors</td><td>1520</td></tr><tr><td>BR1663</td><td>Merkur Motors</td><td>1521</td></tr><tr><td>BR2149</td><td>Facel Vega Motors</td><td>1522</td></tr><tr><td>BR3306</td><td>Wolseley  Motors</td><td>1523</td></tr><tr><td>BR8646</td><td>Delahaye Motors</td><td>1524</td></tr><tr><td>BR0232</td><td>Alfa Romeo Motors</td><td>1525</td></tr><tr><td>BR0240</td><td>Lotus Motors</td><td>1526</td></tr><tr><td>BR0918</td><td>MG  Motors</td><td>1527</td></tr><tr><td>BR1040</td><td>Tata Motors</td><td>1528</td></tr><tr><td>BR5646</td><td>Autobianchi Motors</td><td>1529</td></tr><tr><td>BR8886</td><td>Dodge Motors</td><td>1530</td></tr><tr><td>BR0579</td><td>Renault Motors</td><td>1531</td></tr><tr><td>BR1583</td><td>Maserati Motors</td><td>1532</td></tr><tr><td>BR1654</td><td>Lancia Motors</td><td>1533</td></tr><tr><td>BR1689</td><td>Ariel Motors</td><td>1534</td></tr><tr><td>BR1827</td><td>Ford do Brasil Motors</td><td>1535</td></tr><tr><td>BR1841</td><td>SsangYong Motors</td><td>1536</td></tr><tr><td>BR1968</td><td>Fiat Motors</td><td>1537</td></tr><tr><td>BR2282</td><td>Zastava Motors</td><td>1538</td></tr><tr><td>BR0460</td><td>Monica Motors</td><td>1539</td></tr><tr><td>BR0500</td><td>Nash Motors</td><td>1540</td></tr><tr><td>BR0739</td><td>Singer Motors</td><td>1541</td></tr><tr><td>BR1060</td><td>Tazzari Motors</td><td>1542</td></tr><tr><td>BR1290</td><td>Maybach  Motors</td><td>1543</td></tr><tr><td>BR1392</td><td>Mastretta Motors</td><td>1544</td></tr><tr><td>BR2138</td><td>GTA Spano Motors</td><td>1545</td></tr><tr><td>BR0459</td><td>Peugeot Motors</td><td>1546</td></tr><tr><td>BR0757</td><td>Wolseley  Motors</td><td>1547</td></tr><tr><td>BR1150</td><td>Venturi Motors</td><td>1548</td></tr><tr><td>BR1524</td><td>Iso Motors</td><td>1549</td></tr><tr><td>BR1647</td><td>Delahaye Motors</td><td>1550</td></tr><tr><td>BR1701</td><td>Samsung Motors</td><td>1551</td></tr><tr><td>BR2233</td><td>Spyker Motors</td><td>1552</td></tr><tr><td>BR2271</td><td>Deccan Motors</td><td>1553</td></tr><tr><td>BR0070</td><td>Isotta Fraschini Motors</td><td>1554</td></tr><tr><td>BR0521</td><td>Eicher Polaris Motors</td><td>1555</td></tr><tr><td>BR0527</td><td>UAZ Motors</td><td>1556</td></tr><tr><td>BR0650</td><td>Perodua Motors</td><td>1557</td></tr><tr><td>BR1075</td><td>Buick Motors</td><td>1558</td></tr><tr><td>BR1320</td><td>MG  Motors</td><td>1559</td></tr><tr><td>BR1914</td><td>Mitsubishi Motors</td><td>1560</td></tr><tr><td>BR1971</td><td>Turner Motors</td><td>1561</td></tr><tr><td>BR2433</td><td>Volkswagen do Brasil Motors</td><td>1562</td></tr><tr><td>BR2445</td><td>Renault Motors</td><td>1563</td></tr><tr><td>BR0072</td><td>Anadol Motors</td><td>1564</td></tr><tr><td>BR0081</td><td>Ariel Motors</td><td>1565</td></tr><tr><td>BR0121</td><td>Hindustan Motors</td><td>1566</td></tr><tr><td>BR1078</td><td>Buick Automobile Company Building</td><td>1567</td></tr><tr><td>BR1129</td><td>Morris  Motors</td><td>1568</td></tr><tr><td>BR2225</td><td>Oldsmobile Motors</td><td>1569</td></tr><tr><td>BR0139</td><td>Matra (including Deutsch-Bonnet, René Bonnet) Motors</td><td>1570</td></tr><tr><td>BR0601</td><td>Ford America Motors</td><td>1571</td></tr><tr><td>BR10566</td><td>Heinkel Motors</td><td>1572</td></tr><tr><td>BR1611</td><td>Puma Motors</td><td>1573</td></tr><tr><td>BR1812</td><td>Puma Motors</td><td>1574</td></tr><tr><td>BR2030</td><td>Bristol Motors</td><td>1575</td></tr><tr><td>BR0380</td><td>Mercedes-Benz (including Maybach) Motors</td><td>1576</td></tr><tr><td>BR0528</td><td>Simca do Brasil Motors</td><td>1577</td></tr><tr><td>BR0562</td><td>Citroën Motors</td><td>1578</td></tr><tr><td>BR0637</td><td>ZIL Motors</td><td>1579</td></tr><tr><td>BR0760</td><td>Ranger Motors</td><td>1580</td></tr><tr><td>BR0822</td><td>Ford do Brasil Motors</td><td>1581</td></tr><tr><td>BR0834</td><td>British Leyland Motors</td><td>1582</td></tr><tr><td>BR1138</td><td>Colman Automotive Building</td><td>1583</td></tr><tr><td>BR1712</td><td>Perodua Motors</td><td>1584</td></tr><tr><td>BR1917</td><td>Glas Motors</td><td>1585</td></tr><tr><td>BR1939</td><td>Chevrolet India Motors</td><td>1586</td></tr><tr><td>BR9066</td><td>e.GO Mobile Motors</td><td>1587</td></tr><tr><td>BR0048</td><td>Mitsubishi Motors</td><td>1588</td></tr><tr><td>BR0721</td><td>GMC Motors</td><td>1589</td></tr><tr><td>BR0972</td><td>Hennessey Motors</td><td>1590</td></tr><tr><td>BR1008</td><td>Deccan Motors</td><td>1591</td></tr><tr><td>BR1080</td><td>Tornado Motors</td><td>1592</td></tr><tr><td>BR1093</td><td>Gilbern Motors</td><td>1593</td></tr><tr><td>BR1527</td><td>Chevrolet Motors</td><td>1594</td></tr><tr><td>BR1635</td><td>Hudson Motors</td><td>1595</td></tr><tr><td>BR1874</td><td>Messerschmitt Motors</td><td>1596</td></tr><tr><td>BR2210</td><td>DAF Motors</td><td>1597</td></tr><tr><td>BR2331</td><td>Bohn Motor Company Automobile Dealership</td><td>1598</td></tr><tr><td>BR0308</td><td>Pontiac, Asüna Motors</td><td>1599</td></tr><tr><td>BR0687</td><td>Maybach  Motors</td><td>1600</td></tr><tr><td>BR0805</td><td>AC Cars Motors</td><td>1601</td></tr><tr><td>BR1358</td><td>Auto-Union Motors</td><td>1602</td></tr><tr><td>BR1365</td><td>Fiat Motors</td><td>1603</td></tr><tr><td>BR1483</td><td>Ligier Motors</td><td>1604</td></tr><tr><td>BR2033</td><td>Reliant Motors</td><td>1605</td></tr><tr><td>BR0040</td><td>Invicta Motors</td><td>1606</td></tr><tr><td>BR0123</td><td>Clemens Automobile Company Building</td><td>1607</td></tr><tr><td>BR0204</td><td>Deccan Motors</td><td>1608</td></tr><tr><td>BR0399</td><td>Pagani Motors</td><td>1609</td></tr><tr><td>BR0724</td><td>Aston Martin Motors</td><td>1610</td></tr><tr><td>BR0979</td><td>Volkswagen South Africa Motors</td><td>1611</td></tr><tr><td>BR1693</td><td>Micro Motors</td><td>1612</td></tr><tr><td>BR2083</td><td>SAIC Motor Motors</td><td>1613</td></tr><tr><td>BR0161</td><td>Auverland Motors</td><td>1614</td></tr><tr><td>BR0422</td><td>Bristol Motors</td><td>1615</td></tr><tr><td>BR0481</td><td>Dodge Motors</td><td>1616</td></tr><tr><td>BR0647</td><td>null</td><td>1617</td></tr><tr><td>BR0715</td><td>Asia Motors Motors</td><td>1618</td></tr><tr><td>BR0865</td><td>AMC, Eagle Motors</td><td>1619</td></tr><tr><td>BR0999</td><td>Westfield Motors</td><td>1620</td></tr><tr><td>BR1521</td><td>Peugeot Motors</td><td>1621</td></tr><tr><td>BR1617</td><td>Daihatsu Motors</td><td>1622</td></tr><tr><td>BR1722</td><td>Peugeot Motors</td><td>1623</td></tr><tr><td>BR1988</td><td>Fiat India Motors</td><td>1624</td></tr><tr><td>BR2099</td><td>Donkervoort Motors</td><td>1625</td></tr><tr><td>BR2447</td><td>Mercedes-Benz (including Maybach) Motors</td><td>1626</td></tr><tr><td>BR0318</td><td>Porsche Motors</td><td>1627</td></tr><tr><td>BR0569</td><td>Reliant Motors</td><td>1628</td></tr><tr><td>BR0905</td><td>Artega Motors</td><td>1629</td></tr><tr><td>BR11586</td><td>Isotta Fraschini Motors</td><td>1630</td></tr><tr><td>BR1168</td><td>Hupmobile Building</td><td>1631</td></tr><tr><td>BR1489</td><td>Ariel Motors</td><td>1632</td></tr><tr><td>BR1504</td><td>Invicta Motors</td><td>1633</td></tr><tr><td>BR1565</td><td>Heinkel Motors</td><td>1634</td></tr><tr><td>BR1879</td><td>Buick Motors</td><td>1635</td></tr><tr><td>BR2345</td><td>Piaggio Motors</td><td>1636</td></tr><tr><td>BR2450</td><td>Ford India Motors</td><td>1637</td></tr><tr><td>BR0350</td><td>Mazda Motors</td><td>1638</td></tr><tr><td>BR0505</td><td>Cass Motor Sales</td><td>1639</td></tr><tr><td>BR0655</td><td>Alvis Motors</td><td>1640</td></tr><tr><td>BR0741</td><td>Gumpert Motors</td><td>1641</td></tr><tr><td>BR0812</td><td>Ford Australia Motors</td><td>1642</td></tr><tr><td>BR0960</td><td>Smart Motors</td><td>1643</td></tr><tr><td>BR1412</td><td>Mazda Motors</td><td>1644</td></tr><tr><td>BR1570</td><td>Hupmobile Building</td><td>1645</td></tr><tr><td>BR1643</td><td>Mercedes-Benz (including Maybach) Motors</td><td>1646</td></tr><tr><td>BR1729</td><td>Aston Martin Motors</td><td>1647</td></tr><tr><td>BR0265</td><td>Horch Motors</td><td>1648</td></tr><tr><td>BR0412</td><td>Borgward (including Goliath and Lloyd) Motors</td><td>1649</td></tr><tr><td>BR0520</td><td>Nissan Motors</td><td>1650</td></tr><tr><td>BR1390</td><td>Das Motors</td><td>1651</td></tr><tr><td>BR1511</td><td>Perodua Motors</td><td>1652</td></tr><tr><td>BR1757</td><td>Ferrari Motors</td><td>1653</td></tr><tr><td>BR1823</td><td>Oldsmobile Motors</td><td>1654</td></tr><tr><td>BR1873</td><td>Panhard Motors</td><td>1655</td></tr><tr><td>BR2360</td><td>Ferrari Motors</td><td>1656</td></tr><tr><td>BR2389</td><td>Hillman Motors</td><td>1657</td></tr><tr><td>BR0038</td><td>Mini Motors</td><td>1658</td></tr><tr><td>BR0607</td><td>Wiesmann Motors</td><td>1659</td></tr><tr><td>BR0802</td><td>Ford America Motors</td><td>1660</td></tr><tr><td>BR11406</td><td>Invicta Motors</td><td>1661</td></tr><tr><td>BR1828</td><td>Daimler Motors</td><td>1662</td></tr><tr><td>BR6126</td><td>Aixam-Mega (including Arola) Motors</td><td>1663</td></tr><tr><td>BR0043</td><td>2008 NRHP-listed</td><td>1664</td></tr><tr><td>BR0419</td><td>Panoz Motors</td><td>1665</td></tr><tr><td>BR0537</td><td>Vauxhall Motors</td><td>1666</td></tr><tr><td>BR0592</td><td>Daewoo, Saehan, Chevrolet Korea Motors</td><td>1667</td></tr><tr><td>BR1039</td><td>ZIL Motors</td><td>1668</td></tr><tr><td>BR1274</td><td>GAZ Motors</td><td>1669</td></tr><tr><td>BR1275</td><td>De Tomaso Motors</td><td>1670</td></tr><tr><td>BR1283</td><td>Infiniti Motors</td><td>1671</td></tr><tr><td>BR1651</td><td>Rivian Motors</td><td>1672</td></tr><tr><td>BR1673</td><td>Messerschmitt Motors</td><td>1673</td></tr><tr><td>BR1788</td><td>Dacia Motors</td><td>1674</td></tr><tr><td>BR1989</td><td>Dacia Motors</td><td>1675</td></tr><tr><td>BR2022</td><td>Smart Motors</td><td>1676</td></tr><tr><td>BR2192</td><td>UAZ Motors</td><td>1677</td></tr><tr><td>BR2359</td><td>Healey Motors</td><td>1678</td></tr><tr><td>BR2421</td><td>Howard Motor Company Building</td><td>1679</td></tr><tr><td>BR9306</td><td>Ferrari Motors</td><td>1680</td></tr><tr><td>BR0071</td><td>Anadol Motors</td><td>1681</td></tr><tr><td>BR0907</td><td>Cass Motor Sales</td><td>1682</td></tr><tr><td>BR1795</td><td>JPX Motors</td><td>1683</td></tr><tr><td>BR1847</td><td>Ford India Motors</td><td>1684</td></tr><tr><td>BR2370</td><td>Fiat Motors</td><td>1685</td></tr><tr><td>BR0025</td><td>Suzuki Motors</td><td>1686</td></tr><tr><td>BR0192</td><td>BMW Motors</td><td>1687</td></tr><tr><td>BR0755</td><td>Auto-Union Motors</td><td>1688</td></tr><tr><td>BR0930</td><td>Simca do Brasil Motors</td><td>1689</td></tr><tr><td>BR1222</td><td>KTM Motors</td><td>1690</td></tr><tr><td>BR1623</td><td>Mazzanti Motors</td><td>1691</td></tr><tr><td>BR1631</td><td>Reliant Motors</td><td>1692</td></tr><tr><td>BR1642</td><td>Opel Motors</td><td>1693</td></tr><tr><td>BR1789</td><td>Bitter Motors</td><td>1694</td></tr><tr><td>BR1800</td><td>BMW Motors</td><td>1695</td></tr><tr><td>BR2079</td><td>De Tomaso Motors</td><td>1696</td></tr><tr><td>BR0126</td><td>Saleen Motors</td><td>1697</td></tr><tr><td>BR0140</td><td>Kia Motors</td><td>1698</td></tr><tr><td>BR0878</td><td>Wanderer Motors</td><td>1699</td></tr><tr><td>BR1020</td><td>Sunbeam Motors</td><td>1700</td></tr><tr><td>BR1377</td><td>Bentley Motors</td><td>1701</td></tr><tr><td>BR1413</td><td>Koenigsegg Motors</td><td>1702</td></tr><tr><td>BR1822</td><td>Ranger Motors</td><td>1703</td></tr><tr><td>BR1832</td><td>Reliant Motors</td><td>1704</td></tr><tr><td>BR1868</td><td>DeSoto Motors</td><td>1705</td></tr><tr><td>BR2009</td><td>DAF Motors</td><td>1706</td></tr><tr><td>BR2173</td><td>Shelby SuperCars Motors</td><td>1707</td></tr><tr><td>BR2358</td><td>Iveco Motors</td><td>1708</td></tr><tr><td>BR2464</td><td>Studebaker Motors</td><td>1709</td></tr><tr><td>BR2467</td><td>Merkur Motors</td><td>1710</td></tr><tr><td>BR0052</td><td>Alvis Motors</td><td>1711</td></tr><tr><td>BR0485</td><td>Cadillac Automobile Company Building</td><td>1712</td></tr><tr><td>BR0662</td><td>DeSoto Motors</td><td>1713</td></tr><tr><td>BR0722</td><td>Eicher Polaris Motors</td><td>1714</td></tr><tr><td>BR0742</td><td>Facel Vega Motors</td><td>1715</td></tr><tr><td>BR0893</td><td>Donkervoort Motors</td><td>1716</td></tr><tr><td>BR1417</td><td>Borgward (including Goliath and Lloyd) Motors</td><td>1717</td></tr><tr><td>BR1459</td><td>Alvis Motors</td><td>1718</td></tr><tr><td>BR1809</td><td>Bond Motors</td><td>1719</td></tr><tr><td>BR2401</td><td>Colman Automotive Building</td><td>1720</td></tr><tr><td>BR0417</td><td>Sunbeam Motors</td><td>1721</td></tr><tr><td>BR0568</td><td>Spyker Motors</td><td>1722</td></tr><tr><td>BR0726</td><td>Simca do Brasil Motors</td><td>1723</td></tr><tr><td>BR0888</td><td>Maybach  Motors</td><td>1724</td></tr><tr><td>BR1170</td><td>Volkswagen do Brasil Motors</td><td>1725</td></tr><tr><td>BR12666</td><td>LTI Motors</td><td>1726</td></tr><tr><td>BR1277</td><td>Anadol Motors</td><td>1727</td></tr><tr><td>BR1525</td><td>GMC Motors</td><td>1728</td></tr><tr><td>BR2065</td><td>Merkur Motors</td><td>1729</td></tr><tr><td>BR7806</td><td>Caterham Motors</td><td>1730</td></tr><tr><td>BR0047</td><td>Perodua Motors</td><td>1731</td></tr><tr><td>BR0665</td><td>AMC, Eagle Motors</td><td>1732</td></tr><tr><td>BR0892</td><td>Gilbern Motors</td><td>1733</td></tr><tr><td>BR0910</td><td>Shelby SuperCars Motors</td><td>1734</td></tr><tr><td>BR1602</td><td>Noble Motors</td><td>1735</td></tr><tr><td>BR1843</td><td>Opel Motors</td><td>1736</td></tr><tr><td>BR2070</td><td>Bugatti Motors</td><td>1737</td></tr><tr><td>BR2208</td><td>Holden Motors</td><td>1738</td></tr><tr><td>BR2308</td><td>Invicta Motors</td><td>1739</td></tr><tr><td>BR2429</td><td>Honda India Motors</td><td>1740</td></tr><tr><td>BR1288</td><td>Ariel Motors</td><td>1741</td></tr><tr><td>BR1924</td><td>Monica Motors</td><td>1742</td></tr><tr><td>BR0059</td><td>LuAZ Motors</td><td>1743</td></tr><tr><td>BR0115</td><td>TVR Motors</td><td>1744</td></tr><tr><td>BR0462</td><td>Bugatti Motors</td><td>1745</td></tr><tr><td>BR10086</td><td>Geo Motors</td><td>1746</td></tr><tr><td>BR1240</td><td>ZIL Motors</td><td>1747</td></tr><tr><td>BR1568</td><td>Auverland Motors</td><td>1748</td></tr><tr><td>BR1932</td><td>Santana Motors</td><td>1749</td></tr><tr><td>BR1941</td><td>Tornado Motors</td><td>1750</td></tr><tr><td>BR2241</td><td>Talbot  Motors</td><td>1751</td></tr><tr><td>BR6786</td><td>Audi Motors</td><td>1752</td></tr><tr><td>BR6846</td><td>Autobianchi Motors</td><td>1753</td></tr><tr><td>BR9186</td><td>Elva Motors</td><td>1754</td></tr><tr><td>BR0078</td><td>Morgan Motors</td><td>1755</td></tr><tr><td>BR0191</td><td>BMW Motors</td><td>1756</td></tr><tr><td>BR0212</td><td>Acura Motors</td><td>1757</td></tr><tr><td>BR0404</td><td>AC Cars Motors</td><td>1758</td></tr><tr><td>BR0938</td><td>Austin  Motors</td><td>1759</td></tr><tr><td>BR1447</td><td>Austin-Healey Motors</td><td>1760</td></tr><tr><td>BR2019</td><td>Daihatsu Motors</td><td>1761</td></tr><tr><td>BR2288</td><td>Infiniti Motors</td><td>1762</td></tr><tr><td>BR2374</td><td>Shelby SuperCars Motors</td><td>1763</td></tr><tr><td>BR5886</td><td>Bitter Motors</td><td>1764</td></tr><tr><td>BR0055</td><td>Tazzari Motors</td><td>1765</td></tr><tr><td>BR0247</td><td>San Motors</td><td>1766</td></tr><tr><td>BR0418</td><td>SAIC Motor Motors</td><td>1767</td></tr><tr><td>BR0675</td><td>Anadol Motors</td><td>1768</td></tr><tr><td>BR0967</td><td>Hupmobile Building</td><td>1769</td></tr><tr><td>BR1110</td><td>Turner Motors</td><td>1770</td></tr><tr><td>BR1479</td><td>Anadol Motors</td><td>1771</td></tr><tr><td>BR1990</td><td>Bitter Motors</td><td>1772</td></tr><tr><td>BR2169</td><td>Fiat Motors</td><td>1773</td></tr><tr><td>BR2317</td><td>LTI Motors</td><td>1774</td></tr><tr><td>BR0179</td><td>Mercedes-Benz (including Maybach) Motors</td><td>1775</td></tr><tr><td>BR0332</td><td>Audi Motors</td><td>1776</td></tr><tr><td>BR11646</td><td>Isuzu Motors</td><td>1777</td></tr><tr><td>BR11826</td><td>Jeep Motors</td><td>1778</td></tr><tr><td>BR1183</td><td>Hillman Motors</td><td>1779</td></tr><tr><td>BR1304</td><td>Ginetta Motors</td><td>1780</td></tr><tr><td>BR2198</td><td>Hindustan Motors</td><td>1781</td></tr><tr><td>BR0989</td><td>Volvo Motors</td><td>1782</td></tr><tr><td>BR1264</td><td>FSO Motors</td><td>1783</td></tr><tr><td>BR1270</td><td>Horch Motors</td><td>1784</td></tr><tr><td>BR1780</td><td>Bentley Motors</td><td>1785</td></tr><tr><td>BR1975</td><td>Maruti Motors</td><td>1786</td></tr><tr><td>BR2180</td><td>Cizeta-Moroder Motors</td><td>1787</td></tr><tr><td>BR8286</td><td>Dacia Motors</td><td>1788</td></tr><tr><td>BR0090</td><td>Iveco Motors</td><td>1789</td></tr><tr><td>BR0797</td><td>Ramani Motors</td><td>1790</td></tr><tr><td>BR1041</td><td>Lamborghini Motors</td><td>1791</td></tr><tr><td>BR1044</td><td>Delahaye Motors</td><td>1792</td></tr><tr><td>BR1559</td><td>Auto-Union Motors</td><td>1793</td></tr><tr><td>BR1733</td><td>Monteverdi Motors</td><td>1794</td></tr><tr><td>BR1962</td><td>Seat Motors</td><td>1795</td></tr><tr><td>BR2320</td><td>e.GO Mobile Motors</td><td>1796</td></tr><tr><td>BR2369</td><td>Heinkel Motors</td><td>1797</td></tr><tr><td>BR0058</td><td>Monica Motors</td><td>1798</td></tr><tr><td>BR0077</td><td>Piaggio Motors</td><td>1799</td></tr><tr><td>BR0145</td><td>Venturi Motors</td><td>1800</td></tr><tr><td>BR0163</td><td>Hupmobile Building</td><td>1801</td></tr><tr><td>BR0909</td><td>Turner Motors</td><td>1802</td></tr><tr><td>BR1073</td><td>GAZ Motors</td><td>1803</td></tr><tr><td>BR1421</td><td>Oldsmobile Motors</td><td>1804</td></tr><tr><td>BR1507</td><td>Caterham Motors</td><td>1805</td></tr><tr><td>BR1845</td><td>Lamborghini Motors</td><td>1806</td></tr><tr><td>BR2118</td><td>Glas Motors</td><td>1807</td></tr><tr><td>BR2327</td><td>LuAZ Motors</td><td>1808</td></tr><tr><td>BR0044</td><td>null</td><td>1809</td></tr><tr><td>BR0880</td><td>Saturn Motors</td><td>1810</td></tr><tr><td>BR0900</td><td>Seat Motors</td><td>1811</td></tr><tr><td>BR1015</td><td>Borgward (including Goliath and Lloyd) Motors</td><td>1812</td></tr><tr><td>BR1214</td><td>Ford Australia Motors</td><td>1813</td></tr><tr><td>BR1593</td><td>Mastretta Motors</td><td>1814</td></tr><tr><td>BR2142</td><td>Tornado Motors</td><td>1815</td></tr><tr><td>BR2175</td><td>Naza Motors</td><td>1816</td></tr><tr><td>BR2341</td><td>Buick Automobile Company Building</td><td>1817</td></tr><tr><td>BR5226</td><td>Anadol Motors</td><td>1818</td></tr><tr><td>BR0005</td><td>Subaru Motors</td><td>1819</td></tr><tr><td>BR0482</td><td>Bytom Motors</td><td>1820</td></tr><tr><td>BR0928</td><td>Morris  Motors</td><td>1821</td></tr><tr><td>BR14526</td><td>Oldsmobile Motors</td><td>1822</td></tr><tr><td>BR0978</td><td>Talbot  Motors</td><td>1823</td></tr><tr><td>BR1498</td><td>ARO Motors</td><td>1824</td></tr><tr><td>BR1658</td><td>Austin, Rover Motors</td><td>1825</td></tr><tr><td>BR1697</td><td>Donkervoort Motors</td><td>1826</td></tr><tr><td>BR1867</td><td>FSO Motors</td><td>1827</td></tr><tr><td>BR1902</td><td>Samsung Motors</td><td>1828</td></tr><tr><td>BR2005</td><td>Matra (including Deutsch-Bonnet, René Bonnet) Motors</td><td>1829</td></tr><tr><td>BR2184</td><td>Porsche Motors</td><td>1830</td></tr><tr><td>BR2201</td><td>Austin  Motors</td><td>1831</td></tr><tr><td>BR0354</td><td>Howard Motor Company Building</td><td>1832</td></tr><tr><td>BR0443</td><td>Alpine Motors</td><td>1833</td></tr><tr><td>BR0704</td><td>Artega Motors</td><td>1834</td></tr><tr><td>BR1408</td><td>AC Cars Motors</td><td>1835</td></tr><tr><td>BR1560</td><td>Howard Motor Company Building</td><td>1836</td></tr><tr><td>BR1641</td><td>Renault Motors</td><td>1837</td></tr><tr><td>BR0075</td><td>Tornado Motors</td><td>1838</td></tr><tr><td>BR0302</td><td>Artega Motors</td><td>1839</td></tr><tr><td>BR1048</td><td>2008 NRHP-listed</td><td>1840</td></tr><tr><td>BR1373</td><td>Jeep Motors</td><td>1841</td></tr><tr><td>BR1784</td><td>Maserati Motors</td><td>1842</td></tr><tr><td>BR2285</td><td>Panoz Motors</td><td>1843</td></tr><tr><td>BR3246</td><td>Riley  Motors</td><td>1844</td></tr><tr><td>BR0061</td><td>GTA Spano Motors</td><td>1845</td></tr><tr><td>BR0790</td><td>Rivian Motors</td><td>1846</td></tr><tr><td>BR1121</td><td>LuAZ Motors</td><td>1847</td></tr><tr><td>BR12366</td><td>Land Rover Motors</td><td>1848</td></tr><tr><td>BR1660</td><td>Alvis Motors</td><td>1849</td></tr><tr><td>XYZ0063</td><td>Datafam Dealers</td><td>1</td></tr><tr><td>XYZ0059</td><td>AI Powered Autos</td><td>2</td></tr><tr><td>DLR0129</td><td>Mia Motors</td><td>3</td></tr><tr><td>DLR0111</td><td>Lotus Motors</td><td>4</td></tr><tr><td>DLR0085</td><td>Humber Motors</td><td>5</td></tr><tr><td>DLR0001</td><td>AC Cars Motors</td><td>6</td></tr><tr><td>DLR0218</td><td>Lagonda  Motors</td><td>7</td></tr><tr><td>DLR0082</td><td>Honda Motors</td><td>8</td></tr><tr><td>DLR0063</td><td>Ford do Brasil Motors</td><td>9</td></tr><tr><td>DLR0193</td><td>Tazzari Motors</td><td>10</td></tr><tr><td>DLR0134</td><td>Monteverdi Motors</td><td>11</td></tr><tr><td>DLR0199</td><td>TVR Motors</td><td>12</td></tr><tr><td>DLR0254</td><td>AMC, Eagle Motors</td><td>13</td></tr><tr><td>DLR0094</td><td>Isotta Fraschini Motors</td><td>14</td></tr><tr><td>DLR0236</td><td>Cadillac Automobile Company Building</td><td>15</td></tr><tr><td>DLR0201</td><td>Vauxhall Motors</td><td>16</td></tr><tr><td>DLR0175</td><td>Saturn Motors</td><td>17</td></tr><tr><td>DLR0226</td><td>Das Motors</td><td>18</td></tr><tr><td>DLR0207</td><td>Westfield Motors</td><td>19</td></tr><tr><td>DLR0035</td><td>Chrysler Motors</td><td>20</td></tr><tr><td>DLR0151</td><td>Peel Motors</td><td>21</td></tr><tr><td>DLR0156</td><td>Plymouth Motors</td><td>22</td></tr><tr><td>DLR0216</td><td>Maybach  Motors</td><td>23</td></tr><tr><td>DLR0259</td><td>Asia Motors Motors</td><td>24</td></tr><tr><td>DLR0037</td><td>Citroën Motors</td><td>25</td></tr><tr><td>DLR0074</td><td>GTA Spano Motors</td><td>26</td></tr><tr><td>DLR0150</td><td>Panther Motors</td><td>27</td></tr><tr><td>DLR0135</td><td>Morgan Motors</td><td>28</td></tr><tr><td>DLR0073</td><td>GMC Motors</td><td>29</td></tr><tr><td>DLR0260</td><td>Aston Martin Motors</td><td>30</td></tr><tr><td>DLR0153</td><td>Peugeot Motors</td><td>31</td></tr><tr><td>DLR0124</td><td>McLaren Motors</td><td>32</td></tr><tr><td>DLR0121</td><td>Matra (including Deutsch-Bonnet, René Bonnet) Motors</td><td>33</td></tr><tr><td>DLR0211</td><td>ZIL Motors</td><td>34</td></tr><tr><td>DLR0066</td><td>Freightliner Motors</td><td>35</td></tr><tr><td>DLR0110</td><td>Lincoln Motors</td><td>36</td></tr><tr><td>DLR0143</td><td>Oldsmobile Motors</td><td>37</td></tr><tr><td>DLR0167</td><td>Rolls-Royce Motors</td><td>38</td></tr><tr><td>DLR0048</td><td>De Tomaso Motors</td><td>39</td></tr><tr><td>DLR0008</td><td>Anadol Motors</td><td>40</td></tr><tr><td>DLR0128</td><td>Messerschmitt Motors</td><td>41</td></tr><tr><td>DLR0177</td><td>Seat Motors</td><td>42</td></tr><tr><td>DLR0181</td><td>Singer Motors</td><td>43</td></tr><tr><td>DLR0079</td><td>Hillman Motors</td><td>44</td></tr><tr><td>DLR0072</td><td>Glas Motors</td><td>45</td></tr><tr><td>DLR0248</td><td>AC Cars Motors</td><td>46</td></tr><tr><td>DLR0052</td><td>e.GO Mobile Motors</td><td>47</td></tr><tr><td>DLR0197</td><td>Toyota India Motors</td><td>48</td></tr><tr><td>DLR0080</td><td>Hindustan Motors</td><td>49</td></tr><tr><td>DLR0164</td><td>Reliant Motors</td><td>50</td></tr><tr><td>DLR0029</td><td>Bytom Motors</td><td>51</td></tr><tr><td>DLR0195</td><td>Tornado Motors</td><td>52</td></tr><tr><td>DLR0005</td><td>Alpine Motors</td><td>53</td></tr><tr><td>DLR0007</td><td>AMC, Eagle Motors</td><td>54</td></tr><tr><td>DLR0078</td><td>Hennessey Motors</td><td>55</td></tr><tr><td>DLR0247</td><td>Kindel Building</td><td>56</td></tr><tr><td>DLR0065</td><td>Ford India Motors</td><td>57</td></tr><tr><td>DLR0174</td><td>Santana Motors</td><td>58</td></tr><tr><td>DLR0022</td><td>Borgward (including Goliath and Lloyd) Motors</td><td>59</td></tr><tr><td>DLR0116</td><td>Marcos Motors</td><td>60</td></tr><tr><td>DLR0257</td><td>ARO Motors</td><td>61</td></tr><tr><td>DLR0172</td><td>San Motors</td><td>62</td></tr><tr><td>DLR0061</td><td>Ford America Motors</td><td>63</td></tr><tr><td>DLR0240</td><td>Clemens Automobile Company Building</td><td>64</td></tr><tr><td>DLR0103</td><td>KTM Motors</td><td>65</td></tr><tr><td>DLR0096</td><td>Iveco Motors</td><td>66</td></tr><tr><td>DLR0198</td><td>Turner Motors</td><td>67</td></tr><tr><td>DLR0137</td><td>Nash Motors</td><td>68</td></tr><tr><td>DLR0202</td><td>Venturi Motors</td><td>69</td></tr><tr><td>DLR0125</td><td>Mercedes-Benz (including Maybach) Motors</td><td>70</td></tr><tr><td>DLR0089</td><td>Infiniti Motors</td><td>71</td></tr><tr><td>DLR0266</td><td>Bitter Motors</td><td>72</td></tr><tr><td>DLR0148</td><td>Panhard Motors</td><td>73</td></tr><tr><td>DLR0142</td><td>NSU Motors</td><td>74</td></tr><tr><td>DLR0227</td><td>Ramani Motors</td><td>75</td></tr><tr><td>DLR0206</td><td>Volvo Motors</td><td>76</td></tr><tr><td>DLR0179</td><td>Simca Motors</td><td>77</td></tr><tr><td>DLR0059</td><td>Fiat India Motors</td><td>78</td></tr><tr><td>DLR0092</td><td>Isdera Motors</td><td>79</td></tr><tr><td>DLR0018</td><td>Bentley Motors</td><td>80</td></tr><tr><td>DLR0115</td><td>Mahindra Motors</td><td>81</td></tr><tr><td>DLR0169</td><td>SAIC Motor Motors</td><td>82</td></tr><tr><td>DLR0212</td><td>null</td><td>83</td></tr><tr><td>DLR0192</td><td>Tatra Motors</td><td>84</td></tr><tr><td>DLR0186</td><td>Standard-Triumph Motors</td><td>85</td></tr><tr><td>DLR0021</td><td>Bond Motors</td><td>86</td></tr><tr><td>DLR0147</td><td>Pagani Motors</td><td>87</td></tr><tr><td>DLR0098</td><td>Jeep Motors</td><td>88</td></tr><tr><td>DLR0209</td><td>Zastava Motors</td><td>89</td></tr><tr><td>DLR0166</td><td>Rivian Motors</td><td>90</td></tr><tr><td>DLR0250</td><td>Aixam-Mega (including Arola) Motors</td><td>91</td></tr><tr><td>DLR0220</td><td>Morris  Motors</td><td>92</td></tr><tr><td>DLR0183</td><td>Smart Motors</td><td>93</td></tr><tr><td>DLR0102</td><td>Koenigsegg Motors</td><td>94</td></tr><tr><td>DLR0188</td><td>Subaru Motors</td><td>95</td></tr><tr><td>DLR0155</td><td>Piaggio Motors</td><td>96</td></tr><tr><td>DLR0050</td><td>Donkervoort Motors</td><td>97</td></tr><tr><td>DLR0252</td><td>Alpine Motors</td><td>98</td></tr><tr><td>DLR0184</td><td>Spyker Motors</td><td>99</td></tr><tr><td>DLR0267</td><td>BMW Motors</td><td>100</td></tr><tr><td>DLR0091</td><td>Invicta Motors</td><td>101</td></tr><tr><td>DLR0262</td><td>Autobianchi Motors</td><td>102</td></tr><tr><td>DLR0249</td><td>Acura Motors</td><td>103</td></tr><tr><td>DLR0208</td><td>Wiesmann Motors</td><td>104</td></tr><tr><td>DLR0114</td><td>Lynx Motors</td><td>105</td></tr><tr><td>DLR0204</td><td>Volkswagen do Brasil Motors</td><td>106</td></tr><tr><td>DLR0200</td><td>UAZ Motors</td><td>107</td></tr><tr><td>DLR0163</td><td>Ranger Motors</td><td>108</td></tr><tr><td>DLR0223</td><td>Wolseley  Motors</td><td>109</td></tr><tr><td>DLR0044</td><td>null</td><td>110</td></tr><tr><td>DLR0231</td><td>Atlantic Motor Company</td><td>111</td></tr><tr><td>DLR0034</td><td>Chevrolet India Motors</td><td>112</td></tr><tr><td>DLR0126</td><td>Mercury Motors</td><td>113</td></tr><tr><td>DLR0046</td><td>DeLorean Motors</td><td>114</td></tr><tr><td>DLR0130</td><td>Micro Motors</td><td>115</td></tr><tr><td>DLR0210</td><td>ZAZ Motors</td><td>116</td></tr><tr><td>DLR0136</td><td>Moskwitch Motors</td><td>117</td></tr><tr><td>DLR0222</td><td>Riley  Motors</td><td>118</td></tr><tr><td>DLR0017</td><td>Auverland Motors</td><td>119</td></tr><tr><td>DLR0182</td><td>Skoda Motors</td><td>120</td></tr><tr><td>DLR0152</td><td>Perodua Motors</td><td>121</td></tr><tr><td>DLR0071</td><td>Ginetta Motors</td><td>122</td></tr><tr><td>DLR0161</td><td>Proton Motors</td><td>123</td></tr><tr><td>DLR0246</td><td>Jones Motor Company</td><td>124</td></tr><tr><td>DLR0020</td><td>BMW Motors</td><td>125</td></tr><tr><td>DLR0076</td><td>Healey Motors</td><td>126</td></tr><tr><td>DLR0237</td><td>Casa de cadillac</td><td>127</td></tr><tr><td>DLR0131</td><td>Mini Motors</td><td>128</td></tr><tr><td>DLR0112</td><td>LTI Motors</td><td>129</td></tr><tr><td>DLR0213</td><td>DKW Motors</td><td>130</td></tr><tr><td>DLR0040</td><td>Daewoo, Saehan, Chevrolet Korea Motors</td><td>131</td></tr><tr><td>DLR0187</td><td>Studebaker Motors</td><td>132</td></tr><tr><td>DLR0251</td><td>Alfa Romeo Motors</td><td>133</td></tr><tr><td>DLR0154</td><td>PGO Motors</td><td>134</td></tr><tr><td>DLR0119</td><td>Maserati Motors</td><td>135</td></tr><tr><td>DLR0013</td><td>Aston Martin Motors</td><td>136</td></tr><tr><td>DLR0087</td><td>Hyundai Motors</td><td>137</td></tr><tr><td>DLR0056</td><td>Ferrari Motors</td><td>138</td></tr><tr><td>DLR0033</td><td>Chevrolet Motors</td><td>139</td></tr><tr><td>DLR0042</td><td>Daihatsu Motors</td><td>140</td></tr><tr><td>DLR0229</td><td>Herald Motors</td><td>141</td></tr><tr><td>DLR0070</td><td>Gilbern Motors</td><td>142</td></tr><tr><td>DLR0191</td><td>Tata Motors</td><td>143</td></tr><tr><td>DLR0203</td><td>Volkswagen Motors</td><td>144</td></tr><tr><td>DLR0100</td><td>JPX Motors</td><td>145</td></tr><tr><td>DLR0047</td><td>DeSoto Motors</td><td>146</td></tr><tr><td>DLR0214</td><td>Horch Motors</td><td>147</td></tr><tr><td>DLR0171</td><td>Samsung Motors</td><td>148</td></tr><tr><td>DLR0045</td><td>Delahaye Motors</td><td>149</td></tr><tr><td>DLR0264</td><td>Auverland Motors</td><td>150</td></tr><tr><td>DLR0162</td><td>Puma Motors</td><td>151</td></tr><tr><td>DLR0159</td><td>Porsche Motors</td><td>152</td></tr><tr><td>DLR0146</td><td>Packard Motors</td><td>153</td></tr><tr><td>DLR0261</td><td>Audi Motors</td><td>154</td></tr><tr><td>DLR0032</td><td>Checker Motors</td><td>155</td></tr><tr><td>DLR0009</td><td>Ariel Motors</td><td>156</td></tr><tr><td>DLR0225</td><td>Talbot  Motors</td><td>157</td></tr><tr><td>DLR0221</td><td>Austin  Motors</td><td>158</td></tr><tr><td>DLR0075</td><td>Gumpert Motors</td><td>159</td></tr><tr><td>DLR0069</td><td>Geo Motors</td><td>160</td></tr><tr><td>DLR0104</td><td>Lada Motors</td><td>161</td></tr><tr><td>DLR0039</td><td>Dacia Motors</td><td>162</td></tr><tr><td>DLR0245</td><td>Jennings Ford Automobile Dealership</td><td>163</td></tr><tr><td>DLR0238</td><td>Cass Motor Sales</td><td>164</td></tr><tr><td>DLR0064</td><td>Ford Europe Motors</td><td>165</td></tr><tr><td>DLR0109</td><td>Ligier Motors</td><td>166</td></tr><tr><td>DLR0144</td><td>null</td><td>167</td></tr><tr><td>DLR0176</td><td>Scion Motors</td><td>168</td></tr><tr><td>DLR0255</td><td>Anadol Motors</td><td>169</td></tr><tr><td>DLR0138</td><td>Naza Motors</td><td>170</td></tr><tr><td>DLR0003</td><td>Aixam-Mega (including Arola) Motors</td><td>171</td></tr><tr><td>DLR0265</td><td>Bentley Motors</td><td>172</td></tr><tr><td>DLR0217</td><td>Izh  Motors</td><td>173</td></tr><tr><td>DLR0185</td><td>SsangYong Motors</td><td>174</td></tr><tr><td>DLR0019</td><td>Bitter Motors</td><td>175</td></tr><tr><td>DLR0165</td><td>Renault Motors</td><td>176</td></tr><tr><td>DLR0108</td><td>Lexus Motors</td><td>177</td></tr><tr><td>DLR0117</td><td>Marlin Motors</td><td>178</td></tr><tr><td>DLR0118</td><td>Maruti Motors</td><td>179</td></tr><tr><td>DLR0027</td><td>Bugatti Motors</td><td>180</td></tr><tr><td>DLR0139</td><td>Nissan Motors</td><td>181</td></tr><tr><td>DLR0088</td><td>IFA (including Trabant, Wartburg, Barkas) Motors</td><td>182</td></tr><tr><td>DLR0051</td><td>Edsel Motors</td><td>183</td></tr><tr><td>DLR0010</td><td>ARO Motors</td><td>184</td></tr><tr><td>DLR0006</td><td>Alvis Motors</td><td>185</td></tr><tr><td>DLR0180</td><td>Simca do Brasil Motors</td><td>186</td></tr><tr><td>DLR0253</td><td>Alvis Motors</td><td>187</td></tr><tr><td>DLR0230</td><td>Zion Automobils</td><td>188</td></tr><tr><td>DLR0190</td><td>Suzuki Motors</td><td>189</td></tr><tr><td>DLR0232</td><td>2008 NRHP-listed</td><td>190</td></tr><tr><td>DLR0030</td><td>Cadillac Motors</td><td>191</td></tr><tr><td>DLR0215</td><td>Wanderer Motors</td><td>192</td></tr><tr><td>DLR0016</td><td>Auto-Union Motors</td><td>193</td></tr><tr><td>DLR0160</td><td>Premier Motors</td><td>194</td></tr><tr><td>DLR0025</td><td>Austin-Healey Motors</td><td>195</td></tr><tr><td>DLR0239</td><td>Claremore Auto Dealership</td><td>196</td></tr><tr><td>DLR0228</td><td>Deccan Motors</td><td>197</td></tr><tr><td>DLR0189</td><td>Sunbeam Motors</td><td>198</td></tr><tr><td>DLR0263</td><td>Auto-Union Motors</td><td>199</td></tr><tr><td>DLR0132</td><td>Mitsubishi Motors</td><td>200</td></tr><tr><td>DLR0244</td><td>Hupmobile Building</td><td>201</td></tr><tr><td>DLR0068</td><td>GAZ Motors</td><td>202</td></tr><tr><td>DLR0053</td><td>Eicher Polaris Motors</td><td>203</td></tr><tr><td>DLR0002</td><td>Acura Motors</td><td>204</td></tr><tr><td>DLR0194</td><td>Tesla Motors</td><td>205</td></tr><tr><td>DLR0233</td><td>Blankinship Motor Company Building</td><td>206</td></tr><tr><td>DLR0014</td><td>Audi Motors</td><td>207</td></tr><tr><td>DLR0093</td><td>Iso Motors</td><td>208</td></tr><tr><td>DLR0205</td><td>Volkswagen South Africa Motors</td><td>209</td></tr><tr><td>DLR0141</td><td>Noble Motors</td><td>210</td></tr><tr><td>DLR0140</td><td>Nissan India Motors</td><td>211</td></tr><tr><td>DLR0101</td><td>Kia Motors</td><td>212</td></tr><tr><td>DLR0234</td><td>Bohn Motor Company Automobile Dealership</td><td>213</td></tr><tr><td>DLR0235</td><td>Buick Automobile Company Building</td><td>214</td></tr><tr><td>DLR0256</td><td>Ariel Motors</td><td>215</td></tr><tr><td>DLR0004</td><td>Alfa Romeo Motors</td><td>216</td></tr><tr><td>DLR0084</td><td>Hudson Motors</td><td>217</td></tr><tr><td>DLR0133</td><td>Monica Motors</td><td>218</td></tr><tr><td>DLR0062</td><td>Ford Australia Motors</td><td>219</td></tr><tr><td>DLR0038</td><td>Cizeta-Moroder Motors</td><td>220</td></tr><tr><td>DLR0049</td><td>Dodge Motors</td><td>221</td></tr><tr><td>DLR0055</td><td>Facel Vega Motors</td><td>222</td></tr><tr><td>DLR0170</td><td>Saleen Motors</td><td>223</td></tr><tr><td>DLR0242</td><td>H Street Playhouse</td><td>224</td></tr><tr><td>DLR0243</td><td>Howard Motor Company Building</td><td>225</td></tr><tr><td>DLR0224</td><td>Standard  Motors</td><td>226</td></tr><tr><td>DLR0077</td><td>Heinkel Motors</td><td>227</td></tr><tr><td>DLR0031</td><td>Caterham Motors</td><td>228</td></tr><tr><td>DLR0127</td><td>Merkur Motors</td><td>229</td></tr><tr><td>DLR0043</td><td>Daimler Motors</td><td>230</td></tr><tr><td>DLR0168</td><td>Saab Motors</td><td>231</td></tr><tr><td>DLR0083</td><td>Honda India Motors</td><td>232</td></tr><tr><td>DLR0099</td><td>Jensen Motors</td><td>233</td></tr><tr><td>DLR0090</td><td>null</td><td>234</td></tr><tr><td>DLR0173</td><td>Santa Matilde Motors</td><td>235</td></tr><tr><td>DLR0067</td><td>FSO Motors</td><td>236</td></tr><tr><td>DLR0113</td><td>LuAZ Motors</td><td>237</td></tr><tr><td>DLR0011</td><td>Artega Motors</td><td>238</td></tr><tr><td>DLR0157</td><td>Polestar Motors</td><td>239</td></tr><tr><td>DLR0258</td><td>null</td><td>240</td></tr><tr><td>DLR0086</td><td>Hummer Motors</td><td>241</td></tr><tr><td>DLR0054</td><td>Elva Motors</td><td>242</td></tr><tr><td>DLR0178</td><td>Shelby SuperCars Motors</td><td>243</td></tr><tr><td>DLR0023</td><td>Bristol Motors</td><td>244</td></tr><tr><td>DLR0026</td><td>Austin, Rover Motors</td><td>245</td></tr><tr><td>DLR0219</td><td>MG  Motors</td><td>246</td></tr><tr><td>DLR0120</td><td>Mastretta Motors</td><td>247</td></tr><tr><td>DLR0028</td><td>Buick Motors</td><td>248</td></tr><tr><td>DLR0057</td><td>Fiat Motors</td><td>249</td></tr><tr><td>DLR0041</td><td>DAF Motors</td><td>250</td></tr><tr><td>DLR0095</td><td>Isuzu Motors</td><td>251</td></tr><tr><td>DLR0123</td><td>Mazzanti Motors</td><td>252</td></tr><tr><td>DLR0036</td><td>Chrysler Europe Motors</td><td>253</td></tr><tr><td>DLR0149</td><td>Panoz Motors</td><td>254</td></tr><tr><td>DLR0145</td><td>Opel Motors</td><td>255</td></tr><tr><td>DLR0105</td><td>Lamborghini Motors</td><td>256</td></tr><tr><td>DLR0097</td><td>Jaguar Motors</td><td>257</td></tr><tr><td>DLR0196</td><td>Toyota Motors</td><td>258</td></tr><tr><td>DLR0024</td><td>British Leyland Motors</td><td>259</td></tr><tr><td>DLR0241</td><td>Colman Automotive Building</td><td>260</td></tr><tr><td>DLR0012</td><td>Asia Motors Motors</td><td>261</td></tr><tr><td>DLR0122</td><td>Mazda Motors</td><td>262</td></tr><tr><td>DLR0060</td><td>Fisker, Karma Motors</td><td>263</td></tr><tr><td>DLR0106</td><td>Lancia Motors</td><td>264</td></tr><tr><td>DLR0158</td><td>Pontiac, Asüna Motors</td><td>265</td></tr><tr><td>DLR0015</td><td>Autobianchi Motors</td><td>266</td></tr><tr><td>DLR0081</td><td>Holden Motors</td><td>267</td></tr></tbody></table></div>"
      ]
     },
     "metadata": {
      "application/vnd.databricks.v1+output": {
       "addedWidgets": {},
       "aggData": [],
       "aggError": "",
       "aggOverflow": false,
       "aggSchema": [],
       "aggSeriesLimitReached": false,
       "aggType": "",
       "arguments": {},
       "columnCustomDisplayInfos": {},
       "data": [
        [
         "BR0854",
         "Austin, Rover Motors",
         268
        ],
        [
         "BR0984",
         "Dacia Motors",
         269
        ],
        [
         "BR0990",
         "Standard-Triumph Motors",
         270
        ],
        [
         "BR1554",
         "Iveco Motors",
         271
        ],
        [
         "BR1682",
         "Panoz Motors",
         272
        ],
        [
         "BR1764",
         "Marlin Motors",
         273
        ],
        [
         "BR2115",
         "Mitsubishi Motors",
         274
        ],
        [
         "BR2152",
         "Toyota Motors",
         275
        ],
        [
         "BR2404",
         "Singer Motors",
         276
        ],
        [
         "BR0502",
         "Caterham Motors",
         277
        ],
        [
         "BR0633",
         "British Leyland Motors",
         278
        ],
        [
         "BR0832",
         "Ford Europe Motors",
         279
        ],
        [
         "BR1051",
         "Lancia Motors",
         280
        ],
        [
         "BR1448",
         "Alpine Motors",
         281
        ],
        [
         "BR1600",
         "Kindel Building",
         282
        ],
        [
         "BR1842",
         "Renault Motors",
         283
        ],
        [
         "BR1923",
         "Peugeot Motors",
         284
        ],
        [
         "BR1952",
         "Scion Motors",
         285
        ],
        [
         "BR2144",
         "Piaggio Motors",
         286
        ],
        [
         "BR2385",
         "Porsche Motors",
         287
        ],
        [
         "BR2439",
         "Hudson Motors",
         288
        ],
        [
         "BR0108",
         "Naza Motors",
         289
        ],
        [
         "BR0883",
         "Dodge Motors",
         290
        ],
        [
         "BR10386",
         "GTA Spano Motors",
         291
        ],
        [
         "BR1203",
         "Holden Motors",
         292
        ],
        [
         "BR1491",
         "Panther Motors",
         293
        ],
        [
         "BR1633",
         "McLaren Motors",
         294
        ],
        [
         "BR1700",
         "ARO Motors",
         295
        ],
        [
         "BR1754",
         "Marcos Motors",
         296
        ],
        [
         "BR2037",
         "Hudson Motors",
         297
        ],
        [
         "BR3606",
         "Deccan Motors",
         298
        ],
        [
         "BR0759",
         "Smart Motors",
         299
        ],
        [
         "BR0792",
         "Fisker, Karma Motors",
         300
        ],
        [
         "BR1332",
         "Lynx Motors",
         301
        ],
        [
         "BR2232",
         "Volkswagen do Brasil Motors",
         302
        ],
        [
         "BR2262",
         "Westfield Motors",
         303
        ],
        [
         "BR2353",
         "Toyota Motors",
         304
        ],
        [
         "BR0277",
         "Saturn Motors",
         305
        ],
        [
         "BR0561",
         "Fiat Motors",
         306
        ],
        [
         "BR0584",
         "Bitter Motors",
         307
        ],
        [
         "BR0668",
         "Tesla Motors",
         308
        ],
        [
         "BR0908",
         "Lagonda  Motors",
         309
        ],
        [
         "BR1207",
         "AC Cars Motors",
         310
        ],
        [
         "BR1313",
         "Isdera Motors",
         311
        ],
        [
         "BR1512",
         "Mitsubishi Motors",
         312
        ],
        [
         "BR1547",
         "Chrysler Motors",
         313
        ],
        [
         "BR1574",
         "Jeep Motors",
         314
        ],
        [
         "BR1752",
         "Plymouth Motors",
         315
        ],
        [
         "BR1964",
         "Nash Motors",
         316
        ],
        [
         "BR2024",
         "Oldsmobile Motors",
         317
        ],
        [
         "BR4446",
         "H Street Playhouse",
         318
        ],
        [
         "BR0008",
         "Messerschmitt Motors",
         319
        ],
        [
         "BR0491",
         "Donkervoort Motors",
         320
        ],
        [
         "BR0798",
         "Westfield Motors",
         321
        ],
        [
         "BR0899",
         "Toyota India Motors",
         322
        ],
        [
         "BR1485",
         "Geo Motors",
         323
        ],
        [
         "BR1561",
         "Polestar Motors",
         324
        ],
        [
         "BR1967",
         "Heinkel Motors",
         325
        ],
        [
         "BR2128",
         "GMC Motors",
         326
        ],
        [
         "BR0154",
         "Wolseley  Motors",
         327
        ],
        [
         "BR0424",
         "Aixam-Mega (including Arola) Motors",
         328
        ],
        [
         "BR0451",
         "DeLorean Motors",
         329
        ],
        [
         "BR0701",
         "Ginetta Motors",
         330
        ],
        [
         "BR0846",
         "Skoda Motors",
         331
        ],
        [
         "BR1025",
         "Bristol Motors",
         332
        ],
        [
         "BR1307",
         "Artega Motors",
         333
        ],
        [
         "BR1519",
         "Asia Motors Motors",
         334
        ],
        [
         "BR2191",
         "Morris  Motors",
         335
        ],
        [
         "BR6306",
         "Alvis Motors",
         336
        ],
        [
         "BR0013",
         "Herald Motors",
         337
        ],
        [
         "BR0050",
         "Isdera Motors",
         338
        ],
        [
         "BR0175",
         "Volkswagen South Africa Motors",
         339
        ],
        [
         "BR0368",
         "Reliant Motors",
         340
        ],
        [
         "BR0454",
         "Alvis Motors",
         341
        ],
        [
         "BR0714",
         "Asia Motors Motors",
         342
        ],
        [
         "BR1172",
         "Jeep Motors",
         343
        ],
        [
         "BR1402",
         "Matra (including Deutsch-Bonnet, René Bonnet) Motors",
         344
        ],
        [
         "BR1553",
         "Marcos Motors",
         345
        ],
        [
         "BR2060",
         "Austin, Rover Motors",
         346
        ],
        [
         "BR2062",
         "Studebaker Motors",
         347
        ],
        [
         "BR2075",
         "Messerschmitt Motors",
         348
        ],
        [
         "BR2153",
         "Scion Motors",
         349
        ],
        [
         "BR2323",
         "Tazzari Motors",
         350
        ],
        [
         "BR2440",
         "Ford Europe Motors",
         351
        ],
        [
         "BR0734",
         "Audi Motors",
         352
        ],
        [
         "BR2129",
         "Eicher Polaris Motors",
         353
        ],
        [
         "BR2221",
         "Wolseley  Motors",
         354
        ],
        [
         "BR7866",
         "Checker Motors",
         355
        ],
        [
         "BR0408",
         "Saab Motors",
         356
        ],
        [
         "BR0555",
         "Howard Motor Company Building",
         357
        ],
        [
         "BR0567",
         "Volkswagen do Brasil Motors",
         358
        ],
        [
         "BR0769",
         "Spyker Motors",
         359
        ],
        [
         "BR0841",
         "Humber Motors",
         360
        ],
        [
         "BR1333",
         "Isotta Fraschini Motors",
         361
        ],
        [
         "BR6486",
         "Ariel Motors",
         362
        ],
        [
         "BR6966",
         "Auverland Motors",
         363
        ],
        [
         "BR0011",
         "Geo Motors",
         364
        ],
        [
         "BR0692",
         "Donkervoort Motors",
         365
        ],
        [
         "BR0771",
         "Hennessey Motors",
         366
        ],
        [
         "BR0919",
         "TVR Motors",
         367
        ],
        [
         "BR1219",
         "Herald Motors",
         368
        ],
        [
         "BR1263",
         "Hyundai Motors",
         369
        ],
        [
         "BR1404",
         "Holden Motors",
         370
        ],
        [
         "BR1720",
         "Asia Motors Motors",
         371
        ],
        [
         "BR1749",
         "Autobianchi Motors",
         372
        ],
        [
         "BR1852",
         "Rivian Motors",
         373
        ],
        [
         "BR0033",
         "Atlantic Motor Company",
         374
        ],
        [
         "BR0172",
         "Bentley Motors",
         375
        ],
        [
         "BR0229",
         "Micro Motors",
         376
        ],
        [
         "BR1103",
         "Ginetta Motors",
         377
        ],
        [
         "BR1318",
         "Asia Motors Motors",
         378
        ],
        [
         "BR1420",
         "Herald Motors",
         379
        ],
        [
         "BR5106",
         "Alvis Motors",
         380
        ],
        [
         "BR0143",
         "H Street Playhouse",
         381
        ],
        [
         "BR0198",
         "Pagani Motors",
         382
        ],
        [
         "BR0651",
         "Freightliner Motors",
         383
        ],
        [
         "BR1014",
         "Daihatsu Motors",
         384
        ],
        [
         "BR1499",
         "ARO Motors",
         385
        ],
        [
         "BR1743",
         "Morgan Motors",
         386
        ],
        [
         "BR1858",
         "DeLorean Motors",
         387
        ],
        [
         "BR1871",
         "Subaru Motors",
         388
        ],
        [
         "BR1897",
         "Gilbern Motors",
         389
        ],
        [
         "BR1943",
         "Piaggio Motors",
         390
        ],
        [
         "BR1951",
         "Toyota Motors",
         391
        ],
        [
         "BR2330",
         "Eicher Polaris Motors",
         392
        ],
        [
         "BR2367",
         "Marlin Motors",
         393
        ],
        [
         "BR2444",
         "SsangYong Motors",
         394
        ],
        [
         "BR8406",
         "DAF Motors",
         395
        ],
        [
         "BR8586",
         null,
         396
        ],
        [
         "BR8766",
         "DeSoto Motors",
         397
        ],
        [
         "BR0051",
         "GMC Motors",
         398
        ],
        [
         "BR0304",
         "Cass Motor Sales",
         399
        ],
        [
         "BR0801",
         "Holden Motors",
         400
        ],
        [
         "BR1244",
         "Ford India Motors",
         401
        ],
        [
         "BR1582",
         "Nissan Motors",
         402
        ],
        [
         "BR1969",
         "Citroën Motors",
         403
        ],
        [
         "BR2095",
         "Micro Motors",
         404
        ],
        [
         "BR2107",
         "Invicta Motors",
         405
        ],
        [
         "BR2324",
         "Santa Matilde Motors",
         406
        ],
        [
         "BR2415",
         "Puma Motors",
         407
        ],
        [
         "BR2449",
         "Humber Motors",
         408
        ],
        [
         "BR2646",
         null,
         409
        ],
        [
         "BR0222",
         "Aixam-Mega (including Arola) Motors",
         410
        ],
        [
         "BR0720",
         "Porsche Motors",
         411
        ],
        [
         "BR0953",
         "Ferrari Motors",
         412
        ],
        [
         "BR1012",
         "Honda Motors",
         413
        ],
        [
         "BR1220",
         "Zastava Motors",
         414
        ],
        [
         "BR1360",
         "Wolseley  Motors",
         415
        ],
        [
         "BR1380",
         "Talbot  Motors",
         416
        ],
        [
         "BR1461",
         "Pagani Motors",
         417
        ],
        [
         "BR1771",
         "Shelby SuperCars Motors",
         418
        ],
        [
         "BR1785",
         "Jensen Motors",
         419
        ],
        [
         "BR2213",
         "Skoda Motors",
         420
        ],
        [
         "BR2270",
         "DeSoto Motors",
         421
        ],
        [
         "BR2410",
         "Ford America Motors",
         422
        ],
        [
         "BR0221",
         null,
         423
        ],
        [
         "BR0324",
         "Clemens Automobile Company Building",
         424
        ],
        [
         "BR0364",
         "Hupmobile Building",
         425
        ],
        [
         "BR1628",
         "Bristol Motors",
         426
        ],
        [
         "BR1987",
         "Hillman Motors",
         427
        ],
        [
         "BR2263",
         "Studebaker Motors",
         428
        ],
        [
         "BR2427",
         "Mazzanti Motors",
         429
        ],
        [
         "BR0183",
         "Jones Motor Company",
         430
        ],
        [
         "BR0359",
         "Oldsmobile Motors",
         431
        ],
        [
         "BR1861",
         "Studebaker Motors",
         432
        ],
        [
         "BR1991",
         "UAZ Motors",
         433
        ],
        [
         "BR0200",
         "Land Rover Motors",
         434
        ],
        [
         "BR0815",
         "Acura Motors",
         435
        ],
        [
         "BR0870",
         "Santana Motors",
         436
        ],
        [
         "BR0897",
         "Casa de cadillac",
         437
        ],
        [
         "BR1028",
         "Zion Automobils",
         438
        ],
        [
         "BR2260",
         "DeLorean Motors",
         439
        ],
        [
         "BR2586",
         "ZIL Motors",
         440
        ],
        [
         "BR5466",
         "Asia Motors Motors",
         441
        ],
        [
         "BR0001",
         "AC Cars Motors",
         442
        ],
        [
         "BR0037",
         "Peel Motors",
         443
        ],
        [
         "BR0642",
         "Delahaye Motors",
         444
        ],
        [
         "BR10626",
         "Hennessey Motors",
         445
        ],
        [
         "BR1165",
         "Citroën Motors",
         446
        ],
        [
         "BR1174",
         "Fiat do Brasil Motors",
         447
        ],
        [
         "BR1228",
         "Aixam-Mega (including Arola) Motors",
         448
        ],
        [
         "BR1243",
         "Humber Motors",
         449
        ],
        [
         "BR14706",
         "Packard Motors",
         450
        ],
        [
         "BR1510",
         "Cass Motor Sales",
         451
        ],
        [
         "BR1931",
         "Tesla Motors",
         452
        ],
        [
         "BR2295",
         "Panther Motors",
         453
        ],
        [
         "BR0127",
         "Premier Motors",
         454
        ],
        [
         "BR0182",
         "Bitter Motors",
         455
        ],
        [
         "BR0385",
         "Das Motors",
         456
        ],
        [
         "BR0660",
         "Peugeot Motors",
         457
        ],
        [
         "BR0842",
         "Ford India Motors",
         458
        ],
        [
         "BR0935",
         "Audi Motors",
         459
        ],
        [
         "BR1070",
         "Tesla Motors",
         460
        ],
        [
         "BR1477",
         "Buick Motors",
         461
        ],
        [
         "BR2061",
         "Westfield Motors",
         462
        ],
        [
         "BR0280",
         "Mahindra Motors",
         463
        ],
        [
         "BR0619",
         "SAIC Motor Motors",
         464
        ],
        [
         "BR0902",
         "Ginetta Motors",
         465
        ],
        [
         "BR0988",
         "Das Motors",
         466
        ],
        [
         "BR1351",
         "Moskwitch Motors",
         467
        ],
        [
         "BR1652",
         "Packard Motors",
         468
        ],
        [
         "BR1999",
         "Daewoo, Saehan, Chevrolet Korea Motors",
         469
        ],
        [
         "BR2106",
         "Volkswagen Motors",
         470
        ],
        [
         "BR2230",
         "Daimler Motors",
         471
        ],
        [
         "BR2409",
         "Holden Motors",
         472
        ],
        [
         "BR2706",
         "DKW Motors",
         473
        ],
        [
         "BR4746",
         "Kindel Building",
         474
        ],
        [
         "BR9426",
         "Fiat do Brasil Motors",
         475
        ],
        [
         "BR0531",
         "Elva Motors",
         476
        ],
        [
         "BR0691",
         "Gilbern Motors",
         477
        ],
        [
         "BR0867",
         "Bohn Motor Company Automobile Dealership",
         478
        ],
        [
         "BR0940",
         "Singer Motors",
         479
        ],
        [
         "BR1340",
         "Austin  Motors",
         480
        ],
        [
         "BR13566",
         "Merkur Motors",
         481
        ],
        [
         "BR13746",
         "Micro Motors",
         482
        ],
        [
         "BR1399",
         "Kindel Building",
         483
        ],
        [
         "BR1910",
         "Artega Motors",
         484
        ],
        [
         "BR1933",
         "PGO Motors",
         485
        ],
        [
         "BR2291",
         "Zion Automobils",
         486
        ],
        [
         "BR4626",
         "Jennings Ford Automobile Dealership",
         487
        ],
        [
         "BR8046",
         "Chrysler Motors",
         488
        ],
        [
         "BR0833",
         null,
         489
        ],
        [
         "BR0858",
         "DKW Motors",
         490
        ],
        [
         "BR1068",
         "Bohn Motor Company Automobile Dealership",
         491
        ],
        [
         "BR1099",
         "Izh  Motors",
         492
        ],
        [
         "BR1248",
         "Alpine Motors",
         493
        ],
        [
         "BR1844",
         "Mercedes-Benz (including Maybach) Motors",
         494
        ],
        [
         "BR2028",
         "Ford do Brasil Motors",
         495
        ],
        [
         "BR2315",
         "Perodua Motors",
         496
        ],
        [
         "BR0300",
         "Marlin Motors",
         497
        ],
        [
         "BR0315",
         "MG  Motors",
         498
        ],
        [
         "BR0333",
         "Audi Motors",
         499
        ],
        [
         "BR0479",
         "Piaggio Motors",
         500
        ],
        [
         "BR0818",
         "Zastava Motors",
         501
        ],
        [
         "BR1140",
         "Vauxhall Motors",
         502
        ],
        [
         "BR1177",
         "Bentley Motors",
         503
        ],
        [
         "BR1681",
         "SAIC Motor Motors",
         504
        ],
        [
         "BR1803",
         "Noble Motors",
         505
        ],
        [
         "BR1862",
         "Rolls-Royce Motors",
         506
        ],
        [
         "BR2017",
         "Honda Motors",
         507
        ],
        [
         "BR0057",
         "Peugeot Motors",
         508
        ],
        [
         "BR0360",
         "Mazzanti Motors",
         509
        ],
        [
         "BR0474",
         "Anadol Motors",
         510
        ],
        [
         "BR0698",
         "Toyota India Motors",
         511
        ],
        [
         "BR1544",
         "Isuzu Motors",
         512
        ],
        [
         "BR1649",
         "Alpine Motors",
         513
        ],
        [
         "BR2063",
         "Rolls-Royce Motors",
         514
        ],
        [
         "BR0275",
         "Wanderer Motors",
         515
        ],
        [
         "BR0640",
         "Peel Motors",
         516
        ],
        [
         "BR1005",
         "Bond Motors",
         517
        ],
        [
         "BR1071",
         "Lexus Motors",
         518
        ],
        [
         "BR1108",
         "Cass Motor Sales",
         519
        ],
        [
         "BR1268",
         "AMC, Eagle Motors",
         520
        ],
        [
         "BR1528",
         "Aston Martin Motors",
         521
        ],
        [
         "BR1661",
         "Rolls-Royce Motors",
         522
        ],
        [
         "BR2023",
         "Ranger Motors",
         523
        ],
        [
         "BR2053",
         "Rivian Motors",
         524
        ],
        [
         "BR2441",
         "Jennings Ford Automobile Dealership",
         525
        ],
        [
         "BR0426",
         "Saturn Motors",
         526
        ],
        [
         "BR0857",
         "Blankinship Motor Company Building",
         527
        ],
        [
         "BR1303",
         "Invicta Motors",
         528
        ],
        [
         "BR1777",
         "Fiat do Brasil Motors",
         529
        ],
        [
         "BR1915",
         "LTI Motors",
         530
        ],
        [
         "BR2182",
         "TVR Motors",
         531
        ],
        [
         "BR0018",
         "Mia Motors",
         532
        ],
        [
         "BR0073",
         "Buick Automobile Company Building",
         533
        ],
        [
         "BR0388",
         "Rivian Motors",
         534
        ],
        [
         "BR0402",
         "Bond Motors",
         535
        ],
        [
         "BR0407",
         "Subaru Motors",
         536
        ],
        [
         "BR0461",
         "DeSoto Motors",
         537
        ],
        [
         "BR0627",
         "ZAZ Motors",
         538
        ],
        [
         "BR1067",
         "AMC, Eagle Motors",
         539
        ],
        [
         "BR1717",
         "e.GO Mobile Motors",
         540
        ],
        [
         "BR1887",
         "Geo Motors",
         541
        ],
        [
         "BR2350",
         "Facel Vega Motors",
         542
        ],
        [
         "BR0032",
         "Alfa Romeo Motors",
         543
        ],
        [
         "BR0434",
         "Alfa Romeo Motors",
         544
        ],
        [
         "BR0463",
         "AMC, Eagle Motors",
         545
        ],
        [
         "BR0861",
         "Hyundai Motors",
         546
        ],
        [
         "BR14046",
         "Morgan Motors",
         547
        ],
        [
         "BR2008",
         "Ford America Motors",
         548
        ],
        [
         "BR2187",
         "Jensen Motors",
         549
        ],
        [
         "BR3186",
         "Austin  Motors",
         550
        ],
        [
         "BR3546",
         "Ramani Motors",
         551
        ],
        [
         "BR3966",
         "Bohn Motor Company Automobile Dealership",
         552
        ],
        [
         "BR7146",
         "BMW Motors",
         553
        ],
        [
         "BR0695",
         "ARO Motors",
         554
        ],
        [
         "BR0719",
         "Simca Motors",
         555
        ],
        [
         "BR1302",
         "Lotus Motors",
         556
        ],
        [
         "BR1530",
         "Clemens Automobile Company Building",
         557
        ],
        [
         "BR1711",
         "San Motors",
         558
        ],
        [
         "BR2140",
         "Chevrolet India Motors",
         559
        ],
        [
         "BR2244",
         "Renault Motors",
         560
        ],
        [
         "BR2407",
         "Matra (including Deutsch-Bonnet, René Bonnet) Motors",
         561
        ],
        [
         "BR4026",
         "Buick Automobile Company Building",
         562
        ],
        [
         "BR0031",
         "Alfa Romeo Motors",
         563
        ],
        [
         "BR0121",
         "Aston Martin Motors",
         564
        ],
        [
         "BR0171",
         "Bentley Motors",
         565
        ],
        [
         "BR0497",
         "Toyota India Motors",
         566
        ],
        [
         "BR2275",
         "Panhard Motors",
         567
        ],
        [
         "BR2382",
         "MG  Motors",
         568
        ],
        [
         "BR2463",
         "Westfield Motors",
         569
        ],
        [
         "BR0338",
         "Proton Motors",
         570
        ],
        [
         "BR0525",
         "Clemens Automobile Company Building",
         571
        ],
        [
         "BR0546",
         "Seat Motors",
         572
        ],
        [
         "BR0911",
         "Isdera Motors",
         573
        ],
        [
         "BR0966",
         "Spyker Motors",
         574
        ],
        [
         "BR0987",
         "Jones Motor Company",
         575
        ],
        [
         "BR1145",
         "Chrysler Motors",
         576
        ],
        [
         "BR14166",
         "Nash Motors",
         577
        ],
        [
         "BR1835",
         "Lada Motors",
         578
        ],
        [
         "BR2117",
         "Isdera Motors",
         579
        ],
        [
         "BR2195",
         "Nissan India Motors",
         580
        ],
        [
         "BR2237",
         "Lada Motors",
         581
        ],
        [
         "BR0457",
         "Tazzari Motors",
         582
        ],
        [
         "BR0458",
         "Santa Matilde Motors",
         583
        ],
        [
         "BR0552",
         "Chrysler Europe Motors",
         584
        ],
        [
         "BR0745",
         "Autobianchi Motors",
         585
        ],
        [
         "BR1135",
         "Chevrolet India Motors",
         586
        ],
        [
         "BR1418",
         "Acura Motors",
         587
        ],
        [
         "BR1731",
         "Santana Motors",
         588
        ],
        [
         "BR2355",
         "Plymouth Motors",
         589
        ],
        [
         "BR0029",
         "Lincoln Motors",
         590
        ],
        [
         "BR0649",
         "San Motors",
         591
        ],
        [
         "BR0985",
         "Bitter Motors",
         592
        ],
        [
         "BR1247",
         "Alpine Motors",
         593
        ],
        [
         "BR1569",
         "Auverland Motors",
         594
        ],
        [
         "BR1632",
         null,
         595
        ],
        [
         "BR2021",
         "Volkswagen Motors",
         596
        ],
        [
         "BR2123",
         "Santa Matilde Motors",
         597
        ],
        [
         "BR2178",
         "Hennessey Motors",
         598
        ],
        [
         "BR2452",
         "Das Motors",
         599
        ],
        [
         "BR5706",
         "Auto-Union Motors",
         600
        ],
        [
         "BR6426",
         "Anadol Motors",
         601
        ],
        [
         "BR0519",
         "Porsche Motors",
         602
        ],
        [
         "BR1364",
         "Heinkel Motors",
         603
        ],
        [
         "BR1721",
         "Santa Matilde Motors",
         604
        ],
        [
         "BR2143",
         "Saturn Motors",
         605
        ],
        [
         "BR2179",
         "Fiat do Brasil Motors",
         606
        ],
        [
         "BR3066",
         "MG  Motors",
         607
        ],
        [
         "BR0804",
         "Bond Motors",
         608
        ],
        [
         "BR1050",
         "Tatra Motors",
         609
        ],
        [
         "BR1523",
         "LuAZ Motors",
         610
        ],
        [
         "BR1573",
         "Maruti Motors",
         611
        ],
        [
         "BR2318",
         "Isdera Motors",
         612
        ],
        [
         "BR2346",
         "Westfield Motors",
         613
        ],
        [
         "BR2417",
         "Mazda Motors",
         614
        ],
        [
         "BR4266",
         "Claremore Auto Dealership",
         615
        ],
        [
         "BR0565",
         "Hupmobile Building",
         616
        ],
        [
         "BR0710",
         "Pontiac, Asüna Motors",
         617
        ],
        [
         "BR0970",
         "Spyker Motors",
         618
        ],
        [
         "BR1032",
         "Hudson Motors",
         619
        ],
        [
         "BR13986",
         "Monteverdi Motors",
         620
        ],
        [
         "BR1455",
         "Freightliner Motors",
         621
        ],
        [
         "BR1755",
         "Iveco Motors",
         622
        ],
        [
         "BR1928",
         "Eicher Polaris Motors",
         623
        ],
        [
         "BR2091",
         "ZAZ Motors",
         624
        ],
        [
         "BR2223",
         "Smart Motors",
         625
        ],
        [
         "BR0260",
         "LuAZ Motors",
         626
        ],
        [
         "BR0420",
         "Mia Motors",
         627
        ],
        [
         "BR0723",
         "Chevrolet Motors",
         628
        ],
        [
         "BR1079",
         "Wanderer Motors",
         629
        ],
        [
         "BR11286",
         "Infiniti Motors",
         630
        ],
        [
         "BR1194",
         "Fisker, Karma Motors",
         631
        ],
        [
         "BR1362",
         "Marlin Motors",
         632
        ],
        [
         "BR1513",
         "LTI Motors",
         633
        ],
        [
         "BR2084",
         "Panoz Motors",
         634
        ],
        [
         "BR2199",
         "Fisker, Karma Motors",
         635
        ],
        [
         "BR0027",
         "Panther Motors",
         636
        ],
        [
         "BR0158",
         "Oldsmobile Motors",
         637
        ],
        [
         "BR0291",
         "Cadillac Motors",
         638
        ],
        [
         "BR0534",
         "Audi Motors",
         639
        ],
        [
         "BR1541",
         "Piaggio Motors",
         640
        ],
        [
         "BR1793",
         "Nissan India Motors",
         641
        ],
        [
         "BR2253",
         "Standard-Triumph Motors",
         642
        ],
        [
         "BR2322",
         "DKW Motors",
         643
        ],
        [
         "BR7686",
         "Bytom Motors",
         644
        ],
        [
         "BR0092",
         "ARO Motors",
         645
        ],
        [
         "BR0111",
         "Asia Motors Motors",
         646
        ],
        [
         "BR0255",
         "DKW Motors",
         647
        ],
        [
         "BR0490",
         "Moskwitch Motors",
         648
        ],
        [
         "BR0624",
         "Aixam-Mega (including Arola) Motors",
         649
        ],
        [
         "BR0748",
         "Venturi Motors",
         650
        ],
        [
         "BR0934",
         "Chevrolet India Motors",
         651
        ],
        [
         "BR1061",
         "Land Rover Motors",
         652
        ],
        [
         "BR1301",
         "Mini Motors",
         653
        ],
        [
         "BR1347",
         "Autobianchi Motors",
         654
        ],
        [
         "BR1369",
         "Hupmobile Building",
         655
        ],
        [
         "BR1834",
         "McLaren Motors",
         656
        ],
        [
         "BR2161",
         "Izh  Motors",
         657
        ],
        [
         "BR2207",
         "Kia Motors",
         658
        ],
        [
         "BR0271",
         "Buick Motors",
         659
        ],
        [
         "BR0455",
         "Blankinship Motor Company Building",
         660
        ],
        [
         "BR1167",
         "Auverland Motors",
         661
        ],
        [
         "BR1209",
         "Deccan Motors",
         662
        ],
        [
         "BR2526",
         "ZAZ Motors",
         663
        ],
        [
         "BR0101",
         "Artega Motors",
         664
        ],
        [
         "BR0112",
         "Asia Motors Motors",
         665
        ],
        [
         "BR0193",
         "Kindel Building",
         666
        ],
        [
         "BR0219",
         "Mia Motors",
         667
        ],
        [
         "BR0544",
         "Autobianchi Motors",
         668
        ],
        [
         "BR0891",
         null,
         669
        ],
        [
         "BR1019",
         "Zastava Motors",
         670
        ],
        [
         "BR1141",
         "Mahindra Motors",
         671
        ],
        [
         "BR1634",
         "Lada Motors",
         672
        ],
        [
         "BR1728",
         "Chevrolet Motors",
         673
        ],
        [
         "BR1877",
         "GAZ Motors",
         674
        ],
        [
         "BR1905",
         "Lotus Motors",
         675
        ],
        [
         "BR2089",
         "Dodge Motors",
         676
        ],
        [
         "BR0514",
         "Asia Motors Motors",
         677
        ],
        [
         "BR0732",
         "Elva Motors",
         678
        ],
        [
         "BR12306",
         "Lancia Motors",
         679
        ],
        [
         "BR1391",
         "Nissan India Motors",
         680
        ],
        [
         "BR1884",
         "Mia Motors",
         681
        ],
        [
         "BR1938",
         "Elva Motors",
         682
        ],
        [
         "BR1994",
         "Nissan India Motors",
         683
        ],
        [
         "BR0524",
         "Aston Martin Motors",
         684
        ],
        [
         "BR0621",
         "Ford do Brasil Motors",
         685
        ],
        [
         "BR1027",
         "Aixam-Mega (including Arola) Motors",
         686
        ],
        [
         "BR1190",
         "Volvo Motors",
         687
        ],
        [
         "BR1326",
         "Suzuki Motors",
         688
        ],
        [
         "BR1690",
         "Ariel Motors",
         689
        ],
        [
         "BR1727",
         "Eicher Polaris Motors",
         690
        ],
        [
         "BR2035",
         "McLaren Motors",
         691
        ],
        [
         "BR0141",
         "Honda Motors",
         692
        ],
        [
         "BR0635",
         "Alfa Romeo Motors",
         693
        ],
        [
         "BR0860",
         "Santa Matilde Motors",
         694
        ],
        [
         "BR1829",
         "Bristol Motors",
         695
        ],
        [
         "BR1889",
         "Bytom Motors",
         696
        ],
        [
         "BR2309",
         "Ginetta Motors",
         697
        ],
        [
         "BR0405",
         "Deccan Motors",
         698
        ],
        [
         "BR1233",
         "Hudson Motors",
         699
        ],
        [
         "BR1442",
         "Mercedes-Benz (including Maybach) Motors",
         700
        ],
        [
         "BR1685",
         "Infiniti Motors",
         701
        ],
        [
         "BR2071",
         "Wiesmann Motors",
         702
        ],
        [
         "BR0243",
         "Alpine Motors",
         703
        ],
        [
         "BR0768",
         "Volkswagen do Brasil Motors",
         704
        ],
        [
         "BR0814",
         "Borgward (including Goliath and Lloyd) Motors",
         705
        ],
        [
         "BR0843",
         "Delahaye Motors",
         706
        ],
        [
         "BR0863",
         "DeSoto Motors",
         707
        ],
        [
         "BR0945",
         "Autobianchi Motors",
         708
        ],
        [
         "BR0994",
         "Daewoo, Saehan, Chevrolet Korea Motors",
         709
        ],
        [
         "BR1127",
         "Aston Martin Motors",
         710
        ],
        [
         "BR1158",
         "Howard Motor Company Building",
         711
        ],
        [
         "BR1235",
         null,
         712
        ],
        [
         "BR1241",
         "Mercedes-Benz (including Maybach) Motors",
         713
        ],
        [
         "BR13266",
         "Mazda Motors",
         714
        ],
        [
         "BR1352",
         "Marcos Motors",
         715
        ],
        [
         "BR1424",
         "Honda India Motors",
         716
        ],
        [
         "BR1557",
         "Chrysler Europe Motors",
         717
        ],
        [
         "BR1668",
         "Bugatti Motors",
         718
        ],
        [
         "BR1805",
         "Kia Motors",
         719
        ],
        [
         "BR2000",
         "BMW Motors",
         720
        ],
        [
         "BR2045",
         "Mercedes-Benz (including Maybach) Motors",
         721
        ],
        [
         "BR2158",
         "Healey Motors",
         722
        ],
        [
         "BR5586",
         "Audi Motors",
         723
        ],
        [
         "BR0211",
         "Borgward (including Goliath and Lloyd) Motors",
         724
        ],
        [
         "BR0269",
         "Monteverdi Motors",
         725
        ],
        [
         "BR0321",
         "Chevrolet Motors",
         726
        ],
        [
         "BR0775",
         "Bentley Motors",
         727
        ],
        [
         "BR0868",
         "Horch Motors",
         728
        ],
        [
         "BR0939",
         "Vauxhall Motors",
         729
        ],
        [
         "BR1317",
         "Asia Motors Motors",
         730
        ],
        [
         "BR13326",
         "Mazzanti Motors",
         731
        ],
        [
         "BR1463",
         "Land Rover Motors",
         732
        ],
        [
         "BR1702",
         "Peel Motors",
         733
        ],
        [
         "BR1837",
         "Ford Europe Motors",
         734
        ],
        [
         "BR2313",
         "Tatra Motors",
         735
        ],
        [
         "BR0173",
         "Jennings Ford Automobile Dealership",
         736
        ],
        [
         "BR0469",
         "PGO Motors",
         737
        ],
        [
         "BR0889",
         "Toyota Motors",
         738
        ],
        [
         "BR1105",
         "Caterham Motors",
         739
        ],
        [
         "BR1977",
         "Hennessey Motors",
         740
        ],
        [
         "BR1985",
         "Maserati Motors",
         741
        ],
        [
         "BR2171",
         "Lagonda  Motors",
         742
        ],
        [
         "BR2273",
         "Subaru Motors",
         743
        ],
        [
         "BR2283",
         "Sunbeam Motors",
         744
        ],
        [
         "BR2388",
         "Jensen Motors",
         745
        ],
        [
         "BR2438",
         "Lada Motors",
         746
        ],
        [
         "BR4986",
         "Alfa Romeo Motors",
         747
        ],
        [
         "BR0080",
         "Isuzu Motors",
         748
        ],
        [
         "BR0602",
         "DAF Motors",
         749
        ],
        [
         "BR0963",
         "Fiat Motors",
         750
        ],
        [
         "BR1175",
         "Cizeta-Moroder Motors",
         751
        ],
        [
         "BR12606",
         "Lotus Motors",
         752
        ],
        [
         "BR1626",
         "Tornado Motors",
         753
        ],
        [
         "BR0019",
         "Ligier Motors",
         754
        ],
        [
         "BR0020",
         "Infiniti Motors",
         755
        ],
        [
         "BR0021",
         "Gilbern Motors",
         756
        ],
        [
         "BR0041",
         "Glas Motors",
         757
        ],
        [
         "BR0081",
         "Healey Motors",
         758
        ],
        [
         "BR0375",
         "Talbot  Motors",
         759
        ],
        [
         "BR0773",
         "Cizeta-Moroder Motors",
         760
        ],
        [
         "BR0873",
         "De Tomaso Motors",
         761
        ],
        [
         "BR1173",
         "Hennessey Motors",
         762
        ],
        [
         "BR1940",
         "Audi Motors",
         763
        ],
        [
         "BR1949",
         "Chrysler Motors",
         764
        ],
        [
         "BR0197",
         "Rolls-Royce Motors",
         765
        ],
        [
         "BR1234",
         "Ford Europe Motors",
         766
        ],
        [
         "BR1325",
         "Eicher Polaris Motors",
         767
        ],
        [
         "BR1671",
         "Saab Motors",
         768
        ],
        [
         "BR2052",
         "Standard-Triumph Motors",
         769
        ],
        [
         "BR2164",
         "Polestar Motors",
         770
        ],
        [
         "BR2293",
         "Suzuki Motors",
         771
        ],
        [
         "BR2766",
         "Horch Motors",
         772
        ],
        [
         "BR0362",
         "Auverland Motors",
         773
        ],
        [
         "BR0581",
         "Fiat India Motors",
         774
        ],
        [
         "BR0669",
         "Santana Motors",
         775
        ],
        [
         "BR0694",
         "ARO Motors",
         776
        ],
        [
         "BR1179",
         "Talbot  Motors",
         777
        ],
        [
         "BR12126",
         "KTM Motors",
         778
        ],
        [
         "BR1323",
         "Iso Motors",
         779
        ],
        [
         "BR1678",
         "Buick Motors",
         780
        ],
        [
         "BR1875",
         "Lexus Motors",
         781
        ],
        [
         "BR0102",
         null,
         782
        ],
        [
         "BR0180",
         "Lamborghini Motors",
         783
        ],
        [
         "BR0227",
         "Saleen Motors",
         784
        ],
        [
         "BR0298",
         "Polestar Motors",
         785
        ],
        [
         "BR0301",
         "Caterham Motors",
         786
        ],
        [
         "BR0504",
         null,
         787
        ],
        [
         "BR0871",
         "IFA (including Trabant, Wartburg, Barkas) Motors",
         788
        ],
        [
         "BR0925",
         "Aston Martin Motors",
         789
        ],
        [
         "BR1217",
         "Acura Motors",
         790
        ],
        [
         "BR1258",
         "Alvis Motors",
         791
        ],
        [
         "BR14586",
         null,
         792
        ],
        [
         "BR2082",
         "Sunbeam Motors",
         793
        ],
        [
         "BR2132",
         "Tesla Motors",
         794
        ],
        [
         "BR2395",
         "Premier Motors",
         795
        ],
        [
         "BR2402",
         "Austin  Motors",
         796
        ],
        [
         "BR0393",
         "BMW Motors",
         797
        ],
        [
         "BR0600",
         "Pagani Motors",
         798
        ],
        [
         "BR0623",
         "Bristol Motors",
         799
        ],
        [
         "BR0791",
         "Hindustan Motors",
         800
        ],
        [
         "BR10146",
         "Gilbern Motors",
         801
        ],
        [
         "BR1063",
         "FSO Motors",
         802
        ],
        [
         "BR1181",
         "Maserati Motors",
         803
        ],
        [
         "BR1259",
         "Blankinship Motor Company Building",
         804
        ],
        [
         "BR1372",
         "Maruti Motors",
         805
        ],
        [
         "BR1878",
         "De Tomaso Motors",
         806
        ],
        [
         "BR2375",
         "Pontiac, Asüna Motors",
         807
        ],
        [
         "BR3666",
         "Herald Motors",
         808
        ],
        [
         "BR0201",
         "IFA (including Trabant, Wartburg, Barkas) Motors",
         809
        ],
        [
         "BR0973",
         "Fiat do Brasil Motors",
         810
        ],
        [
         "BR1117",
         "Asia Motors Motors",
         811
        ],
        [
         "BR1397",
         "BMW Motors",
         812
        ],
        [
         "BR1467",
         "Bugatti Motors",
         813
        ],
        [
         "BR1577",
         "Cizeta-Moroder Motors",
         814
        ],
        [
         "BR1598",
         "BMW Motors",
         815
        ],
        [
         "BR1601",
         "Proton Motors",
         816
        ],
        [
         "BR1945",
         "Mahindra Motors",
         817
        ],
        [
         "BR2050",
         "Austin-Healey Motors",
         818
        ],
        [
         "BR0004",
         "Wiesmann Motors",
         819
        ],
        [
         "BR0262",
         "AMC, Eagle Motors",
         820
        ],
        [
         "BR0369",
         null,
         821
        ],
        [
         "BR0573",
         "Bentley Motors",
         822
        ],
        [
         "BR1665",
         "Hyundai Motors",
         823
        ],
        [
         "BR1895",
         "Lincoln Motors",
         824
        ],
        [
         "BR2101",
         "ZIL Motors",
         825
        ],
        [
         "BR2202",
         "Vauxhall Motors",
         826
        ],
        [
         "BR2335",
         "PGO Motors",
         827
        ],
        [
         "BR2372",
         "Lagonda  Motors",
         828
        ],
        [
         "BR3906",
         "Blankinship Motor Company Building",
         829
        ],
        [
         "BR0130",
         "JPX Motors",
         830
        ],
        [
         "BR0611",
         "Ford Australia Motors",
         831
        ],
        [
         "BR1157",
         "Auto-Union Motors",
         832
        ],
        [
         "BR1292",
         "Lincoln Motors",
         833
        ],
        [
         "BR1677",
         "De Tomaso Motors",
         834
        ],
        [
         "BR1840",
         "Alfa Romeo Motors",
         835
        ],
        [
         "BR1894",
         "Micro Motors",
         836
        ],
        [
         "BR1957",
         "Healey Motors",
         837
        ],
        [
         "BR2289",
         "Geo Motors",
         838
        ],
        [
         "BR2371",
         "Cass Motor Sales",
         839
        ],
        [
         "BR7926",
         "Chevrolet Motors",
         840
        ],
        [
         "BR0195",
         "Westfield Motors",
         841
        ],
        [
         "BR0484",
         "Ariel Motors",
         842
        ],
        [
         "BR1029",
         "ZAZ Motors",
         843
        ],
        [
         "BR1137",
         "Audi Motors",
         844
        ],
        [
         "BR1431",
         null,
         845
        ],
        [
         "BR1792",
         "Premier Motors",
         846
        ],
        [
         "BR2272",
         "Wiesmann Motors",
         847
        ],
        [
         "BR1215",
         "Daihatsu Motors",
         848
        ],
        [
         "BR14226",
         "Naza Motors",
         849
        ],
        [
         "BR1725",
         "Iso Motors",
         850
        ],
        [
         "BR2886",
         "Maybach  Motors",
         851
        ],
        [
         "BR0014",
         "Zastava Motors",
         852
        ],
        [
         "BR0066",
         "SAIC Motor Motors",
         853
        ],
        [
         "BR0608",
         "Subaru Motors",
         854
        ],
        [
         "BR0774",
         "Bentley Motors",
         855
        ],
        [
         "BR0894",
         "Cadillac Motors",
         856
        ],
        [
         "BR0912",
         "Glas Motors",
         857
        ],
        [
         "BR1558",
         "Auto-Union Motors",
         858
        ],
        [
         "BR2042",
         "SsangYong Motors",
         859
        ],
        [
         "BR2154",
         "Plymouth Motors",
         860
        ],
        [
         "BR2267",
         "Land Rover Motors",
         861
        ],
        [
         "BR0144",
         "Riley  Motors",
         862
        ],
        [
         "BR0509",
         "Pontiac, Asüna Motors",
         863
        ],
        [
         "BR0709",
         "Shelby SuperCars Motors",
         864
        ],
        [
         "BR0851",
         "Hummer Motors",
         865
        ],
        [
         "BR1310",
         "Lagonda  Motors",
         866
        ],
        [
         "BR1954",
         "Moskwitch Motors",
         867
        ],
        [
         "BR2131",
         "Horch Motors",
         868
        ],
        [
         "BR2220",
         "Daihatsu Motors",
         869
        ],
        [
         "BR2243",
         "SsangYong Motors",
         870
        ],
        [
         "BR2457",
         "Mercury Motors",
         871
        ],
        [
         "BR0065",
         "Tesla Motors",
         872
        ],
        [
         "BR0488",
         "Scion Motors",
         873
        ],
        [
         "BR0810",
         "Saab Motors",
         874
        ],
        [
         "BR0947",
         "H Street Playhouse",
         875
        ],
        [
         "BR1815",
         "Koenigsegg Motors",
         876
        ],
        [
         "BR2034",
         null,
         877
        ],
        [
         "BR2188",
         "Hillman Motors",
         878
        ],
        [
         "BR2250",
         "Delahaye Motors",
         879
        ],
        [
         "BR2340",
         "Elva Motors",
         880
        ],
        [
         "BR0135",
         "Vauxhall Motors",
         881
        ],
        [
         "BR0152",
         "Auto-Union Motors",
         882
        ],
        [
         "BR0352",
         "Auto-Union Motors",
         883
        ],
        [
         "BR1291",
         "Micro Motors",
         884
        ],
        [
         "BR1608",
         "Bond Motors",
         885
        ],
        [
         "BR2394",
         "Simca do Brasil Motors",
         886
        ],
        [
         "BR2451",
         "Jones Motor Company",
         887
        ],
        [
         "BR0220",
         "Ligier Motors",
         888
        ],
        [
         "BR0283",
         "Ariel Motors",
         889
        ],
        [
         "BR0770",
         "Reliant Motors",
         890
        ],
        [
         "BR0845",
         "Alpine Motors",
         891
        ],
        [
         "BR1339",
         "Colman Automotive Building",
         892
        ],
        [
         "BR2454",
         "Standard-Triumph Motors",
         893
        ],
        [
         "BR0409",
         "Panhard Motors",
         894
        ],
        [
         "BR0971",
         "Jeep Motors",
         895
        ],
        [
         "BR1083",
         "Geo Motors",
         896
        ],
        [
         "BR1159",
         "Wolseley  Motors",
         897
        ],
        [
         "BR1779",
         "Bentley Motors",
         898
        ],
        [
         "BR1864",
         "Merkur Motors",
         899
        ],
        [
         "BR2007",
         "Holden Motors",
         900
        ],
        [
         "BR1189",
         "Das Motors",
         901
        ],
        [
         "BR1348",
         "Autobianchi Motors",
         902
        ],
        [
         "BR2018",
         "Ford Australia Motors",
         903
        ],
        [
         "BR2048",
         "Ford India Motors",
         904
        ],
        [
         "BR8106",
         "Chrysler Europe Motors",
         905
        ],
        [
         "BR0185",
         "Volvo Motors",
         906
        ],
        [
         "BR0700",
         "Polestar Motors",
         907
        ],
        [
         "BR1112",
         "Isdera Motors",
         908
        ],
        [
         "BR1253",
         "Hummer Motors",
         909
        ],
        [
         "BR1293",
         null,
         910
        ],
        [
         "BR1638",
         "British Leyland Motors",
         911
        ],
        [
         "BR1783",
         "Nissan Motors",
         912
        ],
        [
         "BR1830",
         "Aixam-Mega (including Arola) Motors",
         913
        ],
        [
         "BR2351",
         "Cadillac Automobile Company Building",
         914
        ],
        [
         "BR6546",
         "ARO Motors",
         915
        ],
        [
         "BR0094",
         "Izh  Motors",
         916
        ],
        [
         "BR0239",
         "Mini Motors",
         917
        ],
        [
         "BR0268",
         "PGO Motors",
         918
        ],
        [
         "BR0702",
         "Edsel Motors",
         919
        ],
        [
         "BR0968",
         "Standard  Motors",
         920
        ],
        [
         "BR1162",
         "Jaguar Motors",
         921
        ],
        [
         "BR12486",
         "Ligier Motors",
         922
        ],
        [
         "BR1562",
         "Nash Motors",
         923
        ],
        [
         "BR1745",
         "Isuzu Motors",
         924
        ],
        [
         "BR1974",
         "Naza Motors",
         925
        ],
        [
         "BR2122",
         "Tazzari Motors",
         926
        ],
        [
         "BR2163",
         "Seat Motors",
         927
        ],
        [
         "BR2166",
         "Volkswagen do Brasil Motors",
         928
        ],
        [
         "BR2226",
         "Volkswagen South Africa Motors",
         929
        ],
        [
         "BR0064",
         "Horch Motors",
         930
        ],
        [
         "BR0083",
         "Cadillac Automobile Company Building",
         931
        ],
        [
         "BR0328",
         "Premier Motors",
         932
        ],
        [
         "BR0492",
         "Cadillac Motors",
         933
        ],
        [
         "BR1087",
         "Ariel Motors",
         934
        ],
        [
         "BR1393",
         "JPX Motors",
         935
        ],
        [
         "BR1811",
         "Skoda Motors",
         936
        ],
        [
         "BR1901",
         "Tata Motors",
         937
        ],
        [
         "BR0487",
         "Toyota Motors",
         938
        ],
        [
         "BR0585",
         "Jones Motor Company",
         939
        ],
        [
         "BR0678",
         "Tornado Motors",
         940
        ],
        [
         "BR1088",
         "Cadillac Automobile Company Building",
         941
        ],
        [
         "BR1425",
         "Ford do Brasil Motors",
         942
        ],
        [
         "BR1709",
         "Artega Motors",
         943
        ],
        [
         "BR1742",
         "Piaggio Motors",
         944
        ],
        [
         "BR2025",
         "Mazzanti Motors",
         945
        ],
        [
         "BR2469",
         "Hyundai Motors",
         946
        ],
        [
         "BR0747",
         "Riley  Motors",
         947
        ],
        [
         "BR0961",
         "Jaguar Motors",
         948
        ],
        [
         "BR1471",
         "Panhard Motors",
         949
        ],
        [
         "BR1615",
         "Honda Motors",
         950
        ],
        [
         "BR2059",
         "DeLorean Motors",
         951
        ],
        [
         "BR2211",
         "Riley  Motors",
         952
        ],
        [
         "BR2455",
         "Rivian Motors",
         953
        ],
        [
         "BR0103",
         "Cass Motor Sales",
         954
        ],
        [
         "BR1993",
         "Premier Motors",
         955
        ],
        [
         "BR8706",
         "DeLorean Motors",
         956
        ],
        [
         "BR9126",
         "Eicher Polaris Motors",
         957
        ],
        [
         "BR0342",
         "Autobianchi Motors",
         958
        ],
        [
         "BR0410",
         "Messerschmitt Motors",
         959
        ],
        [
         "BR2348",
         "Isuzu Motors",
         960
        ],
        [
         "BR8226",
         "Cizeta-Moroder Motors",
         961
        ],
        [
         "BR0202",
         "AC Cars Motors",
         962
        ],
        [
         "BR0387",
         "Standard-Triumph Motors",
         963
        ],
        [
         "BR1107",
         null,
         964
        ],
        [
         "BR1403",
         "Kia Motors",
         965
        ],
        [
         "BR1410",
         "Deccan Motors",
         966
        ],
        [
         "BR1444",
         "Humber Motors",
         967
        ],
        [
         "BR1621",
         "Ranger Motors",
         968
        ],
        [
         "BR1797",
         "Fisker, Karma Motors",
         969
        ],
        [
         "BR1980",
         "Bentley Motors",
         970
        ],
        [
         "BR2047",
         "Humber Motors",
         971
        ],
        [
         "BR0211",
         "Infiniti Motors",
         972
        ],
        [
         "BR1473",
         "Lexus Motors",
         973
        ],
        [
         "BR1492",
         "Micro Motors",
         974
        ],
        [
         "BR2068",
         "FSO Motors",
         975
        ],
        [
         "BR2412",
         "Riley  Motors",
         976
        ],
        [
         "BR7326",
         "Bristol Motors",
         977
        ],
        [
         "BR1101",
         "Lotus Motors",
         978
        ],
        [
         "BR1163",
         "Heinkel Motors",
         979
        ],
        [
         "BR14406",
         "Noble Motors",
         980
        ],
        [
         "BR1543",
         "Mahindra Motors",
         981
        ],
        [
         "BR1672",
         "Panhard Motors",
         982
        ],
        [
         "BR1765",
         "Jaguar Motors",
         983
        ],
        [
         "BR1965",
         "Marlin Motors",
         984
        ],
        [
         "BR2234",
         "Reliant Motors",
         985
        ],
        [
         "BR2300",
         "Donkervoort Motors",
         986
        ],
        [
         "BR2377",
         "Maruti Motors",
         987
        ],
        [
         "BR2437",
         "McLaren Motors",
         988
        ],
        [
         "BR0295",
         "Izh  Motors",
         989
        ],
        [
         "BR0672",
         "De Tomaso Motors",
         990
        ],
        [
         "BR0735",
         "Audi Motors",
         991
        ],
        [
         "BR0794",
         "BMW Motors",
         992
        ],
        [
         "BR2041",
         "Volkswagen South Africa Motors",
         993
        ],
        [
         "BR0189",
         "Mercury Motors",
         994
        ],
        [
         "BR0306",
         "Santa Matilde Motors",
         995
        ],
        [
         "BR0371",
         "Cizeta-Moroder Motors",
         996
        ],
        [
         "BR0384",
         "Jones Motor Company",
         997
        ],
        [
         "BR0605",
         "AC Cars Motors",
         998
        ],
        [
         "BR0921",
         "Iso Motors",
         999
        ],
        [
         "BR10026",
         "GAZ Motors",
         1000
        ],
        [
         "BR1059",
         "DKW Motors",
         1001
        ],
        [
         "BR1338",
         "Audi Motors",
         1002
        ],
        [
         "BR1787",
         "Fiat India Motors",
         1003
        ],
        [
         "BR2380",
         "Fiat do Brasil Motors",
         1004
        ],
        [
         "BR0117",
         "Porsche Motors",
         1005
        ],
        [
         "BR0170",
         "Lada Motors",
         1006
        ],
        [
         "BR0690",
         "Plymouth Motors",
         1007
        ],
        [
         "BR1262",
         "Land Rover Motors",
         1008
        ],
        [
         "BR1419",
         "Acura Motors",
         1009
        ],
        [
         "BR1457",
         "Austin, Rover Motors",
         1010
        ],
        [
         "BR1520",
         "Claremore Auto Dealership",
         1011
        ],
        [
         "BR1719",
         "Asia Motors Motors",
         1012
        ],
        [
         "BR1758",
         "Chrysler Europe Motors",
         1013
        ],
        [
         "BR2214",
         "Puma Motors",
         1014
        ],
        [
         "BR2305",
         "Peel Motors",
         1015
        ],
        [
         "BR5946",
         "BMW Motors",
         1016
        ],
        [
         "BR0041",
         "Alpine Motors",
         1017
        ],
        [
         "BR0104",
         "Lagonda  Motors",
         1018
        ],
        [
         "BR0122",
         "Aston Martin Motors",
         1019
        ],
        [
         "BR0429",
         "Panther Motors",
         1020
        ],
        [
         "BR0786",
         "Singer Motors",
         1021
        ],
        [
         "BR0943",
         "Facel Vega Motors",
         1022
        ],
        [
         "BR1231",
         "McLaren Motors",
         1023
        ],
        [
         "BR1305",
         "Edsel Motors",
         1024
        ],
        [
         "BR1330",
         "Morris  Motors",
         1025
        ],
        [
         "BR1737",
         "Elva Motors",
         1026
        ],
        [
         "BR4686",
         "Jones Motor Company",
         1027
        ],
        [
         "BR0114",
         "MG  Motors",
         1028
        ],
        [
         "BR0181",
         "Hummer Motors",
         1029
        ],
        [
         "BR0353",
         "Auto-Union Motors",
         1030
        ],
        [
         "BR0995",
         "BMW Motors",
         1031
        ],
        [
         "BR11466",
         "Isdera Motors",
         1032
        ],
        [
         "BR1152",
         "Iveco Motors",
         1033
        ],
        [
         "BR1383",
         "Jensen Motors",
         1034
        ],
        [
         "BR1585",
         "Hillman Motors",
         1035
        ],
        [
         "BR1670",
         "AMC, Eagle Motors",
         1036
        ],
        [
         "BR1929",
         "Chevrolet Motors",
         1037
        ],
        [
         "BR2310",
         "Edsel Motors",
         1038
        ],
        [
         "BR4086",
         "Cadillac Automobile Company Building",
         1039
        ],
        [
         "BR5346",
         "ARO Motors",
         1040
        ],
        [
         "BR0194",
         "Ramani Motors",
         1041
        ],
        [
         "BR0337",
         "Singer Motors",
         1042
        ],
        [
         "BR0382",
         "Bitter Motors",
         1043
        ],
        [
         "BR0738",
         "Vauxhall Motors",
         1044
        ],
        [
         "BR1502",
         "Mini Motors",
         1045
        ],
        [
         "BR2134",
         "PGO Motors",
         1046
        ],
        [
         "BR2139",
         "Elva Motors",
         1047
        ],
        [
         "BR3786",
         "Atlantic Motor Company",
         1048
        ],
        [
         "BR6606",
         "Artega Motors",
         1049
        ],
        [
         "BR7506",
         "Austin, Rover Motors",
         1050
        ],
        [
         "BR0138",
         "Noble Motors",
         1051
        ],
        [
         "BR0367",
         "Spyker Motors",
         1052
        ],
        [
         "BR0512",
         "Checker Motors",
         1053
        ],
        [
         "BR0711",
         "Glas Motors",
         1054
        ],
        [
         "BR0787",
         "Das Motors",
         1055
        ],
        [
         "BR1049",
         null,
         1056
        ],
        [
         "BR2307",
         "Lotus Motors",
         1057
        ],
        [
         "BR0118",
         "Nissan Motors",
         1058
        ],
        [
         "BR0131",
         "Holden Motors",
         1059
        ],
        [
         "BR0279",
         "Morgan Motors",
         1060
        ],
        [
         "BR0727",
         "Morris  Motors",
         1061
        ],
        [
         "BR1184",
         "Fiat India Motors",
         1062
        ],
        [
         "BR1192",
         "JPX Motors",
         1063
        ],
        [
         "BR11946",
         "JPX Motors",
         1064
        ],
        [
         "BR1238",
         "Alfa Romeo Motors",
         1065
        ],
        [
         "BR1488",
         "Ariel Motors",
         1066
        ],
        [
         "BR1579",
         "Bentley Motors",
         1067
        ],
        [
         "BR1620",
         "Acura Motors",
         1068
        ],
        [
         "BR1625",
         "Honda India Motors",
         1069
        ],
        [
         "BR1937",
         "GTA Spano Motors",
         1070
        ],
        [
         "BR2113",
         "San Motors",
         1071
        ],
        [
         "BR0493",
         "ARO Motors",
         1072
        ],
        [
         "BR0625",
         "Aixam-Mega (including Arola) Motors",
         1073
        ],
        [
         "BR0744",
         "Autobianchi Motors",
         1074
        ],
        [
         "BR0781",
         "Hillman Motors",
         1075
        ],
        [
         "BR0785",
         "Bitter Motors",
         1076
        ],
        [
         "BR0931",
         "Isotta Fraschini Motors",
         1077
        ],
        [
         "BR1414",
         "Honda Motors",
         1078
        ],
        [
         "BR1445",
         "Ford India Motors",
         1079
        ],
        [
         "BR1655",
         "Hummer Motors",
         1080
        ],
        [
         "BR1778",
         "Cizeta-Moroder Motors",
         1081
        ],
        [
         "BR2011",
         "Venturi Motors",
         1082
        ],
        [
         "BR2222",
         "Volkswagen Motors",
         1083
        ],
        [
         "BR0423",
         "Aixam-Mega (including Arola) Motors",
         1084
        ],
        [
         "BR0965",
         "Auverland Motors",
         1085
        ],
        [
         "BR1094",
         "Donkervoort Motors",
         1086
        ],
        [
         "BR1182",
         "Jensen Motors",
         1087
        ],
        [
         "BR12186",
         "Lada Motors",
         1088
        ],
        [
         "BR13086",
         "Maserati Motors",
         1089
        ],
        [
         "BR1908",
         "Edsel Motors",
         1090
        ],
        [
         "BR1922",
         "Santa Matilde Motors",
         1091
        ],
        [
         "BR2159",
         "Ferrari Motors",
         1092
        ],
        [
         "BR6246",
         "Alpine Motors",
         1093
        ],
        [
         "BR0224",
         "Zion Automobils",
         1094
        ],
        [
         "BR0414",
         "Acura Motors",
         1095
        ],
        [
         "BR0793",
         "Daewoo, Saehan, Chevrolet Korea Motors",
         1096
        ],
        [
         "BR1077",
         "Anadol Motors",
         1097
        ],
        [
         "BR13506",
         "Mercury Motors",
         1098
        ],
        [
         "BR1363",
         "Jaguar Motors",
         1099
        ],
        [
         "BR1699",
         "ARO Motors",
         1100
        ],
        [
         "BR1958",
         "Ferrari Motors",
         1101
        ],
        [
         "BR2046",
         "Venturi Motors",
         1102
        ],
        [
         "BR2157",
         "Iveco Motors",
         1103
        ],
        [
         "BR2281",
         "Herald Motors",
         1104
        ],
        [
         "BR0313",
         "Asia Motors Motors",
         1105
        ],
        [
         "BR0666",
         "Simca Motors",
         1106
        ],
        [
         "BR1692",
         "Panther Motors",
         1107
        ],
        [
         "BR1955",
         "Marcos Motors",
         1108
        ],
        [
         "BR0331",
         "Chevrolet India Motors",
         1109
        ],
        [
         "BR0588",
         "Standard-Triumph Motors",
         1110
        ],
        [
         "BR0681",
         "Geo Motors",
         1111
        ],
        [
         "BR1249",
         "2008 NRHP-listed",
         1112
        ],
        [
         "BR1315",
         "e.GO Mobile Motors",
         1113
        ],
        [
         "BR1449",
         "Alpine Motors",
         1114
        ],
        [
         "BR0228",
         "Panther Motors",
         1115
        ],
        [
         "BR0523",
         "Aston Martin Motors",
         1116
        ],
        [
         "BR0697",
         "Izh  Motors",
         1117
        ],
        [
         "BR0762",
         "Fiat Motors",
         1118
        ],
        [
         "BR0838",
         "ZIL Motors",
         1119
        ],
        [
         "BR0974",
         "Cizeta-Moroder Motors",
         1120
        ],
        [
         "BR1482",
         "Mia Motors",
         1121
        ],
        [
         "BR1667",
         "DeSoto Motors",
         1122
        ],
        [
         "BR1839",
         "British Leyland Motors",
         1123
        ],
        [
         "BR2229",
         "Ford do Brasil Motors",
         1124
        ],
        [
         "BR2231",
         "Standard  Motors",
         1125
        ],
        [
         "BR0303",
         null,
         1126
        ],
        [
         "BR0372",
         "Bentley Motors",
         1127
        ],
        [
         "BR0713",
         "Checker Motors",
         1128
        ],
        [
         "BR0784",
         "Bitter Motors",
         1129
        ],
        [
         "BR0901",
         "Invicta Motors",
         1130
        ],
        [
         "BR1202",
         "Kia Motors",
         1131
        ],
        [
         "BR12786",
         "Lynx Motors",
         1132
        ],
        [
         "BR1860",
         "Alvis Motors",
         1133
        ],
        [
         "BR2110",
         "Caterham Motors",
         1134
        ],
        [
         "BR2277",
         "Lexus Motors",
         1135
        ],
        [
         "BR2332",
         "Horch Motors",
         1136
        ],
        [
         "BR0778",
         "Volkswagen South Africa Motors",
         1137
        ],
        [
         "BR0942",
         "Gumpert Motors",
         1138
        ],
        [
         "BR1401",
         "Noble Motors",
         1139
        ],
        [
         "BR1435",
         "Ford Europe Motors",
         1140
        ],
        [
         "BR1465",
         "FSO Motors",
         1141
        ],
        [
         "BR2067",
         "Hyundai Motors",
         1142
        ],
        [
         "BR2124",
         "Peugeot Motors",
         1143
        ],
        [
         "BR2399",
         "Hindustan Motors",
         1144
        ],
        [
         "BR7026",
         "Bentley Motors",
         1145
        ],
        [
         "BR0045",
         "Tatra Motors",
         1146
        ],
        [
         "BR0151",
         "Honda India Motors",
         1147
        ],
        [
         "BR0334",
         "Colman Automotive Building",
         1148
        ],
        [
         "BR1026",
         "SsangYong Motors",
         1149
        ],
        [
         "BR1322",
         "LuAZ Motors",
         1150
        ],
        [
         "BR1888",
         "Dodge Motors",
         1151
        ],
        [
         "BR1947",
         "Gumpert Motors",
         1152
        ],
        [
         "BR2148",
         "Gumpert Motors",
         1153
        ],
        [
         "BR2239",
         "Ford Europe Motors",
         1154
        ],
        [
         "BR0017",
         "Panoz Motors",
         1155
        ],
        [
         "BR0599",
         "Rolls-Royce Motors",
         1156
        ],
        [
         "BR1279",
         "Buick Automobile Company Building",
         1157
        ],
        [
         "BR1343",
         "Isuzu Motors",
         1158
        ],
        [
         "BR1522",
         "Monica Motors",
         1159
        ],
        [
         "BR2031",
         "Volkswagen do Brasil Motors",
         1160
        ],
        [
         "BR2190",
         "Dacia Motors",
         1161
        ],
        [
         "BR2361",
         "Casa de cadillac",
         1162
        ],
        [
         "BR0168",
         null,
         1163
        ],
        [
         "BR0577",
         "Volkswagen South Africa Motors",
         1164
        ],
        [
         "BR0730",
         "Premier Motors",
         1165
        ],
        [
         "BR0879",
         "Tornado Motors",
         1166
        ],
        [
         "BR0923",
         "Eicher Polaris Motors",
         1167
        ],
        [
         "BR2104",
         "Peel Motors",
         1168
        ],
        [
         "BR2419",
         "Honda Motors",
         1169
        ],
        [
         "BR2448",
         "Lamborghini Motors",
         1170
        ],
        [
         "BR2470",
         "FSO Motors",
         1171
        ],
        [
         "BR0031",
         "Ginetta Motors",
         1172
        ],
        [
         "BR0391",
         "Daewoo, Saehan, Chevrolet Korea Motors",
         1173
        ],
        [
         "BR0477",
         "Tornado Motors",
         1174
        ],
        [
         "BR0614",
         "Acura Motors",
         1175
        ],
        [
         "BR0751",
         "Healey Motors",
         1176
        ],
        [
         "BR14766",
         "Pagani Motors",
         1177
        ],
        [
         "BR2302",
         "ZIL Motors",
         1178
        ],
        [
         "BR0218",
         "Panoz Motors",
         1179
        ],
        [
         "BR0323",
         "Aston Martin Motors",
         1180
        ],
        [
         "BR0395",
         "Ramani Motors",
         1181
        ],
        [
         "BR0450",
         "Mitsubishi Motors",
         1182
        ],
        [
         "BR0958",
         "Wolseley  Motors",
         1183
        ],
        [
         "BR0964",
         "Citroën Motors",
         1184
        ],
        [
         "BR1715",
         "Isdera Motors",
         1185
        ],
        [
         "BR1768",
         "Citroën Motors",
         1186
        ],
        [
         "BR2097",
         null,
         1187
        ],
        [
         "BR2204",
         "Proton Motors",
         1188
        ],
        [
         "BR2258",
         "Hummer Motors",
         1189
        ],
        [
         "BR0053",
         "Blankinship Motor Company Building",
         1190
        ],
        [
         "BR0074",
         "Wanderer Motors",
         1191
        ],
        [
         "BR0249",
         "Mitsubishi Motors",
         1192
        ],
        [
         "BR0643",
         "Austin-Healey Motors",
         1193
        ],
        [
         "BR0661",
         "FSO Motors",
         1194
        ],
        [
         "BR1021",
         "KTM Motors",
         1195
        ],
        [
         "BR1098",
         "Casa de cadillac",
         1196
        ],
        [
         "BR1125",
         "Chevrolet Motors",
         1197
        ],
        [
         "BR13926",
         "Monica Motors",
         1198
        ],
        [
         "BR1493",
         "Lincoln Motors",
         1199
        ],
        [
         "BR2151",
         "Maybach  Motors",
         1200
        ],
        [
         "BR2352",
         "Maybach  Motors",
         1201
        ],
        [
         "BR0006",
         "Saab Motors",
         1202
        ],
        [
         "BR0051",
         "Alvis Motors",
         1203
        ],
        [
         "BR0169",
         "McLaren Motors",
         1204
        ],
        [
         "BR0341",
         "Chrysler Motors",
         1205
        ],
        [
         "BR0620",
         "Panoz Motors",
         1206
        ],
        [
         "BR0658",
         "Tazzari Motors",
         1207
        ],
        [
         "BR0803",
         "DAF Motors",
         1208
        ],
        [
         "BR1944",
         "Morgan Motors",
         1209
        ],
        [
         "BR2312",
         null,
         1210
        ],
        [
         "BR0069",
         "Lynx Motors",
         1211
        ],
        [
         "BR0267",
         "Santana Motors",
         1212
        ],
        [
         "BR0379",
         "Opel Motors",
         1213
        ],
        [
         "BR0634",
         "Alfa Romeo Motors",
         1214
        ],
        [
         "BR0680",
         "Piaggio Motors",
         1215
        ],
        [
         "BR0688",
         "Toyota Motors",
         1216
        ],
        [
         "BR0884",
         "Bytom Motors",
         1217
        ],
        [
         "BR0983",
         "Fiat India Motors",
         1218
        ],
        [
         "BR1147",
         "Autobianchi Motors",
         1219
        ],
        [
         "BR1411",
         "NSU Motors",
         1220
        ],
        [
         "BR1464",
         "Hyundai Motors",
         1221
        ],
        [
         "BR2251",
         "Das Motors",
         1222
        ],
        [
         "BR2329",
         "GMC Motors",
         1223
        ],
        [
         "BR0049",
         "LTI Motors",
         1224
        ],
        [
         "BR0225",
         "ZAZ Motors",
         1225
        ],
        [
         "BR0272",
         "Anadol Motors",
         1226
        ],
        [
         "BR0844",
         "Austin-Healey Motors",
         1227
        ],
        [
         "BR1043",
         "Ford India Motors",
         1228
        ],
        [
         "BR1148",
         "H Street Playhouse",
         1229
        ],
        [
         "BR1171",
         "Maruti Motors",
         1230
        ],
        [
         "BR1232",
         "Lada Motors",
         1231
        ],
        [
         "BR1831",
         "Spyker Motors",
         1232
        ],
        [
         "BR2174",
         "Pontiac, Asüna Motors",
         1233
        ],
        [
         "BR0119",
         "Maserati Motors",
         1234
        ],
        [
         "BR0160",
         "KTM Motors",
         1235
        ],
        [
         "BR0433",
         "Alfa Romeo Motors",
         1236
        ],
        [
         "BR0629",
         "Saleen Motors",
         1237
        ],
        [
         "BR0718",
         "TVR Motors",
         1238
        ],
        [
         "BR1065",
         "Bugatti Motors",
         1239
        ],
        [
         "BR1149",
         "Riley  Motors",
         1240
        ],
        [
         "BR1180",
         "Volkswagen South Africa Motors",
         1241
        ],
        [
         "BR1195",
         "Daewoo, Saehan, Chevrolet Korea Motors",
         1242
        ],
        [
         "BR1212",
         "Koenigsegg Motors",
         1243
        ],
        [
         "BR1224",
         "Ford do Brasil Motors",
         1244
        ],
        [
         "BR1529",
         "Aston Martin Motors",
         1245
        ],
        [
         "BR1592",
         "Nissan India Motors",
         1246
        ],
        [
         "BR1714",
         "LTI Motors",
         1247
        ],
        [
         "BR1934",
         "Monteverdi Motors",
         1248
        ],
        [
         "BR1935",
         "Lynx Motors",
         1249
        ],
        [
         "BR2049",
         "Delahaye Motors",
         1250
        ],
        [
         "BR2064",
         "Pagani Motors",
         1251
        ],
        [
         "BR2085",
         "Mia Motors",
         1252
        ],
        [
         "BR2248",
         "Humber Motors",
         1253
        ],
        [
         "BR2406",
         "Wiesmann Motors",
         1254
        ],
        [
         "BR0347",
         "Skoda Motors",
         1255
        ],
        [
         "BR1450",
         "2008 NRHP-listed",
         1256
        ],
        [
         "BR1640",
         "Alfa Romeo Motors",
         1257
        ],
        [
         "BR1687",
         "Dodge Motors",
         1258
        ],
        [
         "BR2321",
         "Blankinship Motor Company Building",
         1259
        ],
        [
         "BR0572",
         "Cizeta-Moroder Motors",
         1260
        ],
        [
         "BR0606",
         "Shelby SuperCars Motors",
         1261
        ],
        [
         "BR0641",
         "Ford India Motors",
         1262
        ],
        [
         "BR0667",
         "Horch Motors",
         1263
        ],
        [
         "BR0767",
         "Standard  Motors",
         1264
        ],
        [
         "BR0877",
         "Buick Automobile Company Building",
         1265
        ],
        [
         "BR1034",
         null,
         1266
        ],
        [
         "BR1200",
         "Westfield Motors",
         1267
        ],
        [
         "BR1639",
         "Alfa Romeo Motors",
         1268
        ],
        [
         "BR1741",
         "Saturn Motors",
         1269
        ],
        [
         "BR1854",
         "Mercury Motors",
         1270
        ],
        [
         "BR1903",
         "Peel Motors",
         1271
        ],
        [
         "BR1930",
         "Aston Martin Motors",
         1272
        ],
        [
         "BR2155",
         "Moskwitch Motors",
         1273
        ],
        [
         "BR2217",
         "Koenigsegg Motors",
         1274
        ],
        [
         "BR2405",
         "Proton Motors",
         1275
        ],
        [
         "BR0042",
         "Alpine Motors",
         1276
        ],
        [
         "BR0285",
         "Maybach  Motors",
         1277
        ],
        [
         "BR0311",
         "Checker Motors",
         1278
        ],
        [
         "BR0895",
         "ARO Motors",
         1279
        ],
        [
         "BR1017",
         "Acura Motors",
         1280
        ],
        [
         "BR1295",
         "Donkervoort Motors",
         1281
        ],
        [
         "BR1571",
         "Pontiac, Asüna Motors",
         1282
        ],
        [
         "BR1637",
         null,
         1283
        ],
        [
         "BR0084",
         "Maybach  Motors",
         1284
        ],
        [
         "BR0087",
         "Plymouth Motors",
         1285
        ],
        [
         "BR0186",
         "Samsung Motors",
         1286
        ],
        [
         "BR0199",
         "Merkur Motors",
         1287
        ],
        [
         "BR0447",
         "Tatra Motors",
         1288
        ],
        [
         "BR0533",
         "Audi Motors",
         1289
        ],
        [
         "BR0981",
         "Jensen Motors",
         1290
        ],
        [
         "BR10806",
         "Holden Motors",
         1291
        ],
        [
         "BR1229",
         "Zion Automobils",
         1292
        ],
        [
         "BR1761",
         "Seat Motors",
         1293
        ],
        [
         "BR1927",
         "GMC Motors",
         1294
        ],
        [
         "BR1978",
         "Fiat do Brasil Motors",
         1295
        ],
        [
         "BR2137",
         "Isotta Fraschini Motors",
         1296
        ],
        [
         "BR2303",
         "Tata Motors",
         1297
        ],
        [
         "BR2347",
         "Mahindra Motors",
         1298
        ],
        [
         "BR0120",
         "Jensen Motors",
         1299
        ],
        [
         "BR0397",
         "Studebaker Motors",
         1300
        ],
        [
         "BR0699",
         "Seat Motors",
         1301
        ],
        [
         "BR0924",
         "Chevrolet Motors",
         1302
        ],
        [
         "BR1143",
         "Gumpert Motors",
         1303
        ],
        [
         "BR12006",
         "Kia Motors",
         1304
        ],
        [
         "BR1451",
         "Packard Motors",
         1305
        ],
        [
         "BR1480",
         "Buick Automobile Company Building",
         1306
        ],
        [
         "BR1804",
         "Matra (including Deutsch-Bonnet, René Bonnet) Motors",
         1307
        ],
        [
         "BR1865",
         "Land Rover Motors",
         1308
        ],
        [
         "BR1892",
         "Saleen Motors",
         1309
        ],
        [
         "BR1918",
         "e.GO Mobile Motors",
         1310
        ],
        [
         "BR1919",
         "Checker Motors",
         1311
        ],
        [
         "BR2170",
         "Citroën Motors",
         1312
        ],
        [
         "BR6066",
         "Acura Motors",
         1313
        ],
        [
         "BR0290",
         "Marcos Motors",
         1314
        ],
        [
         "BR0542",
         "Chrysler Motors",
         1315
        ],
        [
         "BR1289",
         "Cadillac Automobile Company Building",
         1316
        ],
        [
         "BR13026",
         "Maruti Motors",
         1317
        ],
        [
         "BR1460",
         "Blankinship Motor Company Building",
         1318
        ],
        [
         "BR1619",
         "Acura Motors",
         1319
        ],
        [
         "BR1664",
         "Land Rover Motors",
         1320
        ],
        [
         "BR0015",
         "Sunbeam Motors",
         1321
        ],
        [
         "BR0060",
         "Iso Motors",
         1322
        ],
        [
         "BR0153",
         "Howard Motor Company Building",
         1323
        ],
        [
         "BR0213",
         "Acura Motors",
         1324
        ],
        [
         "BR0617",
         "Zastava Motors",
         1325
        ],
        [
         "BR0728",
         "UAZ Motors",
         1326
        ],
        [
         "BR0975",
         "Bentley Motors",
         1327
        ],
        [
         "BR1261",
         "Merkur Motors",
         1328
        ],
        [
         "BR1759",
         "Auto-Union Motors",
         1329
        ],
        [
         "BR1814",
         "Mazda Motors",
         1330
        ],
        [
         "BR1948",
         "Facel Vega Motors",
         1331
        ],
        [
         "BR2337",
         "Lynx Motors",
         1332
        ],
        [
         "BR3006",
         "Lagonda  Motors",
         1333
        ],
        [
         "BR0181",
         "Bitter Motors",
         1334
        ],
        [
         "BR0274",
         "Buick Automobile Company Building",
         1335
        ],
        [
         "BR1208",
         "AC Cars Motors",
         1336
        ],
        [
         "BR1972",
         "Shelby SuperCars Motors",
         1337
        ],
        [
         "BR8946",
         "Donkervoort Motors",
         1338
        ],
        [
         "BR0950",
         "Skoda Motors",
         1339
        ],
        [
         "BR1855",
         "Lancia Motors",
         1340
        ],
        [
         "BR2344",
         "Saturn Motors",
         1341
        ],
        [
         "BR0252",
         "Alvis Motors",
         1342
        ],
        [
         "BR0254",
         "Blankinship Motor Company Building",
         1343
        ],
        [
         "BR0293",
         "ARO Motors",
         1344
        ],
        [
         "BR0837",
         "Atlantic Motor Company",
         1345
        ],
        [
         "BR1003",
         "Ford America Motors",
         1346
        ],
        [
         "BR13686",
         "Mia Motors",
         1347
        ],
        [
         "BR0657",
         "DKW Motors",
         1348
        ],
        [
         "BR0949",
         "Venturi Motors",
         1349
        ],
        [
         "BR10206",
         "Ginetta Motors",
         1350
        ],
        [
         "BR11106",
         "Hummer Motors",
         1351
        ],
        [
         "BR12246",
         "Lamborghini Motors",
         1352
        ],
        [
         "BR0068",
         "Monteverdi Motors",
         1353
        ],
        [
         "BR0859",
         "Tazzari Motors",
         1354
        ],
        [
         "BR1227",
         "Aixam-Mega (including Arola) Motors",
         1355
        ],
        [
         "BR1578",
         "Bentley Motors",
         1356
        ],
        [
         "BR1872",
         "Saab Motors",
         1357
        ],
        [
         "BR1960",
         "Auto-Union Motors",
         1358
        ],
        [
         "BR2029",
         "Daimler Motors",
         1359
        ],
        [
         "BR0305",
         "Lagonda  Motors",
         1360
        ],
        [
         "BR1911",
         "Tatra Motors",
         1361
        ],
        [
         "BR2032",
         "Spyker Motors",
         1362
        ],
        [
         "BR2160",
         "Chrysler Europe Motors",
         1363
        ],
        [
         "BR8826",
         "De Tomaso Motors",
         1364
        ],
        [
         "BR0444",
         "Alpine Motors",
         1365
        ],
        [
         "BR1205",
         "DAF Motors",
         1366
        ],
        [
         "BR1552",
         "Moskwitch Motors",
         1367
        ],
        [
         "BR1604",
         "Kia Motors",
         1368
        ],
        [
         "BR1718",
         "Checker Motors",
         1369
        ],
        [
         "BR0028",
         "Micro Motors",
         1370
        ],
        [
         "BR0159",
         "Mazzanti Motors",
         1371
        ],
        [
         "BR0309",
         "Naza Motors",
         1372
        ],
        [
         "BR0403",
         "AC Cars Motors",
         1373
        ],
        [
         "BR1595",
         "Hindustan Motors",
         1374
        ],
        [
         "BR1680",
         "Anadol Motors",
         1375
        ],
        [
         "BR2130",
         "Chevrolet Motors",
         1376
        ],
        [
         "BR0054",
         "DKW Motors",
         1377
        ],
        [
         "BR0294",
         "Casa de cadillac",
         1378
        ],
        [
         "BR0517",
         "TVR Motors",
         1379
        ],
        [
         "BR0631",
         "Ford Europe Motors",
         1380
        ],
        [
         "BR0703",
         "Caterham Motors",
         1381
        ],
        [
         "BR0717",
         "MG  Motors",
         1382
        ],
        [
         "BR0765",
         "Auverland Motors",
         1383
        ],
        [
         "BR0789",
         "Standard-Triumph Motors",
         1384
        ],
        [
         "BR1104",
         "Edsel Motors",
         1385
        ],
        [
         "BR1151",
         "Marcos Motors",
         1386
        ],
        [
         "BR1239",
         "Atlantic Motor Company",
         1387
        ],
        [
         "BR1495",
         "Gilbern Motors",
         1388
        ],
        [
         "BR1838",
         null,
         1389
        ],
        [
         "BR2121",
         "DKW Motors",
         1390
        ],
        [
         "BR2423",
         "Volkswagen Motors",
         1391
        ],
        [
         "BR3726",
         "Zion Automobils",
         1392
        ],
        [
         "BR0003",
         "Deccan Motors",
         1393
        ],
        [
         "BR0400",
         "Merkur Motors",
         1394
        ],
        [
         "BR1092",
         null,
         1395
        ],
        [
         "BR13386",
         "McLaren Motors",
         1396
        ],
        [
         "BR1824",
         "Mazzanti Motors",
         1397
        ],
        [
         "BR0823",
         "Daimler Motors",
         1398
        ],
        [
         "BR0955",
         "Auto-Union Motors",
         1399
        ],
        [
         "BR1198",
         "Kindel Building",
         1400
        ],
        [
         "BR13626",
         "Messerschmitt Motors",
         1401
        ],
        [
         "BR1683",
         "Mia Motors",
         1402
        ],
        [
         "BR1798",
         "Daewoo, Saehan, Chevrolet Korea Motors",
         1403
        ],
        [
         "BR1998",
         "Fisker, Karma Motors",
         1404
        ],
        [
         "BR2301",
         "Atlantic Motor Company",
         1405
        ],
        [
         "BR0217",
         "SAIC Motor Motors",
         1406
        ],
        [
         "BR0339",
         "Noble Motors",
         1407
        ],
        [
         "BR0538",
         "Singer Motors",
         1408
        ],
        [
         "BR0578",
         "SsangYong Motors",
         1409
        ],
        [
         "BR1684",
         "Ligier Motors",
         1410
        ],
        [
         "BR0357",
         "Smart Motors",
         1411
        ],
        [
         "BR1074",
         "De Tomaso Motors",
         1412
        ],
        [
         "BR1193",
         "Hindustan Motors",
         1413
        ],
        [
         "BR1353",
         "Iveco Motors",
         1414
        ],
        [
         "BR2090",
         "Bytom Motors",
         1415
        ],
        [
         "BR0012",
         "Acura Motors",
         1416
        ],
        [
         "BR0264",
         "Bohn Motor Company Automobile Dealership",
         1417
        ],
        [
         "BR0297",
         "Seat Motors",
         1418
        ],
        [
         "BR0415",
         "Herald Motors",
         1419
        ],
        [
         "BR0673",
         "Buick Motors",
         1420
        ],
        [
         "BR0682",
         "Dodge Motors",
         1421
        ],
        [
         "BR0752",
         "Ferrari Motors",
         1422
        ],
        [
         "BR0839",
         "Tata Motors",
         1423
        ],
        [
         "BR1398",
         "BMW Motors",
         1424
        ],
        [
         "BR1746",
         "Toyota India Motors",
         1425
        ],
        [
         "BR2072",
         "Subaru Motors",
         1426
        ],
        [
         "BR2133",
         "Santana Motors",
         1427
        ],
        [
         "BR2264",
         "Rolls-Royce Motors",
         1428
        ],
        [
         "BR0473",
         "Anadol Motors",
         1429
        ],
        [
         "BR0613",
         "Borgward (including Goliath and Lloyd) Motors",
         1430
        ],
        [
         "BR1001",
         "Kia Motors",
         1431
        ],
        [
         "BR10506",
         "Healey Motors",
         1432
        ],
        [
         "BR1188",
         "Jones Motor Company",
         1433
        ],
        [
         "BR1549",
         "Autobianchi Motors",
         1434
        ],
        [
         "BR1710",
         null,
         1435
        ],
        [
         "BR1751",
         "Scion Motors",
         1436
        ],
        [
         "BR2280",
         "De Tomaso Motors",
         1437
        ],
        [
         "BR2286",
         "Volvo Motors",
         1438
        ],
        [
         "BR6186",
         "Alfa Romeo Motors",
         1439
        ],
        [
         "BR0128",
         "Nissan India Motors",
         1440
        ],
        [
         "BR0969",
         "Volkswagen do Brasil Motors",
         1441
        ],
        [
         "BR1047",
         "Alpine Motors",
         1442
        ],
        [
         "BR1371",
         "Naza Motors",
         1443
        ],
        [
         "BR1454",
         "Hummer Motors",
         1444
        ],
        [
         "BR1739",
         "Audi Motors",
         1445
        ],
        [
         "BR1920",
         "Asia Motors Motors",
         1446
        ],
        [
         "BR3426",
         "Talbot  Motors",
         1447
        ],
        [
         "BR6366",
         "AMC, Eagle Motors",
         1448
        ],
        [
         "BR0061",
         "AMC, Eagle Motors",
         1449
        ],
        [
         "BR0604",
         "AC Cars Motors",
         1450
        ],
        [
         "BR0653",
         "Austin, Rover Motors",
         1451
        ],
        [
         "BR0840",
         "Samsung Motors",
         1452
        ],
        [
         "BR1023",
         "Ford do Brasil Motors",
         1453
        ],
        [
         "BR1378",
         "Bentley Motors",
         1454
        ],
        [
         "BR1603",
         "Matra (including Deutsch-Bonnet, René Bonnet) Motors",
         1455
        ],
        [
         "BR1869",
         "Bugatti Motors",
         1456
        ],
        [
         "BR2027",
         "Honda India Motors",
         1457
        ],
        [
         "BR2431",
         "Hupmobile Building",
         1458
        ],
        [
         "BR0551",
         "Ferrari Motors",
         1459
        ],
        [
         "BR0707",
         "Lagonda  Motors",
         1460
        ],
        [
         "BR0824",
         "Bristol Motors",
         1461
        ],
        [
         "BR1245",
         "Delahaye Motors",
         1462
        ],
        [
         "BR1395",
         "Fisker, Karma Motors",
         1463
        ],
        [
         "BR1769",
         "Auverland Motors",
         1464
        ],
        [
         "BR1782",
         "Porsche Motors",
         1465
        ],
        [
         "BR2165",
         "Nash Motors",
         1466
        ],
        [
         "BR0221",
         "Bristol Motors",
         1467
        ],
        [
         "BR0223",
         "Aixam-Mega (including Arola) Motors",
         1468
        ],
        [
         "BR0349",
         "NSU Motors",
         1469
        ],
        [
         "BR0904",
         "Caterham Motors",
         1470
        ],
        [
         "BR0927",
         "Clemens Automobile Company Building",
         1471
        ],
        [
         "BR1053",
         "Freightliner Motors",
         1472
        ],
        [
         "BR1055",
         "Austin, Rover Motors",
         1473
        ],
        [
         "BR1251",
         "Mercury Motors",
         1474
        ],
        [
         "BR1674",
         "Lexus Motors",
         1475
        ],
        [
         "BR2114",
         "Perodua Motors",
         1476
        ],
        [
         "BR2177",
         "Jeep Motors",
         1477
        ],
        [
         "BR2368",
         "Jaguar Motors",
         1478
        ],
        [
         "BR2393",
         "UAZ Motors",
         1479
        ],
        [
         "BR0299",
         "Nash Motors",
         1480
        ],
        [
         "BR0498",
         "Seat Motors",
         1481
        ],
        [
         "BR0615",
         "Acura Motors",
         1482
        ],
        [
         "BR0663",
         "Bugatti Motors",
         1483
        ],
        [
         "BR0929",
         "UAZ Motors",
         1484
        ],
        [
         "BR1058",
         "Blankinship Motor Company Building",
         1485
        ],
        [
         "BR1113",
         "Glas Motors",
         1486
        ],
        [
         "BR1542",
         "Morgan Motors",
         1487
        ],
        [
         "BR2087",
         "Infiniti Motors",
         1488
        ],
        [
         "BR2443",
         "Volkswagen South Africa Motors",
         1489
        ],
        [
         "BR0191",
         "Hyundai Motors",
         1490
        ],
        [
         "BR0693",
         "Cadillac Motors",
         1491
        ],
        [
         "BR1300",
         "Izh  Motors",
         1492
        ],
        [
         "BR1963",
         "Polestar Motors",
         1493
        ],
        [
         "BR0071",
         "Gumpert Motors",
         1494
        ],
        [
         "BR0322",
         "Aston Martin Motors",
         1495
        ],
        [
         "BR0381",
         "Dacia Motors",
         1496
        ],
        [
         "BR0913",
         "e.GO Mobile Motors",
         1497
        ],
        [
         "BR1382",
         "Maserati Motors",
         1498
        ],
        [
         "BR1440",
         "Atlantic Motor Company",
         1499
        ],
        [
         "BR1545",
         "Gumpert Motors",
         1500
        ],
        [
         "BR2004",
         "Noble Motors",
         1501
        ],
        [
         "BR2080",
         "Buick Motors",
         1502
        ],
        [
         "BR2357",
         "Marcos Motors",
         1503
        ],
        [
         "BR2411",
         "H Street Playhouse",
         1504
        ],
        [
         "BR0208",
         "Panhard Motors",
         1505
        ],
        [
         "BR0317",
         "Simca Motors",
         1506
        ],
        [
         "BR0441",
         "Delahaye Motors",
         1507
        ],
        [
         "BR0513",
         "Asia Motors Motors",
         1508
        ],
        [
         "BR12906",
         "Marcos Motors",
         1509
        ],
        [
         "BR1370",
         "Standard  Motors",
         1510
        ],
        [
         "BR1567",
         "Citroën Motors",
         1511
        ],
        [
         "BR1708",
         "Caterham Motors",
         1512
        ],
        [
         "BR1925",
         "LuAZ Motors",
         1513
        ],
        [
         "BR2247",
         "Lamborghini Motors",
         1514
        ],
        [
         "BR2287",
         "Ligier Motors",
         1515
        ],
        [
         "BR7746",
         "Cadillac Motors",
         1516
        ],
        [
         "BR0439",
         "Peel Motors",
         1517
        ],
        [
         "BR0959",
         "Volkswagen Motors",
         1518
        ],
        [
         "BR1230",
         "ZAZ Motors",
         1519
        ],
        [
         "BR1386",
         "Tata Motors",
         1520
        ],
        [
         "BR1663",
         "Merkur Motors",
         1521
        ],
        [
         "BR2149",
         "Facel Vega Motors",
         1522
        ],
        [
         "BR3306",
         "Wolseley  Motors",
         1523
        ],
        [
         "BR8646",
         "Delahaye Motors",
         1524
        ],
        [
         "BR0232",
         "Alfa Romeo Motors",
         1525
        ],
        [
         "BR0240",
         "Lotus Motors",
         1526
        ],
        [
         "BR0918",
         "MG  Motors",
         1527
        ],
        [
         "BR1040",
         "Tata Motors",
         1528
        ],
        [
         "BR5646",
         "Autobianchi Motors",
         1529
        ],
        [
         "BR8886",
         "Dodge Motors",
         1530
        ],
        [
         "BR0579",
         "Renault Motors",
         1531
        ],
        [
         "BR1583",
         "Maserati Motors",
         1532
        ],
        [
         "BR1654",
         "Lancia Motors",
         1533
        ],
        [
         "BR1689",
         "Ariel Motors",
         1534
        ],
        [
         "BR1827",
         "Ford do Brasil Motors",
         1535
        ],
        [
         "BR1841",
         "SsangYong Motors",
         1536
        ],
        [
         "BR1968",
         "Fiat Motors",
         1537
        ],
        [
         "BR2282",
         "Zastava Motors",
         1538
        ],
        [
         "BR0460",
         "Monica Motors",
         1539
        ],
        [
         "BR0500",
         "Nash Motors",
         1540
        ],
        [
         "BR0739",
         "Singer Motors",
         1541
        ],
        [
         "BR1060",
         "Tazzari Motors",
         1542
        ],
        [
         "BR1290",
         "Maybach  Motors",
         1543
        ],
        [
         "BR1392",
         "Mastretta Motors",
         1544
        ],
        [
         "BR2138",
         "GTA Spano Motors",
         1545
        ],
        [
         "BR0459",
         "Peugeot Motors",
         1546
        ],
        [
         "BR0757",
         "Wolseley  Motors",
         1547
        ],
        [
         "BR1150",
         "Venturi Motors",
         1548
        ],
        [
         "BR1524",
         "Iso Motors",
         1549
        ],
        [
         "BR1647",
         "Delahaye Motors",
         1550
        ],
        [
         "BR1701",
         "Samsung Motors",
         1551
        ],
        [
         "BR2233",
         "Spyker Motors",
         1552
        ],
        [
         "BR2271",
         "Deccan Motors",
         1553
        ],
        [
         "BR0070",
         "Isotta Fraschini Motors",
         1554
        ],
        [
         "BR0521",
         "Eicher Polaris Motors",
         1555
        ],
        [
         "BR0527",
         "UAZ Motors",
         1556
        ],
        [
         "BR0650",
         "Perodua Motors",
         1557
        ],
        [
         "BR1075",
         "Buick Motors",
         1558
        ],
        [
         "BR1320",
         "MG  Motors",
         1559
        ],
        [
         "BR1914",
         "Mitsubishi Motors",
         1560
        ],
        [
         "BR1971",
         "Turner Motors",
         1561
        ],
        [
         "BR2433",
         "Volkswagen do Brasil Motors",
         1562
        ],
        [
         "BR2445",
         "Renault Motors",
         1563
        ],
        [
         "BR0072",
         "Anadol Motors",
         1564
        ],
        [
         "BR0081",
         "Ariel Motors",
         1565
        ],
        [
         "BR0121",
         "Hindustan Motors",
         1566
        ],
        [
         "BR1078",
         "Buick Automobile Company Building",
         1567
        ],
        [
         "BR1129",
         "Morris  Motors",
         1568
        ],
        [
         "BR2225",
         "Oldsmobile Motors",
         1569
        ],
        [
         "BR0139",
         "Matra (including Deutsch-Bonnet, René Bonnet) Motors",
         1570
        ],
        [
         "BR0601",
         "Ford America Motors",
         1571
        ],
        [
         "BR10566",
         "Heinkel Motors",
         1572
        ],
        [
         "BR1611",
         "Puma Motors",
         1573
        ],
        [
         "BR1812",
         "Puma Motors",
         1574
        ],
        [
         "BR2030",
         "Bristol Motors",
         1575
        ],
        [
         "BR0380",
         "Mercedes-Benz (including Maybach) Motors",
         1576
        ],
        [
         "BR0528",
         "Simca do Brasil Motors",
         1577
        ],
        [
         "BR0562",
         "Citroën Motors",
         1578
        ],
        [
         "BR0637",
         "ZIL Motors",
         1579
        ],
        [
         "BR0760",
         "Ranger Motors",
         1580
        ],
        [
         "BR0822",
         "Ford do Brasil Motors",
         1581
        ],
        [
         "BR0834",
         "British Leyland Motors",
         1582
        ],
        [
         "BR1138",
         "Colman Automotive Building",
         1583
        ],
        [
         "BR1712",
         "Perodua Motors",
         1584
        ],
        [
         "BR1917",
         "Glas Motors",
         1585
        ],
        [
         "BR1939",
         "Chevrolet India Motors",
         1586
        ],
        [
         "BR9066",
         "e.GO Mobile Motors",
         1587
        ],
        [
         "BR0048",
         "Mitsubishi Motors",
         1588
        ],
        [
         "BR0721",
         "GMC Motors",
         1589
        ],
        [
         "BR0972",
         "Hennessey Motors",
         1590
        ],
        [
         "BR1008",
         "Deccan Motors",
         1591
        ],
        [
         "BR1080",
         "Tornado Motors",
         1592
        ],
        [
         "BR1093",
         "Gilbern Motors",
         1593
        ],
        [
         "BR1527",
         "Chevrolet Motors",
         1594
        ],
        [
         "BR1635",
         "Hudson Motors",
         1595
        ],
        [
         "BR1874",
         "Messerschmitt Motors",
         1596
        ],
        [
         "BR2210",
         "DAF Motors",
         1597
        ],
        [
         "BR2331",
         "Bohn Motor Company Automobile Dealership",
         1598
        ],
        [
         "BR0308",
         "Pontiac, Asüna Motors",
         1599
        ],
        [
         "BR0687",
         "Maybach  Motors",
         1600
        ],
        [
         "BR0805",
         "AC Cars Motors",
         1601
        ],
        [
         "BR1358",
         "Auto-Union Motors",
         1602
        ],
        [
         "BR1365",
         "Fiat Motors",
         1603
        ],
        [
         "BR1483",
         "Ligier Motors",
         1604
        ],
        [
         "BR2033",
         "Reliant Motors",
         1605
        ],
        [
         "BR0040",
         "Invicta Motors",
         1606
        ],
        [
         "BR0123",
         "Clemens Automobile Company Building",
         1607
        ],
        [
         "BR0204",
         "Deccan Motors",
         1608
        ],
        [
         "BR0399",
         "Pagani Motors",
         1609
        ],
        [
         "BR0724",
         "Aston Martin Motors",
         1610
        ],
        [
         "BR0979",
         "Volkswagen South Africa Motors",
         1611
        ],
        [
         "BR1693",
         "Micro Motors",
         1612
        ],
        [
         "BR2083",
         "SAIC Motor Motors",
         1613
        ],
        [
         "BR0161",
         "Auverland Motors",
         1614
        ],
        [
         "BR0422",
         "Bristol Motors",
         1615
        ],
        [
         "BR0481",
         "Dodge Motors",
         1616
        ],
        [
         "BR0647",
         null,
         1617
        ],
        [
         "BR0715",
         "Asia Motors Motors",
         1618
        ],
        [
         "BR0865",
         "AMC, Eagle Motors",
         1619
        ],
        [
         "BR0999",
         "Westfield Motors",
         1620
        ],
        [
         "BR1521",
         "Peugeot Motors",
         1621
        ],
        [
         "BR1617",
         "Daihatsu Motors",
         1622
        ],
        [
         "BR1722",
         "Peugeot Motors",
         1623
        ],
        [
         "BR1988",
         "Fiat India Motors",
         1624
        ],
        [
         "BR2099",
         "Donkervoort Motors",
         1625
        ],
        [
         "BR2447",
         "Mercedes-Benz (including Maybach) Motors",
         1626
        ],
        [
         "BR0318",
         "Porsche Motors",
         1627
        ],
        [
         "BR0569",
         "Reliant Motors",
         1628
        ],
        [
         "BR0905",
         "Artega Motors",
         1629
        ],
        [
         "BR11586",
         "Isotta Fraschini Motors",
         1630
        ],
        [
         "BR1168",
         "Hupmobile Building",
         1631
        ],
        [
         "BR1489",
         "Ariel Motors",
         1632
        ],
        [
         "BR1504",
         "Invicta Motors",
         1633
        ],
        [
         "BR1565",
         "Heinkel Motors",
         1634
        ],
        [
         "BR1879",
         "Buick Motors",
         1635
        ],
        [
         "BR2345",
         "Piaggio Motors",
         1636
        ],
        [
         "BR2450",
         "Ford India Motors",
         1637
        ],
        [
         "BR0350",
         "Mazda Motors",
         1638
        ],
        [
         "BR0505",
         "Cass Motor Sales",
         1639
        ],
        [
         "BR0655",
         "Alvis Motors",
         1640
        ],
        [
         "BR0741",
         "Gumpert Motors",
         1641
        ],
        [
         "BR0812",
         "Ford Australia Motors",
         1642
        ],
        [
         "BR0960",
         "Smart Motors",
         1643
        ],
        [
         "BR1412",
         "Mazda Motors",
         1644
        ],
        [
         "BR1570",
         "Hupmobile Building",
         1645
        ],
        [
         "BR1643",
         "Mercedes-Benz (including Maybach) Motors",
         1646
        ],
        [
         "BR1729",
         "Aston Martin Motors",
         1647
        ],
        [
         "BR0265",
         "Horch Motors",
         1648
        ],
        [
         "BR0412",
         "Borgward (including Goliath and Lloyd) Motors",
         1649
        ],
        [
         "BR0520",
         "Nissan Motors",
         1650
        ],
        [
         "BR1390",
         "Das Motors",
         1651
        ],
        [
         "BR1511",
         "Perodua Motors",
         1652
        ],
        [
         "BR1757",
         "Ferrari Motors",
         1653
        ],
        [
         "BR1823",
         "Oldsmobile Motors",
         1654
        ],
        [
         "BR1873",
         "Panhard Motors",
         1655
        ],
        [
         "BR2360",
         "Ferrari Motors",
         1656
        ],
        [
         "BR2389",
         "Hillman Motors",
         1657
        ],
        [
         "BR0038",
         "Mini Motors",
         1658
        ],
        [
         "BR0607",
         "Wiesmann Motors",
         1659
        ],
        [
         "BR0802",
         "Ford America Motors",
         1660
        ],
        [
         "BR11406",
         "Invicta Motors",
         1661
        ],
        [
         "BR1828",
         "Daimler Motors",
         1662
        ],
        [
         "BR6126",
         "Aixam-Mega (including Arola) Motors",
         1663
        ],
        [
         "BR0043",
         "2008 NRHP-listed",
         1664
        ],
        [
         "BR0419",
         "Panoz Motors",
         1665
        ],
        [
         "BR0537",
         "Vauxhall Motors",
         1666
        ],
        [
         "BR0592",
         "Daewoo, Saehan, Chevrolet Korea Motors",
         1667
        ],
        [
         "BR1039",
         "ZIL Motors",
         1668
        ],
        [
         "BR1274",
         "GAZ Motors",
         1669
        ],
        [
         "BR1275",
         "De Tomaso Motors",
         1670
        ],
        [
         "BR1283",
         "Infiniti Motors",
         1671
        ],
        [
         "BR1651",
         "Rivian Motors",
         1672
        ],
        [
         "BR1673",
         "Messerschmitt Motors",
         1673
        ],
        [
         "BR1788",
         "Dacia Motors",
         1674
        ],
        [
         "BR1989",
         "Dacia Motors",
         1675
        ],
        [
         "BR2022",
         "Smart Motors",
         1676
        ],
        [
         "BR2192",
         "UAZ Motors",
         1677
        ],
        [
         "BR2359",
         "Healey Motors",
         1678
        ],
        [
         "BR2421",
         "Howard Motor Company Building",
         1679
        ],
        [
         "BR9306",
         "Ferrari Motors",
         1680
        ],
        [
         "BR0071",
         "Anadol Motors",
         1681
        ],
        [
         "BR0907",
         "Cass Motor Sales",
         1682
        ],
        [
         "BR1795",
         "JPX Motors",
         1683
        ],
        [
         "BR1847",
         "Ford India Motors",
         1684
        ],
        [
         "BR2370",
         "Fiat Motors",
         1685
        ],
        [
         "BR0025",
         "Suzuki Motors",
         1686
        ],
        [
         "BR0192",
         "BMW Motors",
         1687
        ],
        [
         "BR0755",
         "Auto-Union Motors",
         1688
        ],
        [
         "BR0930",
         "Simca do Brasil Motors",
         1689
        ],
        [
         "BR1222",
         "KTM Motors",
         1690
        ],
        [
         "BR1623",
         "Mazzanti Motors",
         1691
        ],
        [
         "BR1631",
         "Reliant Motors",
         1692
        ],
        [
         "BR1642",
         "Opel Motors",
         1693
        ],
        [
         "BR1789",
         "Bitter Motors",
         1694
        ],
        [
         "BR1800",
         "BMW Motors",
         1695
        ],
        [
         "BR2079",
         "De Tomaso Motors",
         1696
        ],
        [
         "BR0126",
         "Saleen Motors",
         1697
        ],
        [
         "BR0140",
         "Kia Motors",
         1698
        ],
        [
         "BR0878",
         "Wanderer Motors",
         1699
        ],
        [
         "BR1020",
         "Sunbeam Motors",
         1700
        ],
        [
         "BR1377",
         "Bentley Motors",
         1701
        ],
        [
         "BR1413",
         "Koenigsegg Motors",
         1702
        ],
        [
         "BR1822",
         "Ranger Motors",
         1703
        ],
        [
         "BR1832",
         "Reliant Motors",
         1704
        ],
        [
         "BR1868",
         "DeSoto Motors",
         1705
        ],
        [
         "BR2009",
         "DAF Motors",
         1706
        ],
        [
         "BR2173",
         "Shelby SuperCars Motors",
         1707
        ],
        [
         "BR2358",
         "Iveco Motors",
         1708
        ],
        [
         "BR2464",
         "Studebaker Motors",
         1709
        ],
        [
         "BR2467",
         "Merkur Motors",
         1710
        ],
        [
         "BR0052",
         "Alvis Motors",
         1711
        ],
        [
         "BR0485",
         "Cadillac Automobile Company Building",
         1712
        ],
        [
         "BR0662",
         "DeSoto Motors",
         1713
        ],
        [
         "BR0722",
         "Eicher Polaris Motors",
         1714
        ],
        [
         "BR0742",
         "Facel Vega Motors",
         1715
        ],
        [
         "BR0893",
         "Donkervoort Motors",
         1716
        ],
        [
         "BR1417",
         "Borgward (including Goliath and Lloyd) Motors",
         1717
        ],
        [
         "BR1459",
         "Alvis Motors",
         1718
        ],
        [
         "BR1809",
         "Bond Motors",
         1719
        ],
        [
         "BR2401",
         "Colman Automotive Building",
         1720
        ],
        [
         "BR0417",
         "Sunbeam Motors",
         1721
        ],
        [
         "BR0568",
         "Spyker Motors",
         1722
        ],
        [
         "BR0726",
         "Simca do Brasil Motors",
         1723
        ],
        [
         "BR0888",
         "Maybach  Motors",
         1724
        ],
        [
         "BR1170",
         "Volkswagen do Brasil Motors",
         1725
        ],
        [
         "BR12666",
         "LTI Motors",
         1726
        ],
        [
         "BR1277",
         "Anadol Motors",
         1727
        ],
        [
         "BR1525",
         "GMC Motors",
         1728
        ],
        [
         "BR2065",
         "Merkur Motors",
         1729
        ],
        [
         "BR7806",
         "Caterham Motors",
         1730
        ],
        [
         "BR0047",
         "Perodua Motors",
         1731
        ],
        [
         "BR0665",
         "AMC, Eagle Motors",
         1732
        ],
        [
         "BR0892",
         "Gilbern Motors",
         1733
        ],
        [
         "BR0910",
         "Shelby SuperCars Motors",
         1734
        ],
        [
         "BR1602",
         "Noble Motors",
         1735
        ],
        [
         "BR1843",
         "Opel Motors",
         1736
        ],
        [
         "BR2070",
         "Bugatti Motors",
         1737
        ],
        [
         "BR2208",
         "Holden Motors",
         1738
        ],
        [
         "BR2308",
         "Invicta Motors",
         1739
        ],
        [
         "BR2429",
         "Honda India Motors",
         1740
        ],
        [
         "BR1288",
         "Ariel Motors",
         1741
        ],
        [
         "BR1924",
         "Monica Motors",
         1742
        ],
        [
         "BR0059",
         "LuAZ Motors",
         1743
        ],
        [
         "BR0115",
         "TVR Motors",
         1744
        ],
        [
         "BR0462",
         "Bugatti Motors",
         1745
        ],
        [
         "BR10086",
         "Geo Motors",
         1746
        ],
        [
         "BR1240",
         "ZIL Motors",
         1747
        ],
        [
         "BR1568",
         "Auverland Motors",
         1748
        ],
        [
         "BR1932",
         "Santana Motors",
         1749
        ],
        [
         "BR1941",
         "Tornado Motors",
         1750
        ],
        [
         "BR2241",
         "Talbot  Motors",
         1751
        ],
        [
         "BR6786",
         "Audi Motors",
         1752
        ],
        [
         "BR6846",
         "Autobianchi Motors",
         1753
        ],
        [
         "BR9186",
         "Elva Motors",
         1754
        ],
        [
         "BR0078",
         "Morgan Motors",
         1755
        ],
        [
         "BR0191",
         "BMW Motors",
         1756
        ],
        [
         "BR0212",
         "Acura Motors",
         1757
        ],
        [
         "BR0404",
         "AC Cars Motors",
         1758
        ],
        [
         "BR0938",
         "Austin  Motors",
         1759
        ],
        [
         "BR1447",
         "Austin-Healey Motors",
         1760
        ],
        [
         "BR2019",
         "Daihatsu Motors",
         1761
        ],
        [
         "BR2288",
         "Infiniti Motors",
         1762
        ],
        [
         "BR2374",
         "Shelby SuperCars Motors",
         1763
        ],
        [
         "BR5886",
         "Bitter Motors",
         1764
        ],
        [
         "BR0055",
         "Tazzari Motors",
         1765
        ],
        [
         "BR0247",
         "San Motors",
         1766
        ],
        [
         "BR0418",
         "SAIC Motor Motors",
         1767
        ],
        [
         "BR0675",
         "Anadol Motors",
         1768
        ],
        [
         "BR0967",
         "Hupmobile Building",
         1769
        ],
        [
         "BR1110",
         "Turner Motors",
         1770
        ],
        [
         "BR1479",
         "Anadol Motors",
         1771
        ],
        [
         "BR1990",
         "Bitter Motors",
         1772
        ],
        [
         "BR2169",
         "Fiat Motors",
         1773
        ],
        [
         "BR2317",
         "LTI Motors",
         1774
        ],
        [
         "BR0179",
         "Mercedes-Benz (including Maybach) Motors",
         1775
        ],
        [
         "BR0332",
         "Audi Motors",
         1776
        ],
        [
         "BR11646",
         "Isuzu Motors",
         1777
        ],
        [
         "BR11826",
         "Jeep Motors",
         1778
        ],
        [
         "BR1183",
         "Hillman Motors",
         1779
        ],
        [
         "BR1304",
         "Ginetta Motors",
         1780
        ],
        [
         "BR2198",
         "Hindustan Motors",
         1781
        ],
        [
         "BR0989",
         "Volvo Motors",
         1782
        ],
        [
         "BR1264",
         "FSO Motors",
         1783
        ],
        [
         "BR1270",
         "Horch Motors",
         1784
        ],
        [
         "BR1780",
         "Bentley Motors",
         1785
        ],
        [
         "BR1975",
         "Maruti Motors",
         1786
        ],
        [
         "BR2180",
         "Cizeta-Moroder Motors",
         1787
        ],
        [
         "BR8286",
         "Dacia Motors",
         1788
        ],
        [
         "BR0090",
         "Iveco Motors",
         1789
        ],
        [
         "BR0797",
         "Ramani Motors",
         1790
        ],
        [
         "BR1041",
         "Lamborghini Motors",
         1791
        ],
        [
         "BR1044",
         "Delahaye Motors",
         1792
        ],
        [
         "BR1559",
         "Auto-Union Motors",
         1793
        ],
        [
         "BR1733",
         "Monteverdi Motors",
         1794
        ],
        [
         "BR1962",
         "Seat Motors",
         1795
        ],
        [
         "BR2320",
         "e.GO Mobile Motors",
         1796
        ],
        [
         "BR2369",
         "Heinkel Motors",
         1797
        ],
        [
         "BR0058",
         "Monica Motors",
         1798
        ],
        [
         "BR0077",
         "Piaggio Motors",
         1799
        ],
        [
         "BR0145",
         "Venturi Motors",
         1800
        ],
        [
         "BR0163",
         "Hupmobile Building",
         1801
        ],
        [
         "BR0909",
         "Turner Motors",
         1802
        ],
        [
         "BR1073",
         "GAZ Motors",
         1803
        ],
        [
         "BR1421",
         "Oldsmobile Motors",
         1804
        ],
        [
         "BR1507",
         "Caterham Motors",
         1805
        ],
        [
         "BR1845",
         "Lamborghini Motors",
         1806
        ],
        [
         "BR2118",
         "Glas Motors",
         1807
        ],
        [
         "BR2327",
         "LuAZ Motors",
         1808
        ],
        [
         "BR0044",
         null,
         1809
        ],
        [
         "BR0880",
         "Saturn Motors",
         1810
        ],
        [
         "BR0900",
         "Seat Motors",
         1811
        ],
        [
         "BR1015",
         "Borgward (including Goliath and Lloyd) Motors",
         1812
        ],
        [
         "BR1214",
         "Ford Australia Motors",
         1813
        ],
        [
         "BR1593",
         "Mastretta Motors",
         1814
        ],
        [
         "BR2142",
         "Tornado Motors",
         1815
        ],
        [
         "BR2175",
         "Naza Motors",
         1816
        ],
        [
         "BR2341",
         "Buick Automobile Company Building",
         1817
        ],
        [
         "BR5226",
         "Anadol Motors",
         1818
        ],
        [
         "BR0005",
         "Subaru Motors",
         1819
        ],
        [
         "BR0482",
         "Bytom Motors",
         1820
        ],
        [
         "BR0928",
         "Morris  Motors",
         1821
        ],
        [
         "BR14526",
         "Oldsmobile Motors",
         1822
        ],
        [
         "BR0978",
         "Talbot  Motors",
         1823
        ],
        [
         "BR1498",
         "ARO Motors",
         1824
        ],
        [
         "BR1658",
         "Austin, Rover Motors",
         1825
        ],
        [
         "BR1697",
         "Donkervoort Motors",
         1826
        ],
        [
         "BR1867",
         "FSO Motors",
         1827
        ],
        [
         "BR1902",
         "Samsung Motors",
         1828
        ],
        [
         "BR2005",
         "Matra (including Deutsch-Bonnet, René Bonnet) Motors",
         1829
        ],
        [
         "BR2184",
         "Porsche Motors",
         1830
        ],
        [
         "BR2201",
         "Austin  Motors",
         1831
        ],
        [
         "BR0354",
         "Howard Motor Company Building",
         1832
        ],
        [
         "BR0443",
         "Alpine Motors",
         1833
        ],
        [
         "BR0704",
         "Artega Motors",
         1834
        ],
        [
         "BR1408",
         "AC Cars Motors",
         1835
        ],
        [
         "BR1560",
         "Howard Motor Company Building",
         1836
        ],
        [
         "BR1641",
         "Renault Motors",
         1837
        ],
        [
         "BR0075",
         "Tornado Motors",
         1838
        ],
        [
         "BR0302",
         "Artega Motors",
         1839
        ],
        [
         "BR1048",
         "2008 NRHP-listed",
         1840
        ],
        [
         "BR1373",
         "Jeep Motors",
         1841
        ],
        [
         "BR1784",
         "Maserati Motors",
         1842
        ],
        [
         "BR2285",
         "Panoz Motors",
         1843
        ],
        [
         "BR3246",
         "Riley  Motors",
         1844
        ],
        [
         "BR0061",
         "GTA Spano Motors",
         1845
        ],
        [
         "BR0790",
         "Rivian Motors",
         1846
        ],
        [
         "BR1121",
         "LuAZ Motors",
         1847
        ],
        [
         "BR12366",
         "Land Rover Motors",
         1848
        ],
        [
         "BR1660",
         "Alvis Motors",
         1849
        ],
        [
         "XYZ0063",
         "Datafam Dealers",
         1
        ],
        [
         "XYZ0059",
         "AI Powered Autos",
         2
        ],
        [
         "DLR0129",
         "Mia Motors",
         3
        ],
        [
         "DLR0111",
         "Lotus Motors",
         4
        ],
        [
         "DLR0085",
         "Humber Motors",
         5
        ],
        [
         "DLR0001",
         "AC Cars Motors",
         6
        ],
        [
         "DLR0218",
         "Lagonda  Motors",
         7
        ],
        [
         "DLR0082",
         "Honda Motors",
         8
        ],
        [
         "DLR0063",
         "Ford do Brasil Motors",
         9
        ],
        [
         "DLR0193",
         "Tazzari Motors",
         10
        ],
        [
         "DLR0134",
         "Monteverdi Motors",
         11
        ],
        [
         "DLR0199",
         "TVR Motors",
         12
        ],
        [
         "DLR0254",
         "AMC, Eagle Motors",
         13
        ],
        [
         "DLR0094",
         "Isotta Fraschini Motors",
         14
        ],
        [
         "DLR0236",
         "Cadillac Automobile Company Building",
         15
        ],
        [
         "DLR0201",
         "Vauxhall Motors",
         16
        ],
        [
         "DLR0175",
         "Saturn Motors",
         17
        ],
        [
         "DLR0226",
         "Das Motors",
         18
        ],
        [
         "DLR0207",
         "Westfield Motors",
         19
        ],
        [
         "DLR0035",
         "Chrysler Motors",
         20
        ],
        [
         "DLR0151",
         "Peel Motors",
         21
        ],
        [
         "DLR0156",
         "Plymouth Motors",
         22
        ],
        [
         "DLR0216",
         "Maybach  Motors",
         23
        ],
        [
         "DLR0259",
         "Asia Motors Motors",
         24
        ],
        [
         "DLR0037",
         "Citroën Motors",
         25
        ],
        [
         "DLR0074",
         "GTA Spano Motors",
         26
        ],
        [
         "DLR0150",
         "Panther Motors",
         27
        ],
        [
         "DLR0135",
         "Morgan Motors",
         28
        ],
        [
         "DLR0073",
         "GMC Motors",
         29
        ],
        [
         "DLR0260",
         "Aston Martin Motors",
         30
        ],
        [
         "DLR0153",
         "Peugeot Motors",
         31
        ],
        [
         "DLR0124",
         "McLaren Motors",
         32
        ],
        [
         "DLR0121",
         "Matra (including Deutsch-Bonnet, René Bonnet) Motors",
         33
        ],
        [
         "DLR0211",
         "ZIL Motors",
         34
        ],
        [
         "DLR0066",
         "Freightliner Motors",
         35
        ],
        [
         "DLR0110",
         "Lincoln Motors",
         36
        ],
        [
         "DLR0143",
         "Oldsmobile Motors",
         37
        ],
        [
         "DLR0167",
         "Rolls-Royce Motors",
         38
        ],
        [
         "DLR0048",
         "De Tomaso Motors",
         39
        ],
        [
         "DLR0008",
         "Anadol Motors",
         40
        ],
        [
         "DLR0128",
         "Messerschmitt Motors",
         41
        ],
        [
         "DLR0177",
         "Seat Motors",
         42
        ],
        [
         "DLR0181",
         "Singer Motors",
         43
        ],
        [
         "DLR0079",
         "Hillman Motors",
         44
        ],
        [
         "DLR0072",
         "Glas Motors",
         45
        ],
        [
         "DLR0248",
         "AC Cars Motors",
         46
        ],
        [
         "DLR0052",
         "e.GO Mobile Motors",
         47
        ],
        [
         "DLR0197",
         "Toyota India Motors",
         48
        ],
        [
         "DLR0080",
         "Hindustan Motors",
         49
        ],
        [
         "DLR0164",
         "Reliant Motors",
         50
        ],
        [
         "DLR0029",
         "Bytom Motors",
         51
        ],
        [
         "DLR0195",
         "Tornado Motors",
         52
        ],
        [
         "DLR0005",
         "Alpine Motors",
         53
        ],
        [
         "DLR0007",
         "AMC, Eagle Motors",
         54
        ],
        [
         "DLR0078",
         "Hennessey Motors",
         55
        ],
        [
         "DLR0247",
         "Kindel Building",
         56
        ],
        [
         "DLR0065",
         "Ford India Motors",
         57
        ],
        [
         "DLR0174",
         "Santana Motors",
         58
        ],
        [
         "DLR0022",
         "Borgward (including Goliath and Lloyd) Motors",
         59
        ],
        [
         "DLR0116",
         "Marcos Motors",
         60
        ],
        [
         "DLR0257",
         "ARO Motors",
         61
        ],
        [
         "DLR0172",
         "San Motors",
         62
        ],
        [
         "DLR0061",
         "Ford America Motors",
         63
        ],
        [
         "DLR0240",
         "Clemens Automobile Company Building",
         64
        ],
        [
         "DLR0103",
         "KTM Motors",
         65
        ],
        [
         "DLR0096",
         "Iveco Motors",
         66
        ],
        [
         "DLR0198",
         "Turner Motors",
         67
        ],
        [
         "DLR0137",
         "Nash Motors",
         68
        ],
        [
         "DLR0202",
         "Venturi Motors",
         69
        ],
        [
         "DLR0125",
         "Mercedes-Benz (including Maybach) Motors",
         70
        ],
        [
         "DLR0089",
         "Infiniti Motors",
         71
        ],
        [
         "DLR0266",
         "Bitter Motors",
         72
        ],
        [
         "DLR0148",
         "Panhard Motors",
         73
        ],
        [
         "DLR0142",
         "NSU Motors",
         74
        ],
        [
         "DLR0227",
         "Ramani Motors",
         75
        ],
        [
         "DLR0206",
         "Volvo Motors",
         76
        ],
        [
         "DLR0179",
         "Simca Motors",
         77
        ],
        [
         "DLR0059",
         "Fiat India Motors",
         78
        ],
        [
         "DLR0092",
         "Isdera Motors",
         79
        ],
        [
         "DLR0018",
         "Bentley Motors",
         80
        ],
        [
         "DLR0115",
         "Mahindra Motors",
         81
        ],
        [
         "DLR0169",
         "SAIC Motor Motors",
         82
        ],
        [
         "DLR0212",
         null,
         83
        ],
        [
         "DLR0192",
         "Tatra Motors",
         84
        ],
        [
         "DLR0186",
         "Standard-Triumph Motors",
         85
        ],
        [
         "DLR0021",
         "Bond Motors",
         86
        ],
        [
         "DLR0147",
         "Pagani Motors",
         87
        ],
        [
         "DLR0098",
         "Jeep Motors",
         88
        ],
        [
         "DLR0209",
         "Zastava Motors",
         89
        ],
        [
         "DLR0166",
         "Rivian Motors",
         90
        ],
        [
         "DLR0250",
         "Aixam-Mega (including Arola) Motors",
         91
        ],
        [
         "DLR0220",
         "Morris  Motors",
         92
        ],
        [
         "DLR0183",
         "Smart Motors",
         93
        ],
        [
         "DLR0102",
         "Koenigsegg Motors",
         94
        ],
        [
         "DLR0188",
         "Subaru Motors",
         95
        ],
        [
         "DLR0155",
         "Piaggio Motors",
         96
        ],
        [
         "DLR0050",
         "Donkervoort Motors",
         97
        ],
        [
         "DLR0252",
         "Alpine Motors",
         98
        ],
        [
         "DLR0184",
         "Spyker Motors",
         99
        ],
        [
         "DLR0267",
         "BMW Motors",
         100
        ],
        [
         "DLR0091",
         "Invicta Motors",
         101
        ],
        [
         "DLR0262",
         "Autobianchi Motors",
         102
        ],
        [
         "DLR0249",
         "Acura Motors",
         103
        ],
        [
         "DLR0208",
         "Wiesmann Motors",
         104
        ],
        [
         "DLR0114",
         "Lynx Motors",
         105
        ],
        [
         "DLR0204",
         "Volkswagen do Brasil Motors",
         106
        ],
        [
         "DLR0200",
         "UAZ Motors",
         107
        ],
        [
         "DLR0163",
         "Ranger Motors",
         108
        ],
        [
         "DLR0223",
         "Wolseley  Motors",
         109
        ],
        [
         "DLR0044",
         null,
         110
        ],
        [
         "DLR0231",
         "Atlantic Motor Company",
         111
        ],
        [
         "DLR0034",
         "Chevrolet India Motors",
         112
        ],
        [
         "DLR0126",
         "Mercury Motors",
         113
        ],
        [
         "DLR0046",
         "DeLorean Motors",
         114
        ],
        [
         "DLR0130",
         "Micro Motors",
         115
        ],
        [
         "DLR0210",
         "ZAZ Motors",
         116
        ],
        [
         "DLR0136",
         "Moskwitch Motors",
         117
        ],
        [
         "DLR0222",
         "Riley  Motors",
         118
        ],
        [
         "DLR0017",
         "Auverland Motors",
         119
        ],
        [
         "DLR0182",
         "Skoda Motors",
         120
        ],
        [
         "DLR0152",
         "Perodua Motors",
         121
        ],
        [
         "DLR0071",
         "Ginetta Motors",
         122
        ],
        [
         "DLR0161",
         "Proton Motors",
         123
        ],
        [
         "DLR0246",
         "Jones Motor Company",
         124
        ],
        [
         "DLR0020",
         "BMW Motors",
         125
        ],
        [
         "DLR0076",
         "Healey Motors",
         126
        ],
        [
         "DLR0237",
         "Casa de cadillac",
         127
        ],
        [
         "DLR0131",
         "Mini Motors",
         128
        ],
        [
         "DLR0112",
         "LTI Motors",
         129
        ],
        [
         "DLR0213",
         "DKW Motors",
         130
        ],
        [
         "DLR0040",
         "Daewoo, Saehan, Chevrolet Korea Motors",
         131
        ],
        [
         "DLR0187",
         "Studebaker Motors",
         132
        ],
        [
         "DLR0251",
         "Alfa Romeo Motors",
         133
        ],
        [
         "DLR0154",
         "PGO Motors",
         134
        ],
        [
         "DLR0119",
         "Maserati Motors",
         135
        ],
        [
         "DLR0013",
         "Aston Martin Motors",
         136
        ],
        [
         "DLR0087",
         "Hyundai Motors",
         137
        ],
        [
         "DLR0056",
         "Ferrari Motors",
         138
        ],
        [
         "DLR0033",
         "Chevrolet Motors",
         139
        ],
        [
         "DLR0042",
         "Daihatsu Motors",
         140
        ],
        [
         "DLR0229",
         "Herald Motors",
         141
        ],
        [
         "DLR0070",
         "Gilbern Motors",
         142
        ],
        [
         "DLR0191",
         "Tata Motors",
         143
        ],
        [
         "DLR0203",
         "Volkswagen Motors",
         144
        ],
        [
         "DLR0100",
         "JPX Motors",
         145
        ],
        [
         "DLR0047",
         "DeSoto Motors",
         146
        ],
        [
         "DLR0214",
         "Horch Motors",
         147
        ],
        [
         "DLR0171",
         "Samsung Motors",
         148
        ],
        [
         "DLR0045",
         "Delahaye Motors",
         149
        ],
        [
         "DLR0264",
         "Auverland Motors",
         150
        ],
        [
         "DLR0162",
         "Puma Motors",
         151
        ],
        [
         "DLR0159",
         "Porsche Motors",
         152
        ],
        [
         "DLR0146",
         "Packard Motors",
         153
        ],
        [
         "DLR0261",
         "Audi Motors",
         154
        ],
        [
         "DLR0032",
         "Checker Motors",
         155
        ],
        [
         "DLR0009",
         "Ariel Motors",
         156
        ],
        [
         "DLR0225",
         "Talbot  Motors",
         157
        ],
        [
         "DLR0221",
         "Austin  Motors",
         158
        ],
        [
         "DLR0075",
         "Gumpert Motors",
         159
        ],
        [
         "DLR0069",
         "Geo Motors",
         160
        ],
        [
         "DLR0104",
         "Lada Motors",
         161
        ],
        [
         "DLR0039",
         "Dacia Motors",
         162
        ],
        [
         "DLR0245",
         "Jennings Ford Automobile Dealership",
         163
        ],
        [
         "DLR0238",
         "Cass Motor Sales",
         164
        ],
        [
         "DLR0064",
         "Ford Europe Motors",
         165
        ],
        [
         "DLR0109",
         "Ligier Motors",
         166
        ],
        [
         "DLR0144",
         null,
         167
        ],
        [
         "DLR0176",
         "Scion Motors",
         168
        ],
        [
         "DLR0255",
         "Anadol Motors",
         169
        ],
        [
         "DLR0138",
         "Naza Motors",
         170
        ],
        [
         "DLR0003",
         "Aixam-Mega (including Arola) Motors",
         171
        ],
        [
         "DLR0265",
         "Bentley Motors",
         172
        ],
        [
         "DLR0217",
         "Izh  Motors",
         173
        ],
        [
         "DLR0185",
         "SsangYong Motors",
         174
        ],
        [
         "DLR0019",
         "Bitter Motors",
         175
        ],
        [
         "DLR0165",
         "Renault Motors",
         176
        ],
        [
         "DLR0108",
         "Lexus Motors",
         177
        ],
        [
         "DLR0117",
         "Marlin Motors",
         178
        ],
        [
         "DLR0118",
         "Maruti Motors",
         179
        ],
        [
         "DLR0027",
         "Bugatti Motors",
         180
        ],
        [
         "DLR0139",
         "Nissan Motors",
         181
        ],
        [
         "DLR0088",
         "IFA (including Trabant, Wartburg, Barkas) Motors",
         182
        ],
        [
         "DLR0051",
         "Edsel Motors",
         183
        ],
        [
         "DLR0010",
         "ARO Motors",
         184
        ],
        [
         "DLR0006",
         "Alvis Motors",
         185
        ],
        [
         "DLR0180",
         "Simca do Brasil Motors",
         186
        ],
        [
         "DLR0253",
         "Alvis Motors",
         187
        ],
        [
         "DLR0230",
         "Zion Automobils",
         188
        ],
        [
         "DLR0190",
         "Suzuki Motors",
         189
        ],
        [
         "DLR0232",
         "2008 NRHP-listed",
         190
        ],
        [
         "DLR0030",
         "Cadillac Motors",
         191
        ],
        [
         "DLR0215",
         "Wanderer Motors",
         192
        ],
        [
         "DLR0016",
         "Auto-Union Motors",
         193
        ],
        [
         "DLR0160",
         "Premier Motors",
         194
        ],
        [
         "DLR0025",
         "Austin-Healey Motors",
         195
        ],
        [
         "DLR0239",
         "Claremore Auto Dealership",
         196
        ],
        [
         "DLR0228",
         "Deccan Motors",
         197
        ],
        [
         "DLR0189",
         "Sunbeam Motors",
         198
        ],
        [
         "DLR0263",
         "Auto-Union Motors",
         199
        ],
        [
         "DLR0132",
         "Mitsubishi Motors",
         200
        ],
        [
         "DLR0244",
         "Hupmobile Building",
         201
        ],
        [
         "DLR0068",
         "GAZ Motors",
         202
        ],
        [
         "DLR0053",
         "Eicher Polaris Motors",
         203
        ],
        [
         "DLR0002",
         "Acura Motors",
         204
        ],
        [
         "DLR0194",
         "Tesla Motors",
         205
        ],
        [
         "DLR0233",
         "Blankinship Motor Company Building",
         206
        ],
        [
         "DLR0014",
         "Audi Motors",
         207
        ],
        [
         "DLR0093",
         "Iso Motors",
         208
        ],
        [
         "DLR0205",
         "Volkswagen South Africa Motors",
         209
        ],
        [
         "DLR0141",
         "Noble Motors",
         210
        ],
        [
         "DLR0140",
         "Nissan India Motors",
         211
        ],
        [
         "DLR0101",
         "Kia Motors",
         212
        ],
        [
         "DLR0234",
         "Bohn Motor Company Automobile Dealership",
         213
        ],
        [
         "DLR0235",
         "Buick Automobile Company Building",
         214
        ],
        [
         "DLR0256",
         "Ariel Motors",
         215
        ],
        [
         "DLR0004",
         "Alfa Romeo Motors",
         216
        ],
        [
         "DLR0084",
         "Hudson Motors",
         217
        ],
        [
         "DLR0133",
         "Monica Motors",
         218
        ],
        [
         "DLR0062",
         "Ford Australia Motors",
         219
        ],
        [
         "DLR0038",
         "Cizeta-Moroder Motors",
         220
        ],
        [
         "DLR0049",
         "Dodge Motors",
         221
        ],
        [
         "DLR0055",
         "Facel Vega Motors",
         222
        ],
        [
         "DLR0170",
         "Saleen Motors",
         223
        ],
        [
         "DLR0242",
         "H Street Playhouse",
         224
        ],
        [
         "DLR0243",
         "Howard Motor Company Building",
         225
        ],
        [
         "DLR0224",
         "Standard  Motors",
         226
        ],
        [
         "DLR0077",
         "Heinkel Motors",
         227
        ],
        [
         "DLR0031",
         "Caterham Motors",
         228
        ],
        [
         "DLR0127",
         "Merkur Motors",
         229
        ],
        [
         "DLR0043",
         "Daimler Motors",
         230
        ],
        [
         "DLR0168",
         "Saab Motors",
         231
        ],
        [
         "DLR0083",
         "Honda India Motors",
         232
        ],
        [
         "DLR0099",
         "Jensen Motors",
         233
        ],
        [
         "DLR0090",
         null,
         234
        ],
        [
         "DLR0173",
         "Santa Matilde Motors",
         235
        ],
        [
         "DLR0067",
         "FSO Motors",
         236
        ],
        [
         "DLR0113",
         "LuAZ Motors",
         237
        ],
        [
         "DLR0011",
         "Artega Motors",
         238
        ],
        [
         "DLR0157",
         "Polestar Motors",
         239
        ],
        [
         "DLR0258",
         null,
         240
        ],
        [
         "DLR0086",
         "Hummer Motors",
         241
        ],
        [
         "DLR0054",
         "Elva Motors",
         242
        ],
        [
         "DLR0178",
         "Shelby SuperCars Motors",
         243
        ],
        [
         "DLR0023",
         "Bristol Motors",
         244
        ],
        [
         "DLR0026",
         "Austin, Rover Motors",
         245
        ],
        [
         "DLR0219",
         "MG  Motors",
         246
        ],
        [
         "DLR0120",
         "Mastretta Motors",
         247
        ],
        [
         "DLR0028",
         "Buick Motors",
         248
        ],
        [
         "DLR0057",
         "Fiat Motors",
         249
        ],
        [
         "DLR0041",
         "DAF Motors",
         250
        ],
        [
         "DLR0095",
         "Isuzu Motors",
         251
        ],
        [
         "DLR0123",
         "Mazzanti Motors",
         252
        ],
        [
         "DLR0036",
         "Chrysler Europe Motors",
         253
        ],
        [
         "DLR0149",
         "Panoz Motors",
         254
        ],
        [
         "DLR0145",
         "Opel Motors",
         255
        ],
        [
         "DLR0105",
         "Lamborghini Motors",
         256
        ],
        [
         "DLR0097",
         "Jaguar Motors",
         257
        ],
        [
         "DLR0196",
         "Toyota Motors",
         258
        ],
        [
         "DLR0024",
         "British Leyland Motors",
         259
        ],
        [
         "DLR0241",
         "Colman Automotive Building",
         260
        ],
        [
         "DLR0012",
         "Asia Motors Motors",
         261
        ],
        [
         "DLR0122",
         "Mazda Motors",
         262
        ],
        [
         "DLR0060",
         "Fisker, Karma Motors",
         263
        ],
        [
         "DLR0106",
         "Lancia Motors",
         264
        ],
        [
         "DLR0158",
         "Pontiac, Asüna Motors",
         265
        ],
        [
         "DLR0015",
         "Autobianchi Motors",
         266
        ],
        [
         "DLR0081",
         "Holden Motors",
         267
        ]
       ],
       "datasetInfos": [],
       "dbfsResultPath": null,
       "isJsonSchema": true,
       "metadata": {
        "createTempViewForImplicitDf": true,
        "dataframeName": "_sqldf",
        "executionCount": 83
       },
       "overflow": false,
       "plotOptions": {
        "customPlotOptions": {},
        "displayType": "table",
        "pivotAggregation": null,
        "pivotColumns": null,
        "xColumns": null,
        "yColumns": null
       },
       "removedWidgets": [],
       "schema": [
        {
         "metadata": "{}",
         "name": "Dealer_ID",
         "type": "\"string\""
        },
        {
         "metadata": "{}",
         "name": "DealerName",
         "type": "\"string\""
        },
        {
         "metadata": "{}",
         "name": "dim_dealer_key",
         "type": "\"long\""
        }
       ],
       "type": "table"
      }
     },
     "output_type": "display_data"
    }
   ],
   "source": [
    "%sql\n",
    "SELECT * FROM cars_catalog.gold.dim_dealer"
   ]
  },
  {
   "cell_type": "code",
   "execution_count": 0,
   "metadata": {
    "application/vnd.databricks.v1+cell": {
     "cellMetadata": {
      "byteLimit": 2048000,
      "rowLimit": 10000
     },
     "inputWidgets": {},
     "nuid": "510ea092-3375-42c7-88b5-3b45a5a92ba8",
     "showTitle": false,
     "tableResultSettingsMap": {},
     "title": ""
    }
   },
   "outputs": [],
   "source": []
  }
 ],
 "metadata": {
  "application/vnd.databricks.v1+notebook": {
   "computePreferences": null,
   "dashboards": [],
   "environmentMetadata": {
    "base_environment": "",
    "environment_version": "2"
   },
   "inputWidgetPreferences": null,
   "language": "python",
   "notebookMetadata": {
    "mostRecentlyExecutedCommandWithImplicitDF": {
     "commandId": 2384191546929313,
     "dataframes": [
      "_sqldf"
     ]
    },
    "pythonIndentUnit": 4
   },
   "notebookName": "gold_dim_dealer",
   "widgets": {
    "Incremental_flag": {
     "currentValue": "0",
     "nuid": "9a6dc34f-3560-403c-99e1-b20dc9dfb074",
     "typedWidgetInfo": {
      "autoCreated": false,
      "defaultValue": "0",
      "label": null,
      "name": "Incremental_flag",
      "options": {
       "widgetDisplayType": "Text",
       "validationRegex": null
      },
      "parameterDataType": "String"
     },
     "widgetInfo": {
      "widgetType": "text",
      "defaultValue": "0",
      "label": null,
      "name": "Incremental_flag",
      "options": {
       "widgetType": "text",
       "autoCreated": null,
       "validationRegex": null
      }
     }
    }
   }
  },
  "language_info": {
   "name": "python"
  }
 },
 "nbformat": 4,
 "nbformat_minor": 0
}